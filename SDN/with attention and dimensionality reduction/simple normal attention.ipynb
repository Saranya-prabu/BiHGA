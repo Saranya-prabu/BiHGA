{
 "cells": [
  {
   "cell_type": "code",
   "execution_count": 1,
   "id": "737bd619",
   "metadata": {},
   "outputs": [],
   "source": [
    "import numpy as np\n",
    "import pandas as pd"
   ]
  },
  {
   "cell_type": "code",
   "execution_count": 2,
   "id": "66557497",
   "metadata": {},
   "outputs": [],
   "source": [
    "#data = pd.read_csv(\"file3.csv\") \n",
    "csv_1 = pd.read_csv(r\"C:\\Users\\Admin\\SDN\\with attention and dimensionality reduction\\lgcnormalresult.csv\") \n",
    "  \n",
    "# changing cols with rename() \n",
    "new_data = csv_1.rename(columns = {0: \"Feature1\",\n",
    "                                  1: \"Feature2\", \n",
    "                                  2: \"Feature3\", \n",
    "                                  3: \"Feature4\",\n",
    "                                  4: \"Feature5\",\n",
    "                                  5: \"Feature6\",\n",
    "                                  6: \"Feature7\",\n",
    "                                  7: \"Feature8\",\n",
    "                                  8: \"Feature9\",\n",
    "                                  9: \"Feature10\",\n",
    "                                  10: \"Feature11\",\n",
    "                                  11: \"Feature12\",\n",
    "                                  12: \"Feature13\",\n",
    "                                  13: \"Feature14\",\n",
    "                                  14: \"Feature15\",\n",
    "                                  15: \"Feature16\",\n",
    "                                  16: \"Feature17\",\n",
    "                                  17: \"Feature18\",\n",
    "                                  18: \"Feature19\", \n",
    "                                  19: \"Feature20\",\n",
    "                                  20: \"Feature21\",\n",
    "                                  21: \"Feature22\",\n",
    "                                  22: \"Feature23\",\n",
    "                                  23: \"Feature24\",                                   \n",
    "                                  24: \"Feature25\",\n",
    "                                  25: \"Feature26\",  \n",
    "                                  26: \"Feature27\",\n",
    "                                  27: \"Feature28\",\n",
    "                                  28: \"Feature29\",\n",
    "                                  29: \"Feature30\",                                   \n",
    "                                  30: \"Label\"}) \n",
    "  \n",
    "# changing columns using .columns() \n",
    "csv_1.columns = ['Feature1', 'Feature2', 'Feature3', 'Feature4', \n",
    "                'Feature5', 'Feature6', 'Feature7', 'Feature8',\n",
    "                 'Feature9', 'Feature10', 'Feature11', 'Feature12',\n",
    "                 'Feature13', 'Feature14', 'Feature15', 'Feature16',\n",
    "                 'Feature17', 'Feature18', 'Feature19', 'Feature20','Feature21','Feature22','Feature23','Feature24','Feature25','Feature26','Feature27','Feature28','Feature29','Feature30',\"Label\"] \n",
    "  \n",
    "\n",
    "csv_1.to_csv(\"lgcnormalresult.csv\", index=None)"
   ]
  },
  {
   "cell_type": "markdown",
   "id": "98c12b5e",
   "metadata": {},
   "source": [
    "#https://datacarpentry.org/python-ecology-lesson/03-index-slice-subset/index.html\n",
    "csv_1=csv_1[0:100]\n",
    "csv_2=csv_2[0:40000]\n",
    "merged = csv_1.merge(csv_2,on=\"Label\")\n",
    "\n",
    "merged.to_csv(\"attentiongan.csv\", index=False)\n",
    "#result = pd.concat([csv_1, csv_2], axis=1)\n",
    "out = csv_1.append(csv_2)\n",
    "print(out)\n",
    "out.to_csv(\"attentiongan.csv\", index=False)"
   ]
  },
  {
   "cell_type": "code",
   "execution_count": 3,
   "id": "d7907ef1",
   "metadata": {},
   "outputs": [],
   "source": [
    "import tensorflow as tf\n",
    "from tensorflow import keras\n",
    "from tensorflow.keras import layers\n",
    "from tensorflow.keras import activations\n",
    "\n",
    "\n",
    "import numpy as np\n",
    "import pandas as pd\n",
    "\n",
    "from sklearn import preprocessing\n",
    "from sklearn.model_selection import train_test_split"
   ]
  },
  {
   "cell_type": "code",
   "execution_count": 4,
   "id": "bca75549",
   "metadata": {},
   "outputs": [],
   "source": [
    "df = pd.read_csv(\"lgcnormalresult.csv\",sep=\",\", index_col=None)"
   ]
  },
  {
   "cell_type": "code",
   "execution_count": 5,
   "id": "fa78e516",
   "metadata": {},
   "outputs": [
    {
     "name": "stdout",
     "output_type": "stream",
     "text": [
      "Feature1     float64\n",
      "Feature2     float64\n",
      "Feature3     float64\n",
      "Feature4     float64\n",
      "Feature5     float64\n",
      "Feature6     float64\n",
      "Feature7     float64\n",
      "Feature8     float64\n",
      "Feature9     float64\n",
      "Feature10    float64\n",
      "Feature11    float64\n",
      "Feature12    float64\n",
      "Feature13    float64\n",
      "Feature14    float64\n",
      "Feature15    float64\n",
      "Feature16    float64\n",
      "Feature17    float64\n",
      "Feature18    float64\n",
      "Feature19    float64\n",
      "Feature20    float64\n",
      "Feature21    float64\n",
      "Feature22    float64\n",
      "Feature23    float64\n",
      "Feature24    float64\n",
      "Feature25    float64\n",
      "Feature26    float64\n",
      "Feature27    float64\n",
      "Feature28    float64\n",
      "Feature29    float64\n",
      "Feature30    float64\n",
      "Label          int64\n",
      "dtype: object\n"
     ]
    }
   ],
   "source": [
    "print (df.dtypes)"
   ]
  },
  {
   "cell_type": "code",
   "execution_count": 6,
   "id": "1517befd",
   "metadata": {},
   "outputs": [
    {
     "data": {
      "text/plain": [
       "<bound method NDFrame.head of        Feature1  Feature2  Feature3  Feature4  Feature5  Feature6  Feature7  \\\n",
       "0           0.0  0.000000  0.058928       0.0       0.0  0.000000  0.014441   \n",
       "1           0.0  0.000000  0.000000       0.0       0.0  0.000000  0.004733   \n",
       "2           0.0  0.000000  0.000000       0.0       0.0  0.000000  0.002546   \n",
       "3           0.0  0.000000  0.000000       0.0       0.0  0.000000  0.000000   \n",
       "4           0.0  0.106290  0.000000       0.0       0.0  0.000000  0.042307   \n",
       "...         ...       ...       ...       ...       ...       ...       ...   \n",
       "68418       0.0  0.000000  0.052655       0.0       0.0  0.000000  0.000000   \n",
       "68419       0.0  0.000000  0.000000       0.0       0.0  0.000000  0.002415   \n",
       "68420       0.0  0.000000  0.000000       0.0       0.0  0.000000  0.003088   \n",
       "68421       0.0  0.103322  0.000000       0.0       0.0  0.000000  0.053430   \n",
       "68422       0.0  0.000000  0.000000       0.0       0.0  0.143939  0.000000   \n",
       "\n",
       "       Feature8  Feature9  Feature10  ...  Feature22  Feature23  Feature24  \\\n",
       "0           0.0  0.000000        0.0  ...   0.000000   0.099892   0.000000   \n",
       "1           0.0  0.060120        0.0  ...   0.032021   0.000000   0.000000   \n",
       "2           0.0  0.062220        0.0  ...   0.032758   0.000000   0.000000   \n",
       "3           0.0  0.066617        0.0  ...   0.036146   0.000000   0.000000   \n",
       "4           0.0  0.000000        0.0  ...   0.000000   0.000000   0.023149   \n",
       "...         ...       ...        ...  ...        ...        ...        ...   \n",
       "68418       0.0  0.000000        0.0  ...   0.000000   0.034806   0.000000   \n",
       "68419       0.0  0.062041        0.0  ...   0.032372   0.000000   0.000000   \n",
       "68420       0.0  0.063521        0.0  ...   0.035167   0.000000   0.000000   \n",
       "68421       0.0  0.000000        0.0  ...   0.000000   0.000000   0.029580   \n",
       "68422       0.0  0.000000        0.0  ...   0.000000   0.006190   0.000000   \n",
       "\n",
       "       Feature25  Feature26  Feature27  Feature28  Feature29  Feature30  Label  \n",
       "0            0.0        0.0        0.0   0.000000        0.0   0.000000      0  \n",
       "1            0.0        0.0        0.0   0.000000        0.0   0.000000      0  \n",
       "2            0.0        0.0        0.0   0.000000        0.0   0.000243      0  \n",
       "3            0.0        0.0        0.0   0.000000        0.0   0.000943      0  \n",
       "4            0.0        0.0        0.0   0.000000        0.0   0.058001      0  \n",
       "...          ...        ...        ...        ...        ...        ...    ...  \n",
       "68418        0.0        0.0        0.0   0.040123        0.0   0.005168      0  \n",
       "68419        0.0        0.0        0.0   0.000000        0.0   0.000699      0  \n",
       "68420        0.0        0.0        0.0   0.000000        0.0   0.000000      0  \n",
       "68421        0.0        0.0        0.0   0.000000        0.0   0.078493      0  \n",
       "68422        0.0        0.0        0.0   0.000000        0.0   0.040083      0  \n",
       "\n",
       "[68423 rows x 31 columns]>"
      ]
     },
     "execution_count": 6,
     "metadata": {},
     "output_type": "execute_result"
    }
   ],
   "source": [
    "df.head"
   ]
  },
  {
   "cell_type": "code",
   "execution_count": 7,
   "id": "9c6450d2",
   "metadata": {},
   "outputs": [],
   "source": [
    "#X = mydataframe.drop(['acol','bcol'], axis=1).values \n",
    "#y = mydataframe['targetvalue'].values\n",
    "df_label=df.Label\n",
    "X=df.drop(['Label'], axis=1).values \n",
    "y=df['Label'].values"
   ]
  },
  {
   "cell_type": "code",
   "execution_count": 8,
   "id": "6bf24646",
   "metadata": {},
   "outputs": [],
   "source": [
    "df_label.to_csv('normallabel1.csv', index=False)"
   ]
  },
  {
   "cell_type": "code",
   "execution_count": 9,
   "id": "9495ee77",
   "metadata": {},
   "outputs": [
    {
     "name": "stdout",
     "output_type": "stream",
     "text": [
      "47896 Training sequences (47896, 30)\n",
      "20527 Validation sequences (20527, 30)\n",
      "47896 Training sequences (47896,)\n"
     ]
    }
   ],
   "source": [
    "from sklearn.model_selection import train_test_split\n",
    "\n",
    "x_train,x_val,y_train,y_val = train_test_split(X,y,train_size=0.70, random_state=2)\n",
    "print(len(x_train), \"Training sequences\",x_train.shape)\n",
    "print(len(x_val), \"Validation sequences\",x_val.shape)\n",
    "print(len(y_train), \"Training sequences\",y_train.shape)"
   ]
  },
  {
   "cell_type": "markdown",
   "id": "4ae4c25e",
   "metadata": {},
   "source": [
    "# Simple Attention\n",
    "#https://www.analyticsvidhya.com/blog/2019/11/comprehensive-guide-attention-mechanism-deep-learning/"
   ]
  },
  {
   "cell_type": "code",
   "execution_count": 10,
   "id": "e20cdd52",
   "metadata": {},
   "outputs": [],
   "source": [
    "def build(self,input_shape):\n",
    "        self.W=self.add_weight(name=\"att_weight\",shape=(input_shape[-1],1),initializer=\"normal\")\n",
    "        self.b=self.add_weight(name=\"att_bias\",shape=(input_shape[1],1),initializer=\"zeros\")        \n",
    "        super(attention, self).build(input_shape)"
   ]
  },
  {
   "cell_type": "code",
   "execution_count": 11,
   "id": "4bcd5969",
   "metadata": {},
   "outputs": [],
   "source": [
    "def call(self,x):\n",
    "        et=K.squeeze(K.tanh(K.dot(x,self.W)+self.b),axis=-1)\n",
    "        at=K.softmax(et)\n",
    "        at=K.expand_dims(at,axis=-1)\n",
    "        output=x*at\n",
    "        return K.sum(output,axis=1)"
   ]
  },
  {
   "cell_type": "code",
   "execution_count": 12,
   "id": "3dbfe0d9",
   "metadata": {},
   "outputs": [],
   "source": [
    "from tensorflow.keras.layers import Layer\n",
    "import tensorflow.keras.backend as K"
   ]
  },
  {
   "cell_type": "code",
   "execution_count": 13,
   "id": "fb36e350",
   "metadata": {},
   "outputs": [],
   "source": [
    "class attention(Layer):\n",
    "    def __init__(self,**kwargs):\n",
    "        super(attention,self).__init__(**kwargs)\n",
    "\n",
    "    def build(self,input_shape):\n",
    "        self.W=self.add_weight(name=\"att_weight\",shape=(input_shape[-1],1),initializer=\"normal\")\n",
    "        self.b=self.add_weight(name=\"att_bias\",shape=(input_shape[1],1),initializer=\"zeros\")        \n",
    "        super(attention, self).build(input_shape)\n",
    "\n",
    "    def call(self,x):\n",
    "        et=K.squeeze(K.tanh(K.dot(x,self.W)+self.b),axis=-1)\n",
    "        at=K.softmax(et)\n",
    "        at=K.expand_dims(at,axis=-1)\n",
    "        output=x*at\n",
    "        return K.sum(output,axis=1)\n",
    "\n",
    "    def compute_output_shape(self,input_shape):\n",
    "        return (input_shape[0],input_shape[-1])\n",
    "\n",
    "    def get_config(self):\n",
    "        return super(attention,self).get_config()"
   ]
  },
  {
   "cell_type": "code",
   "execution_count": 14,
   "id": "54306c32",
   "metadata": {},
   "outputs": [],
   "source": [
    "from tensorflow.keras.layers import Embedding\n",
    "from tensorflow.keras.layers import Dense, Flatten, Activation,RepeatVector,Permute \n",
    "from tensorflow.keras.layers import TimeDistributed\n",
    "maxlen=30\n",
    "vocab_size = x_train.shape[0]\n",
    "visible = layers.Input(shape=(maxlen,))\n",
    "\n",
    "embed=Embedding(vocab_size,30)(visible)\n",
    "\n",
    "activations= keras.layers.LSTM(30, return_sequences=True)(embed)\n",
    "\n",
    "attention = TimeDistributed(Dense(1, activation='tanh'))(activations) \n",
    "attention = Flatten()(attention)\n",
    "attention = Activation('softmax', name='attention_vec')(attention)\n",
    "#attention = RepeatVector(1)(attention)\n",
    "#attention = Permute([2, 1])(attention) \n",
    "\n",
    "#sent_representation = keras.layers.multiply([activations, attention])\n",
    "#sent_representation = Lambda(lambda xin: K.sum(xin, axis=1))(sent_representation)\n",
    "predictions=Dense(1, activation='sigmoid')(attention)\n",
    "\n",
    "model = keras.Model(inputs=visible, outputs=predictions)"
   ]
  },
  {
   "cell_type": "code",
   "execution_count": 15,
   "id": "b6a4b43e",
   "metadata": {},
   "outputs": [
    {
     "name": "stdout",
     "output_type": "stream",
     "text": [
      "Model: \"model\"\n",
      "_________________________________________________________________\n",
      "Layer (type)                 Output Shape              Param #   \n",
      "=================================================================\n",
      "input_1 (InputLayer)         [(None, 30)]              0         \n",
      "_________________________________________________________________\n",
      "embedding (Embedding)        (None, 30, 30)            1436880   \n",
      "_________________________________________________________________\n",
      "lstm (LSTM)                  (None, 30, 30)            7320      \n",
      "_________________________________________________________________\n",
      "time_distributed (TimeDistri (None, 30, 1)             31        \n",
      "_________________________________________________________________\n",
      "flatten (Flatten)            (None, 30)                0         \n",
      "_________________________________________________________________\n",
      "attention_vec (Activation)   (None, 30)                0         \n",
      "_________________________________________________________________\n",
      "dense_1 (Dense)              (None, 1)                 31        \n",
      "=================================================================\n",
      "Total params: 1,444,262\n",
      "Trainable params: 1,444,262\n",
      "Non-trainable params: 0\n",
      "_________________________________________________________________\n"
     ]
    }
   ],
   "source": [
    "model.summary()"
   ]
  },
  {
   "cell_type": "code",
   "execution_count": 16,
   "id": "4431bf39",
   "metadata": {},
   "outputs": [],
   "source": [
    "import time, datetime\n",
    "\n",
    "start = datetime.datetime.now()\n",
    "time.sleep(10)"
   ]
  },
  {
   "cell_type": "code",
   "execution_count": 17,
   "id": "2b7db432",
   "metadata": {},
   "outputs": [
    {
     "name": "stdout",
     "output_type": "stream",
     "text": [
      "Train on 47896 samples, validate on 20527 samples\n",
      "Epoch 1/5\n",
      "47896/47896 [==============================] - 17s 364us/sample - loss: 0.6732 - accuracy: 0.8931 - val_loss: 0.6463 - val_accuracy: 1.0000\n",
      "Epoch 2/5\n",
      "47896/47896 [==============================] - 10s 216us/sample - loss: 0.6136 - accuracy: 1.0000 - val_loss: 0.5825 - val_accuracy: 1.0000\n",
      "Epoch 3/5\n",
      "47896/47896 [==============================] - 10s 204us/sample - loss: 0.5616 - accuracy: 1.0000 - val_loss: 0.5406 - val_accuracy: 1.0000\n",
      "Epoch 4/5\n",
      "47896/47896 [==============================] - 9s 197us/sample - loss: 0.5221 - accuracy: 1.0000 - val_loss: 0.5033 - val_accuracy: 1.0000\n",
      "Epoch 5/5\n",
      "47896/47896 [==============================] - 10s 202us/sample - loss: 0.4863 - accuracy: 1.0000 - val_loss: 0.4688 - val_accuracy: 1.0000\n"
     ]
    }
   ],
   "source": [
    "model.compile(\"adam\", \"binary_crossentropy\", metrics=[\"accuracy\"])\n",
    "history = model.fit(x_train, y_train, batch_size=1024, epochs=5, validation_data=(x_val, y_val))"
   ]
  },
  {
   "cell_type": "code",
   "execution_count": 18,
   "id": "9d522331",
   "metadata": {},
   "outputs": [
    {
     "name": "stdout",
     "output_type": "stream",
     "text": [
      "0h 1m 7s\n"
     ]
    }
   ],
   "source": [
    "end = datetime.datetime.now()\n",
    "\n",
    "diff = (end - start)\n",
    "\n",
    "datetime.timedelta(seconds=10, microseconds=885206)\n",
    "\n",
    "diff_seconds = int(diff.total_seconds())\n",
    "\n",
    "minute_seconds, seconds = divmod(diff_seconds, 60)\n",
    "hours, minutes = divmod(minute_seconds, 60)\n",
    "hms = f\"{hours}h {minutes}m {seconds}s\"\n",
    "\n",
    "'0h 0m 10s'\n",
    "print(hms) "
   ]
  },
  {
   "cell_type": "raw",
   "id": "89858ecf",
   "metadata": {},
   "source": [
    "new_model = Model(inputs=model.input, outputs=model.layers[2].output)\n",
    "#output_before_att = new_model.predict(x_test_sample) #extract layer output"
   ]
  },
  {
   "cell_type": "code",
   "execution_count": 19,
   "id": "957918de",
   "metadata": {},
   "outputs": [],
   "source": [
    "model = keras.Model(inputs=model.input,\n",
    "              outputs=[model.output, model.get_layer('attention_vec').output])"
   ]
  },
  {
   "cell_type": "code",
   "execution_count": 20,
   "id": "3658d4c4",
   "metadata": {},
   "outputs": [],
   "source": [
    "layer = model.get_layer('attention_vec')"
   ]
  },
  {
   "cell_type": "code",
   "execution_count": 21,
   "id": "2a4e294e",
   "metadata": {},
   "outputs": [
    {
     "name": "stdout",
     "output_type": "stream",
     "text": [
      "[[array([[0.03446854, 0.03730347, 0.04274104, ..., 0.01236142, 0.01236142,\n",
      "        0.01236141],\n",
      "       [0.03446854, 0.03730347, 0.04274104, ..., 0.01236142, 0.01236142,\n",
      "        0.01236141],\n",
      "       [0.03446854, 0.03730347, 0.04274104, ..., 0.01236142, 0.01236142,\n",
      "        0.01236141],\n",
      "       ...,\n",
      "       [0.03446854, 0.03730347, 0.04274104, ..., 0.01236142, 0.01236142,\n",
      "        0.01236141],\n",
      "       [0.03446854, 0.03730347, 0.04274104, ..., 0.01236142, 0.01236142,\n",
      "        0.01236141],\n",
      "       [0.03446854, 0.03730347, 0.04274104, ..., 0.01236142, 0.01236142,\n",
      "        0.01236141]], dtype=float32)]]\n"
     ]
    }
   ],
   "source": [
    "outputs = []\n",
    "keras_function = K.function([model.input], [layer.output])\n",
    "outputs.append(keras_function([x_train, 0]))\n",
    "print(outputs)"
   ]
  },
  {
   "cell_type": "code",
   "execution_count": 22,
   "id": "dbc0d6a8",
   "metadata": {},
   "outputs": [
    {
     "name": "stderr",
     "output_type": "stream",
     "text": [
      "Using TensorFlow backend.\n"
     ]
    },
    {
     "name": "stdout",
     "output_type": "stream",
     "text": [
      "[array([[0.03298061, 0.03298061, 0.03498249, ..., 0.03298061, 0.03298061,\n",
      "        0.03298061],\n",
      "       [0.03314099, 0.03314099, 0.03314099, ..., 0.03314099, 0.03314099,\n",
      "        0.03314099],\n",
      "       [0.03313744, 0.03313744, 0.03313744, ..., 0.03313744, 0.03313744,\n",
      "        0.0331455 ],\n",
      "       ...,\n",
      "       [0.03313116, 0.03313116, 0.03313116, ..., 0.03313116, 0.03313116,\n",
      "        0.03313116],\n",
      "       [0.03295345, 0.0365404 , 0.03295345, ..., 0.03295345, 0.03295345,\n",
      "        0.03564431],\n",
      "       [0.03311048, 0.03311048, 0.03311048, ..., 0.03311048, 0.03311048,\n",
      "        0.03446459]], dtype=float32)]\n",
      "(1, 68423, 30)\n"
     ]
    }
   ],
   "source": [
    "import numpy as np\n",
    "import keras\n",
    "hidden_layers = keras.backend.function(\n",
    "[layer.input],  # we will feed the function with the input of the first layer  \n",
    "[layer.output,] # we want to get the output of the first layer\n",
    ")\n",
    "h=hidden_layers([X])\n",
    "print(h)\n",
    "print(np.shape(h))"
   ]
  },
  {
   "cell_type": "code",
   "execution_count": 23,
   "id": "41cc8fa5",
   "metadata": {},
   "outputs": [],
   "source": [
    "df = pd.DataFrame(np.concatenate(h))"
   ]
  },
  {
   "cell_type": "code",
   "execution_count": 24,
   "id": "3eb40dbb",
   "metadata": {},
   "outputs": [],
   "source": [
    "df.to_csv('normalattentionvector.csv', index=False)"
   ]
  },
  {
   "cell_type": "code",
   "execution_count": 25,
   "id": "b48dfcd2",
   "metadata": {},
   "outputs": [],
   "source": [
    "csv_1 = pd.read_csv('normalattentionvector.csv')\n",
    "csv_2 = pd.read_csv('normallabel1.csv')\n",
    "\n",
    "result = pd.concat([csv_1, csv_2], axis=1)"
   ]
  },
  {
   "cell_type": "code",
   "execution_count": 26,
   "id": "3951a2f3",
   "metadata": {},
   "outputs": [
    {
     "name": "stdout",
     "output_type": "stream",
     "text": [
      "env: JOBLIB_TEMP_FOLDER=/tmp\n"
     ]
    }
   ],
   "source": [
    "%env JOBLIB_TEMP_FOLDER=/tmp"
   ]
  },
  {
   "cell_type": "code",
   "execution_count": 27,
   "id": "f2fce49a",
   "metadata": {},
   "outputs": [],
   "source": [
    "result.to_csv(\"attentionnormalresult.csv\", index=None, header=None)"
   ]
  },
  {
   "cell_type": "code",
   "execution_count": null,
   "id": "b30c4a0e",
   "metadata": {},
   "outputs": [],
   "source": []
  }
 ],
 "metadata": {
  "kernelspec": {
   "display_name": "Python 3",
   "language": "python",
   "name": "python3"
  },
  "language_info": {
   "codemirror_mode": {
    "name": "ipython",
    "version": 3
   },
   "file_extension": ".py",
   "mimetype": "text/x-python",
   "name": "python",
   "nbconvert_exporter": "python",
   "pygments_lexer": "ipython3",
   "version": "3.8.8"
  }
 },
 "nbformat": 4,
 "nbformat_minor": 5
}
