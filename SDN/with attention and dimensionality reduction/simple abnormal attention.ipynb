{
 "cells": [
  {
   "cell_type": "code",
   "execution_count": 1,
   "id": "a4abb4ef",
   "metadata": {},
   "outputs": [],
   "source": [
    "import numpy as np\n",
    "import pandas as pd"
   ]
  },
  {
   "cell_type": "code",
   "execution_count": 2,
   "id": "68f4715d",
   "metadata": {},
   "outputs": [],
   "source": [
    "#data = pd.read_csv(\"file3.csv\") \n",
    "csv_1 = pd.read_csv(r\"C:\\Users\\Admin\\SDN\\with attention and dimensionality reduction\\lgcabnormalresult.csv\") \n",
    "  \n",
    "# changing cols with rename() \n",
    "new_data = csv_1.rename(columns = {0: \"Feature1\",\n",
    "                                  1: \"Feature2\", \n",
    "                                  2: \"Feature3\", \n",
    "                                  3: \"Feature4\",\n",
    "                                  4: \"Feature5\",\n",
    "                                  5: \"Feature6\",\n",
    "                                  6: \"Feature7\",\n",
    "                                  7: \"Feature8\",\n",
    "                                  8: \"Feature9\",\n",
    "                                  9: \"Feature10\",\n",
    "                                  10: \"Feature11\",\n",
    "                                  11: \"Feature12\",\n",
    "                                  12: \"Feature13\",\n",
    "                                  13: \"Feature14\",\n",
    "                                  14: \"Feature15\",\n",
    "                                  15: \"Feature16\",\n",
    "                                  16: \"Feature17\",\n",
    "                                  17: \"Feature18\",\n",
    "                                  18: \"Feature19\", \n",
    "                                  19: \"Feature20\",\n",
    "                                  20: \"Feature21\",\n",
    "                                  21: \"Feature22\",\n",
    "                                  22: \"Feature23\",\n",
    "                                  23: \"Feature24\",                                   \n",
    "                                  24: \"Feature25\",\n",
    "                                  25: \"Feature26\",  \n",
    "                                  26: \"Feature27\",\n",
    "                                  27: \"Feature28\",\n",
    "                                  28: \"Feature29\",\n",
    "                                  29: \"Feature30\",                                   \n",
    "                                  30: \"Label\"}) \n",
    "  \n",
    "# changing columns using .columns() \n",
    "csv_1.columns = ['Feature1', 'Feature2', 'Feature3', 'Feature4', \n",
    "                'Feature5', 'Feature6', 'Feature7', 'Feature8',\n",
    "                 'Feature9', 'Feature10', 'Feature11', 'Feature12',\n",
    "                 'Feature13', 'Feature14', 'Feature15', 'Feature16',\n",
    "                 'Feature17', 'Feature18', 'Feature19', 'Feature20','Feature21','Feature22','Feature23','Feature24','Feature25','Feature26','Feature27','Feature28','Feature29','Feature30',\"Label\"] \n",
    "  \n",
    "\n",
    "csv_1.to_csv(\"lgcabnormalresult.csv\", index=None)"
   ]
  },
  {
   "cell_type": "markdown",
   "id": "9d219349",
   "metadata": {},
   "source": [
    "#https://datacarpentry.org/python-ecology-lesson/03-index-slice-subset/index.html\n",
    "csv_1=csv_1[0:100]\n",
    "csv_2=csv_2[0:40000]\n",
    "merged = csv_1.merge(csv_2,on=\"Label\")\n",
    "\n",
    "merged.to_csv(\"attentiongan.csv\", index=False)\n",
    "#result = pd.concat([csv_1, csv_2], axis=1)\n",
    "out = csv_1.append(csv_2)\n",
    "print(out)\n",
    "out.to_csv(\"attentiongan.csv\", index=False)"
   ]
  },
  {
   "cell_type": "code",
   "execution_count": 3,
   "id": "3f3b3479",
   "metadata": {},
   "outputs": [],
   "source": [
    "import tensorflow as tf\n",
    "from tensorflow import keras\n",
    "from tensorflow.keras import layers\n",
    "from tensorflow.keras import activations\n",
    "\n",
    "\n",
    "import numpy as np\n",
    "import pandas as pd\n",
    "\n",
    "from sklearn import preprocessing\n",
    "from sklearn.model_selection import train_test_split"
   ]
  },
  {
   "cell_type": "code",
   "execution_count": 4,
   "id": "d301e41b",
   "metadata": {},
   "outputs": [],
   "source": [
    "df = pd.read_csv(\"lgcabnormalresult.csv\",sep=\",\", index_col=None)"
   ]
  },
  {
   "cell_type": "code",
   "execution_count": 5,
   "id": "cf344f5e",
   "metadata": {},
   "outputs": [
    {
     "name": "stdout",
     "output_type": "stream",
     "text": [
      "Feature1     float64\n",
      "Feature2     float64\n",
      "Feature3     float64\n",
      "Feature4     float64\n",
      "Feature5     float64\n",
      "Feature6     float64\n",
      "Feature7     float64\n",
      "Feature8     float64\n",
      "Feature9     float64\n",
      "Feature10    float64\n",
      "Feature11    float64\n",
      "Feature12    float64\n",
      "Feature13    float64\n",
      "Feature14    float64\n",
      "Feature15    float64\n",
      "Feature16    float64\n",
      "Feature17    float64\n",
      "Feature18    float64\n",
      "Feature19    float64\n",
      "Feature20    float64\n",
      "Feature21    float64\n",
      "Feature22    float64\n",
      "Feature23    float64\n",
      "Feature24    float64\n",
      "Feature25    float64\n",
      "Feature26    float64\n",
      "Feature27    float64\n",
      "Feature28    float64\n",
      "Feature29    float64\n",
      "Feature30    float64\n",
      "Label          int64\n",
      "dtype: object\n"
     ]
    }
   ],
   "source": [
    "print (df.dtypes)"
   ]
  },
  {
   "cell_type": "code",
   "execution_count": 6,
   "id": "2661f9f9",
   "metadata": {},
   "outputs": [
    {
     "data": {
      "text/plain": [
       "<bound method NDFrame.head of         Feature1  Feature2  Feature3  Feature4  Feature5  Feature6  Feature7  \\\n",
       "0       0.000000  0.000000  0.028014       0.0       0.0   0.01567  0.000000   \n",
       "1       0.000000  0.041977  0.016933       0.0       0.0   0.00000  0.023940   \n",
       "2       0.000000  0.000000  0.035909       0.0       0.0   0.00000  0.000000   \n",
       "3       0.027495  0.028651  0.014901       0.0       0.0   0.00000  0.001941   \n",
       "4       0.000000  0.040161  0.017016       0.0       0.0   0.00000  0.023945   \n",
       "...          ...       ...       ...       ...       ...       ...       ...   \n",
       "275459  0.000000  0.043301  0.023641       0.0       0.0   0.00000  0.000000   \n",
       "275460  0.000000  0.043983  0.010634       0.0       0.0   0.00000  0.000000   \n",
       "275461  0.000000  0.000000  0.056571       0.0       0.0   0.00000  0.000000   \n",
       "275462  0.011415  0.016700  0.034302       0.0       0.0   0.00000  0.033716   \n",
       "275463  0.024492  0.027264  0.015421       0.0       0.0   0.00000  0.018483   \n",
       "\n",
       "        Feature8  Feature9  Feature10  ...  Feature22  Feature23  Feature24  \\\n",
       "0            0.0  0.000000        0.0  ...   0.000000   0.000000        0.0   \n",
       "1            0.0  0.037093        0.0  ...   0.000000   0.000000        0.0   \n",
       "2            0.0  0.000000        0.0  ...   0.000000   0.027755        0.0   \n",
       "3            0.0  0.040966        0.0  ...   0.015458   0.000000        0.0   \n",
       "4            0.0  0.036833        0.0  ...   0.000000   0.000000        0.0   \n",
       "...          ...       ...        ...  ...        ...        ...        ...   \n",
       "275459       0.0  0.000000        0.0  ...   0.000000   0.000000        0.0   \n",
       "275460       0.0  0.045008        0.0  ...   0.000000   0.000000        0.0   \n",
       "275461       0.0  0.000000        0.0  ...   0.000000   0.039190        0.0   \n",
       "275462       0.0  0.028122        0.0  ...   0.030102   0.000000        0.0   \n",
       "275463       0.0  0.040305        0.0  ...   0.013181   0.000000        0.0   \n",
       "\n",
       "        Feature25  Feature26  Feature27  Feature28  Feature29  Feature30  \\\n",
       "0        0.000000   0.000000   0.000000   0.013512   0.000000   0.012734   \n",
       "1        0.000000   0.000000   0.000000   0.022560   0.000000   0.000000   \n",
       "2        0.000000   0.000000   0.000000   0.000000   0.052419   0.000000   \n",
       "3        0.055805   0.038670   0.009987   0.035355   0.000000   0.000000   \n",
       "4        0.000000   0.000000   0.000000   0.020361   0.000000   0.000000   \n",
       "...           ...        ...        ...        ...        ...        ...   \n",
       "275459   0.000000   0.000000   0.000000   0.040624   0.000000   0.000000   \n",
       "275460   0.000000   0.000000   0.000000   0.028519   0.000000   0.000000   \n",
       "275461   0.000000   0.000000   0.000000   0.000092   0.000039   0.000000   \n",
       "275462   0.086872   0.049404   0.012518   0.003363   0.000000   0.000000   \n",
       "275463   0.049383   0.040530   0.030785   0.034584   0.007672   0.000000   \n",
       "\n",
       "        Label  \n",
       "0           1  \n",
       "1           1  \n",
       "2           1  \n",
       "3           1  \n",
       "4           1  \n",
       "...       ...  \n",
       "275459      1  \n",
       "275460      1  \n",
       "275461      1  \n",
       "275462      1  \n",
       "275463      1  \n",
       "\n",
       "[275464 rows x 31 columns]>"
      ]
     },
     "execution_count": 6,
     "metadata": {},
     "output_type": "execute_result"
    }
   ],
   "source": [
    "df.head"
   ]
  },
  {
   "cell_type": "code",
   "execution_count": 7,
   "id": "71c1e856",
   "metadata": {},
   "outputs": [],
   "source": [
    "#X = mydataframe.drop(['acol','bcol'], axis=1).values \n",
    "#y = mydataframe['targetvalue'].values\n",
    "df_label=df.Label\n",
    "X=df.drop(['Label'], axis=1).values \n",
    "y=df['Label'].values"
   ]
  },
  {
   "cell_type": "code",
   "execution_count": 8,
   "id": "23b08b5a",
   "metadata": {},
   "outputs": [],
   "source": [
    "df_label.to_csv('abnormallabel1.csv', index=False)"
   ]
  },
  {
   "cell_type": "code",
   "execution_count": 9,
   "id": "9eacf006",
   "metadata": {},
   "outputs": [
    {
     "name": "stdout",
     "output_type": "stream",
     "text": [
      "192824 Training sequences (192824, 30)\n",
      "82640 Validation sequences (82640, 30)\n",
      "192824 Training sequences (192824,)\n"
     ]
    }
   ],
   "source": [
    "from sklearn.model_selection import train_test_split\n",
    "\n",
    "x_train,x_val,y_train,y_val = train_test_split(X,y,train_size=0.70, random_state=2)\n",
    "print(len(x_train), \"Training sequences\",x_train.shape)\n",
    "print(len(x_val), \"Validation sequences\",x_val.shape)\n",
    "print(len(y_train), \"Training sequences\",y_train.shape)"
   ]
  },
  {
   "cell_type": "markdown",
   "id": "0c044fdd",
   "metadata": {},
   "source": [
    "# Simple Attention\n",
    "#https://www.analyticsvidhya.com/blog/2019/11/comprehensive-guide-attention-mechanism-deep-learning/"
   ]
  },
  {
   "cell_type": "code",
   "execution_count": 10,
   "id": "d4c1ecdc",
   "metadata": {},
   "outputs": [],
   "source": [
    "def build(self,input_shape):\n",
    "        self.W=self.add_weight(name=\"att_weight\",shape=(input_shape[-1],1),initializer=\"normal\")\n",
    "        self.b=self.add_weight(name=\"att_bias\",shape=(input_shape[1],1),initializer=\"zeros\")        \n",
    "        super(attention, self).build(input_shape)"
   ]
  },
  {
   "cell_type": "code",
   "execution_count": 11,
   "id": "faf1da92",
   "metadata": {},
   "outputs": [],
   "source": [
    "def call(self,x):\n",
    "        et=K.squeeze(K.tanh(K.dot(x,self.W)+self.b),axis=-1)\n",
    "        at=K.softmax(et)\n",
    "        at=K.expand_dims(at,axis=-1)\n",
    "        output=x*at\n",
    "        return K.sum(output,axis=1)"
   ]
  },
  {
   "cell_type": "code",
   "execution_count": 12,
   "id": "c4420bff",
   "metadata": {},
   "outputs": [],
   "source": [
    "from tensorflow.keras.layers import Layer\n",
    "import tensorflow.keras.backend as K"
   ]
  },
  {
   "cell_type": "code",
   "execution_count": 13,
   "id": "ee4d64e3",
   "metadata": {},
   "outputs": [],
   "source": [
    "class attention(Layer):\n",
    "    def __init__(self,**kwargs):\n",
    "        super(attention,self).__init__(**kwargs)\n",
    "\n",
    "    def build(self,input_shape):\n",
    "        self.W=self.add_weight(name=\"att_weight\",shape=(input_shape[-1],1),initializer=\"normal\")\n",
    "        self.b=self.add_weight(name=\"att_bias\",shape=(input_shape[1],1),initializer=\"zeros\")        \n",
    "        super(attention, self).build(input_shape)\n",
    "\n",
    "    def call(self,x):\n",
    "        et=K.squeeze(K.tanh(K.dot(x,self.W)+self.b),axis=-1)\n",
    "        at=K.softmax(et)\n",
    "        at=K.expand_dims(at,axis=-1)\n",
    "        output=x*at\n",
    "        return K.sum(output,axis=1)\n",
    "\n",
    "    def compute_output_shape(self,input_shape):\n",
    "        return (input_shape[0],input_shape[-1])\n",
    "\n",
    "    def get_config(self):\n",
    "        return super(attention,self).get_config()"
   ]
  },
  {
   "cell_type": "code",
   "execution_count": 14,
   "id": "f548f970",
   "metadata": {},
   "outputs": [],
   "source": [
    "from tensorflow.keras.layers import Embedding\n",
    "from tensorflow.keras.layers import Dense, Flatten, Activation,RepeatVector,Permute \n",
    "from tensorflow.keras.layers import TimeDistributed\n",
    "maxlen=30\n",
    "vocab_size = x_train.shape[0]\n",
    "visible = layers.Input(shape=(maxlen,))\n",
    "\n",
    "embed=Embedding(vocab_size,30)(visible)\n",
    "\n",
    "activations= keras.layers.LSTM(30, return_sequences=True)(embed)\n",
    "\n",
    "attention = TimeDistributed(Dense(1, activation='tanh'))(activations) \n",
    "attention = Flatten()(attention)\n",
    "attention = Activation('softmax', name='attention_vec')(attention)\n",
    "#attention = RepeatVector(1)(attention)\n",
    "#attention = Permute([2, 1])(attention) \n",
    "\n",
    "#sent_representation = keras.layers.multiply([activations, attention])\n",
    "#sent_representation = Lambda(lambda xin: K.sum(xin, axis=1))(sent_representation)\n",
    "predictions=Dense(1, activation='sigmoid')(attention)\n",
    "\n",
    "model = keras.Model(inputs=visible, outputs=predictions)"
   ]
  },
  {
   "cell_type": "code",
   "execution_count": 15,
   "id": "95ed9298",
   "metadata": {},
   "outputs": [
    {
     "name": "stdout",
     "output_type": "stream",
     "text": [
      "Model: \"model\"\n",
      "_________________________________________________________________\n",
      "Layer (type)                 Output Shape              Param #   \n",
      "=================================================================\n",
      "input_1 (InputLayer)         [(None, 30)]              0         \n",
      "_________________________________________________________________\n",
      "embedding (Embedding)        (None, 30, 30)            5784720   \n",
      "_________________________________________________________________\n",
      "lstm (LSTM)                  (None, 30, 30)            7320      \n",
      "_________________________________________________________________\n",
      "time_distributed (TimeDistri (None, 30, 1)             31        \n",
      "_________________________________________________________________\n",
      "flatten (Flatten)            (None, 30)                0         \n",
      "_________________________________________________________________\n",
      "attention_vec (Activation)   (None, 30)                0         \n",
      "_________________________________________________________________\n",
      "dense_1 (Dense)              (None, 1)                 31        \n",
      "=================================================================\n",
      "Total params: 5,792,102\n",
      "Trainable params: 5,792,102\n",
      "Non-trainable params: 0\n",
      "_________________________________________________________________\n"
     ]
    }
   ],
   "source": [
    "model.summary()"
   ]
  },
  {
   "cell_type": "code",
   "execution_count": 16,
   "id": "e62d7977",
   "metadata": {},
   "outputs": [],
   "source": [
    "import time, datetime\n",
    "\n",
    "start = datetime.datetime.now()\n",
    "time.sleep(10)"
   ]
  },
  {
   "cell_type": "code",
   "execution_count": 17,
   "id": "4179fd99",
   "metadata": {},
   "outputs": [
    {
     "name": "stdout",
     "output_type": "stream",
     "text": [
      "Train on 192824 samples, validate on 82640 samples\n",
      "Epoch 1/5\n",
      "192824/192824 [==============================] - 61s 316us/sample - loss: 0.5990 - accuracy: 0.9363 - val_loss: 0.5060 - val_accuracy: 1.0000\n",
      "Epoch 2/5\n",
      "192824/192824 [==============================] - 52s 269us/sample - loss: 0.4401 - accuracy: 1.0000 - val_loss: 0.3824 - val_accuracy: 1.0000\n",
      "Epoch 3/5\n",
      "192824/192824 [==============================] - 51s 266us/sample - loss: 0.3382 - accuracy: 1.0000 - val_loss: 0.2979 - val_accuracy: 1.0000\n",
      "Epoch 4/5\n",
      "192824/192824 [==============================] - 54s 280us/sample - loss: 0.2659 - accuracy: 1.0000 - val_loss: 0.2364 - val_accuracy: 1.0000\n",
      "Epoch 5/5\n",
      "192824/192824 [==============================] - 54s 278us/sample - loss: 0.2127 - accuracy: 1.0000 - val_loss: 0.1907 - val_accuracy: 1.0000\n"
     ]
    }
   ],
   "source": [
    "model.compile(\"adam\", \"binary_crossentropy\", metrics=[\"accuracy\"])\n",
    "history = model.fit(x_train, y_train, batch_size=1024, epochs=5, validation_data=(x_val, y_val))"
   ]
  },
  {
   "cell_type": "code",
   "execution_count": 18,
   "id": "0f6a07fa",
   "metadata": {},
   "outputs": [
    {
     "name": "stdout",
     "output_type": "stream",
     "text": [
      "0h 4m 41s\n"
     ]
    }
   ],
   "source": [
    "end = datetime.datetime.now()\n",
    "\n",
    "diff = (end - start)\n",
    "\n",
    "datetime.timedelta(seconds=10, microseconds=885206)\n",
    "\n",
    "diff_seconds = int(diff.total_seconds())\n",
    "\n",
    "minute_seconds, seconds = divmod(diff_seconds, 60)\n",
    "hours, minutes = divmod(minute_seconds, 60)\n",
    "hms = f\"{hours}h {minutes}m {seconds}s\"\n",
    "\n",
    "'0h 0m 10s'\n",
    "print(hms) "
   ]
  },
  {
   "cell_type": "raw",
   "id": "548bea49",
   "metadata": {},
   "source": [
    "new_model = Model(inputs=model.input, outputs=model.layers[2].output)\n",
    "#output_before_att = new_model.predict(x_test_sample) #extract layer output"
   ]
  },
  {
   "cell_type": "code",
   "execution_count": 19,
   "id": "ad8bd53b",
   "metadata": {},
   "outputs": [],
   "source": [
    "model = keras.Model(inputs=model.input,\n",
    "              outputs=[model.output, model.get_layer('attention_vec').output])"
   ]
  },
  {
   "cell_type": "code",
   "execution_count": 20,
   "id": "e20b490d",
   "metadata": {},
   "outputs": [],
   "source": [
    "layer = model.get_layer('attention_vec')"
   ]
  },
  {
   "cell_type": "code",
   "execution_count": 21,
   "id": "4362e592",
   "metadata": {},
   "outputs": [
    {
     "name": "stdout",
     "output_type": "stream",
     "text": [
      "[[array([[0.00759948, 0.00756334, 0.00756302, ..., 0.00756336, 0.00756316,\n",
      "        0.00756307],\n",
      "       [0.00759948, 0.00756334, 0.00756302, ..., 0.00756336, 0.00756316,\n",
      "        0.00756307],\n",
      "       [0.00759948, 0.00756334, 0.00756302, ..., 0.00756336, 0.00756316,\n",
      "        0.00756307],\n",
      "       ...,\n",
      "       [0.00759948, 0.00756334, 0.00756302, ..., 0.00756336, 0.00756316,\n",
      "        0.00756307],\n",
      "       [0.00759948, 0.00756334, 0.00756302, ..., 0.00756336, 0.00756316,\n",
      "        0.00756307],\n",
      "       [0.00759948, 0.00756334, 0.00756302, ..., 0.00756336, 0.00756316,\n",
      "        0.00756307]], dtype=float32)]]\n"
     ]
    }
   ],
   "source": [
    "outputs = []\n",
    "keras_function = K.function([model.input], [layer.output])\n",
    "outputs.append(keras_function([x_train, 0]))\n",
    "print(outputs)"
   ]
  },
  {
   "cell_type": "code",
   "execution_count": 22,
   "id": "287aad1e",
   "metadata": {},
   "outputs": [
    {
     "name": "stderr",
     "output_type": "stream",
     "text": [
      "Using TensorFlow backend.\n"
     ]
    },
    {
     "name": "stdout",
     "output_type": "stream",
     "text": [
      "[array([[0.0330821 , 0.0330821 , 0.03402196, ..., 0.03353213, 0.0330821 ,\n",
      "        0.03350607],\n",
      "       [0.03300947, 0.0344246 , 0.03357317, ..., 0.03376264, 0.03300947,\n",
      "        0.03300947],\n",
      "       [0.03303711, 0.03303711, 0.03424501, ..., 0.03303711, 0.03481508,\n",
      "        0.03303711],\n",
      "       ...,\n",
      "       [0.03313643, 0.03313643, 0.03506503, ..., 0.03313949, 0.03313772,\n",
      "        0.03313643],\n",
      "       [0.03318196, 0.03335779, 0.03395017, ..., 0.03291584, 0.03280534,\n",
      "        0.03280534],\n",
      "       [0.03360173, 0.03369502, 0.03329831, ..., 0.03394256, 0.0330413 ,\n",
      "        0.03278876]], dtype=float32)]\n",
      "(1, 275464, 30)\n"
     ]
    }
   ],
   "source": [
    "import numpy as np\n",
    "import keras\n",
    "hidden_layers = keras.backend.function(\n",
    "[layer.input],  # we will feed the function with the input of the first layer  \n",
    "[layer.output,] # we want to get the output of the first layer\n",
    ")\n",
    "h=hidden_layers([X])\n",
    "print(h)\n",
    "print(np.shape(h))"
   ]
  },
  {
   "cell_type": "code",
   "execution_count": 23,
   "id": "122e4b79",
   "metadata": {},
   "outputs": [],
   "source": [
    "df = pd.DataFrame(np.concatenate(h))"
   ]
  },
  {
   "cell_type": "code",
   "execution_count": 24,
   "id": "930916d4",
   "metadata": {},
   "outputs": [],
   "source": [
    "df.to_csv('abnormalattentionvector.csv', index=False)"
   ]
  },
  {
   "cell_type": "code",
   "execution_count": 25,
   "id": "5325bbe5",
   "metadata": {},
   "outputs": [],
   "source": [
    "csv_1 = pd.read_csv('abnormalattentionvector.csv')\n",
    "csv_2 = pd.read_csv('abnormallabel1.csv')\n",
    "\n",
    "result = pd.concat([csv_1, csv_2], axis=1)"
   ]
  },
  {
   "cell_type": "code",
   "execution_count": 26,
   "id": "1c13d495",
   "metadata": {},
   "outputs": [
    {
     "name": "stdout",
     "output_type": "stream",
     "text": [
      "env: JOBLIB_TEMP_FOLDER=/tmp\n"
     ]
    }
   ],
   "source": [
    "%env JOBLIB_TEMP_FOLDER=/tmp"
   ]
  },
  {
   "cell_type": "code",
   "execution_count": 27,
   "id": "c00c035f",
   "metadata": {},
   "outputs": [],
   "source": [
    "result.to_csv(\"attentionabnormalresult.csv\", index=None, header=None)"
   ]
  },
  {
   "cell_type": "code",
   "execution_count": null,
   "id": "283f151e",
   "metadata": {},
   "outputs": [],
   "source": []
  }
 ],
 "metadata": {
  "kernelspec": {
   "display_name": "Python 3",
   "language": "python",
   "name": "python3"
  },
  "language_info": {
   "codemirror_mode": {
    "name": "ipython",
    "version": 3
   },
   "file_extension": ".py",
   "mimetype": "text/x-python",
   "name": "python",
   "nbconvert_exporter": "python",
   "pygments_lexer": "ipython3",
   "version": "3.8.8"
  }
 },
 "nbformat": 4,
 "nbformat_minor": 5
}
