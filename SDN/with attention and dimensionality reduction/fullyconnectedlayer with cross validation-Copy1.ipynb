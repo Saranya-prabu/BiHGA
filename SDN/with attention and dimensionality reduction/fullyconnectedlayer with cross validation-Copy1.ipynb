{
 "cells": [
  {
   "cell_type": "code",
   "execution_count": 1,
   "metadata": {},
   "outputs": [],
   "source": [
    "#https://machinelearningmastery.com/tutorial-first-neural-network-python-keras/\n",
    "# first neural network with keras tutorial\n",
    "from numpy import loadtxt\n",
    "from keras.models import Sequential\n",
    "from keras.layers import Dense\n",
    "\n",
    "import numpy as np\n",
    "import pandas as pd\n",
    "\n",
    "from sklearn import preprocessing\n",
    "from sklearn.model_selection import train_test_split\n"
   ]
  },
  {
   "cell_type": "code",
   "execution_count": 2,
   "metadata": {},
   "outputs": [],
   "source": [
    "csv_1 = pd.read_csv(r\"C:\\Users\\data science\\SDN\\with attention and dimensionality reduction\\attentionnormalresult.csv\") \n",
    "  \n",
    "# changing cols with rename() \n",
    "new_data = csv_1.rename(columns = {0: \"Feature1\",\n",
    "                                  1: \"Feature2\", \n",
    "                                  2: \"Feature3\", \n",
    "                                  3: \"Feature4\",\n",
    "                                  4: \"Feature5\",\n",
    "                                  5: \"Feature6\",\n",
    "                                  6: \"Feature7\",\n",
    "                                  7: \"Feature8\",\n",
    "                                  8: \"Feature9\",\n",
    "                                  9: \"Feature10\",\n",
    "                                  10: \"Feature11\",\n",
    "                                  11: \"Feature12\",\n",
    "                                  12: \"Feature13\",\n",
    "                                  13: \"Feature14\",\n",
    "                                  14: \"Feature15\",\n",
    "                                  15: \"Feature16\",\n",
    "                                  16: \"Feature17\",\n",
    "                                  17: \"Feature18\",\n",
    "                                  18: \"Feature19\", \n",
    "                                  19: \"Feature20\",\n",
    "                                  20: \"Feature21\",                                   \n",
    "                                  21: \"Feature22\",\n",
    "                                  22: \"Feature23\",\n",
    "                                  23: \"Feature24\",                                   \n",
    "                                  24: \"Feature25\",\n",
    "                                  25: \"Feature26\",  \n",
    "                                  26: \"Feature27\",\n",
    "                                  27: \"Feature28\",\n",
    "                                  28: \"Feature29\",\n",
    "                                  29: \"Feature30\",                                       \n",
    "                                  30: \"Label\"}) \n",
    "  \n",
    "# changing columns using .columns() \n",
    "csv_1.columns = ['Feature1', 'Feature2', 'Feature3', 'Feature4', \n",
    "                'Feature5', 'Feature6', 'Feature7', 'Feature8',\n",
    "                 'Feature9', 'Feature10', 'Feature11', 'Feature12',\n",
    "                 'Feature13', 'Feature14', 'Feature15', 'Feature16',\n",
    "                 'Feature17', 'Feature18', 'Feature19', 'Feature20','Feature21','Feature22','Feature23','Feature24','Feature25','Feature26','Feature27','Feature28','Feature29','Feature30',\"Label\"] \n",
    "\n",
    "\n",
    "csv_1.to_csv(\"attentionnormalresult.csv\", index=None)"
   ]
  },
  {
   "cell_type": "code",
   "execution_count": 3,
   "metadata": {},
   "outputs": [],
   "source": [
    "csv_2 = pd.read_csv(r\"C:\\Users\\data science\\SDN\\with attention and dimensionality reduction\\attentionabnormalresult.csv\") \n",
    "  \n",
    "# changing cols with rename() \n",
    "new_data = csv_2.rename(columns = {0: \"Feature1\",\n",
    "                                  1: \"Feature2\", \n",
    "                                  2: \"Feature3\", \n",
    "                                  3: \"Feature4\",\n",
    "                                  4: \"Feature5\",\n",
    "                                  5: \"Feature6\",\n",
    "                                  6: \"Feature7\",\n",
    "                                  7: \"Feature8\",\n",
    "                                  8: \"Feature9\",\n",
    "                                  9: \"Feature10\",\n",
    "                                  10: \"Feature11\",\n",
    "                                  11: \"Feature12\",\n",
    "                                  12: \"Feature13\",\n",
    "                                  13: \"Feature14\",\n",
    "                                  14: \"Feature15\",\n",
    "                                  15: \"Feature16\",\n",
    "                                  16: \"Feature17\",\n",
    "                                  17: \"Feature18\",\n",
    "                                  18: \"Feature19\", \n",
    "                                  19: \"Feature20\",\n",
    "                                  20: \"Feature21\",                                   \n",
    "                                  21: \"Feature22\",\n",
    "                                  22: \"Feature23\",\n",
    "                                  23: \"Feature24\",                                   \n",
    "                                  24: \"Feature25\",\n",
    "                                  25: \"Feature26\",  \n",
    "                                  26: \"Feature27\",\n",
    "                                  27: \"Feature28\",\n",
    "                                  28: \"Feature29\",\n",
    "                                  29: \"Feature30\",                                         \n",
    "                                  30: \"Label\"}) \n",
    "  \n",
    "# changing columns using .columns() \n",
    "csv_2.columns = ['Feature1', 'Feature2', 'Feature3', 'Feature4', \n",
    "                'Feature5', 'Feature6', 'Feature7', 'Feature8',\n",
    "                 'Feature9', 'Feature10', 'Feature11', 'Feature12',\n",
    "                 'Feature13', 'Feature14', 'Feature15', 'Feature16',\n",
    "                 'Feature17', 'Feature18', 'Feature19', 'Feature20','Feature21','Feature22','Feature23','Feature24','Feature25','Feature26','Feature27','Feature28','Feature29','Feature30',\"Label\"] \n",
    "\n",
    "  \n",
    "\n",
    "csv_2.to_csv(\"attentionabnormalresult.csv\", index=None)"
   ]
  },
  {
   "cell_type": "code",
   "execution_count": 4,
   "metadata": {
    "scrolled": true
   },
   "outputs": [
    {
     "name": "stdout",
     "output_type": "stream",
     "text": [
      "        Feature1  Feature2  Feature3  Feature4  Feature5  Feature6  Feature7  \\\n",
      "0       0.033141  0.033141  0.033141  0.033141  0.033141  0.033141  0.033298   \n",
      "1       0.033137  0.033137  0.033137  0.033137  0.033137  0.033137  0.033222   \n",
      "2       0.033130  0.033130  0.033130  0.033130  0.033130  0.033130  0.033130   \n",
      "3       0.032980  0.036678  0.032980  0.032980  0.032980  0.032980  0.034405   \n",
      "4       0.033016  0.033016  0.033016  0.033016  0.033016  0.034375  0.034917   \n",
      "...          ...       ...       ...       ...       ...       ...       ...   \n",
      "275458  0.033169  0.034637  0.033963  0.033169  0.033169  0.033169  0.033169   \n",
      "275459  0.033118  0.034607  0.033472  0.033118  0.033118  0.033118  0.033118   \n",
      "275460  0.033136  0.033136  0.035065  0.033136  0.033136  0.033136  0.033136   \n",
      "275461  0.033182  0.033358  0.033950  0.032805  0.032805  0.032805  0.033930   \n",
      "275462  0.033602  0.033695  0.033298  0.032789  0.032789  0.032789  0.033400   \n",
      "\n",
      "        Feature8  Feature9  Feature10  ...  Feature22  Feature23  Feature24  \\\n",
      "0       0.033141  0.035195   0.033141  ...   0.034219   0.033141   0.033141   \n",
      "1       0.033137  0.035265   0.033137  ...   0.034241   0.033137   0.033137   \n",
      "2       0.033130  0.035412   0.033130  ...   0.034349   0.033130   0.033130   \n",
      "3       0.032980  0.032980   0.032980  ...   0.032980   0.032980   0.033752   \n",
      "4       0.033016  0.033016   0.033016  ...   0.033016   0.033460   0.033016   \n",
      "...          ...       ...        ...  ...        ...        ...        ...   \n",
      "275458  0.033169  0.033169   0.033169  ...   0.033169   0.033169   0.033169   \n",
      "275459  0.033118  0.034642   0.033118  ...   0.033118   0.033118   0.033118   \n",
      "275460  0.033136  0.033136   0.033136  ...   0.033136   0.034461   0.033136   \n",
      "275461  0.032805  0.033741   0.032805  ...   0.033808   0.032805   0.032805   \n",
      "275462  0.032789  0.034137   0.032789  ...   0.033224   0.032789   0.032789   \n",
      "\n",
      "        Feature25  Feature26  Feature27  Feature28  Feature29  Feature30  \\\n",
      "0        0.033141   0.033141   0.033141   0.033141   0.033141   0.033141   \n",
      "1        0.033137   0.033137   0.033137   0.033137   0.033137   0.033146   \n",
      "2        0.033130   0.033130   0.033130   0.033130   0.033130   0.033161   \n",
      "3        0.032980   0.032980   0.032980   0.032980   0.032980   0.034949   \n",
      "4        0.033016   0.033016   0.033016   0.033016   0.033016   0.035142   \n",
      "...           ...        ...        ...        ...        ...        ...   \n",
      "275458   0.033169   0.033169   0.033169   0.034544   0.033169   0.033169   \n",
      "275459   0.033118   0.033118   0.033118   0.034076   0.033118   0.033118   \n",
      "275460   0.033136   0.033136   0.033136   0.033139   0.033138   0.033136   \n",
      "275461   0.035783   0.034467   0.033219   0.032916   0.032805   0.032805   \n",
      "275462   0.034449   0.034145   0.033814   0.033943   0.033041   0.032789   \n",
      "\n",
      "        Label  \n",
      "0           0  \n",
      "1           0  \n",
      "2           0  \n",
      "3           0  \n",
      "4           0  \n",
      "...       ...  \n",
      "275458      1  \n",
      "275459      1  \n",
      "275460      1  \n",
      "275461      1  \n",
      "275462      1  \n",
      "\n",
      "[343885 rows x 31 columns]\n"
     ]
    }
   ],
   "source": [
    "merged = csv_1.merge(csv_2,on=\"Label\")\n",
    "\n",
    "merged.to_csv(\"attention1.csv\", index=False)\n",
    "#result = pd.concat([csv_1, csv_2], axis=1)\n",
    "out = csv_1.append(csv_2)\n",
    "print(out)\n",
    "out.to_csv(\"attention1.csv\", index=False)"
   ]
  },
  {
   "cell_type": "code",
   "execution_count": 5,
   "metadata": {},
   "outputs": [],
   "source": [
    "df = pd.read_csv(\"attention1.csv\",sep=\",\", index_col=None)"
   ]
  },
  {
   "cell_type": "code",
   "execution_count": 6,
   "metadata": {},
   "outputs": [
    {
     "data": {
      "text/plain": [
       "(343885, 31)"
      ]
     },
     "execution_count": 6,
     "metadata": {},
     "output_type": "execute_result"
    }
   ],
   "source": [
    "df.shape"
   ]
  },
  {
   "cell_type": "code",
   "execution_count": 7,
   "metadata": {},
   "outputs": [],
   "source": [
    "X=df.drop(['Label'], axis=1).values \n",
    "y=df['Label'].values"
   ]
  },
  {
   "cell_type": "code",
   "execution_count": 8,
   "metadata": {},
   "outputs": [
    {
     "name": "stdout",
     "output_type": "stream",
     "text": [
      "240719 Training sequences (240719, 30)\n",
      "103166 Validation sequences (103166, 30)\n",
      "240719 Training sequences (240719,)\n"
     ]
    }
   ],
   "source": [
    "from sklearn.model_selection import train_test_split\n",
    "\n",
    "x_train,x_val,y_train,y_val = train_test_split(X,y,train_size=0.70, random_state=2)\n",
    "print(len(x_train), \"Training sequences\",x_train.shape)\n",
    "print(len(x_val), \"Validation sequences\",x_val.shape)\n",
    "print(len(y_train), \"Training sequences\",y_train.shape)"
   ]
  },
  {
   "cell_type": "code",
   "execution_count": 9,
   "metadata": {},
   "outputs": [],
   "source": [
    "\n",
    "# define the keras model\n",
    "model = Sequential()\n",
    "model.add(Dense(12, input_dim=30, activation='relu'))\n",
    "model.add(Dense(8, activation='relu'))\n",
    "model.add(Dense(1, activation='sigmoid'))"
   ]
  },
  {
   "cell_type": "code",
   "execution_count": 10,
   "metadata": {},
   "outputs": [],
   "source": [
    "# compile the keras model\n",
    "model.compile(loss='binary_crossentropy', optimizer='adam', metrics=['accuracy'])"
   ]
  },
  {
   "cell_type": "code",
   "execution_count": 11,
   "metadata": {},
   "outputs": [
    {
     "name": "stdout",
     "output_type": "stream",
     "text": [
      "Model: \"sequential\"\n",
      "_________________________________________________________________\n",
      "Layer (type)                 Output Shape              Param #   \n",
      "=================================================================\n",
      "dense (Dense)                (None, 12)                372       \n",
      "_________________________________________________________________\n",
      "dense_1 (Dense)              (None, 8)                 104       \n",
      "_________________________________________________________________\n",
      "dense_2 (Dense)              (None, 1)                 9         \n",
      "=================================================================\n",
      "Total params: 485\n",
      "Trainable params: 485\n",
      "Non-trainable params: 0\n",
      "_________________________________________________________________\n"
     ]
    }
   ],
   "source": [
    "model.summary()"
   ]
  },
  {
   "cell_type": "raw",
   "metadata": {},
   "source": [
    "import time, datetime\n",
    "\n",
    "start = datetime.datetime.now()\n",
    "time.sleep(10)"
   ]
  },
  {
   "cell_type": "raw",
   "metadata": {},
   "source": [
    "# fit the keras model on the dataset\n",
    "history =model.fit(x_train, y_train, epochs=20, batch_size=10, validation_data=(x_val, y_val))"
   ]
  },
  {
   "cell_type": "raw",
   "metadata": {},
   "source": [
    "end = datetime.datetime.now()\n",
    "\n",
    "diff = (end - start)\n",
    "\n",
    "datetime.timedelta(seconds=10, microseconds=885206)\n",
    "\n",
    "diff_seconds = int(diff.total_seconds())\n",
    "\n",
    "minute_seconds, seconds = divmod(diff_seconds, 60)\n",
    "hours, minutes = divmod(minute_seconds, 60)\n",
    "hms = f\"{hours}h {minutes}m {seconds}s\"\n",
    "\n",
    "'0h 0m 10s'\n",
    "print(hms) "
   ]
  },
  {
   "cell_type": "raw",
   "metadata": {},
   "source": [
    "# evaluate the keras model\n",
    "_, accuracy = model.evaluate(X, y)\n",
    "print('Accuracy: %.2f' % (accuracy*100))"
   ]
  },
  {
   "cell_type": "raw",
   "metadata": {},
   "source": [
    "#https://machinelearningmastery.com/how-to-calculate-precision-recall-f1-and-more-for-deep-learning-models/\n",
    "import tensorflow as tf\n",
    "\n",
    "from matplotlib import pyplot\n",
    "# plot loss during training\n",
    "pyplot.subplot(211)\n",
    "pyplot.title('Loss')\n",
    "pyplot.plot(history.history['loss'], label='train')\n",
    "pyplot.plot(history.history['val_loss'], label='test')\n",
    "pyplot.legend()\n",
    "# plot accuracy during training\n",
    "pyplot.subplot(212)\n",
    "pyplot.title('Accuracy')\n",
    "pyplot.plot(history.history['accuracy'], label='train')\n",
    "pyplot.plot(history.history['val_accuracy'], label='test')\n",
    "pyplot.legend()\n",
    "pyplot.show()"
   ]
  },
  {
   "cell_type": "raw",
   "metadata": {},
   "source": [
    "# make probability predictions with the model\n",
    "predictions = model.predict(x_val)\n",
    "# round predictions \n",
    "rounded = [round(x[0]) for x in predictions]"
   ]
  },
  {
   "cell_type": "raw",
   "metadata": {},
   "source": [
    "# make class predictions with the model\n",
    "predictions = model.predict_classes(x_val)"
   ]
  },
  {
   "cell_type": "raw",
   "metadata": {},
   "source": [
    "#https://towardsdatascience.com/common-classification-model-evaluation-metrics-2ba0a7a7436e\n",
    "from sklearn.metrics import confusion_matrix\n",
    "print(confusion_matrix(y_val,predictions,labels=[1,0]))\n",
    "import seaborn as sns\n",
    "import matplotlib.pyplot as plt\n",
    "sns.heatmap(confusion_matrix(y_val,predictions),annot=True,lw =2,cbar=False)\n",
    "plt.ylabel(\"True Values\")\n",
    "plt.xlabel(\"Predicted Values\")\n",
    "plt.title(\"CONFUSSION MATRIX VISUALIZATION\")\n",
    "plt.show()"
   ]
  },
  {
   "cell_type": "raw",
   "metadata": {},
   "source": [
    "from sklearn.metrics import f1_score\n",
    "f1_score(y_val,predictions)"
   ]
  },
  {
   "cell_type": "raw",
   "metadata": {},
   "source": [
    "from sklearn.metrics import precision_score\n",
    "precision_score(y_val,predictions)"
   ]
  },
  {
   "cell_type": "raw",
   "metadata": {},
   "source": [
    "from sklearn.metrics import recall_score\n",
    "recall_score(y_val,predictions)"
   ]
  },
  {
   "cell_type": "raw",
   "metadata": {},
   "source": [
    "from sklearn.metrics import roc_auc_score\n",
    "roc_auc_score(y_val,predictions)"
   ]
  },
  {
   "cell_type": "raw",
   "metadata": {},
   "source": [
    "# summarize the first 5 cases\n",
    "for i in range(5):\n",
    "   print('%s => %d (expected %d)' % (X[i].tolist(), predictions[i], y[i]))"
   ]
  },
  {
   "cell_type": "raw",
   "metadata": {},
   "source": [
    "# predict probabilities for test set\n",
    "yhat_probs = model.predict(x_val, verbose=0)\n",
    "yhat_classes=np.argmax(yhat_probs,axis=1)\n",
    "# predict crisp classes for test set\n",
    "#yhat_classes = model.predict_classes(x_val, verbose=0)\n",
    "# reduce to 1d array\n",
    "yhat_probs = yhat_probs[:, 0]\n",
    "#yhat_classes = yhat_classes[:, 0]"
   ]
  },
  {
   "cell_type": "code",
   "execution_count": 17,
   "metadata": {},
   "outputs": [],
   "source": [
    "import time, datetime\n",
    "\n",
    "start = datetime.datetime.now()\n",
    "time.sleep(10)"
   ]
  },
  {
   "cell_type": "code",
   "execution_count": 18,
   "metadata": {
    "scrolled": true
   },
   "outputs": [
    {
     "name": "stdout",
     "output_type": "stream",
     "text": [
      "Epoch 1/20\n",
      "25792/25792 [==============================] - 22s 841us/step - loss: 0.0506 - accuracy: 0.9856 - val_loss: 0.0424 - val_accuracy: 0.9907\n",
      "Epoch 2/20\n",
      "25792/25792 [==============================] - 19s 727us/step - loss: 0.0479 - accuracy: 0.9866 - val_loss: 0.0340 - val_accuracy: 0.9913\n",
      "Epoch 3/20\n",
      "25792/25792 [==============================] - 20s 771us/step - loss: 0.0462 - accuracy: 0.9870 - val_loss: 0.0428 - val_accuracy: 0.9879\n",
      "Epoch 4/20\n",
      "25792/25792 [==============================] - 19s 732us/step - loss: 0.0444 - accuracy: 0.9876 - val_loss: 0.0305 - val_accuracy: 0.9913\n",
      "Epoch 5/20\n",
      "25792/25792 [==============================] - 23s 880us/step - loss: 0.0426 - accuracy: 0.9883 - val_loss: 0.0397 - val_accuracy: 0.9899\n",
      "Epoch 6/20\n",
      "25792/25792 [==============================] - 21s 812us/step - loss: 0.0418 - accuracy: 0.9885 - val_loss: 0.0291 - val_accuracy: 0.9913\n",
      "Epoch 7/20\n",
      "25792/25792 [==============================] - 20s 789us/step - loss: 0.0410 - accuracy: 0.9886 - val_loss: 0.0324 - val_accuracy: 0.9909\n",
      "Epoch 8/20\n",
      "25792/25792 [==============================] - 22s 834us/step - loss: 0.0398 - accuracy: 0.9888 - val_loss: 0.0277 - val_accuracy: 0.9931\n",
      "Epoch 9/20\n",
      "25792/25792 [==============================] - 22s 843us/step - loss: 0.0397 - accuracy: 0.9891 - val_loss: 0.0288 - val_accuracy: 0.9927\n",
      "Epoch 10/20\n",
      "25792/25792 [==============================] - 22s 864us/step - loss: 0.0388 - accuracy: 0.9896 - val_loss: 0.0272 - val_accuracy: 0.9931\n",
      "Epoch 11/20\n",
      "25792/25792 [==============================] - 22s 868us/step - loss: 0.0389 - accuracy: 0.9895 - val_loss: 0.0982 - val_accuracy: 0.9723\n",
      "Epoch 12/20\n",
      "25792/25792 [==============================] - 21s 832us/step - loss: 0.0384 - accuracy: 0.9895 - val_loss: 0.0439 - val_accuracy: 0.9872\n",
      "Epoch 13/20\n",
      "25792/25792 [==============================] - 21s 809us/step - loss: 0.0385 - accuracy: 0.9896 - val_loss: 0.0395 - val_accuracy: 0.9890\n",
      "Epoch 14/20\n",
      "25792/25792 [==============================] - 19s 730us/step - loss: 0.0384 - accuracy: 0.9894 - val_loss: 0.0340 - val_accuracy: 0.9904\n",
      "Epoch 15/20\n",
      "25792/25792 [==============================] - 20s 757us/step - loss: 0.0384 - accuracy: 0.9896 - val_loss: 0.0265 - val_accuracy: 0.9932\n",
      "Epoch 16/20\n",
      "25792/25792 [==============================] - 20s 787us/step - loss: 0.0372 - accuracy: 0.9898 - val_loss: 0.0263 - val_accuracy: 0.9932\n",
      "Epoch 17/20\n",
      "25792/25792 [==============================] - 21s 809us/step - loss: 0.0380 - accuracy: 0.9897 - val_loss: 0.0278 - val_accuracy: 0.9928\n",
      "Epoch 18/20\n",
      "25792/25792 [==============================] - 21s 823us/step - loss: 0.0378 - accuracy: 0.9896 - val_loss: 0.1578 - val_accuracy: 0.9475\n",
      "Epoch 19/20\n",
      "25792/25792 [==============================] - 23s 873us/step - loss: 0.0367 - accuracy: 0.9900 - val_loss: 0.0343 - val_accuracy: 0.9901\n",
      "Epoch 20/20\n",
      "25792/25792 [==============================] - 22s 836us/step - loss: 0.0366 - accuracy: 0.9900 - val_loss: 0.0265 - val_accuracy: 0.9930\n",
      "10747/10747 [==============================] - 5s 504us/step - loss: 0.0263 - accuracy: 0.9934\n",
      "overall Accuracy: 99.34\n",
      "[[68728   329]\n",
      " [  270 16645]]\n",
      "accuracy: 0.993033\n",
      "f1 score: 0.995661\n",
      "precision score: 0.996087\n",
      "recall score: 0.995236\n",
      "ROC AUC: 0.989637\n",
      "ROC AUC: 0.989637\n",
      "No Skill: ROC AUC=0.990\n"
     ]
    },
    {
     "data": {
      "image/png": "[encoded data removed]",
      "text/plain": [
       "<Figure size 432x288 with 1 Axes>"
      ]
     },
     "metadata": {
      "needs_background": "light"
     },
     "output_type": "display_data"
    },
    {
     "name": "stdout",
     "output_type": "stream",
     "text": [
      "[0 0 0 ... 1 1 1]\n"
     ]
    },
    {
     "data": {
      "image/png": "[encoded data removed]",
      "text/plain": [
       "<Figure size 432x288 with 1 Axes>"
      ]
     },
     "metadata": {
      "needs_background": "light"
     },
     "output_type": "display_data"
    },
    {
     "data": {
      "image/png": "[encoded data removed]",
      "text/plain": [
       "<Figure size 432x288 with 1 Axes>"
      ]
     },
     "metadata": {
      "needs_background": "light"
     },
     "output_type": "display_data"
    },
    {
     "name": "stdout",
     "output_type": "stream",
     "text": [
      "Epoch 1/20\n",
      "25792/25792 [==============================] - 21s 804us/step - loss: 0.0364 - accuracy: 0.9900 - val_loss: 0.0303 - val_accuracy: 0.9931\n",
      "Epoch 2/20\n",
      "25792/25792 [==============================] - 22s 836us/step - loss: 0.0359 - accuracy: 0.9901 - val_loss: 0.0278 - val_accuracy: 0.9931\n",
      "Epoch 3/20\n",
      "25792/25792 [==============================] - 21s 801us/step - loss: 0.0365 - accuracy: 0.9899 - val_loss: 0.0319 - val_accuracy: 0.9904\n",
      "Epoch 4/20\n",
      "25792/25792 [==============================] - 21s 829us/step - loss: 0.0350 - accuracy: 0.9906 - val_loss: 0.0489 - val_accuracy: 0.9883\n",
      "Epoch 5/20\n",
      "25792/25792 [==============================] - 21s 802us/step - loss: 0.0354 - accuracy: 0.9901 - val_loss: 0.0286 - val_accuracy: 0.9931\n",
      "Epoch 6/20\n",
      "25792/25792 [==============================] - 21s 820us/step - loss: 0.0347 - accuracy: 0.9906 - val_loss: 0.0882 - val_accuracy: 0.9744\n",
      "Epoch 7/20\n",
      "25792/25792 [==============================] - 22s 863us/step - loss: 0.0353 - accuracy: 0.9904 - val_loss: 0.0445 - val_accuracy: 0.9885\n",
      "Epoch 8/20\n",
      "25792/25792 [==============================] - 22s 855us/step - loss: 0.0353 - accuracy: 0.9905 - val_loss: 0.0276 - val_accuracy: 0.9933\n",
      "Epoch 9/20\n",
      "25792/25792 [==============================] - 21s 831us/step - loss: 0.0345 - accuracy: 0.9906 - val_loss: 0.0268 - val_accuracy: 0.9933\n",
      "Epoch 10/20\n",
      "25792/25792 [==============================] - 22s 853us/step - loss: 0.0345 - accuracy: 0.9906 - val_loss: 0.0321 - val_accuracy: 0.9911\n",
      "Epoch 11/20\n",
      "25792/25792 [==============================] - 21s 821us/step - loss: 0.0346 - accuracy: 0.9906 - val_loss: 0.0260 - val_accuracy: 0.9934\n",
      "Epoch 12/20\n",
      "25792/25792 [==============================] - 22s 861us/step - loss: 0.0341 - accuracy: 0.9906 - val_loss: 0.0271 - val_accuracy: 0.9934\n",
      "Epoch 13/20\n",
      "25792/25792 [==============================] - 21s 799us/step - loss: 0.0344 - accuracy: 0.9907 - val_loss: 0.0257 - val_accuracy: 0.9935\n",
      "Epoch 14/20\n",
      "25792/25792 [==============================] - 22s 862us/step - loss: 0.0345 - accuracy: 0.9905 - val_loss: 0.0259 - val_accuracy: 0.9932\n",
      "Epoch 15/20\n",
      "25792/25792 [==============================] - 19s 748us/step - loss: 0.0338 - accuracy: 0.9911 - val_loss: 0.0327 - val_accuracy: 0.9932\n",
      "Epoch 16/20\n",
      "25792/25792 [==============================] - 19s 725us/step - loss: 0.0334 - accuracy: 0.9910 - val_loss: 0.0262 - val_accuracy: 0.9934\n",
      "Epoch 17/20\n",
      "25792/25792 [==============================] - 22s 837us/step - loss: 0.0331 - accuracy: 0.9912 - val_loss: 0.0307 - val_accuracy: 0.9915\n",
      "Epoch 18/20\n",
      "25792/25792 [==============================] - 22s 860us/step - loss: 0.0335 - accuracy: 0.9908 - val_loss: 0.0259 - val_accuracy: 0.9933\n",
      "Epoch 19/20\n",
      "25792/25792 [==============================] - 22s 836us/step - loss: 0.0338 - accuracy: 0.9906 - val_loss: 0.0260 - val_accuracy: 0.9934\n",
      "Epoch 20/20\n",
      "25792/25792 [==============================] - 21s 802us/step - loss: 0.0334 - accuracy: 0.9909 - val_loss: 0.0339 - val_accuracy: 0.9903\n",
      "10747/10747 [==============================] - 6s 549us/step - loss: 0.0328 - accuracy: 0.9902\n",
      "overall Accuracy: 99.02\n",
      "[[68578   254]\n",
      " [  580 16559]]\n",
      "accuracy: 0.990299\n",
      "f1 score: 0.993956\n",
      "precision score: 0.991613\n",
      "recall score: 0.996310\n",
      "ROC AUC: 0.981234\n",
      "ROC AUC: 0.981234\n",
      "No Skill: ROC AUC=0.981\n"
     ]
    },
    {
     "data": {
      "image/png": "[encoded data removed]",
      "text/plain": [
       "<Figure size 432x288 with 1 Axes>"
      ]
     },
     "metadata": {
      "needs_background": "light"
     },
     "output_type": "display_data"
    },
    {
     "name": "stdout",
     "output_type": "stream",
     "text": [
      "[0 0 0 ... 1 1 1]\n"
     ]
    },
    {
     "data": {
      "image/png": "[encoded data removed]",
      "text/plain": [
       "<Figure size 432x288 with 1 Axes>"
      ]
     },
     "metadata": {
      "needs_background": "light"
     },
     "output_type": "display_data"
    },
    {
     "data": {
      "image/png": "[encoded data removed]",
      "text/plain": [
       "<Figure size 432x288 with 1 Axes>"
      ]
     },
     "metadata": {
      "needs_background": "light"
     },
     "output_type": "display_data"
    },
    {
     "name": "stdout",
     "output_type": "stream",
     "text": [
      "Epoch 1/20\n",
      "25792/25792 [==============================] - 21s 818us/step - loss: 0.0339 - accuracy: 0.9905 - val_loss: 0.0418 - val_accuracy: 0.9899\n",
      "Epoch 2/20\n",
      "25792/25792 [==============================] - 22s 845us/step - loss: 0.0338 - accuracy: 0.9907 - val_loss: 0.0241 - val_accuracy: 0.9938\n",
      "Epoch 3/20\n",
      "25792/25792 [==============================] - 22s 868us/step - loss: 0.0335 - accuracy: 0.9911 - val_loss: 0.0244 - val_accuracy: 0.9938\n",
      "Epoch 4/20\n",
      "25792/25792 [==============================] - 20s 783us/step - loss: 0.0342 - accuracy: 0.9907 - val_loss: 0.0379 - val_accuracy: 0.9891\n",
      "Epoch 5/20\n",
      "25792/25792 [==============================] - 22s 842us/step - loss: 0.0334 - accuracy: 0.9910 - val_loss: 0.0239 - val_accuracy: 0.9939\n",
      "Epoch 6/20\n",
      "25792/25792 [==============================] - 22s 868us/step - loss: 0.0332 - accuracy: 0.9911 - val_loss: 0.0260 - val_accuracy: 0.9933\n",
      "Epoch 7/20\n",
      "25792/25792 [==============================] - 20s 790us/step - loss: 0.0339 - accuracy: 0.9908 - val_loss: 0.0241 - val_accuracy: 0.9935\n",
      "Epoch 8/20\n",
      "25792/25792 [==============================] - 22s 845us/step - loss: 0.0335 - accuracy: 0.9907 - val_loss: 0.0314 - val_accuracy: 0.9915\n",
      "Epoch 9/20\n",
      "25792/25792 [==============================] - 22s 849us/step - loss: 0.0335 - accuracy: 0.9907 - val_loss: 0.0348 - val_accuracy: 0.9897\n",
      "Epoch 10/20\n",
      "25792/25792 [==============================] - 21s 796us/step - loss: 0.0330 - accuracy: 0.9911 - val_loss: 0.0372 - val_accuracy: 0.9909\n",
      "Epoch 11/20\n",
      "25792/25792 [==============================] - 21s 822us/step - loss: 0.0335 - accuracy: 0.9907 - val_loss: 0.0242 - val_accuracy: 0.9937\n",
      "Epoch 12/20\n",
      "25792/25792 [==============================] - 22s 842us/step - loss: 0.0325 - accuracy: 0.9911 - val_loss: 0.0375 - val_accuracy: 0.9909\n",
      "Epoch 13/20\n",
      "25792/25792 [==============================] - 22s 844us/step - loss: 0.0328 - accuracy: 0.9910 - val_loss: 0.0240 - val_accuracy: 0.9939\n",
      "Epoch 14/20\n",
      "25792/25792 [==============================] - 22s 844us/step - loss: 0.0325 - accuracy: 0.9912 - val_loss: 0.0256 - val_accuracy: 0.9931\n",
      "Epoch 15/20\n",
      "25792/25792 [==============================] - 22s 855us/step - loss: 0.0328 - accuracy: 0.9910 - val_loss: 0.0247 - val_accuracy: 0.9939\n",
      "Epoch 16/20\n",
      "25792/25792 [==============================] - 20s 794us/step - loss: 0.0321 - accuracy: 0.9913 - val_loss: 0.0260 - val_accuracy: 0.9939\n",
      "Epoch 17/20\n",
      "25792/25792 [==============================] - 21s 813us/step - loss: 0.0320 - accuracy: 0.9914 - val_loss: 0.0367 - val_accuracy: 0.9908\n",
      "Epoch 18/20\n",
      "25792/25792 [==============================] - 20s 762us/step - loss: 0.0326 - accuracy: 0.9912 - val_loss: 0.0232 - val_accuracy: 0.9941\n",
      "Epoch 19/20\n",
      "25792/25792 [==============================] - 22s 854us/step - loss: 0.0325 - accuracy: 0.9912 - val_loss: 0.0231 - val_accuracy: 0.9940\n",
      "Epoch 20/20\n",
      "25792/25792 [==============================] - 22s 871us/step - loss: 0.0316 - accuracy: 0.9914 - val_loss: 0.0246 - val_accuracy: 0.9935\n",
      "10747/10747 [==============================] - 6s 552us/step - loss: 0.0250 - accuracy: 0.9933 ETA: 0s - loss: 0\n",
      "overall Accuracy: 99.33\n",
      "[[68409   277]\n",
      " [  283 17002]]\n",
      "accuracy: 0.993486\n",
      "f1 score: 0.995924\n",
      "precision score: 0.995880\n",
      "recall score: 0.995967\n",
      "ROC AUC: 0.989797\n",
      "ROC AUC: 0.989797\n",
      "No Skill: ROC AUC=0.990\n"
     ]
    },
    {
     "data": {
      "image/png": "[encoded data removed]",
      "text/plain": [
       "<Figure size 432x288 with 1 Axes>"
      ]
     },
     "metadata": {
      "needs_background": "light"
     },
     "output_type": "display_data"
    },
    {
     "name": "stdout",
     "output_type": "stream",
     "text": [
      "[0 0 0 ... 1 1 1]\n"
     ]
    },
    {
     "data": {
      "image/png": "[encoded data removed]",
      "text/plain": [
       "<Figure size 432x288 with 1 Axes>"
      ]
     },
     "metadata": {
      "needs_background": "light"
     },
     "output_type": "display_data"
    },
    {
     "data": {
      "image/png": "[encoded data removed]",
      "text/plain": [
       "<Figure size 432x288 with 1 Axes>"
      ]
     },
     "metadata": {
      "needs_background": "light"
     },
     "output_type": "display_data"
    },
    {
     "name": "stdout",
     "output_type": "stream",
     "text": [
      "Epoch 1/20\n",
      "25792/25792 [==============================] - 21s 812us/step - loss: 0.0322 - accuracy: 0.9913 - val_loss: 0.0232 - val_accuracy: 0.9938\n",
      "Epoch 2/20\n",
      "25792/25792 [==============================] - 21s 823us/step - loss: 0.0322 - accuracy: 0.9913 - val_loss: 0.0265 - val_accuracy: 0.9935\n",
      "Epoch 3/20\n",
      "25792/25792 [==============================] - 20s 774us/step - loss: 0.0318 - accuracy: 0.9916 - val_loss: 0.0234 - val_accuracy: 0.9938\n",
      "Epoch 4/20\n",
      "25792/25792 [==============================] - 20s 782us/step - loss: 0.0320 - accuracy: 0.9913 - val_loss: 0.0330 - val_accuracy: 0.9903\n",
      "Epoch 5/20\n",
      "25792/25792 [==============================] - 22s 842us/step - loss: 0.0322 - accuracy: 0.9913 - val_loss: 0.0264 - val_accuracy: 0.9924\n",
      "Epoch 6/20\n",
      "25792/25792 [==============================] - 20s 772us/step - loss: 0.0319 - accuracy: 0.9915 - val_loss: 0.0280 - val_accuracy: 0.9915\n",
      "Epoch 7/20\n",
      "25792/25792 [==============================] - 22s 839us/step - loss: 0.0315 - accuracy: 0.9913 - val_loss: 0.0234 - val_accuracy: 0.9938\n",
      "Epoch 8/20\n",
      "25792/25792 [==============================] - 22s 845us/step - loss: 0.0317 - accuracy: 0.9916 - val_loss: 0.0240 - val_accuracy: 0.9936\n",
      "Epoch 9/20\n",
      "25792/25792 [==============================] - 22s 840us/step - loss: 0.0312 - accuracy: 0.9916 - val_loss: 0.0247 - val_accuracy: 0.9936\n",
      "Epoch 10/20\n",
      "25792/25792 [==============================] - 21s 820us/step - loss: 0.0313 - accuracy: 0.9918 - val_loss: 0.0226 - val_accuracy: 0.9937\n",
      "Epoch 11/20\n",
      "25792/25792 [==============================] - 21s 823us/step - loss: 0.0314 - accuracy: 0.9914 - val_loss: 0.0454 - val_accuracy: 0.9881\n",
      "Epoch 12/20\n",
      "25792/25792 [==============================] - 21s 823us/step - loss: 0.0320 - accuracy: 0.9914 - val_loss: 0.0267 - val_accuracy: 0.9925\n",
      "Epoch 13/20\n",
      "25792/25792 [==============================] - 20s 787us/step - loss: 0.0314 - accuracy: 0.9916 - val_loss: 0.0225 - val_accuracy: 0.9937\n",
      "Epoch 14/20\n",
      "25792/25792 [==============================] - 22s 850us/step - loss: 0.0314 - accuracy: 0.9915 - val_loss: 0.0286 - val_accuracy: 0.9929\n",
      "Epoch 15/20\n",
      "25792/25792 [==============================] - 19s 742us/step - loss: 0.0312 - accuracy: 0.9915 - val_loss: 0.0230 - val_accuracy: 0.9938\n",
      "Epoch 16/20\n",
      "25792/25792 [==============================] - 21s 821us/step - loss: 0.0316 - accuracy: 0.9916 - val_loss: 0.0280 - val_accuracy: 0.9930\n",
      "Epoch 17/20\n",
      "25792/25792 [==============================] - 22s 842us/step - loss: 0.0312 - accuracy: 0.9917 - val_loss: 0.0232 - val_accuracy: 0.9934\n",
      "Epoch 18/20\n",
      "25792/25792 [==============================] - 19s 751us/step - loss: 0.0315 - accuracy: 0.9915 - val_loss: 0.0232 - val_accuracy: 0.9939\n",
      "Epoch 19/20\n",
      "25792/25792 [==============================] - 20s 786us/step - loss: 0.0306 - accuracy: 0.9919 - val_loss: 0.0232 - val_accuracy: 0.9936\n",
      "Epoch 20/20\n",
      "25792/25792 [==============================] - 20s 778us/step - loss: 0.0314 - accuracy: 0.9914 - val_loss: 0.0300 - val_accuracy: 0.9928\n",
      "10747/10747 [==============================] - 6s 527us/step - loss: 0.0303 - accuracy: 0.9928\n",
      "overall Accuracy: 99.28\n",
      "[[68369   519]\n",
      " [  104 16979]]\n",
      "accuracy: 0.992753\n",
      "f1 score: 0.995465\n",
      "precision score: 0.998481\n",
      "recall score: 0.992466\n",
      "ROC AUC: 0.993189\n",
      "ROC AUC: 0.993189\n",
      "No Skill: ROC AUC=0.993\n"
     ]
    },
    {
     "data": {
      "image/png": "[encoded data removed]",
      "text/plain": [
       "<Figure size 432x288 with 1 Axes>"
      ]
     },
     "metadata": {
      "needs_background": "light"
     },
     "output_type": "display_data"
    },
    {
     "name": "stdout",
     "output_type": "stream",
     "text": [
      "[0 0 0 ... 1 1 1]\n"
     ]
    },
    {
     "data": {
      "image/png": "[encoded data removed]",
      "text/plain": [
       "<Figure size 432x288 with 1 Axes>"
      ]
     },
     "metadata": {
      "needs_background": "light"
     },
     "output_type": "display_data"
    },
    {
     "data": {
      "image/png": "[encoded data removed]",
      "text/plain": [
       "<Figure size 432x288 with 1 Axes>"
      ]
     },
     "metadata": {
      "needs_background": "light"
     },
     "output_type": "display_data"
    },
    {
     "name": "stdout",
     "output_type": "stream",
     "text": [
      "Cross Validation ROC - AUC = 0.9884644062390151\n",
      "Cross Validation Precision recall curve - AUC = 0.9945395806746775\n",
      "Cross Validation accuracy = 0.9923928038739362\n",
      "Cross Validation f1 = 0.9952513487878177\n",
      "Cross Validation precision = 0.9955153909876702\n",
      "Cross Validation recall = 0.9949947155661655\n",
      "Cross Validation fpr = [0.        0.0180659 1.       ]\n",
      "Cross Validation tpr = [0.         0.99499472 1.        ]\n",
      "Cross Validation lr_precision = [0.80103232 0.99551539 1.        ]\n",
      "Cross Validation lr_recall = [1.         0.99499472 0.        ]\n"
     ]
    },
    {
     "data": {
      "text/plain": [
       "\"\\nns_fpr, ns_tpr, _ = roc_curve(y_val, predictions)\\nfpr, tpr, _ = roc_curve(y_val, predictions)\\npyplot.plot(ns_fpr, ns_tpr, linestyle='--', label='No Skill')\\npyplot.plot(fpr, tpr, marker='.', label='Bi-HGA')\\n\""
      ]
     },
     "execution_count": 18,
     "metadata": {},
     "output_type": "execute_result"
    }
   ],
   "source": [
    "from sklearn.model_selection import KFold\n",
    "from sklearn.metrics import confusion_matrix\n",
    "from sklearn.metrics import f1_score\n",
    "from sklearn.metrics import precision_score\n",
    "from sklearn.metrics import average_precision_score\n",
    "from sklearn.metrics import recall_score\n",
    "from sklearn.metrics import roc_auc_score\n",
    "from sklearn.metrics import accuracy_score\n",
    "from numpy import arange\n",
    "from sklearn.metrics import roc_curve\n",
    "import matplotlib.pyplot as plt\n",
    "from matplotlib import pyplot \n",
    "from importlib import reload\n",
    "reload(plt)\n",
    "#from matplotlib import pyplot\n",
    "from sklearn.metrics import precision_recall_curve\n",
    "from sklearn.metrics import auc\n",
    "from sklearn.metrics import log_loss\n",
    "\n",
    "kf = KFold(n_splits=4,shuffle=True,random_state=None)\n",
    "\n",
    "scores = []\n",
    "aucs=0\n",
    "aucs1=0\n",
    "f1s=0\n",
    "recalls=0\n",
    "precisions=0\n",
    "accuracys=0\n",
    "lr_precisions=0\n",
    "lr_recalls=0\n",
    "fprs=0\n",
    "tprs=0\n",
    "\n",
    "for train_index, test_index in kf.split(X):\n",
    "    x_train, x_val = X[train_index], X[test_index]\n",
    "    y_train, y_val = y[train_index], y[test_index]\n",
    "    \n",
    "    model.fit(x_train, y_train, epochs=20, batch_size=10, validation_data=(x_val, y_val))\n",
    "    \n",
    "    # make probability predictions with the model\n",
    "    predictions = model.predict(x_val)\n",
    "    # round predictions \n",
    "    predictions = [round(x[0]) for x in predictions]\n",
    "    \n",
    " \n",
    "    # make class predictions with the model\n",
    "   # predictions1 =  model.predict>0.5.astype('int32')\n",
    "    \n",
    "    # evaluate the keras model\n",
    "    _, accuracy = model.evaluate(X, y)\n",
    "    print('overall Accuracy: %.2f' % (accuracy*100))\n",
    "    \n",
    "    print(confusion_matrix(y_val,predictions,labels=[1,0]))\n",
    "    \n",
    "    #No need for threshold setting since getting same value   \n",
    "    accuracy=accuracy_score(y_val,predictions)\n",
    "    print('accuracy: %f' % accuracy)\n",
    "    \n",
    "    f1=f1_score(y_val,predictions)\n",
    "    print('f1 score: %f' % f1)    \n",
    "    \n",
    "    precision=precision_score(y_val,predictions)\n",
    "    print('precision score: %f' % precision)\n",
    "    \n",
    "    recall=recall_score(y_val,predictions)\n",
    "    print('recall score: %f' % recall)\n",
    "    \n",
    "    auc = roc_auc_score(y_val, predictions)\n",
    "    print('ROC AUC: %f' % auc)    \n",
    "    \n",
    "    ns_auc = roc_auc_score(y_val, predictions)\n",
    "    print('ROC AUC: %f' % auc)  \n",
    "    \n",
    "    # summarize scores\n",
    "    print('No Skill: ROC AUC=%.3f' % (ns_auc))\n",
    "    \n",
    "    #https://machinelearningmastery.com/roc-curves-and-precision-recall-curves-for-classification-in-python/#:~:text=with%20sample%20code).-,ROC%20Curves%20and%20AUC%20in%20Python,probabilities%20for%20the%201%20class.\n",
    "    # calculate roc curves\n",
    "    ns_fpr, ns_tpr, _ = roc_curve(y_val, predictions)\n",
    "    fpr, tpr, _ = roc_curve(y_val, predictions)\n",
    "    pyplot.plot(ns_fpr, ns_tpr, linestyle='--', label='No Skill')\n",
    "    pyplot.plot(fpr, tpr, marker='.', label='Bi-HGA')\n",
    "\n",
    "    # axis labels\n",
    "    pyplot.xlabel('False Positive Rate')\n",
    "    pyplot.ylabel('True Positive Rate')\n",
    "    # show the legend\n",
    "    pyplot.legend()\n",
    "    # show the plot\n",
    "    pyplot.show()\n",
    "\n",
    "    print(y_val)\n",
    "    #https://www.kaggle.com/vedbharti/classification-precision-recall-vs-roc-plot\n",
    "    auc1=average_precision_score(y_val, predictions)\n",
    "     \n",
    "    lr_precision, lr_recall, _ = precision_recall_curve(y_val, predictions)\n",
    "    #lr_f1, lr_auc = f1_score(y_val, predictions1), auc(lr_recall, lr_precision)\n",
    "    # summarize scores\n",
    "    #print('Logistic: f1=%.3f auc=%.3f' % (lr_f1, lr_auc))\n",
    "    # plot the precision-recall curves\n",
    "    #no_skill = len(testy[testy==1]) / len(testy)\n",
    "    #pyplot.plot([0, 1], [no_skill, no_skill], linestyle='--', label='No Skill')\n",
    "    pyplot.plot(lr_recall, lr_precision, marker='.', label='Bi-HGA')\n",
    "    # axis labels\n",
    "    pyplot.xlabel('Recall')\n",
    "    pyplot.ylabel('Precision')\n",
    "    # show the legend\n",
    "    pyplot.legend()\n",
    "    # show the plot\n",
    "    pyplot.show()\n",
    "   \n",
    "       \n",
    "  \n",
    "      \n",
    "    # plot impact of logloss with imbalanced datasets\n",
    "    from sklearn.metrics import log_loss\n",
    "    from matplotlib import pyplot\n",
    "    from numpy import array\n",
    "    # define an imbalanced dataset\n",
    "    testy = [0 for x in range(100)] + [1 for x in range(10)]\n",
    "    # loss for predicting different fixed probability values\n",
    "    predictions = [0.0, 0.1, 0.2, 0.3, 0.4, 0.5, 0.6, 0.7, 0.8, 0.9, 1.0]\n",
    "    losses = [log_loss(y_val, [y for x in range(len(y_val))]) for y in predictions]\n",
    "    # plot predictions vs loss\n",
    "    pyplot.plot(predictions, losses)\n",
    "    pyplot.show()\n",
    "    \n",
    "    aucs += auc\n",
    "    aucs1 += auc1\n",
    "    accuracys += accuracy\n",
    "    f1s += f1\n",
    "    precisions += precision\n",
    "    recalls += recall\n",
    "    ns_fpr+=ns_fpr\n",
    "    ns_tpr+=ns_tpr\n",
    "    fprs+=fpr\n",
    "    tprs+=tpr\n",
    "    lr_recalls+=lr_recall\n",
    "    lr_precisions+=lr_precision\n",
    "print(\"Cross Validation ROC - AUC = {}\".format(aucs/4))\n",
    "print(\"Cross Validation Precision recall curve - AUC = {}\".format(aucs1/4))\n",
    "print(\"Cross Validation accuracy = {}\".format(accuracys/4))\n",
    "print(\"Cross Validation f1 = {}\".format(f1s/4))\n",
    "print(\"Cross Validation precision = {}\".format(precisions/4))\n",
    "print(\"Cross Validation recall = {}\".format(recalls/4))\n",
    "print(\"Cross Validation fpr = {}\".format(fprs/4))\n",
    "print(\"Cross Validation tpr = {}\".format(tprs/4))\n",
    "print(\"Cross Validation lr_precision = {}\".format(lr_precisions/4))\n",
    "print(\"Cross Validation lr_recall = {}\".format(lr_recalls/4))\n",
    "'''\n",
    "ns_fpr, ns_tpr, _ = roc_curve(y_val, predictions)\n",
    "fpr, tpr, _ = roc_curve(y_val, predictions)\n",
    "pyplot.plot(ns_fpr, ns_tpr, linestyle='--', label='No Skill')\n",
    "pyplot.plot(fpr, tpr, marker='.', label='Bi-HGA')\n",
    "'''"
   ]
  },
  {
   "cell_type": "code",
   "execution_count": 19,
   "metadata": {},
   "outputs": [
    {
     "name": "stdout",
     "output_type": "stream",
     "text": [
      "0h 28m 48s\n"
     ]
    }
   ],
   "source": [
    "end = datetime.datetime.now()\n",
    "\n",
    "diff = (end - start)\n",
    "\n",
    "datetime.timedelta(seconds=10, microseconds=885206)\n",
    "\n",
    "diff_seconds = int(diff.total_seconds())\n",
    "\n",
    "minute_seconds, seconds = divmod(diff_seconds, 60)\n",
    "hours, minutes = divmod(minute_seconds, 60)\n",
    "hms = f\"{hours}h {minutes}m {seconds}s\"\n",
    "\n",
    "'0h 0m 10s'\n",
    "print(hms) "
   ]
  }
 ],
 "metadata": {
  "kernelspec": {
   "display_name": "Python 3 (ipykernel)",
   "language": "python",
   "name": "python3"
  },
  "language_info": {
   "codemirror_mode": {
    "name": "ipython",
    "version": 3
   },
   "file_extension": ".py",
   "mimetype": "text/x-python",
   "name": "python",
   "nbconvert_exporter": "python",
   "pygments_lexer": "ipython3",
   "version": "3.11.4"
  }
 },
 "nbformat": 4,
 "nbformat_minor": 4
}
