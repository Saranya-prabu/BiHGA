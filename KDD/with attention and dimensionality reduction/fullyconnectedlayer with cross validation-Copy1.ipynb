{
 "cells": [
  {
   "cell_type": "code",
   "execution_count": 1,
   "metadata": {},
   "outputs": [],
   "source": [
    "#https://machinelearningmastery.com/tutorial-first-neural-network-python-keras/\n",
    "# first neural network with keras tutorial\n",
    "from numpy import loadtxt\n",
    "from keras.models import Sequential\n",
    "from keras.layers import Dense\n",
    "\n",
    "import numpy as np\n",
    "import pandas as pd\n",
    "\n",
    "from sklearn import preprocessing\n",
    "from sklearn.model_selection import train_test_split\n"
   ]
  },
  {
   "cell_type": "code",
   "execution_count": 2,
   "metadata": {},
   "outputs": [],
   "source": [
    "csv_1 = pd.read_csv(r\"C:\\Users\\data science\\Final bihga\\KDD\\with attention and dimensionality reduction\\attentionnormalresult.csv\") \n",
    "  \n",
    "# changing cols with rename() \n",
    "new_data = csv_1.rename(columns = {0: \"Feature1\",\n",
    "                                  1: \"Feature2\", \n",
    "                                  2: \"Feature3\", \n",
    "                                  3: \"Feature4\",\n",
    "                                  4: \"Feature5\",\n",
    "                                  5: \"Feature6\",\n",
    "                                  6: \"Feature7\",\n",
    "                                  7: \"Feature8\",\n",
    "                                  8: \"Feature9\",\n",
    "                                  9: \"Feature10\",\n",
    "                                  10: \"Feature11\",\n",
    "                                  11: \"Feature12\",\n",
    "                                  12: \"Feature13\",\n",
    "                                  13: \"Feature14\",\n",
    "                                  14: \"Feature15\",\n",
    "                                  15: \"Feature16\",\n",
    "                                  16: \"Feature17\",\n",
    "                                  17: \"Feature18\",\n",
    "                                  18: \"Feature19\", \n",
    "                                  19: \"Feature20\", \n",
    "                                  20: \"Label\"}) \n",
    "  \n",
    "# changing columns using .columns() \n",
    "csv_1.columns = ['Feature1', 'Feature2', 'Feature3', 'Feature4', \n",
    "                'Feature5', 'Feature6', 'Feature7', 'Feature8',\n",
    "                 'Feature9', 'Feature10', 'Feature11', 'Feature12',\n",
    "                 'Feature13', 'Feature14', 'Feature15', 'Feature16',\n",
    "                 'Feature17', 'Feature18', 'Feature19', 'Feature20',\"Label\"] \n",
    "\n",
    "csv_1.to_csv(\"attentionnormalresult.csv\", index=None)"
   ]
  },
  {
   "cell_type": "code",
   "execution_count": 3,
   "metadata": {},
   "outputs": [],
   "source": [
    "csv_2 = pd.read_csv(r\"C:\\Users\\data science\\Final bihga\\KDD\\with attention and dimensionality reduction\\attentionabnormalresult.csv\") \n",
    "  \n",
    "# changing cols with rename() \n",
    "new_data = csv_2.rename(columns = {0: \"Feature1\",\n",
    "                                  1: \"Feature2\", \n",
    "                                  2: \"Feature3\", \n",
    "                                  3: \"Feature4\",\n",
    "                                  4: \"Feature5\",\n",
    "                                  5: \"Feature6\",\n",
    "                                  6: \"Feature7\",\n",
    "                                  7: \"Feature8\",\n",
    "                                  8: \"Feature9\",\n",
    "                                  9: \"Feature10\",\n",
    "                                  10: \"Feature11\",\n",
    "                                  11: \"Feature12\",\n",
    "                                  12: \"Feature13\",\n",
    "                                  13: \"Feature14\",\n",
    "                                  14: \"Feature15\",\n",
    "                                  15: \"Feature16\",\n",
    "                                  16: \"Feature17\",\n",
    "                                  17: \"Feature18\",\n",
    "                                  18: \"Feature19\", \n",
    "                                  19: \"Feature20\", \n",
    "                                  20: \"Label\"}) \n",
    "  \n",
    "# changing columns using .columns() \n",
    "csv_2.columns = ['Feature1', 'Feature2', 'Feature3', 'Feature4', \n",
    "                'Feature5', 'Feature6', 'Feature7', 'Feature8',\n",
    "                 'Feature9', 'Feature10', 'Feature11', 'Feature12',\n",
    "                 'Feature13', 'Feature14', 'Feature15', 'Feature16',\n",
    "                 'Feature17', 'Feature18', 'Feature19', 'Feature20',\"Label\"] \n",
    "  \n",
    "\n",
    "csv_2.to_csv(\"attentionabnormalresult.csv\", index=None)"
   ]
  },
  {
   "cell_type": "code",
   "execution_count": 4,
   "metadata": {
    "scrolled": true
   },
   "outputs": [
    {
     "name": "stdout",
     "output_type": "stream",
     "text": [
      "       Feature1  Feature2  Feature3  Feature4  Feature5  Feature6  Feature7  \\\n",
      "0      0.051485  0.050637  0.049686  0.049686  0.049686  0.050005  0.049686   \n",
      "1      0.049191  0.049191  0.049191  0.049191  0.049191  0.049191  0.049191   \n",
      "2      0.051593  0.049907  0.049728  0.049728  0.049728  0.050205  0.049728   \n",
      "3      0.049399  0.052848  0.049399  0.049399  0.049492  0.049399  0.049399   \n",
      "4      0.051491  0.052634  0.049573  0.049573  0.049573  0.050105  0.049573   \n",
      "...         ...       ...       ...       ...       ...       ...       ...   \n",
      "39993  0.049813  0.049813  0.049813  0.049813  0.049813  0.049813  0.049813   \n",
      "39994  0.048809  0.048809  0.048809  0.048809  0.048809  0.054873  0.048809   \n",
      "39995  0.048809  0.048809  0.048809  0.048809  0.048809  0.054873  0.048809   \n",
      "39996  0.049604  0.049604  0.049604  0.049604  0.049604  0.049604  0.049604   \n",
      "39997  0.049816  0.049816  0.049816  0.049816  0.049816  0.049816  0.049816   \n",
      "\n",
      "       Feature8  Feature9  Feature10  ...  Feature12  Feature13  Feature14  \\\n",
      "0      0.051933  0.049686   0.049686  ...   0.049686   0.049686   0.049686   \n",
      "1      0.055153  0.059409   0.049191  ...   0.049191   0.049191   0.049191   \n",
      "2      0.050905  0.049728   0.051466  ...   0.049728   0.049728   0.049728   \n",
      "3      0.051952  0.054299   0.049399  ...   0.049399   0.049399   0.049399   \n",
      "4      0.050572  0.049573   0.051596  ...   0.049573   0.049573   0.049573   \n",
      "...         ...       ...        ...  ...        ...        ...        ...   \n",
      "39993  0.052286  0.049813   0.049813  ...   0.049813   0.049813   0.049813   \n",
      "39994  0.048809  0.066568   0.048809  ...   0.048809   0.048809   0.048809   \n",
      "39995  0.048809  0.066568   0.048809  ...   0.048809   0.048809   0.048809   \n",
      "39996  0.050758  0.049604   0.049604  ...   0.054492   0.049604   0.049604   \n",
      "39997  0.052105  0.049816   0.049816  ...   0.049816   0.049816   0.049816   \n",
      "\n",
      "       Feature15  Feature16  Feature17  Feature18  Feature19  Feature20  Label  \n",
      "0       0.050646   0.049686   0.049686   0.049686   0.049686   0.049686      0  \n",
      "1       0.049191   0.049191   0.049191   0.049191   0.049191   0.049191      0  \n",
      "2       0.049728   0.049728   0.049728   0.049728   0.049728   0.049728      0  \n",
      "3       0.049399   0.050422   0.049399   0.049399   0.049399   0.049399      0  \n",
      "4       0.049573   0.049573   0.049573   0.049573   0.049573   0.049573      0  \n",
      "...          ...        ...        ...        ...        ...        ...    ...  \n",
      "39993   0.051073   0.049813   0.049813   0.049813   0.049813   0.049813      1  \n",
      "39994   0.048809   0.048809   0.048809   0.048809   0.048809   0.048809      1  \n",
      "39995   0.048809   0.048809   0.048809   0.048809   0.048809   0.048809      1  \n",
      "39996   0.051483   0.049604   0.049604   0.049604   0.049604   0.049604      1  \n",
      "39997   0.051214   0.049816   0.049816   0.049816   0.049816   0.049816      1  \n",
      "\n",
      "[79996 rows x 21 columns]\n"
     ]
    }
   ],
   "source": [
    "merged = csv_1.merge(csv_2,on=\"Label\")\n",
    "\n",
    "merged.to_csv(\"attention1.csv\", index=False)\n",
    "#result = pd.concat([csv_1, csv_2], axis=1)\n",
    "out = csv_1.append(csv_2)\n",
    "print(out)\n",
    "out.to_csv(\"attention1.csv\", index=False)"
   ]
  },
  {
   "cell_type": "code",
   "execution_count": 5,
   "metadata": {},
   "outputs": [],
   "source": [
    "df = pd.read_csv(\"attention1.csv\",sep=\",\", index_col=None)"
   ]
  },
  {
   "cell_type": "code",
   "execution_count": 6,
   "metadata": {},
   "outputs": [],
   "source": [
    "X=df.drop(['Label'], axis=1).values \n",
    "y=df['Label'].values"
   ]
  },
  {
   "cell_type": "code",
   "execution_count": 7,
   "metadata": {},
   "outputs": [
    {
     "name": "stdout",
     "output_type": "stream",
     "text": [
      "55997 Training sequences (55997, 20)\n",
      "23999 Validation sequences (23999, 20)\n",
      "55997 Training sequences (55997,)\n"
     ]
    }
   ],
   "source": [
    "from sklearn.model_selection import train_test_split\n",
    "\n",
    "x_train,x_val,y_train,y_val = train_test_split(X,y,train_size=0.70, random_state=2)\n",
    "print(len(x_train), \"Training sequences\",x_train.shape)\n",
    "print(len(x_val), \"Validation sequences\",x_val.shape)\n",
    "print(len(y_train), \"Training sequences\",y_train.shape)"
   ]
  },
  {
   "cell_type": "code",
   "execution_count": 8,
   "metadata": {},
   "outputs": [],
   "source": [
    "\n",
    "# define the keras model\n",
    "model = Sequential()\n",
    "model.add(Dense(12, input_dim=20, activation='relu'))\n",
    "model.add(Dense(8, activation='relu'))\n",
    "model.add(Dense(1, activation='sigmoid'))"
   ]
  },
  {
   "cell_type": "code",
   "execution_count": 9,
   "metadata": {},
   "outputs": [],
   "source": [
    "# compile the keras model\n",
    "model.compile(loss='binary_crossentropy', optimizer='adam', metrics=['accuracy'])"
   ]
  },
  {
   "cell_type": "code",
   "execution_count": 10,
   "metadata": {},
   "outputs": [
    {
     "name": "stdout",
     "output_type": "stream",
     "text": [
      "Model: \"sequential\"\n",
      "_________________________________________________________________\n",
      "Layer (type)                 Output Shape              Param #   \n",
      "=================================================================\n",
      "dense (Dense)                (None, 12)                252       \n",
      "_________________________________________________________________\n",
      "dense_1 (Dense)              (None, 8)                 104       \n",
      "_________________________________________________________________\n",
      "dense_2 (Dense)              (None, 1)                 9         \n",
      "=================================================================\n",
      "Total params: 365\n",
      "Trainable params: 365\n",
      "Non-trainable params: 0\n",
      "_________________________________________________________________\n"
     ]
    }
   ],
   "source": [
    "model.summary()"
   ]
  },
  {
   "cell_type": "raw",
   "metadata": {},
   "source": [
    "import time, datetime\n",
    "\n",
    "start = datetime.datetime.now()\n",
    "time.sleep(10)"
   ]
  },
  {
   "cell_type": "raw",
   "metadata": {},
   "source": [
    "# fit the keras model on the dataset\n",
    "history =model.fit(x_train, y_train, epochs=20, batch_size=10, validation_data=(x_val, y_val))"
   ]
  },
  {
   "cell_type": "raw",
   "metadata": {},
   "source": [
    "end = datetime.datetime.now()\n",
    "\n",
    "diff = (end - start)\n",
    "\n",
    "datetime.timedelta(seconds=10, microseconds=885206)\n",
    "\n",
    "diff_seconds = int(diff.total_seconds())\n",
    "\n",
    "minute_seconds, seconds = divmod(diff_seconds, 60)\n",
    "hours, minutes = divmod(minute_seconds, 60)\n",
    "hms = f\"{hours}h {minutes}m {seconds}s\"\n",
    "\n",
    "'0h 0m 10s'\n",
    "print(hms) "
   ]
  },
  {
   "cell_type": "raw",
   "metadata": {},
   "source": [
    "# evaluate the keras model\n",
    "_, accuracy = model.evaluate(X, y)\n",
    "print('Accuracy: %.2f' % (accuracy*100))"
   ]
  },
  {
   "cell_type": "raw",
   "metadata": {},
   "source": [
    "#https://machinelearningmastery.com/how-to-calculate-precision-recall-f1-and-more-for-deep-learning-models/\n",
    "import tensorflow as tf\n",
    "\n",
    "from matplotlib import pyplot\n",
    "# plot loss during training\n",
    "pyplot.subplot(211)\n",
    "pyplot.title('Loss')\n",
    "pyplot.plot(history.history['loss'], label='train')\n",
    "pyplot.plot(history.history['val_loss'], label='test')\n",
    "pyplot.legend()\n",
    "# plot accuracy during training\n",
    "pyplot.subplot(212)\n",
    "pyplot.title('Accuracy')\n",
    "pyplot.plot(history.history['accuracy'], label='train')\n",
    "pyplot.plot(history.history['val_accuracy'], label='test')\n",
    "pyplot.legend()\n",
    "pyplot.show()"
   ]
  },
  {
   "cell_type": "raw",
   "metadata": {},
   "source": [
    "# make probability predictions with the model\n",
    "predictions = model.predict(x_val)\n",
    "# round predictions \n",
    "rounded = [round(x[0]) for x in predictions]"
   ]
  },
  {
   "cell_type": "raw",
   "metadata": {},
   "source": [
    "# make class predictions with the model\n",
    "predictions = model.predict_classes(x_val)"
   ]
  },
  {
   "cell_type": "raw",
   "metadata": {},
   "source": [
    "#https://towardsdatascience.com/common-classification-model-evaluation-metrics-2ba0a7a7436e\n",
    "from sklearn.metrics import confusion_matrix\n",
    "print(confusion_matrix(y_val,predictions,labels=[1,0]))\n",
    "import seaborn as sns\n",
    "import matplotlib.pyplot as plt\n",
    "sns.heatmap(confusion_matrix(y_val,predictions),annot=True,lw =2,cbar=False)\n",
    "plt.ylabel(\"True Values\")\n",
    "plt.xlabel(\"Predicted Values\")\n",
    "plt.title(\"CONFUSSION MATRIX VISUALIZATION\")\n",
    "plt.show()"
   ]
  },
  {
   "cell_type": "raw",
   "metadata": {},
   "source": [
    "from sklearn.metrics import f1_score\n",
    "f1_score(y_val,predictions)"
   ]
  },
  {
   "cell_type": "raw",
   "metadata": {},
   "source": [
    "from sklearn.metrics import precision_score\n",
    "precision_score(y_val,predictions)"
   ]
  },
  {
   "cell_type": "raw",
   "metadata": {},
   "source": [
    "from sklearn.metrics import recall_score\n",
    "recall_score(y_val,predictions)"
   ]
  },
  {
   "cell_type": "raw",
   "metadata": {},
   "source": [
    "from sklearn.metrics import roc_auc_score\n",
    "roc_auc_score(y_val,predictions)"
   ]
  },
  {
   "cell_type": "raw",
   "metadata": {},
   "source": [
    "# summarize the first 5 cases\n",
    "for i in range(5):\n",
    "   print('%s => %d (expected %d)' % (X[i].tolist(), predictions[i], y[i]))"
   ]
  },
  {
   "cell_type": "raw",
   "metadata": {},
   "source": [
    "# predict probabilities for test set\n",
    "yhat_probs = model.predict(x_val, verbose=0)\n",
    "yhat_classes=np.argmax(yhat_probs,axis=1)\n",
    "# predict crisp classes for test set\n",
    "#yhat_classes = model.predict_classes(x_val, verbose=0)\n",
    "# reduce to 1d array\n",
    "yhat_probs = yhat_probs[:, 0]\n",
    "#yhat_classes = yhat_classes[:, 0]"
   ]
  },
  {
   "cell_type": "code",
   "execution_count": 11,
   "metadata": {},
   "outputs": [],
   "source": [
    "import time, datetime\n",
    "\n",
    "start = datetime.datetime.now()\n",
    "time.sleep(10)"
   ]
  },
  {
   "cell_type": "code",
   "execution_count": 15,
   "metadata": {
    "scrolled": true
   },
   "outputs": [
    {
     "name": "stdout",
     "output_type": "stream",
     "text": [
      "Epoch 1/20\n",
      "6000/6000 [==============================] - 5s 794us/step - loss: 0.0895 - accuracy: 0.9791 - val_loss: 0.1172 - val_accuracy: 0.9784\n",
      "Epoch 2/20\n",
      "6000/6000 [==============================] - 5s 820us/step - loss: 0.0895 - accuracy: 0.9788 - val_loss: 0.0908 - val_accuracy: 0.9845\n",
      "Epoch 3/20\n",
      "6000/6000 [==============================] - 5s 818us/step - loss: 0.0889 - accuracy: 0.9795 - val_loss: 0.0787 - val_accuracy: 0.9828\n",
      "Epoch 4/20\n",
      "6000/6000 [==============================] - 5s 829us/step - loss: 0.0870 - accuracy: 0.9801 - val_loss: 0.1017 - val_accuracy: 0.9841\n",
      "Epoch 5/20\n",
      "6000/6000 [==============================] - 5s 779us/step - loss: 0.0878 - accuracy: 0.9804 - val_loss: 0.0817 - val_accuracy: 0.9859\n",
      "Epoch 6/20\n",
      "6000/6000 [==============================] - 5s 797us/step - loss: 0.0883 - accuracy: 0.9801 - val_loss: 0.0823 - val_accuracy: 0.9857\n",
      "Epoch 7/20\n",
      "6000/6000 [==============================] - 5s 825us/step - loss: 0.0860 - accuracy: 0.9807 - val_loss: 0.1018 - val_accuracy: 0.9864\n",
      "Epoch 8/20\n",
      "6000/6000 [==============================] - 5s 809us/step - loss: 0.0872 - accuracy: 0.9805 - val_loss: 0.0866 - val_accuracy: 0.9810\n",
      "Epoch 9/20\n",
      "6000/6000 [==============================] - 5s 795us/step - loss: 0.0856 - accuracy: 0.9802 - val_loss: 0.1148 - val_accuracy: 0.9843\n",
      "Epoch 10/20\n",
      "6000/6000 [==============================] - 5s 821us/step - loss: 0.0867 - accuracy: 0.9800 - val_loss: 0.0781 - val_accuracy: 0.9859\n",
      "Epoch 11/20\n",
      "6000/6000 [==============================] - 5s 844us/step - loss: 0.0851 - accuracy: 0.9813 - val_loss: 0.0823 - val_accuracy: 0.9826\n",
      "Epoch 12/20\n",
      "6000/6000 [==============================] - 5s 835us/step - loss: 0.0854 - accuracy: 0.9813 - val_loss: 0.0825 - val_accuracy: 0.9826\n",
      "Epoch 13/20\n",
      "6000/6000 [==============================] - 5s 818us/step - loss: 0.0858 - accuracy: 0.9814 - val_loss: 0.0864 - val_accuracy: 0.9840\n",
      "Epoch 14/20\n",
      "6000/6000 [==============================] - 5s 791us/step - loss: 0.0881 - accuracy: 0.9804 - val_loss: 0.0859 - val_accuracy: 0.9837\n",
      "Epoch 15/20\n",
      "6000/6000 [==============================] - 5s 805us/step - loss: 0.0851 - accuracy: 0.9814 - val_loss: 0.0825 - val_accuracy: 0.9831\n",
      "Epoch 16/20\n",
      "6000/6000 [==============================] - 5s 823us/step - loss: 0.0861 - accuracy: 0.9810 - val_loss: 0.0773 - val_accuracy: 0.9872\n",
      "Epoch 17/20\n",
      "6000/6000 [==============================] - 5s 798us/step - loss: 0.0852 - accuracy: 0.9817 - val_loss: 0.1048 - val_accuracy: 0.9865\n",
      "Epoch 18/20\n",
      "6000/6000 [==============================] - 5s 820us/step - loss: 0.0858 - accuracy: 0.9807 - val_loss: 0.0866 - val_accuracy: 0.9821\n",
      "Epoch 19/20\n",
      "6000/6000 [==============================] - 5s 802us/step - loss: 0.0839 - accuracy: 0.9819 - val_loss: 0.0806 - val_accuracy: 0.9872\n",
      "Epoch 20/20\n",
      "6000/6000 [==============================] - 5s 777us/step - loss: 0.0824 - accuracy: 0.9824 - val_loss: 0.0777 - val_accuracy: 0.9843\n",
      "2500/2500 [==============================] - 1s 551us/step - loss: 0.0717 - accuracy: 0.9851\n",
      "overall Accuracy: 98.51\n",
      "[[9831  178]\n",
      " [ 135 9855]]\n",
      "accuracy: 0.984349\n",
      "f1 score: 0.984330\n",
      "precision score: 0.986454\n",
      "recall score: 0.982216\n",
      "ROC AUC: 0.984351\n",
      "ROC AUC: 0.984351\n",
      "No Skill: ROC AUC=0.984\n"
     ]
    },
    {
     "data": {
      "image/png": "[encoded data removed]",
      "text/plain": [
       "<Figure size 432x288 with 1 Axes>"
      ]
     },
     "metadata": {
      "needs_background": "light"
     },
     "output_type": "display_data"
    },
    {
     "name": "stdout",
     "output_type": "stream",
     "text": [
      "[0 0 0 ... 1 1 1]\n"
     ]
    },
    {
     "data": {
      "image/png": "[encoded data removed]",
      "text/plain": [
       "<Figure size 432x288 with 1 Axes>"
      ]
     },
     "metadata": {
      "needs_background": "light"
     },
     "output_type": "display_data"
    },
    {
     "name": "stdout",
     "output_type": "stream",
     "text": [
      "Epoch 1/20\n",
      "6000/6000 [==============================] - 5s 783us/step - loss: 0.0853 - accuracy: 0.9815 - val_loss: 0.0697 - val_accuracy: 0.9854\n",
      "Epoch 2/20\n",
      "6000/6000 [==============================] - 5s 817us/step - loss: 0.0845 - accuracy: 0.9825 - val_loss: 0.1042 - val_accuracy: 0.9748\n",
      "Epoch 3/20\n",
      "6000/6000 [==============================] - 5s 811us/step - loss: 0.0858 - accuracy: 0.9817 - val_loss: 0.0733 - val_accuracy: 0.9823\n",
      "Epoch 4/20\n",
      "6000/6000 [==============================] - 5s 820us/step - loss: 0.0844 - accuracy: 0.9820 - val_loss: 0.0731 - val_accuracy: 0.9871\n",
      "Epoch 5/20\n",
      "6000/6000 [==============================] - 5s 808us/step - loss: 0.0849 - accuracy: 0.9821 - val_loss: 0.0794 - val_accuracy: 0.9870\n",
      "Epoch 6/20\n",
      "6000/6000 [==============================] - 5s 832us/step - loss: 0.0845 - accuracy: 0.9817 - val_loss: 0.0738 - val_accuracy: 0.9833\n",
      "Epoch 7/20\n",
      "6000/6000 [==============================] - 5s 828us/step - loss: 0.0831 - accuracy: 0.9822 - val_loss: 0.0671 - val_accuracy: 0.9873\n",
      "Epoch 8/20\n",
      "6000/6000 [==============================] - 5s 829us/step - loss: 0.0820 - accuracy: 0.9827 - val_loss: 0.0671 - val_accuracy: 0.9872\n",
      "Epoch 9/20\n",
      "6000/6000 [==============================] - 5s 825us/step - loss: 0.0819 - accuracy: 0.9828 - val_loss: 0.0679 - val_accuracy: 0.9859\n",
      "Epoch 10/20\n",
      "6000/6000 [==============================] - 5s 777us/step - loss: 0.0839 - accuracy: 0.9822 - val_loss: 0.0984 - val_accuracy: 0.9802\n",
      "Epoch 11/20\n",
      "6000/6000 [==============================] - 5s 825us/step - loss: 0.0819 - accuracy: 0.9827 - val_loss: 0.0701 - val_accuracy: 0.9849\n",
      "Epoch 12/20\n",
      "6000/6000 [==============================] - 5s 823us/step - loss: 0.0831 - accuracy: 0.9824 - val_loss: 0.0717 - val_accuracy: 0.9843\n",
      "Epoch 13/20\n",
      "6000/6000 [==============================] - 5s 826us/step - loss: 0.0828 - accuracy: 0.9824 - val_loss: 0.0681 - val_accuracy: 0.9857\n",
      "Epoch 14/20\n",
      "6000/6000 [==============================] - 5s 824us/step - loss: 0.0817 - accuracy: 0.9825 - val_loss: 0.0677 - val_accuracy: 0.9873\n",
      "Epoch 15/20\n",
      "6000/6000 [==============================] - 5s 830us/step - loss: 0.0813 - accuracy: 0.9822 - val_loss: 0.0668 - val_accuracy: 0.9873\n",
      "Epoch 16/20\n",
      "6000/6000 [==============================] - 5s 832us/step - loss: 0.0787 - accuracy: 0.9835 - val_loss: 0.0968 - val_accuracy: 0.9762\n",
      "Epoch 17/20\n",
      "6000/6000 [==============================] - 5s 823us/step - loss: 0.0815 - accuracy: 0.9824 - val_loss: 0.1108 - val_accuracy: 0.9811\n",
      "Epoch 18/20\n",
      "6000/6000 [==============================] - 5s 797us/step - loss: 0.0782 - accuracy: 0.9828 - val_loss: 0.0689 - val_accuracy: 0.9872\n",
      "Epoch 19/20\n",
      "6000/6000 [==============================] - 5s 801us/step - loss: 0.0783 - accuracy: 0.9834 - val_loss: 0.0745 - val_accuracy: 0.9870\n",
      "Epoch 20/20\n",
      "6000/6000 [==============================] - 5s 829us/step - loss: 0.0780 - accuracy: 0.9832 - val_loss: 0.0822 - val_accuracy: 0.9868\n",
      "2500/2500 [==============================] - 1s 549us/step - loss: 0.0809 - accuracy: 0.9871\n",
      "overall Accuracy: 98.71\n",
      "[[10067   174]\n",
      " [   89  9669]]\n",
      "accuracy: 0.986849\n",
      "f1 score: 0.987106\n",
      "precision score: 0.991237\n",
      "recall score: 0.983009\n",
      "ROC AUC: 0.986944\n",
      "ROC AUC: 0.986944\n",
      "No Skill: ROC AUC=0.987\n"
     ]
    },
    {
     "data": {
      "image/png": "[encoded data removed]",
      "text/plain": [
       "<Figure size 432x288 with 1 Axes>"
      ]
     },
     "metadata": {
      "needs_background": "light"
     },
     "output_type": "display_data"
    },
    {
     "name": "stdout",
     "output_type": "stream",
     "text": [
      "[0 0 0 ... 1 1 1]\n"
     ]
    },
    {
     "data": {
      "image/png": "[encoded data removed]",
      "text/plain": [
       "<Figure size 432x288 with 1 Axes>"
      ]
     },
     "metadata": {
      "needs_background": "light"
     },
     "output_type": "display_data"
    },
    {
     "name": "stdout",
     "output_type": "stream",
     "text": [
      "Epoch 1/20\n",
      "6000/6000 [==============================] - 5s 798us/step - loss: 0.0794 - accuracy: 0.9830 - val_loss: 0.0682 - val_accuracy: 0.9847\n",
      "Epoch 2/20\n",
      "6000/6000 [==============================] - 5s 823us/step - loss: 0.0786 - accuracy: 0.9831 - val_loss: 0.0611 - val_accuracy: 0.9878\n",
      "Epoch 3/20\n",
      "6000/6000 [==============================] - 5s 828us/step - loss: 0.0788 - accuracy: 0.9825 - val_loss: 0.0627 - val_accuracy: 0.9874\n",
      "Epoch 4/20\n",
      "6000/6000 [==============================] - 5s 797us/step - loss: 0.0783 - accuracy: 0.9829 - val_loss: 0.0978 - val_accuracy: 0.9796\n",
      "Epoch 5/20\n",
      "6000/6000 [==============================] - 5s 813us/step - loss: 0.0791 - accuracy: 0.9830 - val_loss: 0.0625 - val_accuracy: 0.9887\n",
      "Epoch 6/20\n",
      "6000/6000 [==============================] - 5s 807us/step - loss: 0.0777 - accuracy: 0.9833 - val_loss: 0.0697 - val_accuracy: 0.9851\n",
      "Epoch 7/20\n",
      "6000/6000 [==============================] - 5s 814us/step - loss: 0.0779 - accuracy: 0.9832 - val_loss: 0.0827 - val_accuracy: 0.9814\n",
      "Epoch 8/20\n",
      "6000/6000 [==============================] - 5s 801us/step - loss: 0.0779 - accuracy: 0.9829 - val_loss: 0.0601 - val_accuracy: 0.9888\n",
      "Epoch 9/20\n",
      "6000/6000 [==============================] - 5s 800us/step - loss: 0.0788 - accuracy: 0.9826 - val_loss: 0.0578 - val_accuracy: 0.9888\n",
      "Epoch 10/20\n",
      "6000/6000 [==============================] - 5s 834us/step - loss: 0.0763 - accuracy: 0.9834 - val_loss: 0.0560 - val_accuracy: 0.9893\n",
      "Epoch 11/20\n",
      "6000/6000 [==============================] - 5s 788us/step - loss: 0.0770 - accuracy: 0.9831 - val_loss: 0.0623 - val_accuracy: 0.9879\n",
      "Epoch 12/20\n",
      "6000/6000 [==============================] - 5s 797us/step - loss: 0.0760 - accuracy: 0.9833 - val_loss: 0.0658 - val_accuracy: 0.9879\n",
      "Epoch 13/20\n",
      "6000/6000 [==============================] - 5s 833us/step - loss: 0.0752 - accuracy: 0.9835 - val_loss: 0.0604 - val_accuracy: 0.9887\n",
      "Epoch 14/20\n",
      "6000/6000 [==============================] - 5s 814us/step - loss: 0.0749 - accuracy: 0.9837 - val_loss: 0.0562 - val_accuracy: 0.9888\n",
      "Epoch 15/20\n",
      "6000/6000 [==============================] - 5s 828us/step - loss: 0.0741 - accuracy: 0.9838 - val_loss: 0.0592 - val_accuracy: 0.9890\n",
      "Epoch 16/20\n",
      "6000/6000 [==============================] - 5s 830us/step - loss: 0.0743 - accuracy: 0.9834 - val_loss: 0.0544 - val_accuracy: 0.9887\n",
      "Epoch 17/20\n",
      "6000/6000 [==============================] - 5s 826us/step - loss: 0.0739 - accuracy: 0.9832 - val_loss: 0.1290 - val_accuracy: 0.9623\n",
      "Epoch 18/20\n",
      "6000/6000 [==============================] - 5s 829us/step - loss: 0.0726 - accuracy: 0.9834 - val_loss: 0.0638 - val_accuracy: 0.9880\n",
      "Epoch 19/20\n",
      "6000/6000 [==============================] - 5s 794us/step - loss: 0.0717 - accuracy: 0.9833 - val_loss: 0.0549 - val_accuracy: 0.9893\n",
      "Epoch 20/20\n",
      "6000/6000 [==============================] - 5s 789us/step - loss: 0.0712 - accuracy: 0.9836 - val_loss: 0.0567 - val_accuracy: 0.9886\n",
      "2500/2500 [==============================] - 1s 567us/step - loss: 0.0608 - accuracy: 0.9875\n",
      "overall Accuracy: 98.75\n",
      "[[ 9735   142]\n",
      " [   85 10037]]\n",
      "accuracy: 0.988649\n",
      "f1 score: 0.988475\n",
      "precision score: 0.991344\n",
      "recall score: 0.985623\n",
      "ROC AUC: 0.988613\n",
      "ROC AUC: 0.988613\n",
      "No Skill: ROC AUC=0.989\n"
     ]
    },
    {
     "data": {
      "image/png": "[encoded data removed]",
      "text/plain": [
       "<Figure size 432x288 with 1 Axes>"
      ]
     },
     "metadata": {
      "needs_background": "light"
     },
     "output_type": "display_data"
    },
    {
     "name": "stdout",
     "output_type": "stream",
     "text": [
      "[0 0 0 ... 1 1 1]\n"
     ]
    },
    {
     "data": {
      "image/png": "[encoded data removed]",
      "text/plain": [
       "<Figure size 432x288 with 1 Axes>"
      ]
     },
     "metadata": {
      "needs_background": "light"
     },
     "output_type": "display_data"
    },
    {
     "name": "stdout",
     "output_type": "stream",
     "text": [
      "Epoch 1/20\n",
      "6000/6000 [==============================] - 5s 804us/step - loss: 0.0703 - accuracy: 0.9840 - val_loss: 0.0579 - val_accuracy: 0.9871\n",
      "Epoch 2/20\n",
      "6000/6000 [==============================] - 5s 828us/step - loss: 0.0698 - accuracy: 0.9842 - val_loss: 0.0575 - val_accuracy: 0.9869\n",
      "Epoch 3/20\n",
      "6000/6000 [==============================] - 5s 819us/step - loss: 0.0681 - accuracy: 0.9846 - val_loss: 0.0563 - val_accuracy: 0.9873\n",
      "Epoch 4/20\n",
      "6000/6000 [==============================] - 5s 820us/step - loss: 0.0690 - accuracy: 0.9837 - val_loss: 0.0796 - val_accuracy: 0.9804\n",
      "Epoch 5/20\n",
      "6000/6000 [==============================] - 5s 826us/step - loss: 0.0679 - accuracy: 0.9845 - val_loss: 0.0719 - val_accuracy: 0.9804\n",
      "Epoch 6/20\n",
      "6000/6000 [==============================] - 5s 816us/step - loss: 0.0678 - accuracy: 0.9840 - val_loss: 0.0579 - val_accuracy: 0.9874\n",
      "Epoch 7/20\n",
      "6000/6000 [==============================] - 5s 825us/step - loss: 0.0662 - accuracy: 0.9845 - val_loss: 0.0539 - val_accuracy: 0.9870\n",
      "Epoch 8/20\n",
      "6000/6000 [==============================] - 5s 777us/step - loss: 0.0653 - accuracy: 0.9846 - val_loss: 0.0786 - val_accuracy: 0.9825\n",
      "Epoch 9/20\n",
      "6000/6000 [==============================] - 5s 831us/step - loss: 0.1215 - accuracy: 0.9777 - val_loss: 0.1303 - val_accuracy: 0.9845\n",
      "Epoch 10/20\n",
      "6000/6000 [==============================] - 5s 808us/step - loss: 0.1199 - accuracy: 0.9761 - val_loss: 0.1046 - val_accuracy: 0.9847\n",
      "Epoch 11/20\n",
      "6000/6000 [==============================] - 5s 827us/step - loss: 0.1062 - accuracy: 0.9778 - val_loss: 0.0986 - val_accuracy: 0.9851\n",
      "Epoch 12/20\n",
      "6000/6000 [==============================] - 5s 825us/step - loss: 0.0958 - accuracy: 0.9791 - val_loss: 0.0861 - val_accuracy: 0.9862\n",
      "Epoch 13/20\n",
      "6000/6000 [==============================] - 5s 828us/step - loss: 0.0897 - accuracy: 0.9802 - val_loss: 0.0754 - val_accuracy: 0.9859\n",
      "Epoch 14/20\n",
      "6000/6000 [==============================] - 5s 830us/step - loss: 0.0825 - accuracy: 0.9823 - val_loss: 0.0719 - val_accuracy: 0.9856\n",
      "Epoch 15/20\n",
      "6000/6000 [==============================] - 5s 823us/step - loss: 0.0793 - accuracy: 0.9830 - val_loss: 0.0780 - val_accuracy: 0.9820\n",
      "Epoch 16/20\n",
      "6000/6000 [==============================] - 5s 805us/step - loss: 0.0758 - accuracy: 0.9838 - val_loss: 0.0779 - val_accuracy: 0.9821\n",
      "Epoch 17/20\n",
      "6000/6000 [==============================] - 5s 823us/step - loss: 0.0736 - accuracy: 0.9846 - val_loss: 0.0681 - val_accuracy: 0.9860\n",
      "Epoch 18/20\n",
      "6000/6000 [==============================] - 5s 807us/step - loss: 0.0726 - accuracy: 0.9844 - val_loss: 0.0594 - val_accuracy: 0.9867\n",
      "Epoch 19/20\n",
      "6000/6000 [==============================] - 5s 824us/step - loss: 0.0722 - accuracy: 0.9848 - val_loss: 0.0677 - val_accuracy: 0.9852\n",
      "Epoch 20/20\n",
      "6000/6000 [==============================] - 5s 829us/step - loss: 0.0707 - accuracy: 0.9852 - val_loss: 0.0689 - val_accuracy: 0.9849\n",
      "2500/2500 [==============================] - 1s 563us/step - loss: 0.0689 - accuracy: 0.9854\n",
      "overall Accuracy: 98.54\n",
      "[[9752  119]\n",
      " [ 182 9946]]\n",
      "accuracy: 0.984949\n",
      "f1 score: 0.984802\n",
      "precision score: 0.981679\n",
      "recall score: 0.987944\n",
      "ROC AUC: 0.984987\n",
      "ROC AUC: 0.984987\n",
      "No Skill: ROC AUC=0.985\n"
     ]
    },
    {
     "data": {
      "image/png": "[encoded data removed]",
      "text/plain": [
       "<Figure size 432x288 with 1 Axes>"
      ]
     },
     "metadata": {
      "needs_background": "light"
     },
     "output_type": "display_data"
    },
    {
     "name": "stdout",
     "output_type": "stream",
     "text": [
      "[0 0 0 ... 1 1 1]\n"
     ]
    },
    {
     "data": {
      "image/png": "[encoded data removed]",
      "text/plain": [
       "<Figure size 432x288 with 1 Axes>"
      ]
     },
     "metadata": {
      "needs_background": "light"
     },
     "output_type": "display_data"
    },
    {
     "name": "stdout",
     "output_type": "stream",
     "text": [
      "Cross Validation ROC - AUC = 0.9862239196287567\n",
      "Cross Validation Precision recall curve - AUC = 0.9802234235172285\n",
      "Cross Validation accuracy = 0.9861993099654982\n",
      "Cross Validation f1 = 0.9861783950093965\n",
      "Cross Validation precision = 0.987678482058212\n",
      "Cross Validation recall = 0.9846982815241048\n",
      "Cross Validation fpr = [0.         0.01225044 1.        ]\n",
      "Cross Validation tpr = [0.         0.98469828 1.        ]\n",
      "Cross Validation lr_precision = [0.5        0.98767848 1.        ]\n",
      "Cross Validation lr_recall = [1.         0.98469828 0.        ]\n"
     ]
    },
    {
     "data": {
      "text/plain": [
       "[<matplotlib.lines.Line2D at 0x78004a9eb0>]"
      ]
     },
     "execution_count": 15,
     "metadata": {},
     "output_type": "execute_result"
    },
    {
     "data": {
      "image/png": "[encoded data removed]",
      "text/plain": [
       "<Figure size 432x288 with 1 Axes>"
      ]
     },
     "metadata": {
      "needs_background": "light"
     },
     "output_type": "display_data"
    }
   ],
   "source": [
    "from sklearn.model_selection import KFold\n",
    "from sklearn.metrics import confusion_matrix\n",
    "from sklearn.metrics import f1_score\n",
    "from sklearn.metrics import precision_score\n",
    "from sklearn.metrics import average_precision_score\n",
    "from sklearn.metrics import recall_score\n",
    "from sklearn.metrics import roc_auc_score\n",
    "from sklearn.metrics import accuracy_score\n",
    "from numpy import arange\n",
    "from sklearn.metrics import roc_curve\n",
    "import matplotlib.pyplot as plt\n",
    "from matplotlib import pyplot \n",
    "from importlib import reload\n",
    "reload(plt)\n",
    "#from matplotlib import pyplot\n",
    "from sklearn.metrics import precision_recall_curve\n",
    "from sklearn.metrics import auc\n",
    "\n",
    "\n",
    "kf = KFold(n_splits=4,shuffle=True,random_state=None)\n",
    "\n",
    "scores = []\n",
    "aucs=0\n",
    "aucs1=0\n",
    "f1s=0\n",
    "recalls=0\n",
    "precisions=0\n",
    "accuracys=0\n",
    "lr_precisions=0\n",
    "lr_recalls=0\n",
    "fprs=0\n",
    "tprs=0\n",
    "\n",
    "for train_index, test_index in kf.split(X):\n",
    "    x_train, x_val = X[train_index], X[test_index]\n",
    "    y_train, y_val = y[train_index], y[test_index]\n",
    "    model = CatBoostClassifier(\n",
    "        iterations = 2,\n",
    "        depth = 1,\n",
    "        verbose = 10\n",
    "    )\n",
    "    model.fit(x_train, y_train, epochs=20, batch_size=10, validation_data=(x_val, y_val))\n",
    "    \n",
    "    # make probability predictions with the model\n",
    "    predictions = model.predict(x_val)\n",
    "    # round predictions \n",
    "    predictions = [round(x[0]) for x in predictions]\n",
    "    \n",
    "   \n",
    "    # make class predictions with the model\n",
    "   # predictions1 =  model.predict>0.5.astype('int32')\n",
    "    \n",
    "    # evaluate the keras model\n",
    "    _, accuracy = model.evaluate(X, y)\n",
    "    print('overall Accuracy: %.2f' % (accuracy*100))\n",
    "    \n",
    "    print(confusion_matrix(y_val,predictions,labels=[1,0]))\n",
    "    \n",
    "    #No need for threshold setting since getting same value   \n",
    "    accuracy=accuracy_score(y_val,predictions)\n",
    "    print('accuracy: %f' % accuracy)\n",
    "    \n",
    "    f1=f1_score(y_val,predictions)\n",
    "    print('f1 score: %f' % f1)    \n",
    "    \n",
    "    precision=precision_score(y_val,predictions)\n",
    "    print('precision score: %f' % precision)\n",
    "    \n",
    "    recall=recall_score(y_val,predictions)\n",
    "    print('recall score: %f' % recall)\n",
    "    \n",
    "    auc = roc_auc_score(y_val, predictions)\n",
    "    print('ROC AUC: %f' % auc)    \n",
    "    \n",
    "    ns_auc = roc_auc_score(y_val, predictions)\n",
    "    print('ROC AUC: %f' % auc)  \n",
    "    \n",
    "    # summarize scores\n",
    "    print('No Skill: ROC AUC=%.3f' % (ns_auc))\n",
    "    \n",
    "    #https://machinelearningmastery.com/roc-curves-and-precision-recall-curves-for-classification-in-python/#:~:text=with%20sample%20code).-,ROC%20Curves%20and%20AUC%20in%20Python,probabilities%20for%20the%201%20class.\n",
    "    # calculate roc curves\n",
    "    ns_fpr, ns_tpr, _ = roc_curve(y_val, predictions)\n",
    "    fpr, tpr, _ = roc_curve(y_val, predictions)\n",
    "    pyplot.plot(ns_fpr, ns_tpr, linestyle='--', label='No Skill')\n",
    "    pyplot.plot(fpr, tpr, marker='.', label='Bi-HGA')\n",
    "\n",
    "    # axis labels\n",
    "    pyplot.xlabel('False Positive Rate')\n",
    "    pyplot.ylabel('True Positive Rate')\n",
    "    # show the legend\n",
    "    pyplot.legend()\n",
    "    # show the plot\n",
    "    pyplot.show()\n",
    "\n",
    "    print(y_val)\n",
    "    #https://www.kaggle.com/vedbharti/classification-precision-recall-vs-roc-plot\n",
    "    auc1=average_precision_score(y_val, predictions)\n",
    "     \n",
    "    lr_precision, lr_recall, _ = precision_recall_curve(y_val, predictions)\n",
    "    #lr_f1, lr_auc = f1_score(y_val, predictions1), auc(lr_recall, lr_precision)\n",
    "    # summarize scores\n",
    "    #print('Logistic: f1=%.3f auc=%.3f' % (lr_f1, lr_auc))\n",
    "    # plot the precision-recall curves\n",
    "    #no_skill = len(testy[testy==1]) / len(testy)\n",
    "    #pyplot.plot([0, 1], [no_skill, no_skill], linestyle='--', label='No Skill')\n",
    "    pyplot.plot(lr_recall, lr_precision, marker='.', label='Bi-HGA')\n",
    "    # axis labels\n",
    "    pyplot.xlabel('Recall')\n",
    "    pyplot.ylabel('Precision')\n",
    "    # show the legend\n",
    "    pyplot.legend()\n",
    "    # show the plot\n",
    "    pyplot.show()\n",
    "    \n",
    "    aucs += auc\n",
    "    aucs1 += auc1\n",
    "    accuracys += accuracy\n",
    "    f1s += f1\n",
    "    precisions += precision\n",
    "    recalls += recall\n",
    "    ns_fpr+=ns_fpr\n",
    "    ns_tpr+=ns_tpr\n",
    "    fprs+=fpr\n",
    "    tprs+=tpr\n",
    "    lr_recalls+=lr_recall\n",
    "    lr_precisions+=lr_precision\n",
    "print(\"Cross Validation ROC - AUC = {}\".format(aucs/4))\n",
    "print(\"Cross Validation Precision recall curve - AUC = {}\".format(aucs1/4))\n",
    "print(\"Cross Validation accuracy = {}\".format(accuracys/4))\n",
    "print(\"Cross Validation f1 = {}\".format(f1s/4))\n",
    "print(\"Cross Validation precision = {}\".format(precisions/4))\n",
    "print(\"Cross Validation recall = {}\".format(recalls/4))\n",
    "print(\"Cross Validation fpr = {}\".format(fprs/4))\n",
    "print(\"Cross Validation tpr = {}\".format(tprs/4))\n",
    "print(\"Cross Validation lr_precision = {}\".format(lr_precisions/4))\n",
    "print(\"Cross Validation lr_recall = {}\".format(lr_recalls/4))\n",
    "\n",
    "ns_fpr, ns_tpr, _ = roc_curve(y_val, predictions)\n",
    "fpr, tpr, _ = roc_curve(y_val, predictions)\n",
    "pyplot.plot(ns_fpr, ns_tpr, linestyle='--', label='No Skill')\n",
    "pyplot.plot(fpr, tpr, marker='.', label='Bi-HGA')\n"
   ]
  },
  {
   "cell_type": "code",
   "execution_count": 13,
   "metadata": {},
   "outputs": [
    {
     "name": "stdout",
     "output_type": "stream",
     "text": [
      "0h 6m 49s\n"
     ]
    }
   ],
   "source": [
    "end = datetime.datetime.now()\n",
    "\n",
    "diff = (end - start)\n",
    "\n",
    "datetime.timedelta(seconds=10, microseconds=885206)\n",
    "\n",
    "diff_seconds = int(diff.total_seconds())\n",
    "\n",
    "minute_seconds, seconds = divmod(diff_seconds, 60)\n",
    "hours, minutes = divmod(minute_seconds, 60)\n",
    "hms = f\"{hours}h {minutes}m {seconds}s\"\n",
    "\n",
    "'0h 0m 10s'\n",
    "print(hms) "
   ]
  }
 ],
 "metadata": {
  "kernelspec": {
   "display_name": "Python 3 (ipykernel)",
   "language": "python",
   "name": "python3"
  },
  "language_info": {
   "codemirror_mode": {
    "name": "ipython",
    "version": 3
   },
   "file_extension": ".py",
   "mimetype": "text/x-python",
   "name": "python",
   "nbconvert_exporter": "python",
   "pygments_lexer": "ipython3",
   "version": "3.11.4"
  }
 },
 "nbformat": 4,
 "nbformat_minor": 4
}
