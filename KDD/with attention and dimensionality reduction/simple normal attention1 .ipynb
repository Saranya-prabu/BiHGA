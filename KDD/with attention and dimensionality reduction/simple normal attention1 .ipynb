{
 "cells": [
  {
   "cell_type": "code",
   "execution_count": 1,
   "id": "5fd0f78c",
   "metadata": {},
   "outputs": [],
   "source": [
    "import numpy as np\n",
    "import pandas as pd"
   ]
  },
  {
   "cell_type": "code",
   "execution_count": 2,
   "id": "dbdceb4f",
   "metadata": {},
   "outputs": [],
   "source": [
    "#data = pd.read_csv(\"file3.csv\") \n",
    "csv_1 = pd.read_csv(r\"C:\\Users\\Admin\\ablation study - 20 neurons\\with attention and dimensionality reduction\\lgcnormalresult.csv\") \n",
    "  \n",
    "# changing cols with rename() \n",
    "new_data = csv_1.rename(columns = {0: \"Feature1\",\n",
    "                                  1: \"Feature2\", \n",
    "                                  2: \"Feature3\", \n",
    "                                  3: \"Feature4\",\n",
    "                                  4: \"Feature5\",\n",
    "                                  5: \"Feature6\",\n",
    "                                  6: \"Feature7\",\n",
    "                                  7: \"Feature8\",\n",
    "                                  8: \"Feature9\",\n",
    "                                  9: \"Feature10\",\n",
    "                                  10: \"Feature11\",\n",
    "                                  11: \"Feature12\",\n",
    "                                  12: \"Feature13\",\n",
    "                                  13: \"Feature14\",\n",
    "                                  14: \"Feature15\",\n",
    "                                  15: \"Feature16\",\n",
    "                                  16: \"Feature17\",\n",
    "                                  17: \"Feature18\",\n",
    "                                  18: \"Feature19\", \n",
    "                                  19: \"Feature20\", \n",
    "                                  20: \"Label\"}) \n",
    "  \n",
    "# changing columns using .columns() \n",
    "csv_1.columns = ['Feature1', 'Feature2', 'Feature3', 'Feature4', \n",
    "                'Feature5', 'Feature6', 'Feature7', 'Feature8',\n",
    "                 'Feature9', 'Feature10', 'Feature11', 'Feature12',\n",
    "                 'Feature13', 'Feature14', 'Feature15', 'Feature16',\n",
    "                 'Feature17', 'Feature18', 'Feature19', 'Feature20',\"Label\"] \n",
    "  \n",
    "\n",
    "csv_1.to_csv(\"lgcnormalresult.csv\", index=None)"
   ]
  },
  {
   "cell_type": "markdown",
   "id": "17ae59d2",
   "metadata": {},
   "source": [
    "#https://datacarpentry.org/python-ecology-lesson/03-index-slice-subset/index.html\n",
    "csv_1=csv_1[0:100]\n",
    "csv_2=csv_2[0:40000]\n",
    "merged = csv_1.merge(csv_2,on=\"Label\")\n",
    "\n",
    "merged.to_csv(\"attentiongan.csv\", index=False)\n",
    "#result = pd.concat([csv_1, csv_2], axis=1)\n",
    "out = csv_1.append(csv_2)\n",
    "print(out)\n",
    "out.to_csv(\"attentiongan.csv\", index=False)"
   ]
  },
  {
   "cell_type": "code",
   "execution_count": 3,
   "id": "5519300a",
   "metadata": {},
   "outputs": [],
   "source": [
    "import tensorflow as tf\n",
    "from tensorflow import keras\n",
    "from tensorflow.keras import layers\n",
    "from tensorflow.keras import activations\n",
    "\n",
    "\n",
    "import numpy as np\n",
    "import pandas as pd\n",
    "\n",
    "from sklearn import preprocessing\n",
    "from sklearn.model_selection import train_test_split"
   ]
  },
  {
   "cell_type": "code",
   "execution_count": 4,
   "id": "53f8d434",
   "metadata": {},
   "outputs": [],
   "source": [
    "df = pd.read_csv(\"lgcnormalresult.csv\",sep=\",\", index_col=None)"
   ]
  },
  {
   "cell_type": "code",
   "execution_count": 5,
   "id": "7c156b46",
   "metadata": {},
   "outputs": [
    {
     "name": "stdout",
     "output_type": "stream",
     "text": [
      "Feature1     float64\n",
      "Feature2     float64\n",
      "Feature3     float64\n",
      "Feature4     float64\n",
      "Feature5     float64\n",
      "Feature6     float64\n",
      "Feature7     float64\n",
      "Feature8     float64\n",
      "Feature9     float64\n",
      "Feature10    float64\n",
      "Feature11    float64\n",
      "Feature12    float64\n",
      "Feature13    float64\n",
      "Feature14    float64\n",
      "Feature15    float64\n",
      "Feature16    float64\n",
      "Feature17    float64\n",
      "Feature18    float64\n",
      "Feature19    float64\n",
      "Feature20    float64\n",
      "Label          int64\n",
      "dtype: object\n"
     ]
    }
   ],
   "source": [
    "print (df.dtypes)"
   ]
  },
  {
   "cell_type": "code",
   "execution_count": 6,
   "id": "fe5cf74e",
   "metadata": {},
   "outputs": [
    {
     "data": {
      "text/plain": [
       "<bound method NDFrame.head of        Feature1  Feature2  Feature3  Feature4  Feature5  Feature6  Feature7  \\\n",
       "0      0.036062  0.002170       0.0       0.0  0.000000  0.010692       0.0   \n",
       "1      0.035553  0.018961       0.0       0.0  0.000000  0.006399       0.0   \n",
       "2      0.000000  0.000000       0.0       0.0  0.000000  0.000000       0.0   \n",
       "3      0.036821  0.003598       0.0       0.0  0.000000  0.009541       0.0   \n",
       "4      0.000000  0.067483       0.0       0.0  0.001871  0.000000       0.0   \n",
       "...         ...       ...       ...       ...       ...       ...       ...   \n",
       "39994  0.027743  0.010582       0.0       0.0  0.000000  0.007787       0.0   \n",
       "39995  0.024940  0.005840       0.0       0.0  0.000000  0.005515       0.0   \n",
       "39996  0.036822  0.003660       0.0       0.0  0.000000  0.010401       0.0   \n",
       "39997  0.035723  0.002007       0.0       0.0  0.000000  0.009650       0.0   \n",
       "39998  0.056204  0.056477       0.0       0.0  0.006845  0.000000       0.0   \n",
       "\n",
       "       Feature8  Feature9  Feature10  ...  Feature12  Feature13  Feature14  \\\n",
       "0      0.022869  0.000000   0.028666  ...        0.0        0.0        0.0   \n",
       "1      0.044223  0.000000   0.000000  ...        0.0        0.0        0.0   \n",
       "2      0.114393  0.188740   0.000000  ...        0.0        0.0        0.0   \n",
       "3      0.023389  0.000000   0.034359  ...        0.0        0.0        0.0   \n",
       "4      0.050382  0.094566   0.000000  ...        0.0        0.0        0.0   \n",
       "...         ...       ...        ...  ...        ...        ...        ...   \n",
       "39994  0.043582  0.000000   0.001851  ...        0.0        0.0        0.0   \n",
       "39995  0.048344  0.000000   0.000000  ...        0.0        0.0        0.0   \n",
       "39996  0.023147  0.000000   0.027884  ...        0.0        0.0        0.0   \n",
       "39997  0.024974  0.000000   0.026383  ...        0.0        0.0        0.0   \n",
       "39998  0.000000  0.000000   0.000000  ...        0.0        0.0        0.0   \n",
       "\n",
       "       Feature15  Feature16  Feature17  Feature18  Feature19  Feature20  Label  \n",
       "0       0.000000   0.000000        0.0        0.0        0.0        0.0      0  \n",
       "1       0.019141   0.000000        0.0        0.0        0.0        0.0      0  \n",
       "2       0.000000   0.000000        0.0        0.0        0.0        0.0      0  \n",
       "3       0.000000   0.000000        0.0        0.0        0.0        0.0      0  \n",
       "4       0.000000   0.020485        0.0        0.0        0.0        0.0      0  \n",
       "...          ...        ...        ...        ...        ...        ...    ...  \n",
       "39994   0.016047   0.000000        0.0        0.0        0.0        0.0      0  \n",
       "39995   0.016149   0.000000        0.0        0.0        0.0        0.0      0  \n",
       "39996   0.000000   0.000000        0.0        0.0        0.0        0.0      0  \n",
       "39997   0.000000   0.000000        0.0        0.0        0.0        0.0      0  \n",
       "39998   0.000000   0.000000        0.0        0.0        0.0        0.0      0  \n",
       "\n",
       "[39999 rows x 21 columns]>"
      ]
     },
     "execution_count": 6,
     "metadata": {},
     "output_type": "execute_result"
    }
   ],
   "source": [
    "df.head"
   ]
  },
  {
   "cell_type": "code",
   "execution_count": 7,
   "id": "4970f185",
   "metadata": {},
   "outputs": [],
   "source": [
    "#X = mydataframe.drop(['acol','bcol'], axis=1).values \n",
    "#y = mydataframe['targetvalue'].values\n",
    "df_label=df.Label\n",
    "X=df.drop(['Label'], axis=1).values \n",
    "y=df['Label'].values"
   ]
  },
  {
   "cell_type": "code",
   "execution_count": 8,
   "id": "0d67e945",
   "metadata": {},
   "outputs": [],
   "source": [
    "df_label.to_csv('normallabel1.csv', index=False)"
   ]
  },
  {
   "cell_type": "code",
   "execution_count": 9,
   "id": "aec2b50c",
   "metadata": {},
   "outputs": [
    {
     "name": "stdout",
     "output_type": "stream",
     "text": [
      "27999 Training sequences (27999, 20)\n",
      "12000 Validation sequences (12000, 20)\n",
      "27999 Training sequences (27999,)\n"
     ]
    }
   ],
   "source": [
    "from sklearn.model_selection import train_test_split\n",
    "\n",
    "x_train,x_val,y_train,y_val = train_test_split(X,y,train_size=0.70, random_state=2)\n",
    "print(len(x_train), \"Training sequences\",x_train.shape)\n",
    "print(len(x_val), \"Validation sequences\",x_val.shape)\n",
    "print(len(y_train), \"Training sequences\",y_train.shape)"
   ]
  },
  {
   "cell_type": "markdown",
   "id": "cdc5d92e",
   "metadata": {},
   "source": [
    "# Simple Attention\n",
    "#https://www.analyticsvidhya.com/blog/2019/11/comprehensive-guide-attention-mechanism-deep-learning/"
   ]
  },
  {
   "cell_type": "code",
   "execution_count": 10,
   "id": "b3d8541a",
   "metadata": {},
   "outputs": [],
   "source": [
    "def build(self,input_shape):\n",
    "        self.W=self.add_weight(name=\"att_weight\",shape=(input_shape[-1],1),initializer=\"normal\")\n",
    "        self.b=self.add_weight(name=\"att_bias\",shape=(input_shape[1],1),initializer=\"zeros\")        \n",
    "        super(attention, self).build(input_shape)"
   ]
  },
  {
   "cell_type": "code",
   "execution_count": 11,
   "id": "c6d4c52f",
   "metadata": {},
   "outputs": [],
   "source": [
    "def call(self,x):\n",
    "        et=K.squeeze(K.tanh(K.dot(x,self.W)+self.b),axis=-1)\n",
    "        at=K.softmax(et)\n",
    "        at=K.expand_dims(at,axis=-1)\n",
    "        output=x*at\n",
    "        return K.sum(output,axis=1)"
   ]
  },
  {
   "cell_type": "code",
   "execution_count": 12,
   "id": "fd62956d",
   "metadata": {},
   "outputs": [],
   "source": [
    "from tensorflow.keras.layers import Layer\n",
    "import tensorflow.keras.backend as K"
   ]
  },
  {
   "cell_type": "code",
   "execution_count": 13,
   "id": "b9f6414e",
   "metadata": {},
   "outputs": [],
   "source": [
    "class attention(Layer):\n",
    "    def __init__(self,**kwargs):\n",
    "        super(attention,self).__init__(**kwargs)\n",
    "\n",
    "    def build(self,input_shape):\n",
    "        self.W=self.add_weight(name=\"att_weight\",shape=(input_shape[-1],1),initializer=\"normal\")\n",
    "        self.b=self.add_weight(name=\"att_bias\",shape=(input_shape[1],1),initializer=\"zeros\")        \n",
    "        super(attention, self).build(input_shape)\n",
    "\n",
    "    def call(self,x):\n",
    "        et=K.squeeze(K.tanh(K.dot(x,self.W)+self.b),axis=-1)\n",
    "        at=K.softmax(et)\n",
    "        at=K.expand_dims(at,axis=-1)\n",
    "        output=x*at\n",
    "        return K.sum(output,axis=1)\n",
    "\n",
    "    def compute_output_shape(self,input_shape):\n",
    "        return (input_shape[0],input_shape[-1])\n",
    "\n",
    "    def get_config(self):\n",
    "        return super(attention,self).get_config()"
   ]
  },
  {
   "cell_type": "code",
   "execution_count": 14,
   "id": "3e25f63d",
   "metadata": {},
   "outputs": [],
   "source": [
    "from tensorflow.keras.layers import Embedding\n",
    "from tensorflow.keras.layers import Dense, Flatten, Activation,RepeatVector,Permute \n",
    "from tensorflow.keras.layers import TimeDistributed\n",
    "maxlen=20\n",
    "vocab_size = x_train.shape[0]\n",
    "visible = layers.Input(shape=(maxlen,))\n",
    "\n",
    "embed=Embedding(vocab_size,20)(visible)\n",
    "\n",
    "activations= keras.layers.GRU(20, return_sequences=True)(embed)\n",
    "\n",
    "attention = TimeDistributed(Dense(1, activation='tanh'))(activations) \n",
    "attention = Flatten()(attention)\n",
    "attention = Activation('softmax', name='attention_vec')(attention)\n",
    "#attention = RepeatVector(1)(attention)\n",
    "#attention = Permute([2, 1])(attention) \n",
    "\n",
    "#sent_representation = keras.layers.multiply([activations, attention])\n",
    "#sent_representation = Lambda(lambda xin: K.sum(xin, axis=1))(sent_representation)\n",
    "predictions=Dense(1, activation='sigmoid')(attention)\n",
    "\n",
    "model = keras.Model(inputs=visible, outputs=predictions)"
   ]
  },
  {
   "cell_type": "code",
   "execution_count": 15,
   "id": "866fa19f",
   "metadata": {},
   "outputs": [
    {
     "name": "stdout",
     "output_type": "stream",
     "text": [
      "Model: \"model\"\n",
      "_________________________________________________________________\n",
      "Layer (type)                 Output Shape              Param #   \n",
      "=================================================================\n",
      "input_1 (InputLayer)         [(None, 20)]              0         \n",
      "_________________________________________________________________\n",
      "embedding (Embedding)        (None, 20, 20)            559980    \n",
      "_________________________________________________________________\n",
      "gru (GRU)                    (None, 20, 20)            2520      \n",
      "_________________________________________________________________\n",
      "time_distributed (TimeDistri (None, 20, 1)             21        \n",
      "_________________________________________________________________\n",
      "flatten (Flatten)            (None, 20)                0         \n",
      "_________________________________________________________________\n",
      "attention_vec (Activation)   (None, 20)                0         \n",
      "_________________________________________________________________\n",
      "dense_1 (Dense)              (None, 1)                 21        \n",
      "=================================================================\n",
      "Total params: 562,542\n",
      "Trainable params: 562,542\n",
      "Non-trainable params: 0\n",
      "_________________________________________________________________\n"
     ]
    }
   ],
   "source": [
    "model.summary()"
   ]
  },
  {
   "cell_type": "code",
   "execution_count": 16,
   "id": "cf41233b",
   "metadata": {},
   "outputs": [],
   "source": [
    "import time, datetime\n",
    "\n",
    "start = datetime.datetime.now()\n",
    "time.sleep(10)"
   ]
  },
  {
   "cell_type": "code",
   "execution_count": 17,
   "id": "85c23882",
   "metadata": {},
   "outputs": [
    {
     "name": "stdout",
     "output_type": "stream",
     "text": [
      "Train on 27999 samples, validate on 12000 samples\n",
      "Epoch 1/5\n",
      "27999/27999 [==============================] - 14s 512us/sample - loss: 0.7371 - accuracy: 0.0000e+00 - val_loss: 0.7196 - val_accuracy: 0.0000e+00\n",
      "Epoch 2/5\n",
      "27999/27999 [==============================] - 4s 149us/sample - loss: 0.7020 - accuracy: 0.2685 - val_loss: 0.6799 - val_accuracy: 1.0000\n",
      "Epoch 3/5\n",
      "27999/27999 [==============================] - 3s 115us/sample - loss: 0.6496 - accuracy: 1.0000 - val_loss: 0.6055 - val_accuracy: 1.0000\n",
      "Epoch 4/5\n",
      "27999/27999 [==============================] - 3s 114us/sample - loss: 0.5788 - accuracy: 1.0000 - val_loss: 0.5553 - val_accuracy: 1.0000\n",
      "Epoch 5/5\n",
      "27999/27999 [==============================] - 3s 119us/sample - loss: 0.5402 - accuracy: 1.0000 - val_loss: 0.5231 - val_accuracy: 1.0000\n"
     ]
    }
   ],
   "source": [
    "model.compile(\"adam\", \"binary_crossentropy\", metrics=[\"accuracy\"])\n",
    "history = model.fit(x_train, y_train, batch_size=1024, epochs=5, validation_data=(x_val, y_val))"
   ]
  },
  {
   "cell_type": "code",
   "execution_count": 18,
   "id": "c934361a",
   "metadata": {},
   "outputs": [
    {
     "name": "stdout",
     "output_type": "stream",
     "text": [
      "0h 0m 39s\n"
     ]
    }
   ],
   "source": [
    "end = datetime.datetime.now()\n",
    "\n",
    "diff = (end - start)\n",
    "\n",
    "datetime.timedelta(seconds=10, microseconds=885206)\n",
    "\n",
    "diff_seconds = int(diff.total_seconds())\n",
    "\n",
    "minute_seconds, seconds = divmod(diff_seconds, 60)\n",
    "hours, minutes = divmod(minute_seconds, 60)\n",
    "hms = f\"{hours}h {minutes}m {seconds}s\"\n",
    "\n",
    "'0h 0m 10s'\n",
    "print(hms) "
   ]
  },
  {
   "cell_type": "raw",
   "id": "0ef93a8d",
   "metadata": {},
   "source": [
    "new_model = Model(inputs=model.input, outputs=model.layers[2].output)\n",
    "#output_before_att = new_model.predict(x_test_sample) #extract layer output"
   ]
  },
  {
   "cell_type": "code",
   "execution_count": 19,
   "id": "a28c5b8a",
   "metadata": {},
   "outputs": [],
   "source": [
    "model = keras.Model(inputs=model.input,\n",
    "              outputs=[model.output, model.get_layer('attention_vec').output])"
   ]
  },
  {
   "cell_type": "code",
   "execution_count": 20,
   "id": "f4a232a2",
   "metadata": {},
   "outputs": [],
   "source": [
    "layer = model.get_layer('attention_vec')"
   ]
  },
  {
   "cell_type": "code",
   "execution_count": 21,
   "id": "50ba966f",
   "metadata": {},
   "outputs": [
    {
     "name": "stdout",
     "output_type": "stream",
     "text": [
      "[[array([[0.03203726, 0.0277469 , 0.02655431, ..., 0.13842414, 0.17608291,\n",
      "        0.18226874],\n",
      "       [0.03203726, 0.0277469 , 0.02655431, ..., 0.13842414, 0.17608291,\n",
      "        0.18226874],\n",
      "       [0.03203726, 0.0277469 , 0.02655431, ..., 0.13842414, 0.17608291,\n",
      "        0.18226874],\n",
      "       ...,\n",
      "       [0.03203727, 0.02774691, 0.02655432, ..., 0.13842405, 0.17608292,\n",
      "        0.1822688 ],\n",
      "       [0.03203727, 0.02774691, 0.02655432, ..., 0.13842405, 0.17608292,\n",
      "        0.1822688 ],\n",
      "       [0.03203727, 0.02774691, 0.02655432, ..., 0.13842405, 0.17608292,\n",
      "        0.1822688 ]], dtype=float32)]]\n"
     ]
    }
   ],
   "source": [
    "outputs = []\n",
    "keras_function = K.function([model.input], [layer.output])\n",
    "outputs.append(keras_function([x_train, 0]))\n",
    "print(outputs)"
   ]
  },
  {
   "cell_type": "code",
   "execution_count": 22,
   "id": "060b34f1",
   "metadata": {},
   "outputs": [
    {
     "name": "stderr",
     "output_type": "stream",
     "text": [
      "Using TensorFlow backend.\n"
     ]
    },
    {
     "name": "stdout",
     "output_type": "stream",
     "text": [
      "[array([[0.05157334, 0.04985471, 0.04974667, ..., 0.04974667, 0.04974667,\n",
      "        0.04974667],\n",
      "       [0.05148452, 0.05063733, 0.04968623, ..., 0.04968623, 0.04968623,\n",
      "        0.04968623],\n",
      "       [0.04919101, 0.04919101, 0.04919101, ..., 0.04919101, 0.04919101,\n",
      "        0.04919101],\n",
      "       ...,\n",
      "       [0.05160877, 0.04992542, 0.04974302, ..., 0.04974302, 0.04974302,\n",
      "        0.04974302],\n",
      "       [0.0515604 , 0.04985097, 0.049751  , ..., 0.049751  , 0.049751  ,\n",
      "        0.049751  ],\n",
      "       [0.05256797, 0.05258231, 0.04969491, ..., 0.04969491, 0.04969491,\n",
      "        0.04969491]], dtype=float32)]\n",
      "(1, 39999, 20)\n"
     ]
    }
   ],
   "source": [
    "import numpy as np\n",
    "import keras\n",
    "hidden_layers = keras.backend.function(\n",
    "[layer.input],  # we will feed the function with the input of the first layer  \n",
    "[layer.output,] # we want to get the output of the first layer\n",
    ")\n",
    "h=hidden_layers([X])\n",
    "print(h)\n",
    "print(np.shape(h))"
   ]
  },
  {
   "cell_type": "code",
   "execution_count": 23,
   "id": "3999582d",
   "metadata": {},
   "outputs": [],
   "source": [
    "df = pd.DataFrame(np.concatenate(h))"
   ]
  },
  {
   "cell_type": "code",
   "execution_count": 24,
   "id": "4835247a",
   "metadata": {},
   "outputs": [],
   "source": [
    "df.to_csv('normalattentionvector.csv', index=False)"
   ]
  },
  {
   "cell_type": "code",
   "execution_count": 25,
   "id": "08a9b060",
   "metadata": {},
   "outputs": [],
   "source": [
    "csv_1 = pd.read_csv('normalattentionvector.csv')\n",
    "csv_2 = pd.read_csv('normallabel1.csv')\n",
    "\n",
    "result = pd.concat([csv_1, csv_2], axis=1)"
   ]
  },
  {
   "cell_type": "code",
   "execution_count": 26,
   "id": "4e79eda7",
   "metadata": {},
   "outputs": [],
   "source": [
    "result.to_csv(\"attentionnormalresult.csv\", index=None, header=None)"
   ]
  },
  {
   "cell_type": "code",
   "execution_count": null,
   "id": "134d2e41",
   "metadata": {},
   "outputs": [],
   "source": []
  }
 ],
 "metadata": {
  "kernelspec": {
   "display_name": "Python 3",
   "language": "python",
   "name": "python3"
  },
  "language_info": {
   "codemirror_mode": {
    "name": "ipython",
    "version": 3
   },
   "file_extension": ".py",
   "mimetype": "text/x-python",
   "name": "python",
   "nbconvert_exporter": "python",
   "pygments_lexer": "ipython3",
   "version": "3.8.8"
  }
 },
 "nbformat": 4,
 "nbformat_minor": 5
}
