{
 "cells": [
  {
   "cell_type": "code",
   "execution_count": 1,
   "metadata": {},
   "outputs": [],
   "source": [
    "#https://machinelearningmastery.com/tutorial-first-neural-network-python-keras/\n",
    "# first neural network with keras tutorial\n",
    "from numpy import loadtxt\n",
    "from keras.models import Sequential\n",
    "from keras.layers import Dense\n",
    "\n",
    "import numpy as np\n",
    "import pandas as pd\n",
    "\n",
    "from sklearn import preprocessing\n",
    "from sklearn.model_selection import train_test_split\n"
   ]
  },
  {
   "cell_type": "code",
   "execution_count": 2,
   "metadata": {},
   "outputs": [],
   "source": [
    "csv_1 = pd.read_csv(r\"C:\\Users\\data science\\Final bihga\\KDD\\without hybrid gan\\attentionnormalresult.csv\") \n",
    "  \n",
    "# changing cols with rename() \n",
    "new_data = csv_1.rename(columns = {0: \"Feature1\",\n",
    "                                  1: \"Feature2\", \n",
    "                                  2: \"Feature3\", \n",
    "                                  3: \"Feature4\",\n",
    "                                  4: \"Feature5\",\n",
    "                                  5: \"Feature6\",\n",
    "                                  6: \"Feature7\",\n",
    "                                  7: \"Feature8\",\n",
    "                                  8: \"Feature9\",\n",
    "                                  9: \"Feature10\",\n",
    "                                  10: \"Feature11\",\n",
    "                                  11: \"Feature12\",\n",
    "                                  12: \"Feature13\",\n",
    "                                  13: \"Feature14\",\n",
    "                                  14: \"Feature15\",\n",
    "                                  15: \"Feature16\",\n",
    "                                  16: \"Feature17\",\n",
    "                                  17: \"Feature18\",\n",
    "                                  18: \"Feature19\", \n",
    "                                  19: \"Feature20\", \n",
    "                                  20: \"Label\"}) \n",
    "  \n",
    "# changing columns using .columns() \n",
    "csv_1.columns = ['Feature1', 'Feature2', 'Feature3', 'Feature4', \n",
    "                'Feature5', 'Feature6', 'Feature7', 'Feature8',\n",
    "                 'Feature9', 'Feature10', 'Feature11', 'Feature12',\n",
    "                 'Feature13', 'Feature14', 'Feature15', 'Feature16',\n",
    "                 'Feature17', 'Feature18', 'Feature19', 'Feature20',\"Label\"] \n",
    "\n",
    "csv_1.to_csv(\"attentionnormalresult.csv\", index=None)"
   ]
  },
  {
   "cell_type": "code",
   "execution_count": 3,
   "metadata": {},
   "outputs": [],
   "source": [
    "csv_2 = pd.read_csv(r\"C:\\Users\\data science\\Final bihga\\KDD\\without hybrid gan\\attentionabnormalresult.csv\") \n",
    "  \n",
    "# changing cols with rename() \n",
    "new_data = csv_2.rename(columns = {0: \"Feature1\",\n",
    "                                  1: \"Feature2\", \n",
    "                                  2: \"Feature3\", \n",
    "                                  3: \"Feature4\",\n",
    "                                  4: \"Feature5\",\n",
    "                                  5: \"Feature6\",\n",
    "                                  6: \"Feature7\",\n",
    "                                  7: \"Feature8\",\n",
    "                                  8: \"Feature9\",\n",
    "                                  9: \"Feature10\",\n",
    "                                  10: \"Feature11\",\n",
    "                                  11: \"Feature12\",\n",
    "                                  12: \"Feature13\",\n",
    "                                  13: \"Feature14\",\n",
    "                                  14: \"Feature15\",\n",
    "                                  15: \"Feature16\",\n",
    "                                  16: \"Feature17\",\n",
    "                                  17: \"Feature18\",\n",
    "                                  18: \"Feature19\", \n",
    "                                  19: \"Feature20\", \n",
    "                                  20: \"Label\"}) \n",
    "  \n",
    "# changing columns using .columns() \n",
    "csv_2.columns = ['Feature1', 'Feature2', 'Feature3', 'Feature4', \n",
    "                'Feature5', 'Feature6', 'Feature7', 'Feature8',\n",
    "                 'Feature9', 'Feature10', 'Feature11', 'Feature12',\n",
    "                 'Feature13', 'Feature14', 'Feature15', 'Feature16',\n",
    "                 'Feature17', 'Feature18', 'Feature19', 'Feature20',\"Label\"] \n",
    "  \n",
    "\n",
    "csv_2.to_csv(\"attentionabnormalresult.csv\", index=None)"
   ]
  },
  {
   "cell_type": "code",
   "execution_count": 4,
   "metadata": {},
   "outputs": [
    {
     "name": "stdout",
     "output_type": "stream",
     "text": [
      "       Feature1  Feature2  Feature3  Feature4  Feature5  Feature6  Feature7  \\\n",
      "0      0.051424  0.050554  0.049711  0.049711  0.049711  0.050240  0.049711   \n",
      "1      0.049496  0.052517  0.049496  0.049496  0.050693  0.049496  0.049496   \n",
      "2      0.051709  0.049757  0.049736  0.049736  0.049736  0.050548  0.049736   \n",
      "3      0.049488  0.050166  0.049488  0.049488  0.052823  0.049488  0.049488   \n",
      "4      0.051341  0.052219  0.049631  0.049631  0.049631  0.050087  0.049631   \n",
      "...         ...       ...       ...       ...       ...       ...       ...   \n",
      "39994  0.048809  0.048809  0.048809  0.048809  0.048809  0.054873  0.048809   \n",
      "39995  0.048809  0.048809  0.048809  0.048809  0.048809  0.054873  0.048809   \n",
      "39996  0.048809  0.048809  0.048809  0.048809  0.048809  0.054873  0.048809   \n",
      "39997  0.048810  0.048810  0.048810  0.048810  0.048810  0.054880  0.048810   \n",
      "39998  0.048809  0.048809  0.048809  0.048809  0.048809  0.054873  0.048809   \n",
      "\n",
      "       Feature8  Feature9  Feature10  ...  Feature12  Feature13  Feature14  \\\n",
      "0      0.050848  0.049711   0.051262  ...   0.049711   0.049711   0.049711   \n",
      "1      0.050194  0.054658   0.049496  ...   0.049496   0.049496   0.049496   \n",
      "2      0.050628  0.049736   0.051316  ...   0.049736   0.049736   0.049736   \n",
      "3      0.050019  0.055178   0.049488  ...   0.049488   0.049488   0.049488   \n",
      "4      0.051403  0.049631   0.050299  ...   0.049631   0.049631   0.049631   \n",
      "...         ...       ...        ...  ...        ...        ...        ...   \n",
      "39994  0.048809  0.066568   0.048809  ...   0.048809   0.048809   0.048809   \n",
      "39995  0.048809  0.066568   0.048809  ...   0.048809   0.048809   0.048809   \n",
      "39996  0.048809  0.066568   0.048809  ...   0.048809   0.048809   0.048809   \n",
      "39997  0.048810  0.066537   0.048810  ...   0.048810   0.048810   0.048810   \n",
      "39998  0.048809  0.066568   0.048809  ...   0.048809   0.048809   0.048809   \n",
      "\n",
      "       Feature15  Feature16  Feature17  Feature18  Feature19  Feature20  Label  \n",
      "0       0.049711   0.049711   0.049711   0.049711   0.049711   0.049711    0.0  \n",
      "1       0.049496   0.049496   0.049496   0.049496   0.049496   0.049496    0.0  \n",
      "2       0.049736   0.049736   0.049736   0.049736   0.049736   0.049736    0.0  \n",
      "3       0.049488   0.049488   0.049488   0.049488   0.049488   0.049488    0.0  \n",
      "4       0.049817   0.049631   0.049631   0.049631   0.049631   0.049631    0.0  \n",
      "...          ...        ...        ...        ...        ...        ...    ...  \n",
      "39994   0.048809   0.048809   0.048809   0.048809   0.048809   0.048809    1.0  \n",
      "39995   0.048809   0.048809   0.048809   0.048809   0.048809   0.048809    1.0  \n",
      "39996   0.048809   0.048809   0.048809   0.048809   0.048809   0.048809    1.0  \n",
      "39997   0.048810   0.048810   0.048810   0.048810   0.048810   0.048810    1.0  \n",
      "39998   0.048809   0.048809   0.048809   0.048809   0.048809   0.048809    1.0  \n",
      "\n",
      "[79998 rows x 21 columns]\n"
     ]
    }
   ],
   "source": [
    "merged = csv_1.merge(csv_2,on=\"Label\")\n",
    "\n",
    "merged.to_csv(\"attention1.csv\", index=False)\n",
    "#result = pd.concat([csv_1, csv_2], axis=1)\n",
    "out = csv_1.append(csv_2)\n",
    "print(out)\n",
    "out.to_csv(\"attention1.csv\", index=False)"
   ]
  },
  {
   "cell_type": "markdown",
   "metadata": {},
   "source": [
    "# At attention csv file put label for 40000 th data"
   ]
  },
  {
   "cell_type": "code",
   "execution_count": 18,
   "metadata": {},
   "outputs": [],
   "source": [
    "df = pd.read_csv(\"attention1.csv\",sep=\",\", index_col=None)"
   ]
  },
  {
   "cell_type": "code",
   "execution_count": 19,
   "metadata": {},
   "outputs": [
    {
     "name": "stdout",
     "output_type": "stream",
     "text": [
      "Feature1     float64\n",
      "Feature2     float64\n",
      "Feature3     float64\n",
      "Feature4     float64\n",
      "Feature5     float64\n",
      "Feature6     float64\n",
      "Feature7     float64\n",
      "Feature8     float64\n",
      "Feature9     float64\n",
      "Feature10    float64\n",
      "Feature11    float64\n",
      "Feature12    float64\n",
      "Feature13    float64\n",
      "Feature14    float64\n",
      "Feature15    float64\n",
      "Feature16    float64\n",
      "Feature17    float64\n",
      "Feature18    float64\n",
      "Feature19    float64\n",
      "Feature20    float64\n",
      "Label        float64\n",
      "dtype: object\n"
     ]
    }
   ],
   "source": [
    "print (df.dtypes)"
   ]
  },
  {
   "cell_type": "raw",
   "metadata": {},
   "source": [
    "df['Feature1'] = df['Feature1'].astype(int) \n",
    "df['Feature2'] = df['Feature2'].astype(int) \n",
    "df['Feature3'] = df['Feature3'].astype(int) \n",
    "df['Feature4'] = df['Feature4'].astype(int) \n",
    "df['Feature5'] = df['Feature5'].astype(int) \n",
    "df['Feature6'] = df['Feature6'].astype(int) \n",
    "df['Feature7'] = df['Feature7'].astype(int) \n",
    "df['Feature8'] = df['Feature8'].astype(int) \n",
    "df['Feature9'] = df['Feature9'].astype(int) \n",
    "df['Feature10'] = df['Feature10'].astype(int) \n",
    "df['Feature11'] = df['Feature11'].astype(int) \n",
    "df['Feature12'] = df['Feature12'].astype(int) \n",
    "df['Feature13'] = df['Feature13'].astype(int) \n",
    "df['Feature14'] = df['Feature14'].astype(int) \n",
    "df['Feature15'] = df['Feature15'].astype(int) \n",
    "df['Feature16'] = df['Feature16'].astype(int) \n",
    "df['Feature17'] = df['Feature17'].astype(int) \n",
    "df['Feature18'] = df['Feature18'].astype(int) \n",
    "df['Feature19'] = df['Feature19'].astype(int) \n",
    "df['Feature20'] = df['Feature20'].astype(int) "
   ]
  },
  {
   "cell_type": "raw",
   "metadata": {},
   "source": [
    "from numpy import inf\n",
    "df[df == inf] = np.finfo(np.float64).max"
   ]
  },
  {
   "cell_type": "raw",
   "metadata": {},
   "source": [
    "#df.fillna(0)\n",
    "df.replace([np.inf, -np.inf],np.nan,inplace=True)"
   ]
  },
  {
   "cell_type": "raw",
   "metadata": {},
   "source": [
    "df.fillna(999, inplace=True)"
   ]
  },
  {
   "cell_type": "code",
   "execution_count": 20,
   "metadata": {},
   "outputs": [
    {
     "data": {
      "text/plain": [
       "False"
      ]
     },
     "execution_count": 20,
     "metadata": {},
     "output_type": "execute_result"
    }
   ],
   "source": [
    "np.any(np.isnan(df))"
   ]
  },
  {
   "cell_type": "code",
   "execution_count": 21,
   "metadata": {},
   "outputs": [
    {
     "data": {
      "text/plain": [
       "True"
      ]
     },
     "execution_count": 21,
     "metadata": {},
     "output_type": "execute_result"
    }
   ],
   "source": [
    "np.all(np.isfinite(df))"
   ]
  },
  {
   "cell_type": "code",
   "execution_count": null,
   "metadata": {},
   "outputs": [],
   "source": []
  },
  {
   "cell_type": "raw",
   "metadata": {},
   "source": [
    "df['Label'] = df['Label'].astype(int,errors='ignore')"
   ]
  },
  {
   "cell_type": "code",
   "execution_count": 22,
   "metadata": {},
   "outputs": [
    {
     "name": "stdout",
     "output_type": "stream",
     "text": [
      "Feature1     float64\n",
      "Feature2     float64\n",
      "Feature3     float64\n",
      "Feature4     float64\n",
      "Feature5     float64\n",
      "Feature6     float64\n",
      "Feature7     float64\n",
      "Feature8     float64\n",
      "Feature9     float64\n",
      "Feature10    float64\n",
      "Feature11    float64\n",
      "Feature12    float64\n",
      "Feature13    float64\n",
      "Feature14    float64\n",
      "Feature15    float64\n",
      "Feature16    float64\n",
      "Feature17    float64\n",
      "Feature18    float64\n",
      "Feature19    float64\n",
      "Feature20    float64\n",
      "Label        float64\n",
      "dtype: object\n"
     ]
    }
   ],
   "source": [
    "print (df.dtypes)"
   ]
  },
  {
   "cell_type": "code",
   "execution_count": 23,
   "metadata": {},
   "outputs": [],
   "source": [
    "#df = pd.DataFrame(df)\n",
    "X=df.drop(['Label'], axis=1) \n",
    "y=df['Label']"
   ]
  },
  {
   "cell_type": "code",
   "execution_count": 24,
   "metadata": {},
   "outputs": [],
   "source": [
    "X = X.values.astype(np.float)\n",
    "#y = y.values.astype(np.float)"
   ]
  },
  {
   "cell_type": "code",
   "execution_count": 25,
   "metadata": {},
   "outputs": [
    {
     "name": "stdout",
     "output_type": "stream",
     "text": [
      "55998 Training sequences (55998, 20)\n",
      "24000 Validation sequences (24000, 20)\n",
      "55998 Training sequences (55998,)\n"
     ]
    }
   ],
   "source": [
    "from sklearn.model_selection import train_test_split\n",
    "\n",
    "x_train,x_val,y_train,y_val = train_test_split(X,y,train_size=0.70, random_state=2)\n",
    "print(len(x_train), \"Training sequences\",x_train.shape)\n",
    "print(len(x_val), \"Validation sequences\",x_val.shape)\n",
    "print(len(y_train), \"Training sequences\",y_train.shape)"
   ]
  },
  {
   "cell_type": "code",
   "execution_count": 26,
   "metadata": {},
   "outputs": [],
   "source": [
    "\n",
    "# define the keras model\n",
    "model = Sequential()\n",
    "model.add(Dense(12, input_dim=20, activation='relu'))\n",
    "model.add(Dense(8, activation='relu'))\n",
    "model.add(Dense(1, activation='sigmoid'))"
   ]
  },
  {
   "cell_type": "code",
   "execution_count": 27,
   "metadata": {},
   "outputs": [],
   "source": [
    "# compile the keras model\n",
    "model.compile(loss='binary_crossentropy', optimizer='adam', metrics=['accuracy'])"
   ]
  },
  {
   "cell_type": "code",
   "execution_count": 28,
   "metadata": {},
   "outputs": [
    {
     "name": "stdout",
     "output_type": "stream",
     "text": [
      "Model: \"sequential_1\"\n",
      "_________________________________________________________________\n",
      "Layer (type)                 Output Shape              Param #   \n",
      "=================================================================\n",
      "dense_3 (Dense)              (None, 12)                252       \n",
      "_________________________________________________________________\n",
      "dense_4 (Dense)              (None, 8)                 104       \n",
      "_________________________________________________________________\n",
      "dense_5 (Dense)              (None, 1)                 9         \n",
      "=================================================================\n",
      "Total params: 365\n",
      "Trainable params: 365\n",
      "Non-trainable params: 0\n",
      "_________________________________________________________________\n"
     ]
    }
   ],
   "source": [
    "model.summary()"
   ]
  },
  {
   "cell_type": "code",
   "execution_count": 29,
   "metadata": {},
   "outputs": [],
   "source": [
    "import time, datetime\n",
    "\n",
    "start = datetime.datetime.now()\n",
    "time.sleep(10)"
   ]
  },
  {
   "cell_type": "code",
   "execution_count": 30,
   "metadata": {
    "scrolled": false
   },
   "outputs": [
    {
     "name": "stdout",
     "output_type": "stream",
     "text": [
      "Epoch 1/20\n",
      "6000/6000 [==============================] - 5s 786us/step - loss: 0.6294 - accuracy: 0.6597 - val_loss: 0.4984 - val_accuracy: 0.7513\n",
      "Epoch 2/20\n",
      "6000/6000 [==============================] - 5s 786us/step - loss: 0.4580 - accuracy: 0.7472 - val_loss: 0.4292 - val_accuracy: 0.7289\n",
      "Epoch 3/20\n",
      "6000/6000 [==============================] - 5s 794us/step - loss: 0.4182 - accuracy: 0.7762 - val_loss: 0.3896 - val_accuracy: 0.8137\n",
      "Epoch 4/20\n",
      "6000/6000 [==============================] - 5s 783us/step - loss: 0.3844 - accuracy: 0.8079 - val_loss: 0.3675 - val_accuracy: 0.8026\n",
      "Epoch 5/20\n",
      "6000/6000 [==============================] - 5s 794us/step - loss: 0.3552 - accuracy: 0.8283 - val_loss: 0.3379 - val_accuracy: 0.8403\n",
      "Epoch 6/20\n",
      "6000/6000 [==============================] - 5s 774us/step - loss: 0.3289 - accuracy: 0.8422 - val_loss: 0.3218 - val_accuracy: 0.9358\n",
      "Epoch 7/20\n",
      "6000/6000 [==============================] - 5s 795us/step - loss: 0.3085 - accuracy: 0.8542 - val_loss: 0.2893 - val_accuracy: 0.8385\n",
      "Epoch 8/20\n",
      "6000/6000 [==============================] - 5s 767us/step - loss: 0.2888 - accuracy: 0.8665 - val_loss: 0.2756 - val_accuracy: 0.8430\n",
      "Epoch 9/20\n",
      "6000/6000 [==============================] - 5s 761us/step - loss: 0.2729 - accuracy: 0.8781 - val_loss: 0.2599 - val_accuracy: 0.8468\n",
      "Epoch 10/20\n",
      "6000/6000 [==============================] - 4s 684us/step - loss: 0.2569 - accuracy: 0.8912 - val_loss: 0.2475 - val_accuracy: 0.8487\n",
      "Epoch 11/20\n",
      "6000/6000 [==============================] - 4s 738us/step - loss: 0.2433 - accuracy: 0.9018 - val_loss: 0.2152 - val_accuracy: 0.8916\n",
      "Epoch 12/20\n",
      "6000/6000 [==============================] - 5s 771us/step - loss: 0.2276 - accuracy: 0.9135 - val_loss: 0.2121 - val_accuracy: 0.9565\n",
      "Epoch 13/20\n",
      "6000/6000 [==============================] - 5s 756us/step - loss: 0.2159 - accuracy: 0.9231 - val_loss: 0.1965 - val_accuracy: 0.8700\n",
      "Epoch 14/20\n",
      "6000/6000 [==============================] - 5s 770us/step - loss: 0.2058 - accuracy: 0.9291 - val_loss: 0.2175 - val_accuracy: 0.8614\n",
      "Epoch 15/20\n",
      "6000/6000 [==============================] - 5s 782us/step - loss: 0.1948 - accuracy: 0.9366 - val_loss: 0.1654 - val_accuracy: 0.9646\n",
      "Epoch 16/20\n",
      "6000/6000 [==============================] - 5s 769us/step - loss: 0.1829 - accuracy: 0.9427 - val_loss: 0.1568 - val_accuracy: 0.9668\n",
      "Epoch 17/20\n",
      "6000/6000 [==============================] - 5s 780us/step - loss: 0.1761 - accuracy: 0.9452 - val_loss: 0.1891 - val_accuracy: 0.8706\n",
      "Epoch 18/20\n",
      "6000/6000 [==============================] - 5s 800us/step - loss: 0.1668 - accuracy: 0.9482 - val_loss: 0.1474 - val_accuracy: 0.9623\n",
      "Epoch 19/20\n",
      "6000/6000 [==============================] - 5s 787us/step - loss: 0.1566 - accuracy: 0.9532 - val_loss: 0.1361 - val_accuracy: 0.9638\n",
      "Epoch 20/20\n",
      "6000/6000 [==============================] - 5s 804us/step - loss: 0.1493 - accuracy: 0.9568 - val_loss: 0.1308 - val_accuracy: 0.9639\n",
      "2500/2500 [==============================] - 2s 779us/step - loss: 0.1353 - accuracy: 0.9635\n",
      "overall Accuracy: 96.35\n",
      "[[9976  136]\n",
      " [ 587 9301]]\n",
      "accuracy: 0.963850\n",
      "f1 score: 0.965030\n",
      "precision score: 0.944429\n",
      "recall score: 0.986551\n",
      "ROC AUC: 0.963593\n",
      "ROC AUC: 0.963593\n",
      "No Skill: ROC AUC=0.964\n"
     ]
    },
    {
     "data": {
      "image/png": "[encoded data removed]",
      "text/plain": [
       "<Figure size 432x288 with 1 Axes>"
      ]
     },
     "metadata": {
      "needs_background": "light"
     },
     "output_type": "display_data"
    },
    {
     "name": "stdout",
     "output_type": "stream",
     "text": [
      "3        0.0\n",
      "7        0.0\n",
      "8        0.0\n",
      "11       0.0\n",
      "12       0.0\n",
      "        ... \n",
      "79983    1.0\n",
      "79984    1.0\n",
      "79989    1.0\n",
      "79992    1.0\n",
      "79995    1.0\n",
      "Name: Label, Length: 20000, dtype: float64\n"
     ]
    },
    {
     "data": {
      "image/png": "[encoded data removed]",
      "text/plain": [
       "<Figure size 432x288 with 1 Axes>"
      ]
     },
     "metadata": {
      "needs_background": "light"
     },
     "output_type": "display_data"
    },
    {
     "name": "stdout",
     "output_type": "stream",
     "text": [
      "Epoch 1/20\n",
      "6000/6000 [==============================] - 5s 804us/step - loss: 0.1407 - accuracy: 0.9594 - val_loss: 0.1208 - val_accuracy: 0.9689\n",
      "Epoch 2/20\n",
      "6000/6000 [==============================] - 5s 790us/step - loss: 0.1366 - accuracy: 0.9619 - val_loss: 0.1291 - val_accuracy: 0.9639\n",
      "Epoch 3/20\n",
      "6000/6000 [==============================] - 5s 781us/step - loss: 0.1290 - accuracy: 0.9663 - val_loss: 0.1313 - val_accuracy: 0.9813\n",
      "Epoch 4/20\n",
      "6000/6000 [==============================] - 5s 801us/step - loss: 0.1256 - accuracy: 0.9679 - val_loss: 0.1302 - val_accuracy: 0.9804\n",
      "Epoch 5/20\n",
      "6000/6000 [==============================] - 5s 787us/step - loss: 0.1214 - accuracy: 0.9697 - val_loss: 0.1170 - val_accuracy: 0.9676\n",
      "Epoch 6/20\n",
      "6000/6000 [==============================] - 5s 769us/step - loss: 0.1197 - accuracy: 0.9706 - val_loss: 0.1105 - val_accuracy: 0.9796\n",
      "Epoch 7/20\n",
      "6000/6000 [==============================] - 5s 792us/step - loss: 0.1217 - accuracy: 0.9688 - val_loss: 0.2262 - val_accuracy: 0.9258\n",
      "Epoch 8/20\n",
      "6000/6000 [==============================] - 5s 771us/step - loss: 0.1185 - accuracy: 0.9710 - val_loss: 0.1046 - val_accuracy: 0.9760\n",
      "Epoch 9/20\n",
      "6000/6000 [==============================] - 5s 755us/step - loss: 0.1177 - accuracy: 0.9710 - val_loss: 0.1018 - val_accuracy: 0.9783\n",
      "Epoch 10/20\n",
      "6000/6000 [==============================] - 5s 773us/step - loss: 0.1164 - accuracy: 0.9721 - val_loss: 0.1066 - val_accuracy: 0.9740\n",
      "Epoch 11/20\n",
      "6000/6000 [==============================] - 5s 755us/step - loss: 0.1149 - accuracy: 0.9726 - val_loss: 0.1069 - val_accuracy: 0.9804\n",
      "Epoch 12/20\n",
      "6000/6000 [==============================] - 5s 767us/step - loss: 0.1196 - accuracy: 0.9719 - val_loss: 0.1156 - val_accuracy: 0.9712\n",
      "Epoch 13/20\n",
      "6000/6000 [==============================] - 5s 759us/step - loss: 0.1137 - accuracy: 0.9728 - val_loss: 0.1390 - val_accuracy: 0.9596\n",
      "Epoch 14/20\n",
      "6000/6000 [==============================] - 5s 814us/step - loss: 0.1133 - accuracy: 0.9734 - val_loss: 0.1049 - val_accuracy: 0.9807\n",
      "Epoch 15/20\n",
      "6000/6000 [==============================] - 5s 780us/step - loss: 0.1135 - accuracy: 0.9735 - val_loss: 0.1009 - val_accuracy: 0.9805\n",
      "Epoch 16/20\n",
      "6000/6000 [==============================] - 5s 787us/step - loss: 0.1144 - accuracy: 0.9734 - val_loss: 0.1206 - val_accuracy: 0.9685\n",
      "Epoch 17/20\n",
      "6000/6000 [==============================] - 5s 761us/step - loss: 0.1152 - accuracy: 0.9731 - val_loss: 0.1350 - val_accuracy: 0.9611\n",
      "Epoch 18/20\n",
      "6000/6000 [==============================] - 5s 806us/step - loss: 0.1112 - accuracy: 0.9734 - val_loss: 0.1000 - val_accuracy: 0.9772\n",
      "Epoch 19/20\n",
      "6000/6000 [==============================] - 5s 766us/step - loss: 0.1143 - accuracy: 0.9728 - val_loss: 0.1227 - val_accuracy: 0.9824\n",
      "Epoch 20/20\n",
      "6000/6000 [==============================] - 5s 765us/step - loss: 0.1118 - accuracy: 0.9742 - val_loss: 0.1258 - val_accuracy: 0.9642\n",
      "2500/2500 [==============================] - 2s 719us/step - loss: 0.1212 - accuracy: 0.9654\n",
      "overall Accuracy: 96.54\n",
      "[[9830  195]\n",
      " [ 521 9454]]\n",
      "accuracy: 0.964200\n",
      "f1 score: 0.964861\n",
      "precision score: 0.949667\n",
      "recall score: 0.980549\n",
      "ROC AUC: 0.964159\n",
      "ROC AUC: 0.964159\n",
      "No Skill: ROC AUC=0.964\n"
     ]
    },
    {
     "data": {
      "image/png": "[encoded data removed]",
      "text/plain": [
       "<Figure size 432x288 with 1 Axes>"
      ]
     },
     "metadata": {
      "needs_background": "light"
     },
     "output_type": "display_data"
    },
    {
     "name": "stdout",
     "output_type": "stream",
     "text": [
      "5        0.0\n",
      "13       0.0\n",
      "14       0.0\n",
      "16       0.0\n",
      "20       0.0\n",
      "        ... \n",
      "79982    1.0\n",
      "79986    1.0\n",
      "79988    1.0\n",
      "79990    1.0\n",
      "79993    1.0\n",
      "Name: Label, Length: 20000, dtype: float64\n"
     ]
    },
    {
     "data": {
      "image/png": "[encoded data removed]",
      "text/plain": [
       "<Figure size 432x288 with 1 Axes>"
      ]
     },
     "metadata": {
      "needs_background": "light"
     },
     "output_type": "display_data"
    },
    {
     "name": "stdout",
     "output_type": "stream",
     "text": [
      "Epoch 1/20\n",
      "6000/6000 [==============================] - 5s 848us/step - loss: 0.1118 - accuracy: 0.9731 - val_loss: 0.0950 - val_accuracy: 0.9796\n",
      "Epoch 2/20\n",
      "6000/6000 [==============================] - 5s 843us/step - loss: 0.1106 - accuracy: 0.9736 - val_loss: 0.1143 - val_accuracy: 0.9840\n",
      "Epoch 3/20\n",
      "6000/6000 [==============================] - 5s 847us/step - loss: 0.1240 - accuracy: 0.9696 - val_loss: 0.1066 - val_accuracy: 0.9775\n",
      "Epoch 4/20\n",
      "6000/6000 [==============================] - 5s 863us/step - loss: 0.1174 - accuracy: 0.9708 - val_loss: 0.1025 - val_accuracy: 0.9756\n",
      "Epoch 5/20\n",
      "6000/6000 [==============================] - 5s 869us/step - loss: 0.1161 - accuracy: 0.9708 - val_loss: 0.1174 - val_accuracy: 0.9712\n",
      "Epoch 6/20\n",
      "6000/6000 [==============================] - 5s 869us/step - loss: 0.1132 - accuracy: 0.9721 - val_loss: 0.1211 - val_accuracy: 0.9823\n",
      "Epoch 7/20\n",
      "6000/6000 [==============================] - 5s 864us/step - loss: 0.1111 - accuracy: 0.9731 - val_loss: 0.1167 - val_accuracy: 0.9669\n",
      "Epoch 8/20\n",
      "6000/6000 [==============================] - 5s 878us/step - loss: 0.1101 - accuracy: 0.9730 - val_loss: 0.0942 - val_accuracy: 0.9776\n",
      "Epoch 9/20\n",
      "6000/6000 [==============================] - 5s 860us/step - loss: 0.1117 - accuracy: 0.9720 - val_loss: 0.0937 - val_accuracy: 0.9804\n",
      "Epoch 10/20\n",
      "6000/6000 [==============================] - 5s 842us/step - loss: 0.1095 - accuracy: 0.9733 - val_loss: 0.0961 - val_accuracy: 0.9769\n",
      "Epoch 11/20\n",
      "6000/6000 [==============================] - 5s 845us/step - loss: 0.1073 - accuracy: 0.9737 - val_loss: 0.1192 - val_accuracy: 0.9836\n",
      "Epoch 12/20\n",
      "6000/6000 [==============================] - 5s 845us/step - loss: 0.1061 - accuracy: 0.9741 - val_loss: 0.0943 - val_accuracy: 0.9780\n",
      "Epoch 13/20\n",
      "6000/6000 [==============================] - 5s 847us/step - loss: 0.1060 - accuracy: 0.9744 - val_loss: 0.0983 - val_accuracy: 0.9763\n",
      "Epoch 14/20\n",
      "6000/6000 [==============================] - 5s 848us/step - loss: 0.1051 - accuracy: 0.9739 - val_loss: 0.1307 - val_accuracy: 0.9607\n",
      "Epoch 15/20\n",
      "6000/6000 [==============================] - 5s 850us/step - loss: 0.1041 - accuracy: 0.9742 - val_loss: 0.0925 - val_accuracy: 0.9782\n",
      "Epoch 16/20\n",
      "6000/6000 [==============================] - 5s 857us/step - loss: 0.1031 - accuracy: 0.9741 - val_loss: 0.0926 - val_accuracy: 0.9786\n",
      "Epoch 17/20\n",
      "6000/6000 [==============================] - 5s 853us/step - loss: 0.1033 - accuracy: 0.9748 - val_loss: 0.1259 - val_accuracy: 0.9622\n",
      "Epoch 18/20\n",
      "6000/6000 [==============================] - 5s 845us/step - loss: 0.1019 - accuracy: 0.9752 - val_loss: 0.1305 - val_accuracy: 0.9607\n",
      "Epoch 19/20\n",
      "6000/6000 [==============================] - 5s 868us/step - loss: 0.1004 - accuracy: 0.9758 - val_loss: 0.1160 - val_accuracy: 0.9710\n",
      "Epoch 20/20\n",
      "6000/6000 [==============================] - 5s 864us/step - loss: 0.1007 - accuracy: 0.9758 - val_loss: 0.0959 - val_accuracy: 0.9841\n",
      "2500/2500 [==============================] - 2s 749us/step - loss: 0.0941 - accuracy: 0.9834\n",
      "overall Accuracy: 98.34\n",
      "[[ 9621   212]\n",
      " [  106 10060]]\n",
      "accuracy: 0.984099\n",
      "f1 score: 0.983742\n",
      "precision score: 0.989102\n",
      "recall score: 0.978440\n",
      "ROC AUC: 0.984007\n",
      "ROC AUC: 0.984007\n",
      "No Skill: ROC AUC=0.984\n"
     ]
    },
    {
     "data": {
      "image/png": "[encoded data removed]",
      "text/plain": [
       "<Figure size 432x288 with 1 Axes>"
      ]
     },
     "metadata": {
      "needs_background": "light"
     },
     "output_type": "display_data"
    },
    {
     "name": "stdout",
     "output_type": "stream",
     "text": [
      "2        0.0\n",
      "6        0.0\n",
      "9        0.0\n",
      "19       0.0\n",
      "22       0.0\n",
      "        ... \n",
      "79970    1.0\n",
      "79971    1.0\n",
      "79972    1.0\n",
      "79985    1.0\n",
      "79991    1.0\n",
      "Name: Label, Length: 19999, dtype: float64\n"
     ]
    },
    {
     "data": {
      "image/png": "[encoded data removed]",
      "text/plain": [
       "<Figure size 432x288 with 1 Axes>"
      ]
     },
     "metadata": {
      "needs_background": "light"
     },
     "output_type": "display_data"
    },
    {
     "name": "stdout",
     "output_type": "stream",
     "text": [
      "Epoch 1/20\n",
      "6000/6000 [==============================] - 5s 881us/step - loss: 0.1021 - accuracy: 0.9759 - val_loss: 0.0905 - val_accuracy: 0.9823\n",
      "Epoch 2/20\n",
      "6000/6000 [==============================] - 5s 871us/step - loss: 0.0992 - accuracy: 0.9776 - val_loss: 0.0826 - val_accuracy: 0.9808\n",
      "Epoch 3/20\n",
      "6000/6000 [==============================] - 5s 851us/step - loss: 0.0987 - accuracy: 0.9774 - val_loss: 0.0829 - val_accuracy: 0.9812\n",
      "Epoch 4/20\n",
      "6000/6000 [==============================] - 5s 852us/step - loss: 0.0974 - accuracy: 0.9779 - val_loss: 0.0925 - val_accuracy: 0.9772accuracy: \n",
      "Epoch 5/20\n",
      "6000/6000 [==============================] - 5s 872us/step - loss: 0.0974 - accuracy: 0.9775 - val_loss: 0.1200 - val_accuracy: 0.9630\n",
      "Epoch 6/20\n",
      "6000/6000 [==============================] - 5s 864us/step - loss: 0.0993 - accuracy: 0.9770 - val_loss: 0.0957 - val_accuracy: 0.9757\n",
      "Epoch 7/20\n",
      "6000/6000 [==============================] - 5s 858us/step - loss: 0.0982 - accuracy: 0.9777 - val_loss: 0.0988 - val_accuracy: 0.9754\n",
      "Epoch 8/20\n",
      "6000/6000 [==============================] - 5s 878us/step - loss: 0.0970 - accuracy: 0.9782 - val_loss: 0.0807 - val_accuracy: 0.9804\n",
      "Epoch 9/20\n",
      "6000/6000 [==============================] - 5s 877us/step - loss: 0.0964 - accuracy: 0.9784 - val_loss: 0.0888 - val_accuracy: 0.9832\n",
      "Epoch 10/20\n",
      "6000/6000 [==============================] - 5s 863us/step - loss: 0.0977 - accuracy: 0.9776 - val_loss: 0.0807 - val_accuracy: 0.9811\n",
      "Epoch 11/20\n",
      "6000/6000 [==============================] - 5s 881us/step - loss: 0.0960 - accuracy: 0.9780 - val_loss: 0.0820 - val_accuracy: 0.9833\n",
      "Epoch 12/20\n",
      "6000/6000 [==============================] - 5s 863us/step - loss: 0.0951 - accuracy: 0.9784 - val_loss: 0.0852 - val_accuracy: 0.9833\n",
      "Epoch 13/20\n",
      "6000/6000 [==============================] - 5s 861us/step - loss: 0.0961 - accuracy: 0.9783 - val_loss: 0.1091 - val_accuracy: 0.9720\n",
      "Epoch 14/20\n",
      "6000/6000 [==============================] - 5s 882us/step - loss: 0.0952 - accuracy: 0.9785 - val_loss: 0.1536 - val_accuracy: 0.9482\n",
      "Epoch 15/20\n",
      "6000/6000 [==============================] - 5s 873us/step - loss: 0.0939 - accuracy: 0.9786 - val_loss: 0.0859 - val_accuracy: 0.9789\n",
      "Epoch 16/20\n",
      "6000/6000 [==============================] - 5s 873us/step - loss: 0.0942 - accuracy: 0.9791 - val_loss: 0.0807 - val_accuracy: 0.9835\n",
      "Epoch 17/20\n",
      "6000/6000 [==============================] - 5s 888us/step - loss: 0.0944 - accuracy: 0.9782 - val_loss: 0.1193 - val_accuracy: 0.9683\n",
      "Epoch 18/20\n",
      "6000/6000 [==============================] - 5s 873us/step - loss: 0.0939 - accuracy: 0.9793 - val_loss: 0.0793 - val_accuracy: 0.9807\n",
      "Epoch 19/20\n",
      "6000/6000 [==============================] - 5s 872us/step - loss: 0.0950 - accuracy: 0.9783 - val_loss: 0.0789 - val_accuracy: 0.9836\n",
      "Epoch 20/20\n",
      "6000/6000 [==============================] - 5s 869us/step - loss: 0.0944 - accuracy: 0.9792 - val_loss: 0.0845 - val_accuracy: 0.9849\n",
      "2500/2500 [==============================] - 2s 707us/step - loss: 0.0842 - accuracy: 0.9853\n",
      "overall Accuracy: 98.53\n",
      "[[9842  187]\n",
      " [ 115 9855]]\n",
      "accuracy: 0.984899\n",
      "f1 score: 0.984889\n",
      "precision score: 0.988450\n",
      "recall score: 0.981354\n",
      "ROC AUC: 0.984910\n",
      "ROC AUC: 0.984910\n",
      "No Skill: ROC AUC=0.985\n"
     ]
    },
    {
     "data": {
      "image/png": "[encoded data removed]",
      "text/plain": [
       "<Figure size 432x288 with 1 Axes>"
      ]
     },
     "metadata": {
      "needs_background": "light"
     },
     "output_type": "display_data"
    },
    {
     "name": "stdout",
     "output_type": "stream",
     "text": [
      "0        0.0\n",
      "1        0.0\n",
      "4        0.0\n",
      "10       0.0\n",
      "15       0.0\n",
      "        ... \n",
      "79979    1.0\n",
      "79987    1.0\n",
      "79994    1.0\n",
      "79996    1.0\n",
      "79997    1.0\n",
      "Name: Label, Length: 19999, dtype: float64\n"
     ]
    },
    {
     "data": {
      "image/png": "[encoded data removed]",
      "text/plain": [
       "<Figure size 432x288 with 1 Axes>"
      ]
     },
     "metadata": {
      "needs_background": "light"
     },
     "output_type": "display_data"
    },
    {
     "name": "stdout",
     "output_type": "stream",
     "text": [
      "Cross Validation ROC - AUC = 0.9741670376775983\n",
      "Cross Validation Precision recall curve - AUC = 0.9593048086797653\n",
      "Cross Validation accuracy = 0.974262112480624\n",
      "Cross Validation f1 = 0.9746306509919708\n",
      "Cross Validation precision = 0.9679120499039814\n",
      "Cross Validation recall = 0.9817233204112318\n",
      "Cross Validation fpr = [0.         0.03338925 1.        ]\n",
      "Cross Validation tpr = [0.         0.98172332 1.        ]\n",
      "Cross Validation lr_precision = [0.49999991 0.96791205 1.        ]\n",
      "Cross Validation lr_recall = [1.         0.98172332 0.        ]\n"
     ]
    },
    {
     "data": {
      "text/plain": [
       "[<matplotlib.lines.Line2D at 0xaedb9de970>]"
      ]
     },
     "execution_count": 30,
     "metadata": {},
     "output_type": "execute_result"
    },
    {
     "data": {
      "image/png": "[encoded data removed]",
      "text/plain": [
       "<Figure size 432x288 with 1 Axes>"
      ]
     },
     "metadata": {
      "needs_background": "light"
     },
     "output_type": "display_data"
    }
   ],
   "source": [
    "from sklearn.model_selection import KFold\n",
    "from sklearn.metrics import confusion_matrix\n",
    "from sklearn.metrics import f1_score\n",
    "from sklearn.metrics import precision_score\n",
    "from sklearn.metrics import average_precision_score\n",
    "from sklearn.metrics import recall_score\n",
    "from sklearn.metrics import roc_auc_score\n",
    "from sklearn.metrics import accuracy_score\n",
    "from numpy import arange\n",
    "from sklearn.metrics import roc_curve\n",
    "import matplotlib.pyplot as plt\n",
    "from matplotlib import pyplot \n",
    "from importlib import reload\n",
    "reload(plt)\n",
    "#from matplotlib import pyplot\n",
    "from sklearn.metrics import precision_recall_curve\n",
    "from sklearn.metrics import auc\n",
    "\n",
    "\n",
    "kf = KFold(n_splits=4,shuffle=True,random_state=None)\n",
    "\n",
    "scores = []\n",
    "aucs=0\n",
    "aucs1=0\n",
    "f1s=0\n",
    "recalls=0\n",
    "precisions=0\n",
    "accuracys=0\n",
    "lr_precisions=0\n",
    "lr_recalls=0\n",
    "fprs=0\n",
    "tprs=0\n",
    "\n",
    "for train_index, test_index in kf.split(X):\n",
    "    x_train, x_val = X[train_index], X[test_index]\n",
    "    y_train, y_val = y[train_index], y[test_index]\n",
    "    \n",
    "    model.fit(x_train, y_train, epochs=20, batch_size=10, validation_data=(x_val, y_val))\n",
    "    \n",
    "    # make probability predictions with the model\n",
    "    predictions = model.predict(x_val)\n",
    "    # round predictions \n",
    "    predictions = [round(x[0]) for x in predictions]\n",
    "    \n",
    "   \n",
    "    # make class predictions with the model\n",
    "   # predictions1 =  model.predict>0.5.astype('int32')\n",
    "    \n",
    "    # evaluate the keras model\n",
    "    _, accuracy = model.evaluate(X, y)\n",
    "    print('overall Accuracy: %.2f' % (accuracy*100))\n",
    "    \n",
    "    print(confusion_matrix(y_val,predictions,labels=[1,0]))\n",
    "    \n",
    "    #No need for threshold setting since getting same value   \n",
    "    accuracy=accuracy_score(y_val,predictions)\n",
    "    print('accuracy: %f' % accuracy)\n",
    "    \n",
    "    f1=f1_score(y_val,predictions)\n",
    "    print('f1 score: %f' % f1)    \n",
    "    \n",
    "    precision=precision_score(y_val,predictions)\n",
    "    print('precision score: %f' % precision)\n",
    "    \n",
    "    recall=recall_score(y_val,predictions)\n",
    "    print('recall score: %f' % recall)\n",
    "    \n",
    "    auc = roc_auc_score(y_val, predictions)\n",
    "    print('ROC AUC: %f' % auc)    \n",
    "    \n",
    "    ns_auc = roc_auc_score(y_val, predictions)\n",
    "    print('ROC AUC: %f' % auc)  \n",
    "    \n",
    "    # summarize scores\n",
    "    print('No Skill: ROC AUC=%.3f' % (ns_auc))\n",
    "    \n",
    "    #https://machinelearningmastery.com/roc-curves-and-precision-recall-curves-for-classification-in-python/#:~:text=with%20sample%20code).-,ROC%20Curves%20and%20AUC%20in%20Python,probabilities%20for%20the%201%20class.\n",
    "    # calculate roc curves\n",
    "    ns_fpr, ns_tpr, _ = roc_curve(y_val, predictions)\n",
    "    fpr, tpr, _ = roc_curve(y_val, predictions)\n",
    "    pyplot.plot(ns_fpr, ns_tpr, linestyle='--', label='No Skill')\n",
    "    pyplot.plot(fpr, tpr, marker='.', label='Bi-HGA')\n",
    "\n",
    "    # axis labels\n",
    "    pyplot.xlabel('False Positive Rate')\n",
    "    pyplot.ylabel('True Positive Rate')\n",
    "    # show the legend\n",
    "    pyplot.legend()\n",
    "    # show the plot\n",
    "    pyplot.show()\n",
    "\n",
    "    print(y_val)\n",
    "    #https://www.kaggle.com/vedbharti/classification-precision-recall-vs-roc-plot\n",
    "    auc1=average_precision_score(y_val, predictions)\n",
    "     \n",
    "    lr_precision, lr_recall, _ = precision_recall_curve(y_val, predictions)\n",
    "    #lr_f1, lr_auc = f1_score(y_val, predictions1), auc(lr_recall, lr_precision)\n",
    "    # summarize scores\n",
    "    #print('Logistic: f1=%.3f auc=%.3f' % (lr_f1, lr_auc))\n",
    "    # plot the precision-recall curves\n",
    "    #no_skill = len(testy[testy==1]) / len(testy)\n",
    "    #pyplot.plot([0, 1], [no_skill, no_skill], linestyle='--', label='No Skill')\n",
    "    pyplot.plot(lr_recall, lr_precision, marker='.', label='Bi-HGA')\n",
    "    # axis labels\n",
    "    pyplot.xlabel('Recall')\n",
    "    pyplot.ylabel('Precision')\n",
    "    # show the legend\n",
    "    pyplot.legend()\n",
    "    # show the plot\n",
    "    pyplot.show()\n",
    "    \n",
    "    aucs += auc\n",
    "    aucs1 += auc1\n",
    "    accuracys += accuracy\n",
    "    f1s += f1\n",
    "    precisions += precision\n",
    "    recalls += recall\n",
    "    ns_fpr+=ns_fpr\n",
    "    ns_tpr+=ns_tpr\n",
    "    fprs+=fpr\n",
    "    tprs+=tpr\n",
    "    lr_recalls+=lr_recall\n",
    "    lr_precisions+=lr_precision\n",
    "print(\"Cross Validation ROC - AUC = {}\".format(aucs/4))\n",
    "print(\"Cross Validation Precision recall curve - AUC = {}\".format(aucs1/4))\n",
    "print(\"Cross Validation accuracy = {}\".format(accuracys/4))\n",
    "print(\"Cross Validation f1 = {}\".format(f1s/4))\n",
    "print(\"Cross Validation precision = {}\".format(precisions/4))\n",
    "print(\"Cross Validation recall = {}\".format(recalls/4))\n",
    "print(\"Cross Validation fpr = {}\".format(fprs/4))\n",
    "print(\"Cross Validation tpr = {}\".format(tprs/4))\n",
    "print(\"Cross Validation lr_precision = {}\".format(lr_precisions/4))\n",
    "print(\"Cross Validation lr_recall = {}\".format(lr_recalls/4))\n",
    "\n",
    "ns_fpr, ns_tpr, _ = roc_curve(y_val, predictions)\n",
    "fpr, tpr, _ = roc_curve(y_val, predictions)\n",
    "pyplot.plot(ns_fpr, ns_tpr, linestyle='--', label='No Skill')\n",
    "pyplot.plot(fpr, tpr, marker='.', label='Bi-HGA')\n"
   ]
  },
  {
   "cell_type": "code",
   "execution_count": 31,
   "metadata": {},
   "outputs": [
    {
     "name": "stdout",
     "output_type": "stream",
     "text": [
      "0h 6m 54s\n"
     ]
    }
   ],
   "source": [
    "end = datetime.datetime.now()\n",
    "\n",
    "diff = (end - start)\n",
    "\n",
    "datetime.timedelta(seconds=10, microseconds=885206)\n",
    "\n",
    "diff_seconds = int(diff.total_seconds())\n",
    "\n",
    "minute_seconds, seconds = divmod(diff_seconds, 60)\n",
    "hours, minutes = divmod(minute_seconds, 60)\n",
    "hms = f\"{hours}h {minutes}m {seconds}s\"\n",
    "\n",
    "'0h 0m 10s'\n",
    "print(hms) "
   ]
  }
 ],
 "metadata": {
  "kernelspec": {
   "display_name": "Python 3 (ipykernel)",
   "language": "python",
   "name": "python3"
  },
  "language_info": {
   "codemirror_mode": {
    "name": "ipython",
    "version": 3
   },
   "file_extension": ".py",
   "mimetype": "text/x-python",
   "name": "python",
   "nbconvert_exporter": "python",
   "pygments_lexer": "ipython3",
   "version": "3.11.4"
  }
 },
 "nbformat": 4,
 "nbformat_minor": 4
}
