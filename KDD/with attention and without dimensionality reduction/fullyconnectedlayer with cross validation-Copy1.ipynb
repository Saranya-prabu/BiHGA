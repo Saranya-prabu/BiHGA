{
 "cells": [
  {
   "cell_type": "code",
   "execution_count": 1,
   "metadata": {},
   "outputs": [],
   "source": [
    "#https://machinelearningmastery.com/tutorial-first-neural-network-python-keras/\n",
    "# first neural network with keras tutorial\n",
    "from numpy import loadtxt\n",
    "from keras.models import Sequential\n",
    "from keras.layers import Dense\n",
    "\n",
    "import numpy as np\n",
    "import pandas as pd\n",
    "\n",
    "from sklearn import preprocessing\n",
    "from sklearn.model_selection import train_test_split\n"
   ]
  },
  {
   "cell_type": "code",
   "execution_count": 2,
   "metadata": {},
   "outputs": [
    {
     "name": "stdout",
     "output_type": "stream",
     "text": [
      "[1, 2, 3, 4, 5, 6, 7, 8, 9, 10, 11, 12, 13, 14, 15, 16, 17, 18, 19, 20, 21, 22, 23, 24, 25, 26, 27, 28, 29, 30, 31, 32, 33, 34, 35, 36, 37, 38, 39, 40, 41, 42, 43, 44, 45, 46, 47, 48, 49, 50, 51, 52, 53, 54, 55, 56, 57, 58, 59, 60, 61, 62, 63, 64, 65, 66, 67, 68, 69, 70, 71, 72, 73, 74, 75, 76, 77, 78, 79, 80, 81, 82, 83, 84, 85, 86, 87, 88, 89, 90, 91, 92, 93, 94, 95, 96, 97, 98, 99, 100, 101, 102, 103, 104, 105, 106, 107, 108, 109, 110, 111, 112, 113, 114, 115, 116, 117, 118]\n"
     ]
    }
   ],
   "source": [
    "def createList(r1, r2):\n",
    "  \n",
    "    # Testing if range r1 and r2 \n",
    "    # are equal\n",
    "    if (r1 == 118):\n",
    "        return \"Label\"\n",
    "  \n",
    "    else:\n",
    "  \n",
    "        # Create empty list\n",
    "        res = []\n",
    "  \n",
    "        # loop to append successors to \n",
    "        # list until r2 is reached.\n",
    "        while(r1 < r2+1 ):\n",
    "              \n",
    "            res.append(r1)\n",
    "            r1 += 1\n",
    "        return res\n",
    "      \n",
    "# Driver Code\n",
    "r1, r2 = 1, 118\n",
    "print(createList(r1, r2))"
   ]
  },
  {
   "cell_type": "raw",
   "metadata": {},
   "source": [
    "csv_1 = pd.read_csv(r'C:\\Users\\admin\\ablation study - Copy\\with attention and without dimensionality reduction\\attentionnormalresult.csv', header=None, names=createList(1, 118))\n",
    "\n",
    "#csv_1.to_csv(\"attentionnormalresult.csv\", index=None)"
   ]
  },
  {
   "cell_type": "raw",
   "metadata": {},
   "source": [
    "csv_1.head"
   ]
  },
  {
   "cell_type": "raw",
   "metadata": {},
   "source": [
    "csv_2 = pd.read_csv(r'C:\\Users\\admin\\ablation study - Copy\\with attention and without dimensionality reduction\\attenetionabnormalresult.csv', header=None, names=createList(1, 118)) \n",
    "\n",
    "csv_2.to_csv(\"attenetionabnormalresult.csv\", index=None)\n"
   ]
  },
  {
   "cell_type": "raw",
   "metadata": {},
   "source": [
    "csv_2.head"
   ]
  },
  {
   "cell_type": "raw",
   "metadata": {},
   "source": [
    "merged = csv_1.merge(csv_2,on=118)\n",
    "\n",
    "merged.to_csv(\"attention1.csv\", index=False)\n",
    "#result = pd.concat([csv_1, csv_2], axis=1)\n",
    "out = csv_1.append(csv_2)\n",
    "print(out)\n",
    "out.to_csv(\"attention1.csv\", index=False)"
   ]
  },
  {
   "cell_type": "code",
   "execution_count": 3,
   "metadata": {},
   "outputs": [],
   "source": [
    "df = pd.read_csv(\"attention1.csv\",sep=\",\", index_col=None)"
   ]
  },
  {
   "cell_type": "code",
   "execution_count": 4,
   "metadata": {},
   "outputs": [],
   "source": [
    "X=df.drop(['118'], axis=1).values \n",
    "y=df['118'].values"
   ]
  },
  {
   "cell_type": "code",
   "execution_count": 5,
   "metadata": {},
   "outputs": [
    {
     "name": "stdout",
     "output_type": "stream",
     "text": [
      "56000 Training sequences (56000, 117)\n",
      "24000 Validation sequences (24000, 117)\n",
      "56000 Training sequences (56000,)\n"
     ]
    }
   ],
   "source": [
    "from sklearn.model_selection import train_test_split\n",
    "\n",
    "x_train,x_val,y_train,y_val = train_test_split(X,y,train_size=0.70, random_state=2)\n",
    "print(len(x_train), \"Training sequences\",x_train.shape)\n",
    "print(len(x_val), \"Validation sequences\",x_val.shape)\n",
    "print(len(y_train), \"Training sequences\",y_train.shape)"
   ]
  },
  {
   "cell_type": "code",
   "execution_count": 6,
   "metadata": {},
   "outputs": [],
   "source": [
    "\n",
    "# define the keras model\n",
    "model = Sequential()\n",
    "model.add(Dense(12, input_dim=117, activation='relu'))\n",
    "model.add(Dense(8, activation='relu'))\n",
    "model.add(Dense(1, activation='sigmoid'))"
   ]
  },
  {
   "cell_type": "code",
   "execution_count": 7,
   "metadata": {},
   "outputs": [],
   "source": [
    "# compile the keras model\n",
    "model.compile(loss='binary_crossentropy', optimizer='adam', metrics=['accuracy'])"
   ]
  },
  {
   "cell_type": "code",
   "execution_count": 8,
   "metadata": {},
   "outputs": [
    {
     "name": "stdout",
     "output_type": "stream",
     "text": [
      "Model: \"sequential\"\n",
      "_________________________________________________________________\n",
      "Layer (type)                 Output Shape              Param #   \n",
      "=================================================================\n",
      "dense (Dense)                (None, 12)                1416      \n",
      "_________________________________________________________________\n",
      "dense_1 (Dense)              (None, 8)                 104       \n",
      "_________________________________________________________________\n",
      "dense_2 (Dense)              (None, 1)                 9         \n",
      "=================================================================\n",
      "Total params: 1,529\n",
      "Trainable params: 1,529\n",
      "Non-trainable params: 0\n",
      "_________________________________________________________________\n"
     ]
    }
   ],
   "source": [
    "model.summary()"
   ]
  },
  {
   "cell_type": "raw",
   "metadata": {},
   "source": [
    "import time, datetime\n",
    "\n",
    "start = datetime.datetime.now()\n",
    "time.sleep(10)"
   ]
  },
  {
   "cell_type": "raw",
   "metadata": {},
   "source": [
    "# fit the keras model on the dataset\n",
    "history =model.fit(x_train, y_train, epochs=20, batch_size=10, validation_data=(x_val, y_val))"
   ]
  },
  {
   "cell_type": "raw",
   "metadata": {},
   "source": [
    "end = datetime.datetime.now()\n",
    "\n",
    "diff = (end - start)\n",
    "\n",
    "datetime.timedelta(seconds=10, microseconds=885206)\n",
    "\n",
    "diff_seconds = int(diff.total_seconds())\n",
    "\n",
    "minute_seconds, seconds = divmod(diff_seconds, 60)\n",
    "hours, minutes = divmod(minute_seconds, 60)\n",
    "hms = f\"{hours}h {minutes}m {seconds}s\"\n",
    "\n",
    "'0h 0m 10s'\n",
    "print(hms) "
   ]
  },
  {
   "cell_type": "raw",
   "metadata": {},
   "source": [
    "# evaluate the keras model\n",
    "_, accuracy = model.evaluate(X, y)\n",
    "print('Accuracy: %.2f' % (accuracy*100))"
   ]
  },
  {
   "cell_type": "raw",
   "metadata": {},
   "source": [
    "#https://machinelearningmastery.com/how-to-calculate-precision-recall-f1-and-more-for-deep-learning-models/\n",
    "import tensorflow as tf\n",
    "\n",
    "from matplotlib import pyplot\n",
    "# plot loss during training\n",
    "pyplot.subplot(211)\n",
    "pyplot.title('Loss')\n",
    "pyplot.plot(history.history['loss'], label='train')\n",
    "pyplot.plot(history.history['val_loss'], label='test')\n",
    "pyplot.legend()\n",
    "# plot accuracy during training\n",
    "pyplot.subplot(212)\n",
    "pyplot.title('Accuracy')\n",
    "pyplot.plot(history.history['accuracy'], label='train')\n",
    "pyplot.plot(history.history['val_accuracy'], label='test')\n",
    "pyplot.legend()\n",
    "pyplot.show()"
   ]
  },
  {
   "cell_type": "raw",
   "metadata": {},
   "source": [
    "# make probability predictions with the model\n",
    "predictions = model.predict(x_val)\n",
    "# round predictions \n",
    "rounded = [round(x[0]) for x in predictions]"
   ]
  },
  {
   "cell_type": "raw",
   "metadata": {},
   "source": [
    "# make class predictions with the model\n",
    "predictions = model.predict_classes(x_val)"
   ]
  },
  {
   "cell_type": "raw",
   "metadata": {},
   "source": [
    "#https://towardsdatascience.com/common-classification-model-evaluation-metrics-2ba0a7a7436e\n",
    "from sklearn.metrics import confusion_matrix\n",
    "print(confusion_matrix(y_val,predictions,labels=[1,0]))\n",
    "import seaborn as sns\n",
    "import matplotlib.pyplot as plt\n",
    "sns.heatmap(confusion_matrix(y_val,predictions),annot=True,lw =2,cbar=False)\n",
    "plt.ylabel(\"True Values\")\n",
    "plt.xlabel(\"Predicted Values\")\n",
    "plt.title(\"CONFUSSION MATRIX VISUALIZATION\")\n",
    "plt.show()"
   ]
  },
  {
   "cell_type": "raw",
   "metadata": {},
   "source": [
    "from sklearn.metrics import f1_score\n",
    "f1_score(y_val,predictions)"
   ]
  },
  {
   "cell_type": "raw",
   "metadata": {},
   "source": [
    "from sklearn.metrics import precision_score\n",
    "precision_score(y_val,predictions)"
   ]
  },
  {
   "cell_type": "raw",
   "metadata": {},
   "source": [
    "from sklearn.metrics import recall_score\n",
    "recall_score(y_val,predictions)"
   ]
  },
  {
   "cell_type": "raw",
   "metadata": {},
   "source": [
    "from sklearn.metrics import roc_auc_score\n",
    "roc_auc_score(y_val,predictions)"
   ]
  },
  {
   "cell_type": "raw",
   "metadata": {},
   "source": [
    "# summarize the first 5 cases\n",
    "for i in range(5):\n",
    "   print('%s => %d (expected %d)' % (X[i].tolist(), predictions[i], y[i]))"
   ]
  },
  {
   "cell_type": "raw",
   "metadata": {},
   "source": [
    "# predict probabilities for test set\n",
    "yhat_probs = model.predict(x_val, verbose=0)\n",
    "yhat_classes=np.argmax(yhat_probs,axis=1)\n",
    "# predict crisp classes for test set\n",
    "#yhat_classes = model.predict_classes(x_val, verbose=0)\n",
    "# reduce to 1d array\n",
    "yhat_probs = yhat_probs[:, 0]\n",
    "#yhat_classes = yhat_classes[:, 0]"
   ]
  },
  {
   "cell_type": "code",
   "execution_count": 9,
   "metadata": {},
   "outputs": [],
   "source": [
    "import time, datetime\n",
    "\n",
    "start = datetime.datetime.now()\n",
    "time.sleep(10)"
   ]
  },
  {
   "cell_type": "code",
   "execution_count": 10,
   "metadata": {
    "scrolled": true
   },
   "outputs": [
    {
     "name": "stdout",
     "output_type": "stream",
     "text": [
      "Epoch 1/20\n",
      "6000/6000 [==============================] - 5s 850us/step - loss: 0.0991 - accuracy: 0.9736 - val_loss: 0.0268 - val_accuracy: 0.9931\n",
      "Epoch 2/20\n",
      "6000/6000 [==============================] - 5s 793us/step - loss: 0.0250 - accuracy: 0.9935 - val_loss: 0.0211 - val_accuracy: 0.9941\n",
      "Epoch 3/20\n",
      "6000/6000 [==============================] - 5s 805us/step - loss: 0.0215 - accuracy: 0.9951 - val_loss: 0.0187 - val_accuracy: 0.9961\n",
      "Epoch 4/20\n",
      "6000/6000 [==============================] - 5s 797us/step - loss: 0.0197 - accuracy: 0.9960 - val_loss: 0.0179 - val_accuracy: 0.9966\n",
      "Epoch 5/20\n",
      "6000/6000 [==============================] - 5s 809us/step - loss: 0.0187 - accuracy: 0.9964 - val_loss: 0.0167 - val_accuracy: 0.9967\n",
      "Epoch 6/20\n",
      "6000/6000 [==============================] - 5s 808us/step - loss: 0.0182 - accuracy: 0.9967 - val_loss: 0.0165 - val_accuracy: 0.9969\n",
      "Epoch 7/20\n",
      "6000/6000 [==============================] - 5s 785us/step - loss: 0.0180 - accuracy: 0.9967 - val_loss: 0.0168 - val_accuracy: 0.9969\n",
      "Epoch 8/20\n",
      "6000/6000 [==============================] - 5s 790us/step - loss: 0.0178 - accuracy: 0.9967 - val_loss: 0.0161 - val_accuracy: 0.9970\n",
      "Epoch 9/20\n",
      "6000/6000 [==============================] - 4s 720us/step - loss: 0.0176 - accuracy: 0.9968 - val_loss: 0.0160 - val_accuracy: 0.9970\n",
      "Epoch 10/20\n",
      "6000/6000 [==============================] - 5s 846us/step - loss: 0.0177 - accuracy: 0.9967 - val_loss: 0.0165 - val_accuracy: 0.9970\n",
      "Epoch 11/20\n",
      "6000/6000 [==============================] - 5s 805us/step - loss: 0.0175 - accuracy: 0.9968 - val_loss: 0.0161 - val_accuracy: 0.9970\n",
      "Epoch 12/20\n",
      "6000/6000 [==============================] - 4s 741us/step - loss: 0.0173 - accuracy: 0.9967 - val_loss: 0.0158 - val_accuracy: 0.9973\n",
      "Epoch 13/20\n",
      "6000/6000 [==============================] - 5s 793us/step - loss: 0.0175 - accuracy: 0.9967 - val_loss: 0.0160 - val_accuracy: 0.9973\n",
      "Epoch 14/20\n",
      "6000/6000 [==============================] - 5s 803us/step - loss: 0.0173 - accuracy: 0.9968 - val_loss: 0.0190 - val_accuracy: 0.9959\n",
      "Epoch 15/20\n",
      "6000/6000 [==============================] - 5s 803us/step - loss: 0.0171 - accuracy: 0.9969 - val_loss: 0.0156 - val_accuracy: 0.9972\n",
      "Epoch 16/20\n",
      "6000/6000 [==============================] - 5s 816us/step - loss: 0.0173 - accuracy: 0.9968 - val_loss: 0.0158 - val_accuracy: 0.9973\n",
      "Epoch 17/20\n",
      "6000/6000 [==============================] - 5s 795us/step - loss: 0.0171 - accuracy: 0.9969 - val_loss: 0.0155 - val_accuracy: 0.9973\n",
      "Epoch 18/20\n",
      "6000/6000 [==============================] - 5s 810us/step - loss: 0.0169 - accuracy: 0.9967 - val_loss: 0.0157 - val_accuracy: 0.9970\n",
      "Epoch 19/20\n",
      "6000/6000 [==============================] - 4s 744us/step - loss: 0.0167 - accuracy: 0.9969 - val_loss: 0.0156 - val_accuracy: 0.9970\n",
      "Epoch 20/20\n",
      "6000/6000 [==============================] - 5s 807us/step - loss: 0.0167 - accuracy: 0.9970 - val_loss: 0.0154 - val_accuracy: 0.9972\n",
      "2500/2500 [==============================] - 2s 723us/step - loss: 0.0156 - accuracy: 0.9973\n",
      "overall Accuracy: 99.73\n",
      "[[9948   53]\n",
      " [   3 9996]]\n",
      "accuracy: 0.997200\n",
      "f1 score: 0.997193\n",
      "precision score: 0.999699\n",
      "recall score: 0.994701\n",
      "ROC AUC: 0.997200\n",
      "ROC AUC: 0.997200\n",
      "No Skill: ROC AUC=0.997\n"
     ]
    },
    {
     "data": {
      "image/png": "[encoded data removed]",
      "text/plain": [
       "<Figure size 432x288 with 1 Axes>"
      ]
     },
     "metadata": {
      "needs_background": "light"
     },
     "output_type": "display_data"
    },
    {
     "name": "stdout",
     "output_type": "stream",
     "text": [
      "[0 0 0 ... 1 1 1]\n"
     ]
    },
    {
     "data": {
      "image/png": "[encoded data removed]",
      "text/plain": [
       "<Figure size 432x288 with 1 Axes>"
      ]
     },
     "metadata": {
      "needs_background": "light"
     },
     "output_type": "display_data"
    },
    {
     "name": "stdout",
     "output_type": "stream",
     "text": [
      "Epoch 1/20\n",
      "6000/6000 [==============================] - 5s 834us/step - loss: 0.0166 - accuracy: 0.9968 - val_loss: 0.0153 - val_accuracy: 0.9972\n",
      "Epoch 2/20\n",
      "6000/6000 [==============================] - 5s 862us/step - loss: 0.0166 - accuracy: 0.9969 - val_loss: 0.0165 - val_accuracy: 0.9967\n",
      "Epoch 3/20\n",
      "6000/6000 [==============================] - 5s 770us/step - loss: 0.0165 - accuracy: 0.9969 - val_loss: 0.0256 - val_accuracy: 0.9941\n",
      "Epoch 4/20\n",
      "6000/6000 [==============================] - 5s 817us/step - loss: 0.0165 - accuracy: 0.9969 - val_loss: 0.0163 - val_accuracy: 0.9970\n",
      "Epoch 5/20\n",
      "6000/6000 [==============================] - 5s 823us/step - loss: 0.0165 - accuracy: 0.9970 - val_loss: 0.0151 - val_accuracy: 0.9972\n",
      "Epoch 6/20\n",
      "6000/6000 [==============================] - 5s 876us/step - loss: 0.0161 - accuracy: 0.9970 - val_loss: 0.0157 - val_accuracy: 0.9969\n",
      "Epoch 7/20\n",
      "6000/6000 [==============================] - 5s 809us/step - loss: 0.0162 - accuracy: 0.9968 - val_loss: 0.0147 - val_accuracy: 0.9973\n",
      "Epoch 8/20\n",
      "6000/6000 [==============================] - 5s 814us/step - loss: 0.0163 - accuracy: 0.9969 - val_loss: 0.0152 - val_accuracy: 0.9973\n",
      "Epoch 9/20\n",
      "6000/6000 [==============================] - 5s 815us/step - loss: 0.0162 - accuracy: 0.9969 - val_loss: 0.0149 - val_accuracy: 0.9975\n",
      "Epoch 10/20\n",
      "6000/6000 [==============================] - 5s 830us/step - loss: 0.0159 - accuracy: 0.9970 - val_loss: 0.0157 - val_accuracy: 0.9973\n",
      "Epoch 11/20\n",
      "6000/6000 [==============================] - 5s 779us/step - loss: 0.0162 - accuracy: 0.9969 - val_loss: 0.0147 - val_accuracy: 0.9974\n",
      "Epoch 12/20\n",
      "6000/6000 [==============================] - 5s 870us/step - loss: 0.0159 - accuracy: 0.9970 - val_loss: 0.0150 - val_accuracy: 0.9974\n",
      "Epoch 13/20\n",
      "6000/6000 [==============================] - 5s 856us/step - loss: 0.0159 - accuracy: 0.9969 - val_loss: 0.0146 - val_accuracy: 0.9974\n",
      "Epoch 14/20\n",
      "6000/6000 [==============================] - 5s 816us/step - loss: 0.0158 - accuracy: 0.9970 - val_loss: 0.0162 - val_accuracy: 0.9970\n",
      "Epoch 15/20\n",
      "6000/6000 [==============================] - 5s 813us/step - loss: 0.0160 - accuracy: 0.9969 - val_loss: 0.0164 - val_accuracy: 0.9973\n",
      "Epoch 16/20\n",
      "6000/6000 [==============================] - 5s 802us/step - loss: 0.0154 - accuracy: 0.9972 - val_loss: 0.0181 - val_accuracy: 0.9965\n",
      "Epoch 17/20\n",
      "6000/6000 [==============================] - 5s 887us/step - loss: 0.0160 - accuracy: 0.9969 - val_loss: 0.0158 - val_accuracy: 0.9969\n",
      "Epoch 18/20\n",
      "6000/6000 [==============================] - 5s 800us/step - loss: 0.0154 - accuracy: 0.9970 - val_loss: 0.0148 - val_accuracy: 0.9973\n",
      "Epoch 19/20\n",
      "6000/6000 [==============================] - 5s 829us/step - loss: 0.0156 - accuracy: 0.9970 - val_loss: 0.0149 - val_accuracy: 0.9974\n",
      "Epoch 20/20\n",
      "6000/6000 [==============================] - 5s 852us/step - loss: 0.0156 - accuracy: 0.9970 - val_loss: 0.0185 - val_accuracy: 0.9966\n",
      "2500/2500 [==============================] - 2s 777us/step - loss: 0.0183 - accuracy: 0.9963\n",
      "overall Accuracy: 99.63\n",
      "[[9943   45]\n",
      " [  24 9988]]\n",
      "accuracy: 0.996550\n",
      "f1 score: 0.996542\n",
      "precision score: 0.997592\n",
      "recall score: 0.995495\n",
      "ROC AUC: 0.996549\n",
      "ROC AUC: 0.996549\n",
      "No Skill: ROC AUC=0.997\n"
     ]
    },
    {
     "data": {
      "image/png": "[encoded data removed]",
      "text/plain": [
       "<Figure size 432x288 with 1 Axes>"
      ]
     },
     "metadata": {
      "needs_background": "light"
     },
     "output_type": "display_data"
    },
    {
     "name": "stdout",
     "output_type": "stream",
     "text": [
      "[0 0 0 ... 1 1 1]\n"
     ]
    },
    {
     "data": {
      "image/png": "[encoded data removed]",
      "text/plain": [
       "<Figure size 432x288 with 1 Axes>"
      ]
     },
     "metadata": {
      "needs_background": "light"
     },
     "output_type": "display_data"
    },
    {
     "name": "stdout",
     "output_type": "stream",
     "text": [
      "Epoch 1/20\n",
      "6000/6000 [==============================] - 5s 821us/step - loss: 0.0150 - accuracy: 0.9970 - val_loss: 0.0180 - val_accuracy: 0.9969\n",
      "Epoch 2/20\n",
      "6000/6000 [==============================] - 5s 819us/step - loss: 0.0149 - accuracy: 0.9971 - val_loss: 0.0175 - val_accuracy: 0.9966\n",
      "Epoch 3/20\n",
      "6000/6000 [==============================] - 5s 815us/step - loss: 0.0150 - accuracy: 0.9972 - val_loss: 0.0183 - val_accuracy: 0.9962\n",
      "Epoch 4/20\n",
      "6000/6000 [==============================] - 5s 799us/step - loss: 0.0148 - accuracy: 0.9971 - val_loss: 0.0176 - val_accuracy: 0.9965\n",
      "Epoch 5/20\n",
      "6000/6000 [==============================] - 5s 791us/step - loss: 0.0146 - accuracy: 0.9971 - val_loss: 0.0188 - val_accuracy: 0.9959\n",
      "Epoch 6/20\n",
      "6000/6000 [==============================] - 5s 864us/step - loss: 0.0148 - accuracy: 0.9970 - val_loss: 0.0167 - val_accuracy: 0.9970\n",
      "Epoch 7/20\n",
      "6000/6000 [==============================] - 5s 764us/step - loss: 0.0147 - accuracy: 0.9972 - val_loss: 0.0217 - val_accuracy: 0.9952\n",
      "Epoch 8/20\n",
      "6000/6000 [==============================] - 5s 808us/step - loss: 0.0147 - accuracy: 0.9972 - val_loss: 0.0165 - val_accuracy: 0.9969\n",
      "Epoch 9/20\n",
      "6000/6000 [==============================] - 5s 857us/step - loss: 0.0145 - accuracy: 0.9971 - val_loss: 0.0176 - val_accuracy: 0.9966\n",
      "Epoch 10/20\n",
      "6000/6000 [==============================] - 5s 802us/step - loss: 0.0145 - accuracy: 0.9972 - val_loss: 0.0175 - val_accuracy: 0.9965\n",
      "Epoch 11/20\n",
      "6000/6000 [==============================] - 5s 790us/step - loss: 0.0147 - accuracy: 0.9971 - val_loss: 0.0179 - val_accuracy: 0.9966\n",
      "Epoch 12/20\n",
      "6000/6000 [==============================] - 5s 786us/step - loss: 0.0143 - accuracy: 0.9974 - val_loss: 0.0171 - val_accuracy: 0.9966\n",
      "Epoch 13/20\n",
      "6000/6000 [==============================] - 5s 801us/step - loss: 0.0145 - accuracy: 0.9972 - val_loss: 0.0163 - val_accuracy: 0.9970\n",
      "Epoch 14/20\n",
      "6000/6000 [==============================] - 5s 867us/step - loss: 0.0145 - accuracy: 0.9973 - val_loss: 0.0165 - val_accuracy: 0.9968\n",
      "Epoch 15/20\n",
      "6000/6000 [==============================] - 5s 815us/step - loss: 0.0146 - accuracy: 0.9971 - val_loss: 0.0181 - val_accuracy: 0.9966\n",
      "Epoch 16/20\n",
      "6000/6000 [==============================] - 5s 839us/step - loss: 0.0143 - accuracy: 0.9972 - val_loss: 0.0166 - val_accuracy: 0.9970\n",
      "Epoch 17/20\n",
      "6000/6000 [==============================] - 5s 804us/step - loss: 0.0143 - accuracy: 0.9971 - val_loss: 0.0178 - val_accuracy: 0.9969\n",
      "Epoch 18/20\n",
      "6000/6000 [==============================] - 4s 741us/step - loss: 0.0146 - accuracy: 0.9972 - val_loss: 0.0177 - val_accuracy: 0.9964\n",
      "Epoch 19/20\n",
      "6000/6000 [==============================] - 5s 758us/step - loss: 0.0145 - accuracy: 0.9972 - val_loss: 0.0169 - val_accuracy: 0.9967\n",
      "Epoch 20/20\n",
      "6000/6000 [==============================] - 5s 765us/step - loss: 0.0143 - accuracy: 0.9972 - val_loss: 0.0165 - val_accuracy: 0.9966\n",
      "2500/2500 [==============================] - 2s 732us/step - loss: 0.0142 - accuracy: 0.9972\n",
      "overall Accuracy: 99.72\n",
      "[[ 9900    66]\n",
      " [    1 10033]]\n",
      "accuracy: 0.996650\n",
      "f1 score: 0.996628\n",
      "precision score: 0.999899\n",
      "recall score: 0.993377\n",
      "ROC AUC: 0.996639\n",
      "ROC AUC: 0.996639\n",
      "No Skill: ROC AUC=0.997\n"
     ]
    },
    {
     "data": {
      "image/png": "[encoded data removed]",
      "text/plain": [
       "<Figure size 432x288 with 1 Axes>"
      ]
     },
     "metadata": {
      "needs_background": "light"
     },
     "output_type": "display_data"
    },
    {
     "name": "stdout",
     "output_type": "stream",
     "text": [
      "[0 0 0 ... 1 1 1]\n"
     ]
    },
    {
     "data": {
      "image/png": "[encoded data removed]",
      "text/plain": [
       "<Figure size 432x288 with 1 Axes>"
      ]
     },
     "metadata": {
      "needs_background": "light"
     },
     "output_type": "display_data"
    },
    {
     "name": "stdout",
     "output_type": "stream",
     "text": [
      "Epoch 1/20\n",
      "6000/6000 [==============================] - 5s 825us/step - loss: 0.0155 - accuracy: 0.9970 - val_loss: 0.0123 - val_accuracy: 0.9978\n",
      "Epoch 2/20\n",
      "6000/6000 [==============================] - 5s 836us/step - loss: 0.0158 - accuracy: 0.9969 - val_loss: 0.0124 - val_accuracy: 0.9977\n",
      "Epoch 3/20\n",
      "6000/6000 [==============================] - 5s 800us/step - loss: 0.0157 - accuracy: 0.9969 - val_loss: 0.0127 - val_accuracy: 0.9978\n",
      "Epoch 4/20\n",
      "6000/6000 [==============================] - 5s 823us/step - loss: 0.0157 - accuracy: 0.9969 - val_loss: 0.0135 - val_accuracy: 0.9973\n",
      "Epoch 5/20\n",
      "6000/6000 [==============================] - 5s 810us/step - loss: 0.0156 - accuracy: 0.9969 - val_loss: 0.0128 - val_accuracy: 0.9977\n",
      "Epoch 6/20\n",
      "6000/6000 [==============================] - 5s 864us/step - loss: 0.0153 - accuracy: 0.9971 - val_loss: 0.0135 - val_accuracy: 0.9970\n",
      "Epoch 7/20\n",
      "6000/6000 [==============================] - 5s 763us/step - loss: 0.0155 - accuracy: 0.9971 - val_loss: 0.0133 - val_accuracy: 0.9972\n",
      "Epoch 8/20\n",
      "6000/6000 [==============================] - 5s 826us/step - loss: 0.0153 - accuracy: 0.9971 - val_loss: 0.0169 - val_accuracy: 0.9952\n",
      "Epoch 9/20\n",
      "6000/6000 [==============================] - 5s 820us/step - loss: 0.0155 - accuracy: 0.9970 - val_loss: 0.0124 - val_accuracy: 0.9978\n",
      "Epoch 10/20\n",
      "6000/6000 [==============================] - 5s 793us/step - loss: 0.0153 - accuracy: 0.9970 - val_loss: 0.0126 - val_accuracy: 0.9978\n",
      "Epoch 11/20\n",
      "6000/6000 [==============================] - 5s 856us/step - loss: 0.0154 - accuracy: 0.9970 - val_loss: 0.0134 - val_accuracy: 0.9970\n",
      "Epoch 12/20\n",
      "6000/6000 [==============================] - 5s 814us/step - loss: 0.0154 - accuracy: 0.9970 - val_loss: 0.0123 - val_accuracy: 0.9978\n",
      "Epoch 13/20\n",
      "6000/6000 [==============================] - 5s 773us/step - loss: 0.0153 - accuracy: 0.9970 - val_loss: 0.0123 - val_accuracy: 0.9976\n",
      "Epoch 14/20\n",
      "6000/6000 [==============================] - 5s 804us/step - loss: 0.0153 - accuracy: 0.9970 - val_loss: 0.0143 - val_accuracy: 0.9969\n",
      "Epoch 15/20\n",
      "6000/6000 [==============================] - 5s 845us/step - loss: 0.0152 - accuracy: 0.9970 - val_loss: 0.0124 - val_accuracy: 0.9977\n",
      "Epoch 16/20\n",
      "6000/6000 [==============================] - 5s 798us/step - loss: 0.0151 - accuracy: 0.9971 - val_loss: 0.0122 - val_accuracy: 0.9978\n",
      "Epoch 17/20\n",
      "6000/6000 [==============================] - 5s 820us/step - loss: 0.0153 - accuracy: 0.9970 - val_loss: 0.0125 - val_accuracy: 0.9977\n",
      "Epoch 18/20\n",
      "6000/6000 [==============================] - 5s 823us/step - loss: 0.0149 - accuracy: 0.9971 - val_loss: 0.0152 - val_accuracy: 0.9966\n",
      "Epoch 19/20\n",
      "6000/6000 [==============================] - 5s 806us/step - loss: 0.0152 - accuracy: 0.9970 - val_loss: 0.0128 - val_accuracy: 0.9972\n",
      "Epoch 20/20\n",
      "6000/6000 [==============================] - 5s 898us/step - loss: 0.0149 - accuracy: 0.9970 - val_loss: 0.0128 - val_accuracy: 0.9972\n",
      "2500/2500 [==============================] - 2s 744us/step - loss: 0.0142 - accuracy: 0.9972\n",
      "overall Accuracy: 99.72\n",
      "[[9990   55]\n",
      " [   1 9954]]\n",
      "accuracy: 0.997200\n",
      "f1 score: 0.997205\n",
      "precision score: 0.999900\n",
      "recall score: 0.994525\n",
      "ROC AUC: 0.997212\n",
      "ROC AUC: 0.997212\n",
      "No Skill: ROC AUC=0.997\n"
     ]
    },
    {
     "data": {
      "image/png": "[encoded data removed]",
      "text/plain": [
       "<Figure size 432x288 with 1 Axes>"
      ]
     },
     "metadata": {
      "needs_background": "light"
     },
     "output_type": "display_data"
    },
    {
     "name": "stdout",
     "output_type": "stream",
     "text": [
      "[0 0 0 ... 1 1 1]\n"
     ]
    },
    {
     "data": {
      "image/png": "[encoded data removed]",
      "text/plain": [
       "<Figure size 432x288 with 1 Axes>"
      ]
     },
     "metadata": {
      "needs_background": "light"
     },
     "output_type": "display_data"
    },
    {
     "name": "stdout",
     "output_type": "stream",
     "text": [
      "Cross Validation ROC - AUC = 0.9968999974232221\n",
      "Cross Validation Precision recall curve - AUC = 0.9965375989836857\n",
      "Cross Validation accuracy = 0.9969\n",
      "Cross Validation f1 = 0.996892022033838\n",
      "Cross Validation precision = 0.9992723716397309\n",
      "Cross Validation recall = 0.9945243115067177\n",
      "Cross Validation fpr = [0.0000000e+00 7.2431666e-04 1.0000000e+00]\n",
      "Cross Validation tpr = [0.         0.99452431 1.        ]\n",
      "Cross Validation lr_precision = [0.5        0.99927237 1.        ]\n",
      "Cross Validation lr_recall = [1.         0.99452431 0.        ]\n"
     ]
    },
    {
     "data": {
      "text/plain": [
       "[<matplotlib.lines.Line2D at 0x49a5989790>]"
      ]
     },
     "execution_count": 10,
     "metadata": {},
     "output_type": "execute_result"
    },
    {
     "data": {
      "image/png": "[encoded data removed]",
      "text/plain": [
       "<Figure size 432x288 with 1 Axes>"
      ]
     },
     "metadata": {
      "needs_background": "light"
     },
     "output_type": "display_data"
    }
   ],
   "source": [
    "from sklearn.model_selection import KFold\n",
    "from sklearn.metrics import confusion_matrix\n",
    "from sklearn.metrics import f1_score\n",
    "from sklearn.metrics import precision_score\n",
    "from sklearn.metrics import average_precision_score\n",
    "from sklearn.metrics import recall_score\n",
    "from sklearn.metrics import roc_auc_score\n",
    "from sklearn.metrics import accuracy_score\n",
    "from numpy import arange\n",
    "from sklearn.metrics import roc_curve\n",
    "import matplotlib.pyplot as plt\n",
    "from matplotlib import pyplot \n",
    "from importlib import reload\n",
    "reload(plt)\n",
    "#from matplotlib import pyplot\n",
    "from sklearn.metrics import precision_recall_curve\n",
    "from sklearn.metrics import auc\n",
    "\n",
    "\n",
    "kf = KFold(n_splits=4,shuffle=True,random_state=None)\n",
    "\n",
    "scores = []\n",
    "aucs=0\n",
    "aucs1=0\n",
    "f1s=0\n",
    "recalls=0\n",
    "precisions=0\n",
    "accuracys=0\n",
    "lr_precisions=0\n",
    "lr_recalls=0\n",
    "fprs=0\n",
    "tprs=0\n",
    "\n",
    "for train_index, test_index in kf.split(X):\n",
    "    x_train, x_val = X[train_index], X[test_index]\n",
    "    y_train, y_val = y[train_index], y[test_index]\n",
    "    \n",
    "    model.fit(x_train, y_train, epochs=20, batch_size=10, validation_data=(x_val, y_val))\n",
    "    \n",
    "    # make probability predictions with the model\n",
    "    predictions = model.predict(x_val)\n",
    "    # round predictions \n",
    "    predictions = [round(x[0]) for x in predictions]\n",
    "    \n",
    "   \n",
    "    # make class predictions with the model\n",
    "   # predictions1 =  model.predict>0.5.astype('int32')\n",
    "    \n",
    "    # evaluate the keras model\n",
    "    _, accuracy = model.evaluate(X, y)\n",
    "    print('overall Accuracy: %.2f' % (accuracy*100))\n",
    "    \n",
    "    print(confusion_matrix(y_val,predictions,labels=[1,0]))\n",
    "    \n",
    "    #No need for threshold setting since getting same value   \n",
    "    accuracy=accuracy_score(y_val,predictions)\n",
    "    print('accuracy: %f' % accuracy)\n",
    "    \n",
    "    f1=f1_score(y_val,predictions)\n",
    "    print('f1 score: %f' % f1)    \n",
    "    \n",
    "    precision=precision_score(y_val,predictions)\n",
    "    print('precision score: %f' % precision)\n",
    "    \n",
    "    recall=recall_score(y_val,predictions)\n",
    "    print('recall score: %f' % recall)\n",
    "    \n",
    "    auc = roc_auc_score(y_val, predictions)\n",
    "    print('ROC AUC: %f' % auc)    \n",
    "    \n",
    "    ns_auc = roc_auc_score(y_val, predictions)\n",
    "    print('ROC AUC: %f' % auc)  \n",
    "    \n",
    "    # summarize scores\n",
    "    print('No Skill: ROC AUC=%.3f' % (ns_auc))\n",
    "    \n",
    "    #https://machinelearningmastery.com/roc-curves-and-precision-recall-curves-for-classification-in-python/#:~:text=with%20sample%20code).-,ROC%20Curves%20and%20AUC%20in%20Python,probabilities%20for%20the%201%20class.\n",
    "    # calculate roc curves\n",
    "    ns_fpr, ns_tpr, _ = roc_curve(y_val, predictions)\n",
    "    fpr, tpr, _ = roc_curve(y_val, predictions)\n",
    "    pyplot.plot(ns_fpr, ns_tpr, linestyle='--', label='No Skill')\n",
    "    pyplot.plot(fpr, tpr, marker='.', label='Bi-HGA')\n",
    "\n",
    "    # axis labels\n",
    "    pyplot.xlabel('False Positive Rate')\n",
    "    pyplot.ylabel('True Positive Rate')\n",
    "    # show the legend\n",
    "    pyplot.legend()\n",
    "    # show the plot\n",
    "    pyplot.show()\n",
    "\n",
    "    print(y_val)\n",
    "    #https://www.kaggle.com/vedbharti/classification-precision-recall-vs-roc-plot\n",
    "    auc1=average_precision_score(y_val, predictions)\n",
    "     \n",
    "    lr_precision, lr_recall, _ = precision_recall_curve(y_val, predictions)\n",
    "    #lr_f1, lr_auc = f1_score(y_val, predictions1), auc(lr_recall, lr_precision)\n",
    "    # summarize scores\n",
    "    #print('Logistic: f1=%.3f auc=%.3f' % (lr_f1, lr_auc))\n",
    "    # plot the precision-recall curves\n",
    "    #no_skill = len(testy[testy==1]) / len(testy)\n",
    "    #pyplot.plot([0, 1], [no_skill, no_skill], linestyle='--', label='No Skill')\n",
    "    pyplot.plot(lr_recall, lr_precision, marker='.', label='Bi-HGA')\n",
    "    # axis labels\n",
    "    pyplot.xlabel('Recall')\n",
    "    pyplot.ylabel('Precision')\n",
    "    # show the legend\n",
    "    pyplot.legend()\n",
    "    # show the plot\n",
    "    pyplot.show()\n",
    "    \n",
    "    aucs += auc\n",
    "    aucs1 += auc1\n",
    "    accuracys += accuracy\n",
    "    f1s += f1\n",
    "    precisions += precision\n",
    "    recalls += recall\n",
    "    ns_fpr+=ns_fpr\n",
    "    ns_tpr+=ns_tpr\n",
    "    fprs+=fpr\n",
    "    tprs+=tpr\n",
    "    lr_recalls+=lr_recall\n",
    "    lr_precisions+=lr_precision\n",
    "print(\"Cross Validation ROC - AUC = {}\".format(aucs/4))\n",
    "print(\"Cross Validation Precision recall curve - AUC = {}\".format(aucs1/4))\n",
    "print(\"Cross Validation accuracy = {}\".format(accuracys/4))\n",
    "print(\"Cross Validation f1 = {}\".format(f1s/4))\n",
    "print(\"Cross Validation precision = {}\".format(precisions/4))\n",
    "print(\"Cross Validation recall = {}\".format(recalls/4))\n",
    "print(\"Cross Validation fpr = {}\".format(fprs/4))\n",
    "print(\"Cross Validation tpr = {}\".format(tprs/4))\n",
    "print(\"Cross Validation lr_precision = {}\".format(lr_precisions/4))\n",
    "print(\"Cross Validation lr_recall = {}\".format(lr_recalls/4))\n",
    "\n",
    "ns_fpr, ns_tpr, _ = roc_curve(y_val, predictions)\n",
    "fpr, tpr, _ = roc_curve(y_val, predictions)\n",
    "pyplot.plot(ns_fpr, ns_tpr, linestyle='--', label='No Skill')\n",
    "pyplot.plot(fpr, tpr, marker='.', label='Bi-HGA')\n"
   ]
  },
  {
   "cell_type": "code",
   "execution_count": 11,
   "metadata": {},
   "outputs": [
    {
     "name": "stdout",
     "output_type": "stream",
     "text": [
      "0h 6m 50s\n"
     ]
    }
   ],
   "source": [
    "end = datetime.datetime.now()\n",
    "\n",
    "diff = (end - start)\n",
    "\n",
    "datetime.timedelta(seconds=10, microseconds=885206)\n",
    "\n",
    "diff_seconds = int(diff.total_seconds())\n",
    "\n",
    "minute_seconds, seconds = divmod(diff_seconds, 60)\n",
    "hours, minutes = divmod(minute_seconds, 60)\n",
    "hms = f\"{hours}h {minutes}m {seconds}s\"\n",
    "\n",
    "'0h 0m 10s'\n",
    "print(hms) "
   ]
  }
 ],
 "metadata": {
  "kernelspec": {
   "display_name": "Python 3 (ipykernel)",
   "language": "python",
   "name": "python3"
  },
  "language_info": {
   "codemirror_mode": {
    "name": "ipython",
    "version": 3
   },
   "file_extension": ".py",
   "mimetype": "text/x-python",
   "name": "python",
   "nbconvert_exporter": "python",
   "pygments_lexer": "ipython3",
   "version": "3.11.4"
  }
 },
 "nbformat": 4,
 "nbformat_minor": 4
}
