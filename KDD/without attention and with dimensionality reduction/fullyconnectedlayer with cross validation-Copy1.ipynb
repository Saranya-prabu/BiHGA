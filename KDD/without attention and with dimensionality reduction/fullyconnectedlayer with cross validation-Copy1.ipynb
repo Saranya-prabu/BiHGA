{
 "cells": [
  {
   "cell_type": "code",
   "execution_count": 1,
   "metadata": {},
   "outputs": [],
   "source": [
    "#https://machinelearningmastery.com/tutorial-first-neural-network-python-keras/\n",
    "# first neural network with keras tutorial\n",
    "from numpy import loadtxt\n",
    "from keras.models import Sequential\n",
    "from keras.layers import Dense\n",
    "\n",
    "import numpy as np\n",
    "import pandas as pd\n",
    "\n",
    "from sklearn import preprocessing\n",
    "from sklearn.model_selection import train_test_split\n"
   ]
  },
  {
   "cell_type": "code",
   "execution_count": 2,
   "metadata": {},
   "outputs": [],
   "source": [
    "#data = pd.read_csv(\"file3.csv\") \n",
    "csv_1 = pd.read_csv(r\"C:\\Users\\data science\\Final bihga\\KDD\\with attention and dimensionality reduction\\lgcnormalresult.csv\") \n",
    "  \n",
    "# changing cols with rename() \n",
    "new_data = csv_1.rename(columns = {0: \"Feature1\",\n",
    "                                  1: \"Feature2\", \n",
    "                                  2: \"Feature3\", \n",
    "                                  3: \"Feature4\",\n",
    "                                  4: \"Feature5\",\n",
    "                                  5: \"Feature6\",\n",
    "                                  6: \"Feature7\",\n",
    "                                  7: \"Feature8\",\n",
    "                                  8: \"Feature9\",\n",
    "                                  9: \"Feature10\",\n",
    "                                  10: \"Feature11\",\n",
    "                                  11: \"Feature12\",\n",
    "                                  12: \"Feature13\",\n",
    "                                  13: \"Feature14\",\n",
    "                                  14: \"Feature15\",\n",
    "                                  15: \"Feature16\",\n",
    "                                  16: \"Feature17\",\n",
    "                                  17: \"Feature18\",\n",
    "                                  18: \"Feature19\", \n",
    "                                  19: \"Feature20\", \n",
    "                                  20: \"Label\"}) \n",
    "  \n",
    "# changing columns using .columns() \n",
    "csv_1.columns = ['Feature1', 'Feature2', 'Feature3', 'Feature4', \n",
    "                'Feature5', 'Feature6', 'Feature7', 'Feature8',\n",
    "                 'Feature9', 'Feature10', 'Feature11', 'Feature12',\n",
    "                 'Feature13', 'Feature14', 'Feature15', 'Feature16',\n",
    "                 'Feature17', 'Feature18', 'Feature19', 'Feature20',\"Label\"] \n",
    "  \n",
    "\n",
    "csv_1.to_csv(\"lgcnormalresult.csv\", index=None)"
   ]
  },
  {
   "cell_type": "code",
   "execution_count": 3,
   "metadata": {},
   "outputs": [],
   "source": [
    "#data = pd.read_csv(\"file3.csv\") \n",
    "csv_2 = pd.read_csv(r\"C:\\Users\\data science\\Final bihga\\KDD\\with attention and dimensionality reduction\\lgcabnormalresult.csv\") \n",
    "  \n",
    "# changing cols with rename() \n",
    "new_data = csv_2.rename(columns = {0: \"Feature1\",\n",
    "                                  1: \"Feature2\", \n",
    "                                  2: \"Feature3\", \n",
    "                                  3: \"Feature4\",\n",
    "                                  4: \"Feature5\",\n",
    "                                  5: \"Feature6\",\n",
    "                                  6: \"Feature7\",\n",
    "                                  7: \"Feature8\",\n",
    "                                  8: \"Feature9\",\n",
    "                                  9: \"Feature10\",\n",
    "                                  10: \"Feature11\",\n",
    "                                  11: \"Feature12\",\n",
    "                                  12: \"Feature13\",\n",
    "                                  13: \"Feature14\",\n",
    "                                  14: \"Feature15\",\n",
    "                                  15: \"Feature16\",\n",
    "                                  16: \"Feature17\",\n",
    "                                  17: \"Feature18\",\n",
    "                                  18: \"Feature19\", \n",
    "                                  19: \"Feature20\", \n",
    "                                  20: \"Label\"}) \n",
    "  \n",
    "# changing columns using .columns() \n",
    "csv_2.columns = ['Feature1', 'Feature2', 'Feature3', 'Feature4', \n",
    "                'Feature5', 'Feature6', 'Feature7', 'Feature8',\n",
    "                 'Feature9', 'Feature10', 'Feature11', 'Feature12',\n",
    "                 'Feature13', 'Feature14', 'Feature15', 'Feature16',\n",
    "                 'Feature17', 'Feature18', 'Feature19', 'Feature20',\"Label\"] \n",
    "  \n",
    "\n",
    "csv_2.to_csv(\"lgcabnormalresult.csv\", index=None)"
   ]
  },
  {
   "cell_type": "code",
   "execution_count": 4,
   "metadata": {},
   "outputs": [
    {
     "name": "stdout",
     "output_type": "stream",
     "text": [
      "       Feature1  Feature2  Feature3  Feature4  Feature5  Feature6  Feature7  \\\n",
      "0      0.036062  0.002170       0.0       0.0  0.000000  0.010692       0.0   \n",
      "1      0.035553  0.018961       0.0       0.0  0.000000  0.006399       0.0   \n",
      "2      0.000000  0.000000       0.0       0.0  0.000000  0.000000       0.0   \n",
      "3      0.036821  0.003598       0.0       0.0  0.000000  0.009541       0.0   \n",
      "4      0.000000  0.067483       0.0       0.0  0.001871  0.000000       0.0   \n",
      "...         ...       ...       ...       ...       ...       ...       ...   \n",
      "39994  0.000000  0.000000       0.0       0.0  0.000000  0.000000       0.0   \n",
      "39995  0.000000  0.000000       0.0       0.0  0.000000  0.117106       0.0   \n",
      "39996  0.000000  0.000000       0.0       0.0  0.000000  0.117106       0.0   \n",
      "39997  0.000000  0.000000       0.0       0.0  0.000000  0.000000       0.0   \n",
      "39998  0.000000  0.000000       0.0       0.0  0.000000  0.000000       0.0   \n",
      "\n",
      "       Feature8  Feature9  Feature10  ...  Feature12  Feature13  Feature14  \\\n",
      "0      0.022869  0.000000   0.028666  ...   0.000000        0.0        0.0   \n",
      "1      0.044223  0.000000   0.000000  ...   0.000000        0.0        0.0   \n",
      "2      0.114393  0.188740   0.000000  ...   0.000000        0.0        0.0   \n",
      "3      0.023389  0.000000   0.034359  ...   0.000000        0.0        0.0   \n",
      "4      0.050382  0.094566   0.000000  ...   0.000000        0.0        0.0   \n",
      "...         ...       ...        ...  ...        ...        ...        ...   \n",
      "39994  0.048455  0.000000   0.000000  ...   0.000000        0.0        0.0   \n",
      "39995  0.000000  0.310309   0.000000  ...   0.000000        0.0        0.0   \n",
      "39996  0.000000  0.310309   0.000000  ...   0.000000        0.0        0.0   \n",
      "39997  0.022992  0.000000   0.000000  ...   0.093992        0.0        0.0   \n",
      "39998  0.044941  0.000000   0.000000  ...   0.000000        0.0        0.0   \n",
      "\n",
      "       Feature15  Feature16  Feature17  Feature18  Feature19  Feature20  Label  \n",
      "0       0.000000   0.000000        0.0        0.0        0.0        0.0      0  \n",
      "1       0.019141   0.000000        0.0        0.0        0.0        0.0      0  \n",
      "2       0.000000   0.000000        0.0        0.0        0.0        0.0      0  \n",
      "3       0.000000   0.000000        0.0        0.0        0.0        0.0      0  \n",
      "4       0.000000   0.020485        0.0        0.0        0.0        0.0      0  \n",
      "...          ...        ...        ...        ...        ...        ...    ...  \n",
      "39994   0.024977   0.000000        0.0        0.0        0.0        0.0      1  \n",
      "39995   0.000000   0.000000        0.0        0.0        0.0        0.0      1  \n",
      "39996   0.000000   0.000000        0.0        0.0        0.0        0.0      1  \n",
      "39997   0.037188   0.000000        0.0        0.0        0.0        0.0      1  \n",
      "39998   0.027687   0.000000        0.0        0.0        0.0        0.0      1  \n",
      "\n",
      "[79998 rows x 21 columns]\n"
     ]
    }
   ],
   "source": [
    "merged = csv_1.merge(csv_2,on=\"Label\")\n",
    "\n",
    "merged.to_csv(\"attention.csv\", index=False)\n",
    "#result = pd.concat([csv_1, csv_2], axis=1)\n",
    "out = csv_1.append(csv_2)\n",
    "print(out)\n",
    "out.to_csv(\"attention.csv\", index=False)"
   ]
  },
  {
   "cell_type": "code",
   "execution_count": 5,
   "metadata": {},
   "outputs": [],
   "source": [
    "df = pd.read_csv(\"attention.csv\",sep=\",\", index_col=None)"
   ]
  },
  {
   "cell_type": "code",
   "execution_count": 6,
   "metadata": {},
   "outputs": [],
   "source": [
    "X=df.drop(['Label'], axis=1).values \n",
    "y=df['Label'].values"
   ]
  },
  {
   "cell_type": "code",
   "execution_count": 7,
   "metadata": {},
   "outputs": [
    {
     "name": "stdout",
     "output_type": "stream",
     "text": [
      "55998 Training sequences (55998, 20)\n",
      "24000 Validation sequences (24000, 20)\n",
      "55998 Training sequences (55998,)\n"
     ]
    }
   ],
   "source": [
    "from sklearn.model_selection import train_test_split\n",
    "\n",
    "x_train,x_val,y_train,y_val = train_test_split(X,y,train_size=0.70, random_state=2)\n",
    "print(len(x_train), \"Training sequences\",x_train.shape)\n",
    "print(len(x_val), \"Validation sequences\",x_val.shape)\n",
    "print(len(y_train), \"Training sequences\",y_train.shape)"
   ]
  },
  {
   "cell_type": "code",
   "execution_count": 8,
   "metadata": {},
   "outputs": [],
   "source": [
    "\n",
    "# define the keras model\n",
    "model = Sequential()\n",
    "model.add(Dense(12, input_dim=20, activation='relu'))\n",
    "model.add(Dense(8, activation='relu'))\n",
    "model.add(Dense(1, activation='sigmoid'))"
   ]
  },
  {
   "cell_type": "code",
   "execution_count": 9,
   "metadata": {},
   "outputs": [],
   "source": [
    "# compile the keras model\n",
    "model.compile(loss='binary_crossentropy', optimizer='adam', metrics=['accuracy'])"
   ]
  },
  {
   "cell_type": "code",
   "execution_count": 10,
   "metadata": {},
   "outputs": [
    {
     "name": "stdout",
     "output_type": "stream",
     "text": [
      "Model: \"sequential\"\n",
      "_________________________________________________________________\n",
      "Layer (type)                 Output Shape              Param #   \n",
      "=================================================================\n",
      "dense (Dense)                (None, 12)                252       \n",
      "_________________________________________________________________\n",
      "dense_1 (Dense)              (None, 8)                 104       \n",
      "_________________________________________________________________\n",
      "dense_2 (Dense)              (None, 1)                 9         \n",
      "=================================================================\n",
      "Total params: 365\n",
      "Trainable params: 365\n",
      "Non-trainable params: 0\n",
      "_________________________________________________________________\n"
     ]
    }
   ],
   "source": [
    "model.summary()"
   ]
  },
  {
   "cell_type": "raw",
   "metadata": {},
   "source": [
    "import time, datetime\n",
    "\n",
    "start = datetime.datetime.now()\n",
    "time.sleep(10)"
   ]
  },
  {
   "cell_type": "raw",
   "metadata": {},
   "source": [
    "# fit the keras model on the dataset\n",
    "history =model.fit(x_train, y_train, epochs=20, batch_size=10, validation_data=(x_val, y_val))"
   ]
  },
  {
   "cell_type": "raw",
   "metadata": {},
   "source": [
    "end = datetime.datetime.now()\n",
    "\n",
    "diff = (end - start)\n",
    "\n",
    "datetime.timedelta(seconds=10, microseconds=885206)\n",
    "\n",
    "diff_seconds = int(diff.total_seconds())\n",
    "\n",
    "minute_seconds, seconds = divmod(diff_seconds, 60)\n",
    "hours, minutes = divmod(minute_seconds, 60)\n",
    "hms = f\"{hours}h {minutes}m {seconds}s\"\n",
    "\n",
    "'0h 0m 10s'\n",
    "print(hms) "
   ]
  },
  {
   "cell_type": "raw",
   "metadata": {},
   "source": [
    "# evaluate the keras model\n",
    "_, accuracy = model.evaluate(X, y)\n",
    "print('Accuracy: %.2f' % (accuracy*100))"
   ]
  },
  {
   "cell_type": "raw",
   "metadata": {},
   "source": [
    "#https://machinelearningmastery.com/how-to-calculate-precision-recall-f1-and-more-for-deep-learning-models/\n",
    "import tensorflow as tf\n",
    "\n",
    "from matplotlib import pyplot\n",
    "# plot loss during training\n",
    "pyplot.subplot(211)\n",
    "pyplot.title('Loss')\n",
    "pyplot.plot(history.history['loss'], label='train')\n",
    "pyplot.plot(history.history['val_loss'], label='test')\n",
    "pyplot.legend()\n",
    "# plot accuracy during training\n",
    "pyplot.subplot(212)\n",
    "pyplot.title('Accuracy')\n",
    "pyplot.plot(history.history['accuracy'], label='train')\n",
    "pyplot.plot(history.history['val_accuracy'], label='test')\n",
    "pyplot.legend()\n",
    "pyplot.show()"
   ]
  },
  {
   "cell_type": "raw",
   "metadata": {},
   "source": [
    "# make probability predictions with the model\n",
    "predictions = model.predict(x_val)\n",
    "# round predictions \n",
    "rounded = [round(x[0]) for x in predictions]"
   ]
  },
  {
   "cell_type": "raw",
   "metadata": {},
   "source": [
    "# make class predictions with the model\n",
    "predictions = model.predict_classes(x_val)"
   ]
  },
  {
   "cell_type": "raw",
   "metadata": {},
   "source": [
    "#https://towardsdatascience.com/common-classification-model-evaluation-metrics-2ba0a7a7436e\n",
    "from sklearn.metrics import confusion_matrix\n",
    "print(confusion_matrix(y_val,predictions,labels=[1,0]))\n",
    "import seaborn as sns\n",
    "import matplotlib.pyplot as plt\n",
    "sns.heatmap(confusion_matrix(y_val,predictions),annot=True,lw =2,cbar=False)\n",
    "plt.ylabel(\"True Values\")\n",
    "plt.xlabel(\"Predicted Values\")\n",
    "plt.title(\"CONFUSSION MATRIX VISUALIZATION\")\n",
    "plt.show()"
   ]
  },
  {
   "cell_type": "raw",
   "metadata": {},
   "source": [
    "from sklearn.metrics import f1_score\n",
    "f1_score(y_val,predictions)"
   ]
  },
  {
   "cell_type": "raw",
   "metadata": {},
   "source": [
    "from sklearn.metrics import precision_score\n",
    "precision_score(y_val,predictions)"
   ]
  },
  {
   "cell_type": "raw",
   "metadata": {},
   "source": [
    "from sklearn.metrics import recall_score\n",
    "recall_score(y_val,predictions)"
   ]
  },
  {
   "cell_type": "raw",
   "metadata": {},
   "source": [
    "from sklearn.metrics import roc_auc_score\n",
    "roc_auc_score(y_val,predictions)"
   ]
  },
  {
   "cell_type": "raw",
   "metadata": {},
   "source": [
    "# summarize the first 5 cases\n",
    "for i in range(5):\n",
    "   print('%s => %d (expected %d)' % (X[i].tolist(), predictions[i], y[i]))"
   ]
  },
  {
   "cell_type": "raw",
   "metadata": {},
   "source": [
    "# predict probabilities for test set\n",
    "yhat_probs = model.predict(x_val, verbose=0)\n",
    "yhat_classes=np.argmax(yhat_probs,axis=1)\n",
    "# predict crisp classes for test set\n",
    "#yhat_classes = model.predict_classes(x_val, verbose=0)\n",
    "# reduce to 1d array\n",
    "yhat_probs = yhat_probs[:, 0]\n",
    "#yhat_classes = yhat_classes[:, 0]"
   ]
  },
  {
   "cell_type": "code",
   "execution_count": 11,
   "metadata": {},
   "outputs": [],
   "source": [
    "import time, datetime\n",
    "\n",
    "start = datetime.datetime.now()\n",
    "time.sleep(10)"
   ]
  },
  {
   "cell_type": "code",
   "execution_count": 12,
   "metadata": {
    "scrolled": true
   },
   "outputs": [
    {
     "name": "stdout",
     "output_type": "stream",
     "text": [
      "Epoch 1/20\n",
      "6000/6000 [==============================] - 5s 826us/step - loss: 0.1439 - accuracy: 0.9614 - val_loss: 0.0612 - val_accuracy: 0.9875\n",
      "Epoch 2/20\n",
      "6000/6000 [==============================] - 5s 799us/step - loss: 0.0491 - accuracy: 0.9890 - val_loss: 0.0430 - val_accuracy: 0.9906\n",
      "Epoch 3/20\n",
      "6000/6000 [==============================] - 5s 811us/step - loss: 0.0364 - accuracy: 0.9912 - val_loss: 0.0359 - val_accuracy: 0.9926\n",
      "Epoch 4/20\n",
      "6000/6000 [==============================] - 5s 768us/step - loss: 0.0308 - accuracy: 0.9925 - val_loss: 0.0317 - val_accuracy: 0.9932\n",
      "Epoch 5/20\n",
      "6000/6000 [==============================] - 5s 759us/step - loss: 0.0280 - accuracy: 0.9934 - val_loss: 0.0353 - val_accuracy: 0.9930\n",
      "Epoch 6/20\n",
      "6000/6000 [==============================] - 5s 780us/step - loss: 0.0265 - accuracy: 0.9937 - val_loss: 0.0313 - val_accuracy: 0.9936\n",
      "Epoch 7/20\n",
      "6000/6000 [==============================] - 5s 803us/step - loss: 0.0247 - accuracy: 0.9939 - val_loss: 0.0270 - val_accuracy: 0.9941\n",
      "Epoch 8/20\n",
      "6000/6000 [==============================] - 5s 788us/step - loss: 0.0235 - accuracy: 0.9942 - val_loss: 0.0253 - val_accuracy: 0.9944\n",
      "Epoch 9/20\n",
      "6000/6000 [==============================] - 5s 801us/step - loss: 0.0226 - accuracy: 0.9947 - val_loss: 0.0245 - val_accuracy: 0.9945\n",
      "Epoch 10/20\n",
      "6000/6000 [==============================] - 5s 812us/step - loss: 0.0221 - accuracy: 0.9949 - val_loss: 0.0238 - val_accuracy: 0.9946\n",
      "Epoch 11/20\n",
      "6000/6000 [==============================] - 5s 765us/step - loss: 0.0217 - accuracy: 0.9950 - val_loss: 0.0235 - val_accuracy: 0.9952\n",
      "Epoch 12/20\n",
      "6000/6000 [==============================] - 5s 762us/step - loss: 0.0215 - accuracy: 0.9948 - val_loss: 0.0238 - val_accuracy: 0.9947\n",
      "Epoch 13/20\n",
      "6000/6000 [==============================] - 5s 756us/step - loss: 0.0209 - accuracy: 0.9951 - val_loss: 0.0237 - val_accuracy: 0.9948\n",
      "Epoch 14/20\n",
      "6000/6000 [==============================] - 5s 750us/step - loss: 0.0206 - accuracy: 0.9953 - val_loss: 0.0238 - val_accuracy: 0.9951\n",
      "Epoch 15/20\n",
      "6000/6000 [==============================] - 5s 763us/step - loss: 0.0205 - accuracy: 0.9952 - val_loss: 0.0228 - val_accuracy: 0.9951\n",
      "Epoch 16/20\n",
      "6000/6000 [==============================] - 5s 777us/step - loss: 0.0200 - accuracy: 0.9952 - val_loss: 0.0232 - val_accuracy: 0.9952\n",
      "Epoch 17/20\n",
      "6000/6000 [==============================] - 5s 783us/step - loss: 0.0196 - accuracy: 0.9954 - val_loss: 0.0233 - val_accuracy: 0.9942\n",
      "Epoch 18/20\n",
      "6000/6000 [==============================] - 4s 747us/step - loss: 0.0193 - accuracy: 0.9952 - val_loss: 0.0218 - val_accuracy: 0.9951\n",
      "Epoch 19/20\n",
      "6000/6000 [==============================] - 4s 748us/step - loss: 0.0193 - accuracy: 0.9953 - val_loss: 0.0214 - val_accuracy: 0.9958\n",
      "Epoch 20/20\n",
      "6000/6000 [==============================] - 5s 758us/step - loss: 0.0189 - accuracy: 0.9956 - val_loss: 0.0228 - val_accuracy: 0.9955\n",
      "2500/2500 [==============================] - 2s 781us/step - loss: 0.0198 - accuracy: 0.9959\n",
      "overall Accuracy: 99.59\n",
      "[[9915   57]\n",
      " [  33 9995]]\n",
      "accuracy: 0.995500\n",
      "f1 score: 0.995482\n",
      "precision score: 0.996683\n",
      "recall score: 0.994284\n",
      "ROC AUC: 0.995497\n",
      "ROC AUC: 0.995497\n",
      "No Skill: ROC AUC=0.995\n"
     ]
    },
    {
     "data": {
      "image/png": "[encoded data removed]",
      "text/plain": [
       "<Figure size 432x288 with 1 Axes>"
      ]
     },
     "metadata": {
      "needs_background": "light"
     },
     "output_type": "display_data"
    },
    {
     "name": "stdout",
     "output_type": "stream",
     "text": [
      "[0 0 0 ... 1 1 1]\n"
     ]
    },
    {
     "data": {
      "image/png": "[encoded data removed]",
      "text/plain": [
       "<Figure size 432x288 with 1 Axes>"
      ]
     },
     "metadata": {
      "needs_background": "light"
     },
     "output_type": "display_data"
    },
    {
     "name": "stdout",
     "output_type": "stream",
     "text": [
      "Epoch 1/20\n",
      "6000/6000 [==============================] - 5s 768us/step - loss: 0.0190 - accuracy: 0.9955 - val_loss: 0.0211 - val_accuracy: 0.9947\n",
      "Epoch 2/20\n",
      "6000/6000 [==============================] - 5s 763us/step - loss: 0.0190 - accuracy: 0.9956 - val_loss: 0.0195 - val_accuracy: 0.9947\n",
      "Epoch 3/20\n",
      "6000/6000 [==============================] - 5s 819us/step - loss: 0.0187 - accuracy: 0.9955 - val_loss: 0.0196 - val_accuracy: 0.9955\n",
      "Epoch 4/20\n",
      "6000/6000 [==============================] - 5s 795us/step - loss: 0.0182 - accuracy: 0.9959 - val_loss: 0.0197 - val_accuracy: 0.9952\n",
      "Epoch 5/20\n",
      "6000/6000 [==============================] - 5s 789us/step - loss: 0.0183 - accuracy: 0.9957 - val_loss: 0.0213 - val_accuracy: 0.9942\n",
      "Epoch 6/20\n",
      "6000/6000 [==============================] - 5s 764us/step - loss: 0.0177 - accuracy: 0.9959 - val_loss: 0.0186 - val_accuracy: 0.9952\n",
      "Epoch 7/20\n",
      "6000/6000 [==============================] - 5s 792us/step - loss: 0.0174 - accuracy: 0.9957 - val_loss: 0.0190 - val_accuracy: 0.9953\n",
      "Epoch 8/20\n",
      "6000/6000 [==============================] - 5s 782us/step - loss: 0.0172 - accuracy: 0.9959 - val_loss: 0.0186 - val_accuracy: 0.9955\n",
      "Epoch 9/20\n",
      "6000/6000 [==============================] - 5s 778us/step - loss: 0.0168 - accuracy: 0.9959 - val_loss: 0.0176 - val_accuracy: 0.9960\n",
      "Epoch 10/20\n",
      "6000/6000 [==============================] - 5s 778us/step - loss: 0.0165 - accuracy: 0.9958 - val_loss: 0.0189 - val_accuracy: 0.9954\n",
      "Epoch 11/20\n",
      "6000/6000 [==============================] - 5s 793us/step - loss: 0.0164 - accuracy: 0.9959 - val_loss: 0.0201 - val_accuracy: 0.9937\n",
      "Epoch 12/20\n",
      "6000/6000 [==============================] - 5s 782us/step - loss: 0.0160 - accuracy: 0.9959 - val_loss: 0.0174 - val_accuracy: 0.9956\n",
      "Epoch 13/20\n",
      "6000/6000 [==============================] - 5s 806us/step - loss: 0.0157 - accuracy: 0.9959 - val_loss: 0.0175 - val_accuracy: 0.9955\n",
      "Epoch 14/20\n",
      "6000/6000 [==============================] - 5s 778us/step - loss: 0.0153 - accuracy: 0.9958 - val_loss: 0.0179 - val_accuracy: 0.9952\n",
      "Epoch 15/20\n",
      "6000/6000 [==============================] - 5s 778us/step - loss: 0.0150 - accuracy: 0.9959 - val_loss: 0.0180 - val_accuracy: 0.9952\n",
      "Epoch 16/20\n",
      "6000/6000 [==============================] - 5s 814us/step - loss: 0.0145 - accuracy: 0.9958 - val_loss: 0.0163 - val_accuracy: 0.9954\n",
      "Epoch 17/20\n",
      "6000/6000 [==============================] - 5s 807us/step - loss: 0.0140 - accuracy: 0.9959 - val_loss: 0.0160 - val_accuracy: 0.9955\n",
      "Epoch 18/20\n",
      "6000/6000 [==============================] - 5s 776us/step - loss: 0.0137 - accuracy: 0.9960 - val_loss: 0.0155 - val_accuracy: 0.9951\n",
      "Epoch 19/20\n",
      "6000/6000 [==============================] - 5s 775us/step - loss: 0.0136 - accuracy: 0.9959 - val_loss: 0.0155 - val_accuracy: 0.9955\n",
      "Epoch 20/20\n",
      "6000/6000 [==============================] - 5s 795us/step - loss: 0.0129 - accuracy: 0.9959 - val_loss: 0.0153 - val_accuracy: 0.9952\n",
      "2500/2500 [==============================] - 2s 781us/step - loss: 0.0137 - accuracy: 0.9956\n",
      "overall Accuracy: 99.56\n",
      "[[9987   52]\n",
      " [  43 9918]]\n",
      "accuracy: 0.995250\n",
      "f1 score: 0.995266\n",
      "precision score: 0.995713\n",
      "recall score: 0.994820\n",
      "ROC AUC: 0.995252\n",
      "ROC AUC: 0.995252\n",
      "No Skill: ROC AUC=0.995\n"
     ]
    },
    {
     "data": {
      "image/png": "[encoded data removed]",
      "text/plain": [
       "<Figure size 432x288 with 1 Axes>"
      ]
     },
     "metadata": {
      "needs_background": "light"
     },
     "output_type": "display_data"
    },
    {
     "name": "stdout",
     "output_type": "stream",
     "text": [
      "[0 0 0 ... 1 1 1]\n"
     ]
    },
    {
     "data": {
      "image/png": "[encoded data removed]",
      "text/plain": [
       "<Figure size 432x288 with 1 Axes>"
      ]
     },
     "metadata": {
      "needs_background": "light"
     },
     "output_type": "display_data"
    },
    {
     "name": "stdout",
     "output_type": "stream",
     "text": [
      "Epoch 1/20\n",
      "6000/6000 [==============================] - 5s 860us/step - loss: 0.0139 - accuracy: 0.9958 - val_loss: 0.0124 - val_accuracy: 0.9953\n",
      "Epoch 2/20\n",
      "6000/6000 [==============================] - 5s 895us/step - loss: 0.0135 - accuracy: 0.9959 - val_loss: 0.0103 - val_accuracy: 0.9963\n",
      "Epoch 3/20\n",
      "6000/6000 [==============================] - 5s 876us/step - loss: 0.0129 - accuracy: 0.9958 - val_loss: 0.0100 - val_accuracy: 0.9961\n",
      "Epoch 4/20\n",
      "6000/6000 [==============================] - 5s 866us/step - loss: 0.0127 - accuracy: 0.9963 - val_loss: 0.0110 - val_accuracy: 0.9960\n",
      "Epoch 5/20\n",
      "6000/6000 [==============================] - 5s 901us/step - loss: 0.0123 - accuracy: 0.9960 - val_loss: 0.0113 - val_accuracy: 0.9967\n",
      "Epoch 6/20\n",
      "6000/6000 [==============================] - 5s 896us/step - loss: 0.0119 - accuracy: 0.9964 - val_loss: 0.0099 - val_accuracy: 0.9967\n",
      "Epoch 7/20\n",
      "6000/6000 [==============================] - 5s 864us/step - loss: 0.0115 - accuracy: 0.9966 - val_loss: 0.0090 - val_accuracy: 0.9972\n",
      "Epoch 8/20\n",
      "6000/6000 [==============================] - 5s 892us/step - loss: 0.0113 - accuracy: 0.9965 - val_loss: 0.0111 - val_accuracy: 0.9955\n",
      "Epoch 9/20\n",
      "6000/6000 [==============================] - 5s 894us/step - loss: 0.0112 - accuracy: 0.9964 - val_loss: 0.0085 - val_accuracy: 0.9970\n",
      "Epoch 10/20\n",
      "6000/6000 [==============================] - 5s 863us/step - loss: 0.0109 - accuracy: 0.9967 - val_loss: 0.0089 - val_accuracy: 0.9970\n",
      "Epoch 11/20\n",
      "6000/6000 [==============================] - 5s 898us/step - loss: 0.0109 - accuracy: 0.9968 - val_loss: 0.0205 - val_accuracy: 0.9932\n",
      "Epoch 12/20\n",
      "6000/6000 [==============================] - 5s 896us/step - loss: 0.0108 - accuracy: 0.9968 - val_loss: 0.0103 - val_accuracy: 0.9964\n",
      "Epoch 13/20\n",
      "6000/6000 [==============================] - 5s 888us/step - loss: 0.0106 - accuracy: 0.9968 - val_loss: 0.0088 - val_accuracy: 0.9973\n",
      "Epoch 14/20\n",
      "6000/6000 [==============================] - 5s 887us/step - loss: 0.0102 - accuracy: 0.9970 - val_loss: 0.0091 - val_accuracy: 0.9969\n",
      "Epoch 15/20\n",
      "6000/6000 [==============================] - 5s 893us/step - loss: 0.0100 - accuracy: 0.9969 - val_loss: 0.0091 - val_accuracy: 0.9964\n",
      "Epoch 16/20\n",
      "6000/6000 [==============================] - 5s 895us/step - loss: 0.0099 - accuracy: 0.9970 - val_loss: 0.0092 - val_accuracy: 0.9966\n",
      "Epoch 17/20\n",
      "6000/6000 [==============================] - 5s 894us/step - loss: 0.0099 - accuracy: 0.9971 - val_loss: 0.0095 - val_accuracy: 0.9964\n",
      "Epoch 18/20\n",
      "6000/6000 [==============================] - 5s 896us/step - loss: 0.0096 - accuracy: 0.9972 - val_loss: 0.0094 - val_accuracy: 0.9964\n",
      "Epoch 19/20\n",
      "6000/6000 [==============================] - 5s 892us/step - loss: 0.0096 - accuracy: 0.9971 - val_loss: 0.0092 - val_accuracy: 0.9971\n",
      "Epoch 20/20\n",
      "6000/6000 [==============================] - 5s 845us/step - loss: 0.0094 - accuracy: 0.9972 - val_loss: 0.0087 - val_accuracy: 0.9972\n",
      "2500/2500 [==============================] - 2s 769us/step - loss: 0.0087 - accuracy: 0.9974\n",
      "overall Accuracy: 99.74\n",
      "[[ 9943    37]\n",
      " [   18 10001]]\n",
      "accuracy: 0.997250\n",
      "f1 score: 0.997242\n",
      "precision score: 0.998193\n",
      "recall score: 0.996293\n",
      "ROC AUC: 0.997248\n",
      "ROC AUC: 0.997248\n",
      "No Skill: ROC AUC=0.997\n"
     ]
    },
    {
     "data": {
      "image/png": "[encoded data removed]",
      "text/plain": [
       "<Figure size 432x288 with 1 Axes>"
      ]
     },
     "metadata": {
      "needs_background": "light"
     },
     "output_type": "display_data"
    },
    {
     "name": "stdout",
     "output_type": "stream",
     "text": [
      "[0 0 0 ... 1 1 1]\n"
     ]
    },
    {
     "data": {
      "image/png": "[encoded data removed]",
      "text/plain": [
       "<Figure size 432x288 with 1 Axes>"
      ]
     },
     "metadata": {
      "needs_background": "light"
     },
     "output_type": "display_data"
    },
    {
     "name": "stdout",
     "output_type": "stream",
     "text": [
      "Epoch 1/20\n",
      "6000/6000 [==============================] - 5s 851us/step - loss: 0.0098 - accuracy: 0.9970 - val_loss: 0.0078 - val_accuracy: 0.9973\n",
      "Epoch 2/20\n",
      "6000/6000 [==============================] - 5s 866us/step - loss: 0.0096 - accuracy: 0.9969 - val_loss: 0.0078 - val_accuracy: 0.9977\n",
      "Epoch 3/20\n",
      "6000/6000 [==============================] - 5s 902us/step - loss: 0.0094 - accuracy: 0.9971 - val_loss: 0.0078 - val_accuracy: 0.9976\n",
      "Epoch 4/20\n",
      "6000/6000 [==============================] - 5s 885us/step - loss: 0.0092 - accuracy: 0.9972 - val_loss: 0.0080 - val_accuracy: 0.9975\n",
      "Epoch 5/20\n",
      "6000/6000 [==============================] - 5s 900us/step - loss: 0.0090 - accuracy: 0.9970 - val_loss: 0.0079 - val_accuracy: 0.9977\n",
      "Epoch 6/20\n",
      "6000/6000 [==============================] - 5s 901us/step - loss: 0.0090 - accuracy: 0.9971 - val_loss: 0.0074 - val_accuracy: 0.9979\n",
      "Epoch 7/20\n",
      "6000/6000 [==============================] - 5s 893us/step - loss: 0.0088 - accuracy: 0.9972 - val_loss: 0.0083 - val_accuracy: 0.9973\n",
      "Epoch 8/20\n",
      "6000/6000 [==============================] - 5s 898us/step - loss: 0.0088 - accuracy: 0.9972 - val_loss: 0.0086 - val_accuracy: 0.9974\n",
      "Epoch 9/20\n",
      "6000/6000 [==============================] - 5s 901us/step - loss: 0.0087 - accuracy: 0.9971 - val_loss: 0.0072 - val_accuracy: 0.9979\n",
      "Epoch 10/20\n",
      "6000/6000 [==============================] - 5s 896us/step - loss: 0.0084 - accuracy: 0.9972 - val_loss: 0.0079 - val_accuracy: 0.9974\n",
      "Epoch 11/20\n",
      "6000/6000 [==============================] - 5s 888us/step - loss: 0.0087 - accuracy: 0.9972 - val_loss: 0.0078 - val_accuracy: 0.9977\n",
      "Epoch 12/20\n",
      "6000/6000 [==============================] - 5s 884us/step - loss: 0.0085 - accuracy: 0.9974 - val_loss: 0.0073 - val_accuracy: 0.9979\n",
      "Epoch 13/20\n",
      "6000/6000 [==============================] - 5s 896us/step - loss: 0.0084 - accuracy: 0.9972 - val_loss: 0.0080 - val_accuracy: 0.9975\n",
      "Epoch 14/20\n",
      "6000/6000 [==============================] - 5s 901us/step - loss: 0.0081 - accuracy: 0.9975 - val_loss: 0.0075 - val_accuracy: 0.9979\n",
      "Epoch 15/20\n",
      "6000/6000 [==============================] - 5s 902us/step - loss: 0.0081 - accuracy: 0.9973 - val_loss: 0.0073 - val_accuracy: 0.9978\n",
      "Epoch 16/20\n",
      "6000/6000 [==============================] - 5s 900us/step - loss: 0.0080 - accuracy: 0.9974 - val_loss: 0.0075 - val_accuracy: 0.9975\n",
      "Epoch 17/20\n",
      "6000/6000 [==============================] - 5s 894us/step - loss: 0.0080 - accuracy: 0.9973 - val_loss: 0.0068 - val_accuracy: 0.9979\n",
      "Epoch 18/20\n",
      "6000/6000 [==============================] - 5s 895us/step - loss: 0.0080 - accuracy: 0.9974 - val_loss: 0.0078 - val_accuracy: 0.9974\n",
      "Epoch 19/20\n",
      "6000/6000 [==============================] - 5s 905us/step - loss: 0.0074 - accuracy: 0.9975 - val_loss: 0.0075 - val_accuracy: 0.9975\n",
      "Epoch 20/20\n",
      "6000/6000 [==============================] - 5s 893us/step - loss: 0.0076 - accuracy: 0.9974 - val_loss: 0.0072 - val_accuracy: 0.9978\n",
      "2500/2500 [==============================] - 2s 753us/step - loss: 0.0071 - accuracy: 0.9977\n",
      "overall Accuracy: 99.77\n",
      "[[9993   15]\n",
      " [  29 9962]]\n",
      "accuracy: 0.997800\n",
      "f1 score: 0.997803\n",
      "precision score: 0.997106\n",
      "recall score: 0.998501\n",
      "ROC AUC: 0.997799\n",
      "ROC AUC: 0.997799\n",
      "No Skill: ROC AUC=0.998\n"
     ]
    },
    {
     "data": {
      "image/png": "[encoded data removed]",
      "text/plain": [
       "<Figure size 432x288 with 1 Axes>"
      ]
     },
     "metadata": {
      "needs_background": "light"
     },
     "output_type": "display_data"
    },
    {
     "name": "stdout",
     "output_type": "stream",
     "text": [
      "[0 0 0 ... 1 1 1]\n"
     ]
    },
    {
     "data": {
      "image/png": "[encoded data removed]",
      "text/plain": [
       "<Figure size 432x288 with 1 Axes>"
      ]
     },
     "metadata": {
      "needs_background": "light"
     },
     "output_type": "display_data"
    },
    {
     "name": "stdout",
     "output_type": "stream",
     "text": [
      "Cross Validation ROC - AUC = 0.9964488950396584\n",
      "Cross Validation Precision recall curve - AUC = 0.9949238113082177\n",
      "Cross Validation accuracy = 0.9964499381219061\n",
      "Cross Validation f1 = 0.9964483543557702\n",
      "Cross Validation precision = 0.996923732556735\n",
      "Cross Validation recall = 0.9959744951532227\n",
      "Cross Validation fpr = [0.         0.00307671 1.        ]\n",
      "Cross Validation tpr = [0.        0.9959745 1.       ]\n",
      "Cross Validation lr_precision = [0.49999999 0.99692373 1.        ]\n",
      "Cross Validation lr_recall = [1.        0.9959745 0.       ]\n"
     ]
    },
    {
     "data": {
      "text/plain": [
       "[<matplotlib.lines.Line2D at 0xd4c301f520>]"
      ]
     },
     "execution_count": 12,
     "metadata": {},
     "output_type": "execute_result"
    },
    {
     "data": {
      "image/png": "[encoded data removed]",
      "text/plain": [
       "<Figure size 432x288 with 1 Axes>"
      ]
     },
     "metadata": {
      "needs_background": "light"
     },
     "output_type": "display_data"
    }
   ],
   "source": [
    "from sklearn.model_selection import KFold\n",
    "from sklearn.metrics import confusion_matrix\n",
    "from sklearn.metrics import f1_score\n",
    "from sklearn.metrics import precision_score\n",
    "from sklearn.metrics import average_precision_score\n",
    "from sklearn.metrics import recall_score\n",
    "from sklearn.metrics import roc_auc_score\n",
    "from sklearn.metrics import accuracy_score\n",
    "from numpy import arange\n",
    "from sklearn.metrics import roc_curve\n",
    "import matplotlib.pyplot as plt\n",
    "from matplotlib import pyplot \n",
    "from importlib import reload\n",
    "reload(plt)\n",
    "#from matplotlib import pyplot\n",
    "from sklearn.metrics import precision_recall_curve\n",
    "from sklearn.metrics import auc\n",
    "\n",
    "\n",
    "kf = KFold(n_splits=4,shuffle=True,random_state=None)\n",
    "\n",
    "scores = []\n",
    "aucs=0\n",
    "aucs1=0\n",
    "f1s=0\n",
    "recalls=0\n",
    "precisions=0\n",
    "accuracys=0\n",
    "lr_precisions=0\n",
    "lr_recalls=0\n",
    "fprs=0\n",
    "tprs=0\n",
    "\n",
    "for train_index, test_index in kf.split(X):\n",
    "    x_train, x_val = X[train_index], X[test_index]\n",
    "    y_train, y_val = y[train_index], y[test_index]\n",
    "    \n",
    "    model.fit(x_train, y_train, epochs=20, batch_size=10, validation_data=(x_val, y_val))\n",
    "    \n",
    "    # make probability predictions with the model\n",
    "    predictions = model.predict(x_val)\n",
    "    # round predictions \n",
    "    predictions = [round(x[0]) for x in predictions]\n",
    "    \n",
    "   \n",
    "    # make class predictions with the model\n",
    "   # predictions1 =  model.predict>0.5.astype('int32')\n",
    "    \n",
    "    # evaluate the keras model\n",
    "    _, accuracy = model.evaluate(X, y)\n",
    "    print('overall Accuracy: %.2f' % (accuracy*100))\n",
    "    \n",
    "    print(confusion_matrix(y_val,predictions,labels=[1,0]))\n",
    "    \n",
    "    #No need for threshold setting since getting same value   \n",
    "    accuracy=accuracy_score(y_val,predictions)\n",
    "    print('accuracy: %f' % accuracy)\n",
    "    \n",
    "    f1=f1_score(y_val,predictions)\n",
    "    print('f1 score: %f' % f1)    \n",
    "    \n",
    "    precision=precision_score(y_val,predictions)\n",
    "    print('precision score: %f' % precision)\n",
    "    \n",
    "    recall=recall_score(y_val,predictions)\n",
    "    print('recall score: %f' % recall)\n",
    "    \n",
    "    auc = roc_auc_score(y_val, predictions)\n",
    "    print('ROC AUC: %f' % auc)    \n",
    "    \n",
    "    ns_auc = roc_auc_score(y_val, predictions)\n",
    "    print('ROC AUC: %f' % auc)  \n",
    "    \n",
    "    # summarize scores\n",
    "    print('No Skill: ROC AUC=%.3f' % (ns_auc))\n",
    "    \n",
    "    #https://machinelearningmastery.com/roc-curves-and-precision-recall-curves-for-classification-in-python/#:~:text=with%20sample%20code).-,ROC%20Curves%20and%20AUC%20in%20Python,probabilities%20for%20the%201%20class.\n",
    "    # calculate roc curves\n",
    "    ns_fpr, ns_tpr, _ = roc_curve(y_val, predictions)\n",
    "    fpr, tpr, _ = roc_curve(y_val, predictions)\n",
    "    pyplot.plot(ns_fpr, ns_tpr, linestyle='--', label='No Skill')\n",
    "    pyplot.plot(fpr, tpr, marker='.', label='Bi-HGA')\n",
    "\n",
    "    # axis labels\n",
    "    pyplot.xlabel('False Positive Rate')\n",
    "    pyplot.ylabel('True Positive Rate')\n",
    "    # show the legend\n",
    "    pyplot.legend()\n",
    "    # show the plot\n",
    "    pyplot.show()\n",
    "\n",
    "    print(y_val)\n",
    "    #https://www.kaggle.com/vedbharti/classification-precision-recall-vs-roc-plot\n",
    "    auc1=average_precision_score(y_val, predictions)\n",
    "     \n",
    "    lr_precision, lr_recall, _ = precision_recall_curve(y_val, predictions)\n",
    "    #lr_f1, lr_auc = f1_score(y_val, predictions1), auc(lr_recall, lr_precision)\n",
    "    # summarize scores\n",
    "    #print('Logistic: f1=%.3f auc=%.3f' % (lr_f1, lr_auc))\n",
    "    # plot the precision-recall curves\n",
    "    #no_skill = len(testy[testy==1]) / len(testy)\n",
    "    #pyplot.plot([0, 1], [no_skill, no_skill], linestyle='--', label='No Skill')\n",
    "    pyplot.plot(lr_recall, lr_precision, marker='.', label='Bi-HGA')\n",
    "    # axis labels\n",
    "    pyplot.xlabel('Recall')\n",
    "    pyplot.ylabel('Precision')\n",
    "    # show the legend\n",
    "    pyplot.legend()\n",
    "    # show the plot\n",
    "    pyplot.show()\n",
    "    \n",
    "    aucs += auc\n",
    "    aucs1 += auc1\n",
    "    accuracys += accuracy\n",
    "    f1s += f1\n",
    "    precisions += precision\n",
    "    recalls += recall\n",
    "    ns_fpr+=ns_fpr\n",
    "    ns_tpr+=ns_tpr\n",
    "    fprs+=fpr\n",
    "    tprs+=tpr\n",
    "    lr_recalls+=lr_recall\n",
    "    lr_precisions+=lr_precision\n",
    "print(\"Cross Validation ROC - AUC = {}\".format(aucs/4))\n",
    "print(\"Cross Validation Precision recall curve - AUC = {}\".format(aucs1/4))\n",
    "print(\"Cross Validation accuracy = {}\".format(accuracys/4))\n",
    "print(\"Cross Validation f1 = {}\".format(f1s/4))\n",
    "print(\"Cross Validation precision = {}\".format(precisions/4))\n",
    "print(\"Cross Validation recall = {}\".format(recalls/4))\n",
    "print(\"Cross Validation fpr = {}\".format(fprs/4))\n",
    "print(\"Cross Validation tpr = {}\".format(tprs/4))\n",
    "print(\"Cross Validation lr_precision = {}\".format(lr_precisions/4))\n",
    "print(\"Cross Validation lr_recall = {}\".format(lr_recalls/4))\n",
    "\n",
    "ns_fpr, ns_tpr, _ = roc_curve(y_val, predictions)\n",
    "fpr, tpr, _ = roc_curve(y_val, predictions)\n",
    "pyplot.plot(ns_fpr, ns_tpr, linestyle='--', label='No Skill')\n",
    "pyplot.plot(fpr, tpr, marker='.', label='Bi-HGA')\n"
   ]
  },
  {
   "cell_type": "code",
   "execution_count": 13,
   "metadata": {},
   "outputs": [
    {
     "name": "stdout",
     "output_type": "stream",
     "text": [
      "0h 7m 2s\n"
     ]
    }
   ],
   "source": [
    "end = datetime.datetime.now()\n",
    "\n",
    "diff = (end - start)\n",
    "\n",
    "datetime.timedelta(seconds=10, microseconds=885206)\n",
    "\n",
    "diff_seconds = int(diff.total_seconds())\n",
    "\n",
    "minute_seconds, seconds = divmod(diff_seconds, 60)\n",
    "hours, minutes = divmod(minute_seconds, 60)\n",
    "hms = f\"{hours}h {minutes}m {seconds}s\"\n",
    "\n",
    "'0h 0m 10s'\n",
    "print(hms) "
   ]
  },
  {
   "cell_type": "raw",
   "metadata": {},
   "source": [
    "#Threshold setting for imbalanced classification with cross validation\n",
    "import numpy as np\n",
    "import tensorflow as tf\n",
    "from tensorflow import keras\n",
    "maxlen=8\n",
    "#x_train = keras.preprocessing.sequence.pad_sequences(x_train, maxlen=maxlen)\n",
    "#x_val = keras.preprocessing.sequence.pad_sequences(x_val, maxlen=maxlen)\n",
    "#x_test = keras.preprocessing.sequence.pad_sequences(x_test , maxlen=maxlen)\n",
    "x_train = keras.preprocessing.sequence.pad_sequences(X, maxlen=maxlen)\n",
    "#optimizer = keras.optimizers.Adam(lr=1e-3)\n",
    "optimizer = keras.optimizers.Adam()\n",
    "#https://www.kaggle.com/suicaokhoailang/10-fold-lstm-with-attention-0-991-lb\n",
    "from pylab import *\n",
    "from sklearn.model_selection import KFold\n",
    "from sklearn import metrics\n",
    "import sklearn.metrics as sk\n",
    "from sklearn.metrics import roc_curve,f1_score\n",
    "from sklearn.metrics import auc\n",
    "from sklearn.metrics import accuracy_score\n",
    "from sklearn.metrics import precision_score\n",
    "from sklearn.metrics import recall_score\n",
    "from sklearn.metrics import confusion_matrix \n",
    "kf = KFold(n_splits=20, shuffle=True, random_state=42069)\n",
    "preds = []\n",
    "fold = 0\n",
    "aucs = 0\n",
    "# apply threshold to positive probabilities to create labels\n",
    "def to_labels(pos_probs, threshold):\n",
    "    return (pos_probs >= threshold).astype('int')\n",
    " \n",
    "# predict probabilities\n",
    "#yhat = model.predict_proba(x_val)\n",
    "# keep probabilities for the positive outcome only\n",
    "#probs = yhat[:, 1]\n",
    "\n",
    "for train_idx, val_idx in kf.split(x_train):\n",
    "    x_train_f = x_train[train_idx]\n",
    "    #y_train_f = y_train[train_idx]\n",
    "    y_train_f = y[train_idx]\n",
    "    x_val_f = x_train[val_idx]\n",
    "    y_val_f = y[val_idx]\n",
    "    model.compile(optimizer, \"binary_crossentropy\", metrics=[\"accuracy\"])\n",
    "    #model = get_model()\n",
    "    model.fit(x_train_f, y_train_f, epochs=10, batch_size=10, validation_data=(x_val_f, y_val_f))\n",
    "   # model.fit(x_train_f, y_train_f,\n",
    "    #          batch_size=256,\n",
    "     #         epochs=10,\n",
    "      #        verbose = 1,\n",
    "       #       validation_data=(x_val_f, y_val_f))\n",
    "    # evaluate the keras model\n",
    "    _, accuracy = model.evaluate(X, y)\n",
    "    print('Accuracy: %.2f' % (accuracy*100))\n",
    "    \n",
    "    # predict probabilities for test set\n",
    "    yhat_probs = model.predict(x_val_f, verbose=0)\n",
    "    yhat_classes=np.argmax(yhat_probs,axis=1)\n",
    "    # predict crisp classes for test set\n",
    "    #yhat_classes = model.predict_classes(x_val, verbose=0)\n",
    "    # reduce to 1d array\n",
    "    yhat_probs = yhat_probs[:, 0]\n",
    "    #yhat_classes = yhat_classes[:, 0]\n",
    "\n",
    "    # make probability predictions with the model\n",
    "    predictions = model.predict(x_val_f)\n",
    "    # round predictions \n",
    "    rounded = [round(x[0]) for x in predictions]\n",
    "    \n",
    "    # make class predictions with the model\n",
    "    predictions = model.predict_classes(x_val_f)\n",
    "    \n",
    "    from sklearn.metrics import confusion_matrix\n",
    "    print(confusion_matrix(y_val_f,predictions,labels=[1,0]))\n",
    "    \n",
    "    # define thresholds\n",
    "    thresholds = arange(0, 1, 0.001)\n",
    "    # evaluate each threshold\n",
    "    scores = [f1_score(y_val_f, to_labels(yhat_probs, t)) for t in thresholds]\n",
    "    # get best threshold\n",
    "    ix = argmax(scores)\n",
    "    print('Threshold=%.3f, F-Score=%.5f' % (thresholds[ix], scores[ix]))\n",
    "\n",
    "    # evaluate each threshold\n",
    "    scores = [accuracy_score(y_val_f, to_labels(yhat_probs, t)) for t in thresholds]\n",
    "    # get best threshold\n",
    "    ix = argmax(scores)\n",
    "    print('Threshold=%.3f, Accuracy-Score=%.5f' % (thresholds[ix], scores[ix]))\n",
    "    \n",
    "    # evaluate each threshold\n",
    "    scores = [precision_score(y_val_f, to_labels(yhat_probs, t)) for t in thresholds]\n",
    "    # get best threshold\n",
    "    ix = argmax(scores)\n",
    "    print('Threshold=%.3f, Precision-Score=%.5f' % (thresholds[ix], scores[ix]))\n",
    "    \n",
    "    # evaluate each threshold\n",
    "    scores = [recall_score(y_val_f, to_labels(yhat_probs, t)) for t in thresholds]\n",
    "    # get best threshold\n",
    "    ix = argmax(scores)\n",
    "    print('Threshold=%.3f, recall-Score=%.5f' % (thresholds[ix], scores[ix]))\n",
    "    \n",
    "    from sklearn.metrics import roc_auc_score\n",
    "    # ROC AUC\n",
    "    auc = roc_auc_score(y_val_f, yhat_probs)\n",
    "    print('ROC AUC: %f' % auc)\n",
    "    \n",
    "print(\"Cross Validation AUC = {}\".format(aucs/10))\n",
    "#print(sk.confusion_matrix(y_val_f,preds_val))\n"
   ]
  },
  {
   "cell_type": "code",
   "execution_count": 14,
   "metadata": {},
   "outputs": [
    {
     "ename": "NameError",
     "evalue": "name 'yhat_probs' is not defined",
     "output_type": "error",
     "traceback": [
      "\u001b[1;31m---------------------------------------------------------------------------\u001b[0m",
      "\u001b[1;31mNameError\u001b[0m                                 Traceback (most recent call last)",
      "\u001b[1;32m<ipython-input-14-f1e500160e2d>\u001b[0m in \u001b[0;36m<module>\u001b[1;34m\u001b[0m\n\u001b[0;32m     26\u001b[0m \u001b[0mthresholds\u001b[0m \u001b[1;33m=\u001b[0m \u001b[0marange\u001b[0m\u001b[1;33m(\u001b[0m\u001b[1;36m0\u001b[0m\u001b[1;33m,\u001b[0m \u001b[1;36m1\u001b[0m\u001b[1;33m,\u001b[0m \u001b[1;36m0.001\u001b[0m\u001b[1;33m)\u001b[0m\u001b[1;33m\u001b[0m\u001b[1;33m\u001b[0m\u001b[0m\n\u001b[0;32m     27\u001b[0m \u001b[1;31m# evaluate each threshold\u001b[0m\u001b[1;33m\u001b[0m\u001b[1;33m\u001b[0m\u001b[1;33m\u001b[0m\u001b[0m\n\u001b[1;32m---> 28\u001b[1;33m \u001b[0mscores\u001b[0m \u001b[1;33m=\u001b[0m \u001b[1;33m[\u001b[0m\u001b[0mf1_score\u001b[0m\u001b[1;33m(\u001b[0m\u001b[0my_val\u001b[0m\u001b[1;33m,\u001b[0m \u001b[0mto_labels\u001b[0m\u001b[1;33m(\u001b[0m\u001b[0myhat_probs\u001b[0m\u001b[1;33m,\u001b[0m \u001b[0mt\u001b[0m\u001b[1;33m)\u001b[0m\u001b[1;33m)\u001b[0m \u001b[1;32mfor\u001b[0m \u001b[0mt\u001b[0m \u001b[1;32min\u001b[0m \u001b[0mthresholds\u001b[0m\u001b[1;33m]\u001b[0m\u001b[1;33m\u001b[0m\u001b[1;33m\u001b[0m\u001b[0m\n\u001b[0m\u001b[0;32m     29\u001b[0m \u001b[1;31m# get best threshold\u001b[0m\u001b[1;33m\u001b[0m\u001b[1;33m\u001b[0m\u001b[1;33m\u001b[0m\u001b[0m\n\u001b[0;32m     30\u001b[0m \u001b[0mix\u001b[0m \u001b[1;33m=\u001b[0m \u001b[0margmax\u001b[0m\u001b[1;33m(\u001b[0m\u001b[0mscores\u001b[0m\u001b[1;33m)\u001b[0m\u001b[1;33m\u001b[0m\u001b[1;33m\u001b[0m\u001b[0m\n",
      "\u001b[1;32m<ipython-input-14-f1e500160e2d>\u001b[0m in \u001b[0;36m<listcomp>\u001b[1;34m(.0)\u001b[0m\n\u001b[0;32m     26\u001b[0m \u001b[0mthresholds\u001b[0m \u001b[1;33m=\u001b[0m \u001b[0marange\u001b[0m\u001b[1;33m(\u001b[0m\u001b[1;36m0\u001b[0m\u001b[1;33m,\u001b[0m \u001b[1;36m1\u001b[0m\u001b[1;33m,\u001b[0m \u001b[1;36m0.001\u001b[0m\u001b[1;33m)\u001b[0m\u001b[1;33m\u001b[0m\u001b[1;33m\u001b[0m\u001b[0m\n\u001b[0;32m     27\u001b[0m \u001b[1;31m# evaluate each threshold\u001b[0m\u001b[1;33m\u001b[0m\u001b[1;33m\u001b[0m\u001b[1;33m\u001b[0m\u001b[0m\n\u001b[1;32m---> 28\u001b[1;33m \u001b[0mscores\u001b[0m \u001b[1;33m=\u001b[0m \u001b[1;33m[\u001b[0m\u001b[0mf1_score\u001b[0m\u001b[1;33m(\u001b[0m\u001b[0my_val\u001b[0m\u001b[1;33m,\u001b[0m \u001b[0mto_labels\u001b[0m\u001b[1;33m(\u001b[0m\u001b[0myhat_probs\u001b[0m\u001b[1;33m,\u001b[0m \u001b[0mt\u001b[0m\u001b[1;33m)\u001b[0m\u001b[1;33m)\u001b[0m \u001b[1;32mfor\u001b[0m \u001b[0mt\u001b[0m \u001b[1;32min\u001b[0m \u001b[0mthresholds\u001b[0m\u001b[1;33m]\u001b[0m\u001b[1;33m\u001b[0m\u001b[1;33m\u001b[0m\u001b[0m\n\u001b[0m\u001b[0;32m     29\u001b[0m \u001b[1;31m# get best threshold\u001b[0m\u001b[1;33m\u001b[0m\u001b[1;33m\u001b[0m\u001b[1;33m\u001b[0m\u001b[0m\n\u001b[0;32m     30\u001b[0m \u001b[0mix\u001b[0m \u001b[1;33m=\u001b[0m \u001b[0margmax\u001b[0m\u001b[1;33m(\u001b[0m\u001b[0mscores\u001b[0m\u001b[1;33m)\u001b[0m\u001b[1;33m\u001b[0m\u001b[1;33m\u001b[0m\u001b[0m\n",
      "\u001b[1;31mNameError\u001b[0m: name 'yhat_probs' is not defined"
     ]
    }
   ],
   "source": [
    "#https://machinelearningmastery.com/threshold-moving-for-imbalanced-classification/#:~:text=Optimal%20Threshold%20for%20Precision%2DRecall%20Curve,-Unlike%20the%20ROC&text=Recall%20is%20calculated%20as%20the,positives%20and%20the%20false%20negatives.\n",
    "#Optimal Threshold Tuning\n",
    "# search thresholds for imbalanced classification\n",
    "from numpy import arange\n",
    "from numpy import argmax\n",
    "from sklearn.datasets import make_classification\n",
    "from sklearn.linear_model import LogisticRegression\n",
    "from sklearn.model_selection import train_test_split\n",
    "from sklearn.metrics import f1_score\n",
    "from sklearn.metrics import accuracy_score\n",
    "from sklearn.metrics import precision_score\n",
    "from sklearn.metrics import recall_score\n",
    "from sklearn.metrics import f1_score\n",
    "from sklearn.metrics import cohen_kappa_score\n",
    "from sklearn.metrics import roc_auc_score\n",
    "from sklearn.metrics import confusion_matrix \n",
    "# apply threshold to positive probabilities to create labels\n",
    "def to_labels(pos_probs, threshold):\n",
    "    return (pos_probs >= threshold).astype('int')\n",
    " \n",
    "# predict probabilities\n",
    "#yhat = model.predict_proba(x_val)\n",
    "# keep probabilities for the positive outcome only\n",
    "#probs = yhat[:, 1]\n",
    "# define thresholds\n",
    "thresholds = arange(0, 1, 0.001)\n",
    "# evaluate each threshold\n",
    "scores = [f1_score(y_val, to_labels(yhat_probs, t)) for t in thresholds]\n",
    "# get best threshold\n",
    "ix = argmax(scores)\n",
    "print('Threshold=%.3f, F-Score=%.5f' % (thresholds[ix], scores[ix]))"
   ]
  },
  {
   "cell_type": "code",
   "execution_count": null,
   "metadata": {},
   "outputs": [],
   "source": [
    "# evaluate each threshold\n",
    "scores = [accuracy_score(y_val, to_labels(yhat_probs, t)) for t in thresholds]\n",
    "# get best threshold\n",
    "ix = argmax(scores)\n",
    "print('Threshold=%.3f, Accuracy-Score=%.5f' % (thresholds[ix], scores[ix]))"
   ]
  },
  {
   "cell_type": "code",
   "execution_count": null,
   "metadata": {},
   "outputs": [],
   "source": [
    "# evaluate each threshold\n",
    "scores = [precision_score(y_val, to_labels(yhat_probs, t)) for t in thresholds]\n",
    "# get best threshold\n",
    "ix = argmax(scores)\n",
    "print('Threshold=%.3f, Precision-Score=%.5f' % (thresholds[ix], scores[ix]))"
   ]
  },
  {
   "cell_type": "code",
   "execution_count": null,
   "metadata": {},
   "outputs": [],
   "source": [
    "# evaluate each threshold\n",
    "scores = [recall_score(y_val, to_labels(yhat_probs, t)) for t in thresholds]\n",
    "# get best threshold\n",
    "ix = argmax(scores)\n",
    "print('Threshold=%.3f, recall-Score=%.5f' % (thresholds[ix], scores[ix]))"
   ]
  },
  {
   "cell_type": "code",
   "execution_count": null,
   "metadata": {},
   "outputs": [],
   "source": [
    "from sklearn.metrics import roc_auc_score\n",
    "# ROC AUC\n",
    "auc = roc_auc_score(y_val, yhat_probs)\n",
    "print('ROC AUC: %f' % auc)"
   ]
  }
 ],
 "metadata": {
  "kernelspec": {
   "display_name": "Python 3",
   "language": "python",
   "name": "python3"
  },
  "language_info": {
   "codemirror_mode": {
    "name": "ipython",
    "version": 3
   },
   "file_extension": ".py",
   "mimetype": "text/x-python",
   "name": "python",
   "nbconvert_exporter": "python",
   "pygments_lexer": "ipython3",
   "version": "3.8.8"
  }
 },
 "nbformat": 4,
 "nbformat_minor": 4
}
