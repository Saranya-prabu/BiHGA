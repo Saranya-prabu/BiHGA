{
 "cells": [
  {
   "cell_type": "code",
   "execution_count": 1,
   "metadata": {},
   "outputs": [],
   "source": [
    "#https://machinelearningmastery.com/tutorial-first-neural-network-python-keras/\n",
    "# first neural network with keras tutorial\n",
    "from numpy import loadtxt\n",
    "from keras.models import Sequential\n",
    "from keras.layers import Dense\n",
    "\n",
    "import numpy as np\n",
    "import pandas as pd\n",
    "\n",
    "from sklearn import preprocessing\n",
    "from sklearn.model_selection import train_test_split\n"
   ]
  },
  {
   "cell_type": "code",
   "execution_count": 2,
   "metadata": {},
   "outputs": [],
   "source": [
    "csv_1 = pd.read_csv(r\"C:\\Users\\data science\\CICIDS - 30 neurons\\with attention and dimensionality reduction\\attentionnormalresult.csv\") \n",
    "  \n",
    "# changing cols with rename() \n",
    "new_data = csv_1.rename(columns = {0: \"Feature1\",\n",
    "                                  1: \"Feature2\", \n",
    "                                  2: \"Feature3\", \n",
    "                                  3: \"Feature4\",\n",
    "                                  4: \"Feature5\",\n",
    "                                  5: \"Feature6\",\n",
    "                                  6: \"Feature7\",\n",
    "                                  7: \"Feature8\",\n",
    "                                  8: \"Feature9\",\n",
    "                                  9: \"Feature10\",\n",
    "                                  10: \"Feature11\",\n",
    "                                  11: \"Feature12\",\n",
    "                                  12: \"Feature13\",\n",
    "                                  13: \"Feature14\",\n",
    "                                  14: \"Feature15\",\n",
    "                                  15: \"Feature16\",\n",
    "                                  16: \"Feature17\",\n",
    "                                  17: \"Feature18\",\n",
    "                                  18: \"Feature19\", \n",
    "                                  19: \"Feature20\",\n",
    "                                  20: \"Feature21\",                                   \n",
    "                                  21: \"Feature22\",\n",
    "                                  22: \"Feature23\",\n",
    "                                  23: \"Feature24\",                                   \n",
    "                                  24: \"Feature25\",\n",
    "                                  25: \"Feature26\",  \n",
    "                                  26: \"Feature27\",\n",
    "                                  27: \"Feature28\",\n",
    "                                  28: \"Feature29\",\n",
    "                                  29: \"Feature30\",                                       \n",
    "                                  30: \"Label\"}) \n",
    "  \n",
    "# changing columns using .columns() \n",
    "csv_1.columns = ['Feature1', 'Feature2', 'Feature3', 'Feature4', \n",
    "                'Feature5', 'Feature6', 'Feature7', 'Feature8',\n",
    "                 'Feature9', 'Feature10', 'Feature11', 'Feature12',\n",
    "                 'Feature13', 'Feature14', 'Feature15', 'Feature16',\n",
    "                 'Feature17', 'Feature18', 'Feature19', 'Feature20','Feature21','Feature22','Feature23','Feature24','Feature25','Feature26','Feature27','Feature28','Feature29','Feature30',\"Label\"] \n",
    "\n",
    "\n",
    "csv_1.to_csv(\"attentionnormalresult.csv\", index=None)"
   ]
  },
  {
   "cell_type": "code",
   "execution_count": 3,
   "metadata": {},
   "outputs": [],
   "source": [
    "csv_2 = pd.read_csv(r\"C:\\Users\\data science\\CICIDS - 30 neurons\\5% attack\\attentionabnormalresult.csv\") \n",
    "  \n",
    "# changing cols with rename() \n",
    "new_data = csv_2.rename(columns = {0: \"Feature1\",\n",
    "                                  1: \"Feature2\", \n",
    "                                  2: \"Feature3\", \n",
    "                                  3: \"Feature4\",\n",
    "                                  4: \"Feature5\",\n",
    "                                  5: \"Feature6\",\n",
    "                                  6: \"Feature7\",\n",
    "                                  7: \"Feature8\",\n",
    "                                  8: \"Feature9\",\n",
    "                                  9: \"Feature10\",\n",
    "                                  10: \"Feature11\",\n",
    "                                  11: \"Feature12\",\n",
    "                                  12: \"Feature13\",\n",
    "                                  13: \"Feature14\",\n",
    "                                  14: \"Feature15\",\n",
    "                                  15: \"Feature16\",\n",
    "                                  16: \"Feature17\",\n",
    "                                  17: \"Feature18\",\n",
    "                                  18: \"Feature19\", \n",
    "                                  19: \"Feature20\",\n",
    "                                  20: \"Feature21\",                                   \n",
    "                                  21: \"Feature22\",\n",
    "                                  22: \"Feature23\",\n",
    "                                  23: \"Feature24\",                                   \n",
    "                                  24: \"Feature25\",\n",
    "                                  25: \"Feature26\",  \n",
    "                                  26: \"Feature27\",\n",
    "                                  27: \"Feature28\",\n",
    "                                  28: \"Feature29\",\n",
    "                                  29: \"Feature30\",                                         \n",
    "                                  30: \"Label\"}) \n",
    "  \n",
    "# changing columns using .columns() \n",
    "csv_2.columns = ['Feature1', 'Feature2', 'Feature3', 'Feature4', \n",
    "                'Feature5', 'Feature6', 'Feature7', 'Feature8',\n",
    "                 'Feature9', 'Feature10', 'Feature11', 'Feature12',\n",
    "                 'Feature13', 'Feature14', 'Feature15', 'Feature16',\n",
    "                 'Feature17', 'Feature18', 'Feature19', 'Feature20','Feature21','Feature22','Feature23','Feature24','Feature25','Feature26','Feature27','Feature28','Feature29','Feature30',\"Label\"] \n",
    "\n",
    "  \n",
    "\n",
    "csv_2.to_csv(\"attentionabnormalresult.csv\", index=None)"
   ]
  },
  {
   "cell_type": "code",
   "execution_count": 4,
   "metadata": {
    "scrolled": true
   },
   "outputs": [
    {
     "name": "stdout",
     "output_type": "stream",
     "text": [
      "       Feature1  Feature2  Feature3  Feature4  Feature5  Feature6  Feature7  \\\n",
      "0      0.031837  0.031837  0.031837  0.031837  0.036238  0.039322  0.031837   \n",
      "1      0.035108  0.032130  0.032130  0.032130  0.032130  0.032130  0.038547   \n",
      "2      0.031934  0.041154  0.031934  0.031934  0.039751  0.031934  0.036542   \n",
      "3      0.031406  0.032686  0.031092  0.033183  0.037234  0.036711  0.030824   \n",
      "4      0.031504  0.031599  0.031504  0.032908  0.037345  0.037925  0.031504   \n",
      "...         ...       ...       ...       ...       ...       ...       ...   \n",
      "27821  0.040853  0.037231  0.031534  0.031534  0.038863  0.031534  0.033647   \n",
      "27822  0.031961  0.041662  0.031961  0.032022  0.039932  0.031961  0.037242   \n",
      "27823  0.031284  0.031284  0.031284  0.031284  0.039165  0.034764  0.031873   \n",
      "27824  0.037288  0.041174  0.031210  0.031210  0.039610  0.031210  0.035909   \n",
      "27825  0.032788  0.035658  0.030538  0.033033  0.030538  0.030538  0.030538   \n",
      "\n",
      "       Feature8  Feature9  Feature10  ...  Feature22  Feature23  Feature24  \\\n",
      "0      0.031837  0.031837   0.031837  ...   0.031837   0.031837   0.031837   \n",
      "1      0.032130  0.034461   0.041035  ...   0.035751   0.032130   0.032130   \n",
      "2      0.031934  0.031934   0.031934  ...   0.034044   0.031934   0.031934   \n",
      "3      0.036762  0.030824   0.035404  ...   0.030824   0.030824   0.034596   \n",
      "4      0.033256  0.031504   0.033955  ...   0.031504   0.031626   0.031504   \n",
      "...         ...       ...        ...  ...        ...        ...        ...   \n",
      "27821  0.031534  0.031534   0.031534  ...   0.031534   0.031812   0.031534   \n",
      "27822  0.031961  0.031961   0.031961  ...   0.033888   0.031961   0.031961   \n",
      "27823  0.034867  0.031284   0.031284  ...   0.031284   0.033044   0.031284   \n",
      "27824  0.031210  0.031210   0.034393  ...   0.033979   0.031210   0.031210   \n",
      "27825  0.030538  0.030538   0.036328  ...   0.030538   0.034032   0.030538   \n",
      "\n",
      "       Feature25  Feature26  Feature27  Feature28  Feature29  Feature30  Label  \n",
      "0       0.033745   0.031837   0.034767   0.031837   0.031837   0.031837      0  \n",
      "1       0.032625   0.032130   0.041235   0.032130   0.032130   0.032130      0  \n",
      "2       0.031934   0.031934   0.031934   0.038301   0.031934   0.031934      0  \n",
      "3       0.033337   0.030824   0.034041   0.035015   0.031132   0.030824      0  \n",
      "4       0.033828   0.031504   0.034638   0.031504   0.031504   0.031504      0  \n",
      "...          ...        ...        ...        ...        ...        ...    ...  \n",
      "27821   0.031534   0.031534   0.031534   0.040120   0.031534   0.031534      1  \n",
      "27822   0.031961   0.031961   0.031961   0.038013   0.031961   0.031961      1  \n",
      "27823   0.031284   0.036243   0.031284   0.036534   0.031284   0.031284      1  \n",
      "27824   0.034866   0.031210   0.034005   0.034686   0.031210   0.031210      1  \n",
      "27825   0.032412   0.030538   0.034565   0.037865   0.034590   0.033828      1  \n",
      "\n",
      "[2299144 rows x 31 columns]\n"
     ]
    }
   ],
   "source": [
    "merged = csv_1.merge(csv_2,on=\"Label\")\n",
    "\n",
    "merged.to_csv(\"attention1.csv\", index=False)\n",
    "#result = pd.concat([csv_1, csv_2], axis=1)\n",
    "out = csv_1.append(csv_2)\n",
    "print(out)\n",
    "out.to_csv(\"attention1.csv\", index=False)"
   ]
  },
  {
   "cell_type": "code",
   "execution_count": 5,
   "metadata": {},
   "outputs": [],
   "source": [
    "df = pd.read_csv(\"attention1.csv\",sep=\",\", index_col=None)"
   ]
  },
  {
   "cell_type": "code",
   "execution_count": 6,
   "metadata": {},
   "outputs": [],
   "source": [
    "X=df.drop(['Label'], axis=1).values \n",
    "y=df['Label'].values"
   ]
  },
  {
   "cell_type": "code",
   "execution_count": 7,
   "metadata": {},
   "outputs": [
    {
     "name": "stdout",
     "output_type": "stream",
     "text": [
      "1609400 Training sequences (1609400, 30)\n",
      "689744 Validation sequences (689744, 30)\n",
      "1609400 Training sequences (1609400,)\n"
     ]
    }
   ],
   "source": [
    "from sklearn.model_selection import train_test_split\n",
    "\n",
    "x_train,x_val,y_train,y_val = train_test_split(X,y,train_size=0.70, random_state=2)\n",
    "print(len(x_train), \"Training sequences\",x_train.shape)\n",
    "print(len(x_val), \"Validation sequences\",x_val.shape)\n",
    "print(len(y_train), \"Training sequences\",y_train.shape)"
   ]
  },
  {
   "cell_type": "code",
   "execution_count": 8,
   "metadata": {},
   "outputs": [],
   "source": [
    "\n",
    "# define the keras model\n",
    "model = Sequential()\n",
    "model.add(Dense(12, input_dim=30, activation='relu'))\n",
    "model.add(Dense(8, activation='relu'))\n",
    "model.add(Dense(1, activation='sigmoid'))"
   ]
  },
  {
   "cell_type": "code",
   "execution_count": 9,
   "metadata": {},
   "outputs": [],
   "source": [
    "# compile the keras model\n",
    "model.compile(loss='binary_crossentropy', optimizer='adam', metrics=['accuracy'])"
   ]
  },
  {
   "cell_type": "code",
   "execution_count": 10,
   "metadata": {},
   "outputs": [
    {
     "name": "stdout",
     "output_type": "stream",
     "text": [
      "Model: \"sequential\"\n",
      "_________________________________________________________________\n",
      "Layer (type)                 Output Shape              Param #   \n",
      "=================================================================\n",
      "dense (Dense)                (None, 12)                372       \n",
      "_________________________________________________________________\n",
      "dense_1 (Dense)              (None, 8)                 104       \n",
      "_________________________________________________________________\n",
      "dense_2 (Dense)              (None, 1)                 9         \n",
      "=================================================================\n",
      "Total params: 485\n",
      "Trainable params: 485\n",
      "Non-trainable params: 0\n",
      "_________________________________________________________________\n"
     ]
    }
   ],
   "source": [
    "model.summary()"
   ]
  },
  {
   "cell_type": "code",
   "execution_count": 25,
   "metadata": {},
   "outputs": [],
   "source": [
    "import time, datetime\n",
    "\n",
    "start = datetime.datetime.now()\n",
    "time.sleep(10)"
   ]
  },
  {
   "cell_type": "code",
   "execution_count": 26,
   "metadata": {
    "scrolled": true
   },
   "outputs": [
    {
     "name": "stdout",
     "output_type": "stream",
     "text": [
      "Epoch 1/20\n",
      "172436/172436 [==============================] - 137s 794us/step - loss: 0.0237 - accuracy: 0.9936 - val_loss: 0.0250 - val_accuracy: 0.9930\n",
      "Epoch 2/20\n",
      "172436/172436 [==============================] - 137s 797us/step - loss: 0.0230 - accuracy: 0.9937 - val_loss: 0.0241 - val_accuracy: 0.9945\n",
      "Epoch 3/20\n",
      "172436/172436 [==============================] - 139s 803us/step - loss: 0.0234 - accuracy: 0.9937 - val_loss: 0.0221 - val_accuracy: 0.9936\n",
      "Epoch 4/20\n",
      "172436/172436 [==============================] - 142s 824us/step - loss: 0.0231 - accuracy: 0.9938 - val_loss: 0.0247 - val_accuracy: 0.9931\n",
      "Epoch 5/20\n",
      "172436/172436 [==============================] - 143s 832us/step - loss: 0.0229 - accuracy: 0.9940 - val_loss: 0.0224 - val_accuracy: 0.9948\n",
      "Epoch 6/20\n",
      "172436/172436 [==============================] - 139s 807us/step - loss: 0.0227 - accuracy: 0.9940 - val_loss: 0.0204 - val_accuracy: 0.9950\n",
      "Epoch 7/20\n",
      "172436/172436 [==============================] - 140s 812us/step - loss: 0.0225 - accuracy: 0.9941 - val_loss: 0.0233 - val_accuracy: 0.9937\n",
      "Epoch 8/20\n",
      "172436/172436 [==============================] - 138s 802us/step - loss: 0.0222 - accuracy: 0.9942 - val_loss: 0.0211 - val_accuracy: 0.9949\n",
      "Epoch 9/20\n",
      "172436/172436 [==============================] - 144s 836us/step - loss: 0.0220 - accuracy: 0.9942 - val_loss: 0.0211 - val_accuracy: 0.9937\n",
      "Epoch 10/20\n",
      "172436/172436 [==============================] - 139s 809us/step - loss: 0.0219 - accuracy: 0.9943 - val_loss: 0.0198 - val_accuracy: 0.9949\n",
      "Epoch 11/20\n",
      "172436/172436 [==============================] - 143s 829us/step - loss: 0.0217 - accuracy: 0.9943 - val_loss: 0.0197 - val_accuracy: 0.9950\n",
      "Epoch 12/20\n",
      "172436/172436 [==============================] - 141s 819us/step - loss: 0.0215 - accuracy: 0.9944 - val_loss: 0.0194 - val_accuracy: 0.9951\n",
      "Epoch 13/20\n",
      "172436/172436 [==============================] - 138s 803us/step - loss: 0.0214 - accuracy: 0.9944 - val_loss: 0.0193 - val_accuracy: 0.9952\n",
      "Epoch 14/20\n",
      "172436/172436 [==============================] - 140s 810us/step - loss: 0.0213 - accuracy: 0.9945 - val_loss: 0.0197 - val_accuracy: 0.9949\n",
      "Epoch 15/20\n",
      "172436/172436 [==============================] - 141s 816us/step - loss: 0.0212 - accuracy: 0.9945 - val_loss: 0.0196 - val_accuracy: 0.9949\n",
      "Epoch 16/20\n",
      "172436/172436 [==============================] - 142s 824us/step - loss: 0.0210 - accuracy: 0.9945 - val_loss: 0.0190 - val_accuracy: 0.9952\n",
      "Epoch 17/20\n",
      "172436/172436 [==============================] - 140s 814us/step - loss: 0.0209 - accuracy: 0.9946 - val_loss: 0.0197 - val_accuracy: 0.9948accuracy: \n",
      "Epoch 18/20\n",
      "172436/172436 [==============================] - 144s 833us/step - loss: 0.0209 - accuracy: 0.9946 - val_loss: 0.0222 - val_accuracy: 0.9944\n",
      "Epoch 19/20\n",
      "172436/172436 [==============================] - 142s 822us/step - loss: 0.0207 - accuracy: 0.9946 - val_loss: 0.0200 - val_accuracy: 0.9949\n",
      "Epoch 20/20\n",
      "172436/172436 [==============================] - 137s 793us/step - loss: 0.0206 - accuracy: 0.9947 - val_loss: 0.0208 - val_accuracy: 0.9948\n",
      "71849/71849 [==============================] - 35s 492us/step - loss: 0.0208 - accuracy: 0.9948\n",
      "overall Accuracy: 99.48\n",
      "[[  4012   2889]\n",
      " [    47 567838]]\n",
      "accuracy: 0.994892\n",
      "f1 score: 0.732117\n",
      "precision score: 0.988421\n",
      "recall score: 0.581365\n",
      "ROC AUC: 0.790641\n",
      "ROC AUC: 0.790641\n",
      "No Skill: ROC AUC=0.791\n"
     ]
    },
    {
     "data": {
      "image/png": "[encoded data removed]",
      "text/plain": [
       "<Figure size 432x288 with 1 Axes>"
      ]
     },
     "metadata": {
      "needs_background": "light"
     },
     "output_type": "display_data"
    },
    {
     "name": "stdout",
     "output_type": "stream",
     "text": [
      "[0 0 0 ... 1 1 1]\n"
     ]
    },
    {
     "data": {
      "image/png": "[encoded data removed]",
      "text/plain": [
       "<Figure size 432x288 with 1 Axes>"
      ]
     },
     "metadata": {
      "needs_background": "light"
     },
     "output_type": "display_data"
    },
    {
     "name": "stdout",
     "output_type": "stream",
     "text": [
      "Epoch 1/20\n",
      "172436/172436 [==============================] - 137s 792us/step - loss: 0.0204 - accuracy: 0.9947 - val_loss: 0.0211 - val_accuracy: 0.9945\n",
      "Epoch 2/20\n",
      "172436/172436 [==============================] - 137s 795us/step - loss: 0.0202 - accuracy: 0.9947 - val_loss: 0.0205 - val_accuracy: 0.9948\n",
      "Epoch 3/20\n",
      "172436/172436 [==============================] - 135s 786us/step - loss: 0.0201 - accuracy: 0.9947 - val_loss: 0.0230 - val_accuracy: 0.9946\n",
      "Epoch 4/20\n",
      "172436/172436 [==============================] - 141s 816us/step - loss: 0.0199 - accuracy: 0.9948 - val_loss: 0.0212 - val_accuracy: 0.9945\n",
      "Epoch 5/20\n",
      "172436/172436 [==============================] - 143s 829us/step - loss: 0.0198 - accuracy: 0.9948 - val_loss: 0.0197 - val_accuracy: 0.9948\n",
      "Epoch 6/20\n",
      "172436/172436 [==============================] - 141s 821us/step - loss: 0.0197 - accuracy: 0.9948 - val_loss: 0.0194 - val_accuracy: 0.9950\n",
      "Epoch 7/20\n",
      "172436/172436 [==============================] - 137s 792us/step - loss: 0.0195 - accuracy: 0.9948 - val_loss: 0.0203 - val_accuracy: 0.9947\n",
      "Epoch 8/20\n",
      "172436/172436 [==============================] - 136s 788us/step - loss: 0.0194 - accuracy: 0.9948 - val_loss: 0.0230 - val_accuracy: 0.9937\n",
      "Epoch 9/20\n",
      "172436/172436 [==============================] - 142s 821us/step - loss: 0.0193 - accuracy: 0.9948 - val_loss: 0.0183 - val_accuracy: 0.9951\n",
      "Epoch 10/20\n",
      "172436/172436 [==============================] - 136s 787us/step - loss: 0.0192 - accuracy: 0.9949 - val_loss: 0.0212 - val_accuracy: 0.9947\n",
      "Epoch 11/20\n",
      "172436/172436 [==============================] - 144s 837us/step - loss: 0.0192 - accuracy: 0.9949 - val_loss: 0.0184 - val_accuracy: 0.9950\n",
      "Epoch 12/20\n",
      "172436/172436 [==============================] - 142s 825us/step - loss: 0.0190 - accuracy: 0.9949 - val_loss: 0.0182 - val_accuracy: 0.9951\n",
      "Epoch 13/20\n",
      "172436/172436 [==============================] - 139s 806us/step - loss: 0.0190 - accuracy: 0.9949 - val_loss: 0.0190 - val_accuracy: 0.9950\n",
      "Epoch 14/20\n",
      "172436/172436 [==============================] - 138s 798us/step - loss: 0.0189 - accuracy: 0.9949 - val_loss: 0.0174 - val_accuracy: 0.9951\n",
      "Epoch 15/20\n",
      "172436/172436 [==============================] - 146s 847us/step - loss: 0.0189 - accuracy: 0.9949 - val_loss: 0.0183 - val_accuracy: 0.9950\n",
      "Epoch 16/20\n",
      "172436/172436 [==============================] - 140s 815us/step - loss: 0.0187 - accuracy: 0.9949 - val_loss: 0.0227 - val_accuracy: 0.9941\n",
      "Epoch 17/20\n",
      "172436/172436 [==============================] - 142s 825us/step - loss: 0.0187 - accuracy: 0.9949 - val_loss: 0.0181 - val_accuracy: 0.9950\n",
      "Epoch 18/20\n",
      "172436/172436 [==============================] - 140s 810us/step - loss: 0.0186 - accuracy: 0.9949 - val_loss: 0.0175 - val_accuracy: 0.9951\n",
      "Epoch 19/20\n",
      "172436/172436 [==============================] - 137s 795us/step - loss: 0.0185 - accuracy: 0.9949 - val_loss: 0.0190 - val_accuracy: 0.9949\n",
      "Epoch 20/20\n",
      "172436/172436 [==============================] - 143s 831us/step - loss: 0.0185 - accuracy: 0.9950 - val_loss: 0.0192 - val_accuracy: 0.9948\n",
      "71849/71849 [==============================] - 35s 488us/step - loss: 0.0189 - accuracy: 0.9949\n",
      "overall Accuracy: 99.49\n",
      "[[  4168   2938]\n",
      " [    56 567624]]\n",
      "accuracy: 0.994791\n",
      "f1 score: 0.735746\n",
      "precision score: 0.986742\n",
      "recall score: 0.586547\n",
      "ROC AUC: 0.793224\n",
      "ROC AUC: 0.793224\n",
      "No Skill: ROC AUC=0.793\n"
     ]
    },
    {
     "data": {
      "image/png": "[encoded data removed]",
      "text/plain": [
       "<Figure size 432x288 with 1 Axes>"
      ]
     },
     "metadata": {
      "needs_background": "light"
     },
     "output_type": "display_data"
    },
    {
     "name": "stdout",
     "output_type": "stream",
     "text": [
      "[0 0 0 ... 1 1 1]\n"
     ]
    },
    {
     "data": {
      "image/png": "[encoded data removed]",
      "text/plain": [
       "<Figure size 432x288 with 1 Axes>"
      ]
     },
     "metadata": {
      "needs_background": "light"
     },
     "output_type": "display_data"
    },
    {
     "name": "stdout",
     "output_type": "stream",
     "text": [
      "Epoch 1/20\n",
      "172436/172436 [==============================] - 137s 797us/step - loss: 0.0184 - accuracy: 0.9950 - val_loss: 0.0181 - val_accuracy: 0.9951\n",
      "Epoch 2/20\n",
      "172436/172436 [==============================] - 144s 837us/step - loss: 0.0184 - accuracy: 0.9950 - val_loss: 0.0192 - val_accuracy: 0.9947\n",
      "Epoch 3/20\n",
      "172436/172436 [==============================] - 144s 836us/step - loss: 0.0184 - accuracy: 0.9950 - val_loss: 0.0179 - val_accuracy: 0.9952\n",
      "Epoch 4/20\n",
      "172436/172436 [==============================] - 141s 817us/step - loss: 0.0182 - accuracy: 0.9950 - val_loss: 0.0179 - val_accuracy: 0.9951\n",
      "Epoch 5/20\n",
      "172436/172436 [==============================] - 141s 817us/step - loss: 0.0182 - accuracy: 0.9950 - val_loss: 0.0189 - val_accuracy: 0.9946\n",
      "Epoch 6/20\n",
      "172436/172436 [==============================] - 140s 813us/step - loss: 0.0181 - accuracy: 0.9950 - val_loss: 0.0189 - val_accuracy: 0.9948\n",
      "Epoch 7/20\n",
      "172436/172436 [==============================] - 145s 842us/step - loss: 0.0181 - accuracy: 0.9950 - val_loss: 0.0169 - val_accuracy: 0.9951\n",
      "Epoch 8/20\n",
      "172436/172436 [==============================] - 136s 788us/step - loss: 0.0181 - accuracy: 0.9950 - val_loss: 0.0189 - val_accuracy: 0.9949\n",
      "Epoch 9/20\n",
      "172436/172436 [==============================] - 140s 812us/step - loss: 0.0181 - accuracy: 0.9951 - val_loss: 0.0227 - val_accuracy: 0.9938\n",
      "Epoch 10/20\n",
      "172436/172436 [==============================] - 136s 791us/step - loss: 0.0180 - accuracy: 0.9950 - val_loss: 0.0169 - val_accuracy: 0.9952\n",
      "Epoch 11/20\n",
      "172436/172436 [==============================] - 142s 821us/step - loss: 0.0180 - accuracy: 0.9950 - val_loss: 0.0225 - val_accuracy: 0.9915\n",
      "Epoch 12/20\n",
      "172436/172436 [==============================] - 144s 833us/step - loss: 0.0180 - accuracy: 0.9950 - val_loss: 0.0187 - val_accuracy: 0.9950\n",
      "Epoch 13/20\n",
      "172436/172436 [==============================] - 140s 812us/step - loss: 0.0179 - accuracy: 0.9950 - val_loss: 0.0176 - val_accuracy: 0.9951\n",
      "Epoch 14/20\n",
      "172436/172436 [==============================] - 138s 800us/step - loss: 0.0179 - accuracy: 0.9951 - val_loss: 0.0224 - val_accuracy: 0.9925\n",
      "Epoch 15/20\n",
      "172436/172436 [==============================] - 135s 782us/step - loss: 0.0178 - accuracy: 0.9951 - val_loss: 0.0193 - val_accuracy: 0.9949\n",
      "Epoch 16/20\n",
      "172436/172436 [==============================] - 140s 812us/step - loss: 0.0178 - accuracy: 0.9950 - val_loss: 0.0170 - val_accuracy: 0.9951\n",
      "Epoch 17/20\n",
      "172436/172436 [==============================] - 148s 858us/step - loss: 0.0177 - accuracy: 0.9951 - val_loss: 0.0182 - val_accuracy: 0.9949\n",
      "Epoch 18/20\n",
      "172436/172436 [==============================] - 140s 814us/step - loss: 0.0177 - accuracy: 0.9951 - val_loss: 0.0169 - val_accuracy: 0.9952\n",
      "Epoch 19/20\n",
      "172436/172436 [==============================] - 141s 817us/step - loss: 0.0178 - accuracy: 0.9951 - val_loss: 0.0174 - val_accuracy: 0.9951\n",
      "Epoch 20/20\n",
      "172436/172436 [==============================] - 139s 803us/step - loss: 0.0177 - accuracy: 0.9951 - val_loss: 0.0192 - val_accuracy: 0.9950\n",
      "71849/71849 [==============================] - 37s 509us/step - loss: 0.0187 - accuracy: 0.9952\n",
      "overall Accuracy: 99.52\n",
      "[[  4181   2830]\n",
      " [    37 567738]]\n",
      "accuracy: 0.995012\n",
      "f1 score: 0.744679\n",
      "precision score: 0.991228\n",
      "recall score: 0.596349\n",
      "ROC AUC: 0.798142\n",
      "ROC AUC: 0.798142\n",
      "No Skill: ROC AUC=0.798\n"
     ]
    },
    {
     "data": {
      "image/png": "[encoded data removed]",
      "text/plain": [
       "<Figure size 432x288 with 1 Axes>"
      ]
     },
     "metadata": {
      "needs_background": "light"
     },
     "output_type": "display_data"
    },
    {
     "name": "stdout",
     "output_type": "stream",
     "text": [
      "[0 0 0 ... 1 1 1]\n"
     ]
    },
    {
     "data": {
      "image/png": "[encoded data removed]",
      "text/plain": [
       "<Figure size 432x288 with 1 Axes>"
      ]
     },
     "metadata": {
      "needs_background": "light"
     },
     "output_type": "display_data"
    },
    {
     "name": "stdout",
     "output_type": "stream",
     "text": [
      "Epoch 1/20\n",
      "172436/172436 [==============================] - 139s 808us/step - loss: 0.0179 - accuracy: 0.9950 - val_loss: 0.0158 - val_accuracy: 0.9954\n",
      "Epoch 2/20\n",
      "172436/172436 [==============================] - 138s 801us/step - loss: 0.0179 - accuracy: 0.9950 - val_loss: 0.0160 - val_accuracy: 0.9954\n",
      "Epoch 3/20\n",
      "172436/172436 [==============================] - 136s 789us/step - loss: 0.0179 - accuracy: 0.9950 - val_loss: 0.0161 - val_accuracy: 0.9954\n",
      "Epoch 4/20\n",
      "172436/172436 [==============================] - 136s 791us/step - loss: 0.0179 - accuracy: 0.9950 - val_loss: 0.0159 - val_accuracy: 0.9955\n",
      "Epoch 5/20\n",
      "172436/172436 [==============================] - 144s 837us/step - loss: 0.0178 - accuracy: 0.9950 - val_loss: 0.0164 - val_accuracy: 0.9953\n",
      "Epoch 6/20\n",
      "172436/172436 [==============================] - 144s 835us/step - loss: 0.0178 - accuracy: 0.9951 - val_loss: 0.0178 - val_accuracy: 0.9951\n",
      "Epoch 7/20\n",
      "172436/172436 [==============================] - 145s 839us/step - loss: 0.0178 - accuracy: 0.9950 - val_loss: 0.0165 - val_accuracy: 0.9954\n",
      "Epoch 8/20\n",
      "172436/172436 [==============================] - 140s 812us/step - loss: 0.0177 - accuracy: 0.9950 - val_loss: 0.0207 - val_accuracy: 0.9946\n",
      "Epoch 9/20\n",
      "172436/172436 [==============================] - 138s 801us/step - loss: 0.0177 - accuracy: 0.9950 - val_loss: 0.0160 - val_accuracy: 0.9953\n",
      "Epoch 10/20\n",
      "172436/172436 [==============================] - 141s 819us/step - loss: 0.0177 - accuracy: 0.9950 - val_loss: 0.0246 - val_accuracy: 0.9917\n",
      "Epoch 11/20\n",
      "172436/172436 [==============================] - 143s 831us/step - loss: 0.0176 - accuracy: 0.9950 - val_loss: 0.0167 - val_accuracy: 0.9954\n",
      "Epoch 12/20\n",
      "172436/172436 [==============================] - 141s 819us/step - loss: 0.0177 - accuracy: 0.9950 - val_loss: 0.0173 - val_accuracy: 0.9953\n",
      "Epoch 13/20\n",
      "172436/172436 [==============================] - 144s 836us/step - loss: 0.0176 - accuracy: 0.9950 - val_loss: 0.0154 - val_accuracy: 0.9955\n",
      "Epoch 14/20\n",
      "172436/172436 [==============================] - 138s 801us/step - loss: 0.0176 - accuracy: 0.9950 - val_loss: 0.0159 - val_accuracy: 0.9954\n",
      "Epoch 15/20\n",
      "172436/172436 [==============================] - 140s 813us/step - loss: 0.0176 - accuracy: 0.9950 - val_loss: 0.0163 - val_accuracy: 0.9953\n",
      "Epoch 16/20\n",
      "172436/172436 [==============================] - 137s 795us/step - loss: 0.0176 - accuracy: 0.9951 - val_loss: 0.0163 - val_accuracy: 0.9953\n",
      "Epoch 17/20\n",
      "172436/172436 [==============================] - 141s 816us/step - loss: 0.0175 - accuracy: 0.9951 - val_loss: 0.0172 - val_accuracy: 0.9954\n",
      "Epoch 18/20\n",
      "172436/172436 [==============================] - 142s 821us/step - loss: 0.0175 - accuracy: 0.9951 - val_loss: 0.0158 - val_accuracy: 0.9955\n",
      "Epoch 19/20\n",
      "172436/172436 [==============================] - 143s 827us/step - loss: 0.0175 - accuracy: 0.9951 - val_loss: 0.0159 - val_accuracy: 0.9954\n",
      "Epoch 20/20\n",
      "172436/172436 [==============================] - 139s 808us/step - loss: 0.0174 - accuracy: 0.9951 - val_loss: 0.0153 - val_accuracy: 0.9955\n",
      "71849/71849 [==============================] - 36s 502us/step - loss: 0.0158 - accuracy: 0.9954\n",
      "overall Accuracy: 99.54\n",
      "[[  4327   2481]\n",
      " [   117 567861]]\n",
      "accuracy: 0.995480\n",
      "f1 score: 0.769108\n",
      "precision score: 0.973672\n",
      "recall score: 0.635576\n",
      "ROC AUC: 0.817685\n",
      "ROC AUC: 0.817685\n",
      "No Skill: ROC AUC=0.818\n"
     ]
    },
    {
     "data": {
      "image/png": "[encoded data removed]",
      "text/plain": [
       "<Figure size 432x288 with 1 Axes>"
      ]
     },
     "metadata": {
      "needs_background": "light"
     },
     "output_type": "display_data"
    },
    {
     "name": "stdout",
     "output_type": "stream",
     "text": [
      "[0 0 0 ... 1 1 1]\n"
     ]
    },
    {
     "data": {
      "image/png": "[encoded data removed]",
      "text/plain": [
       "<Figure size 432x288 with 1 Axes>"
      ]
     },
     "metadata": {
      "needs_background": "light"
     },
     "output_type": "display_data"
    },
    {
     "name": "stdout",
     "output_type": "stream",
     "text": [
      "Cross Validation ROC - AUC = 0.7999229271565358\n",
      "Cross Validation Precision recall curve - AUC = 0.5956853423114435\n",
      "Cross Validation accuracy = 0.995043807608397\n",
      "Cross Validation f1 = 0.7454123165924287\n",
      "Cross Validation precision = 0.9850159137383571\n",
      "Cross Validation recall = 0.5999589970415998\n",
      "Cross Validation fpr = [0.00000000e+00 1.13142729e-04 1.00000000e+00]\n",
      "Cross Validation tpr = [0.       0.599959 1.      ]\n",
      "Cross Validation lr_precision = [0.01210277 0.98501591 1.        ]\n",
      "Cross Validation lr_recall = [1.       0.599959 0.      ]\n"
     ]
    },
    {
     "data": {
      "text/plain": [
       "[<matplotlib.lines.Line2D at 0x5c70504ee0>]"
      ]
     },
     "execution_count": 26,
     "metadata": {},
     "output_type": "execute_result"
    },
    {
     "data": {
      "image/png": "[encoded data removed]",
      "text/plain": [
       "<Figure size 432x288 with 1 Axes>"
      ]
     },
     "metadata": {
      "needs_background": "light"
     },
     "output_type": "display_data"
    }
   ],
   "source": [
    "from sklearn.model_selection import KFold\n",
    "from sklearn.metrics import confusion_matrix\n",
    "from sklearn.metrics import f1_score\n",
    "from sklearn.metrics import precision_score\n",
    "from sklearn.metrics import average_precision_score\n",
    "from sklearn.metrics import recall_score\n",
    "from sklearn.metrics import roc_auc_score\n",
    "from sklearn.metrics import accuracy_score\n",
    "from numpy import arange\n",
    "from sklearn.metrics import roc_curve\n",
    "import matplotlib.pyplot as plt\n",
    "\n",
    "from importlib import reload\n",
    "reload(plt)\n",
    "#from matplotlib import pyplot\n",
    "from sklearn.metrics import precision_recall_curve\n",
    "from sklearn.metrics import auc\n",
    "\n",
    "\n",
    "kf = KFold(n_splits=4,shuffle=True,random_state=None)\n",
    "\n",
    "scores = []\n",
    "aucs=0\n",
    "aucs1=0\n",
    "f1s=0\n",
    "recalls=0\n",
    "precisions=0\n",
    "accuracys=0\n",
    "lr_precisions=0\n",
    "lr_recalls=0\n",
    "fprs=0\n",
    "tprs=0\n",
    "\n",
    "for train_index, test_index in kf.split(X):\n",
    "    x_train, x_val = X[train_index], X[test_index]\n",
    "    y_train, y_val = y[train_index], y[test_index]\n",
    "    \n",
    "    model.fit(x_train, y_train, epochs=20, batch_size=10, validation_data=(x_val, y_val))\n",
    "    \n",
    "    # make probability predictions with the model\n",
    "    predictions = model.predict(x_val)\n",
    "    # round predictions \n",
    "    predictions = [round(x[0]) for x in predictions]\n",
    "    \n",
    "   \n",
    "    # make class predictions with the model\n",
    "   # predictions1 =  model.predict>0.5.astype('int32')\n",
    "    \n",
    "    # evaluate the keras model\n",
    "    _, accuracy = model.evaluate(X, y)\n",
    "    print('overall Accuracy: %.2f' % (accuracy*100))\n",
    "    \n",
    "    print(confusion_matrix(y_val,predictions,labels=[1,0]))\n",
    "    \n",
    "    #No need for threshold setting since getting same value   \n",
    "    accuracy=accuracy_score(y_val,predictions)\n",
    "    print('accuracy: %f' % accuracy)\n",
    "    \n",
    "    f1=f1_score(y_val,predictions)\n",
    "    print('f1 score: %f' % f1)    \n",
    "    \n",
    "    precision=precision_score(y_val,predictions)\n",
    "    print('precision score: %f' % precision)\n",
    "    \n",
    "    recall=recall_score(y_val,predictions)\n",
    "    print('recall score: %f' % recall)\n",
    "    \n",
    "    auc = roc_auc_score(y_val, predictions)\n",
    "    print('ROC AUC: %f' % auc)    \n",
    "    \n",
    "    ns_auc = roc_auc_score(y_val, predictions)\n",
    "    print('ROC AUC: %f' % auc)  \n",
    "    \n",
    "    # summarize scores\n",
    "    print('No Skill: ROC AUC=%.3f' % (ns_auc))\n",
    "    \n",
    "    #https://machinelearningmastery.com/roc-curves-and-precision-recall-curves-for-classification-in-python/#:~:text=with%20sample%20code).-,ROC%20Curves%20and%20AUC%20in%20Python,probabilities%20for%20the%201%20class.\n",
    "    # calculate roc curves\n",
    "    ns_fpr, ns_tpr, _ = roc_curve(y_val, predictions)\n",
    "    fpr, tpr, _ = roc_curve(y_val, predictions)\n",
    "    pyplot.plot(ns_fpr, ns_tpr, linestyle='--', label='No Skill')\n",
    "    pyplot.plot(fpr, tpr, marker='.', label='Bi-HGA')\n",
    "\n",
    "    # axis labels\n",
    "    pyplot.xlabel('False Positive Rate')\n",
    "    pyplot.ylabel('True Positive Rate')\n",
    "    # show the legend\n",
    "    pyplot.legend()\n",
    "    # show the plot\n",
    "    pyplot.show()\n",
    "\n",
    "    print(y_val)\n",
    "    #https://www.kaggle.com/vedbharti/classification-precision-recall-vs-roc-plot\n",
    "    auc1=average_precision_score(y_val, predictions)\n",
    "     \n",
    "    lr_precision, lr_recall, _ = precision_recall_curve(y_val, predictions)\n",
    "    #lr_f1, lr_auc = f1_score(y_val, predictions1), auc(lr_recall, lr_precision)\n",
    "    # summarize scores\n",
    "    #print('Logistic: f1=%.3f auc=%.3f' % (lr_f1, lr_auc))\n",
    "    # plot the precision-recall curves\n",
    "    #no_skill = len(testy[testy==1]) / len(testy)\n",
    "    #pyplot.plot([0, 1], [no_skill, no_skill], linestyle='--', label='No Skill')\n",
    "    pyplot.plot(lr_recall, lr_precision, marker='.', label='Logistic')\n",
    "    # axis labels\n",
    "    pyplot.xlabel('Recall')\n",
    "    pyplot.ylabel('Precision')\n",
    "    # show the legend\n",
    "    pyplot.legend()\n",
    "    # show the plot\n",
    "    pyplot.show()\n",
    "    \n",
    "    aucs += auc\n",
    "    aucs1 += auc1\n",
    "    accuracys += accuracy\n",
    "    f1s += f1\n",
    "    precisions += precision\n",
    "    recalls += recall\n",
    "    ns_fpr+=ns_fpr\n",
    "    ns_tpr+=ns_tpr\n",
    "    fprs+=fpr\n",
    "    tprs+=tpr\n",
    "    lr_recalls+=lr_recall\n",
    "    lr_precisions+=lr_precision\n",
    "print(\"Cross Validation ROC - AUC = {}\".format(aucs/4))\n",
    "print(\"Cross Validation Precision recall curve - AUC = {}\".format(aucs1/4))\n",
    "print(\"Cross Validation accuracy = {}\".format(accuracys/4))\n",
    "print(\"Cross Validation f1 = {}\".format(f1s/4))\n",
    "print(\"Cross Validation precision = {}\".format(precisions/4))\n",
    "print(\"Cross Validation recall = {}\".format(recalls/4))\n",
    "print(\"Cross Validation fpr = {}\".format(fprs/4))\n",
    "print(\"Cross Validation tpr = {}\".format(tprs/4))\n",
    "print(\"Cross Validation lr_precision = {}\".format(lr_precisions/4))\n",
    "print(\"Cross Validation lr_recall = {}\".format(lr_recalls/4))\n",
    "\n",
    "ns_fpr, ns_tpr, _ = roc_curve(y_val, predictions)\n",
    "fpr, tpr, _ = roc_curve(y_val, predictions)\n",
    "pyplot.plot(ns_fpr, ns_tpr, linestyle='--', label='No Skill')\n",
    "pyplot.plot(fpr, tpr, marker='.', label='Bi-HGA')\n"
   ]
  },
  {
   "cell_type": "code",
   "execution_count": 27,
   "metadata": {},
   "outputs": [
    {
     "name": "stdout",
     "output_type": "stream",
     "text": [
      "Cross Validation AUC = 0.7999229271565358\n",
      "Cross Validation accuracy = 0.995043807608397\n",
      "Cross Validation f1 = 0.7454123165924287\n",
      "Cross Validation precision = 0.9850159137383571\n",
      "Cross Validation recall = 0.5999589970415998\n",
      "Cross Validation fpr = [0.00000000e+00 5.14984735e-05 2.50000000e-01]\n",
      "Cross Validation tpr = [0.         0.15889395 0.25      ]\n"
     ]
    }
   ],
   "source": [
    "print(\"Cross Validation AUC = {}\".format(aucs/4))\n",
    "print(\"Cross Validation accuracy = {}\".format(accuracys/4))\n",
    "print(\"Cross Validation f1 = {}\".format(f1s/4))\n",
    "print(\"Cross Validation precision = {}\".format(precisions/4))\n",
    "print(\"Cross Validation recall = {}\".format(recalls/4))\n",
    "print(\"Cross Validation fpr = {}\".format(fpr/4))\n",
    "print(\"Cross Validation tpr = {}\".format(tpr/4))"
   ]
  },
  {
   "cell_type": "code",
   "execution_count": 28,
   "metadata": {},
   "outputs": [
    {
     "data": {
      "text/plain": [
       "[<matplotlib.lines.Line2D at 0x5c48b024f0>]"
      ]
     },
     "execution_count": 28,
     "metadata": {},
     "output_type": "execute_result"
    },
    {
     "data": {
      "image/png": "[encoded data removed]",
      "text/plain": [
       "<Figure size 432x288 with 1 Axes>"
      ]
     },
     "metadata": {
      "needs_background": "light"
     },
     "output_type": "display_data"
    }
   ],
   "source": [
    "ns_fpr, ns_tpr, _ = roc_curve(y_val, predictions)\n",
    "fpr, tpr, _ = roc_curve(y_val, predictions)\n",
    "pyplot.plot(ns_fpr, ns_tpr, linestyle='--', label='No Skill')\n",
    "pyplot.plot(fpr, tpr, marker='.', label='Bi-HGA')"
   ]
  },
  {
   "cell_type": "code",
   "execution_count": 29,
   "metadata": {},
   "outputs": [
    {
     "name": "stdout",
     "output_type": "stream",
     "text": [
      "3h 10m 18s\n"
     ]
    }
   ],
   "source": [
    "end = datetime.datetime.now()\n",
    "\n",
    "diff = (end - start)\n",
    "\n",
    "datetime.timedelta(seconds=10, microseconds=885206)\n",
    "\n",
    "diff_seconds = int(diff.total_seconds())\n",
    "\n",
    "minute_seconds, seconds = divmod(diff_seconds, 60)\n",
    "hours, minutes = divmod(minute_seconds, 60)\n",
    "hms = f\"{hours}h {minutes}m {seconds}s\"\n",
    "\n",
    "'0h 0m 10s'\n",
    "print(hms) "
   ]
  },
  {
   "cell_type": "raw",
   "metadata": {},
   "source": [
    "\n",
    "\n",
    "#Threshold setting for imbalanced classification with cross validation\n",
    "import numpy as np\n",
    "import tensorflow as tf\n",
    "from tensorflow import keras\n",
    "maxlen=8\n",
    "#x_train = keras.preprocessing.sequence.pad_sequences(x_train, maxlen=maxlen)\n",
    "#x_val = keras.preprocessing.sequence.pad_sequences(x_val, maxlen=maxlen)\n",
    "#x_test = keras.preprocessing.sequence.pad_sequences(x_test , maxlen=maxlen)\n",
    "x_train = keras.preprocessing.sequence.pad_sequences(X, maxlen=maxlen)\n",
    "#optimizer = keras.optimizers.Adam(lr=1e-3)\n",
    "optimizer = keras.optimizers.Adam()\n",
    "#https://www.kaggle.com/suicaokhoailang/10-fold-lstm-with-attention-0-991-lb\n",
    "from pylab import *\n",
    "from sklearn.model_selection import KFold\n",
    "from sklearn import metrics\n",
    "import sklearn.metrics as sk\n",
    "from sklearn.metrics import roc_curve,f1_score\n",
    "from sklearn.metrics import auc\n",
    "from sklearn.metrics import accuracy_score\n",
    "from sklearn.metrics import precision_score\n",
    "from sklearn.metrics import recall_score\n",
    "from sklearn.metrics import confusion_matrix \n",
    "kf = KFold(n_splits=20, shuffle=True, random_state=42069)\n",
    "preds = []\n",
    "fold = 0\n",
    "aucs = 0\n",
    "# apply threshold to positive probabilities to create labels\n",
    "def to_labels(pos_probs, threshold):\n",
    "    return (pos_probs >= threshold).astype('int')\n",
    " \n",
    "# predict probabilities\n",
    "#yhat = model.predict_proba(x_val)\n",
    "# keep probabilities for the positive outcome only\n",
    "#probs = yhat[:, 1]\n",
    "\n",
    "for train_idx, val_idx in kf.split(x_train):\n",
    "    x_train_f = x_train[train_idx]\n",
    "    #y_train_f = y_train[train_idx]\n",
    "    y_train_f = y[train_idx]\n",
    "    x_val_f = x_train[val_idx]\n",
    "    y_val_f = y[val_idx]\n",
    "    model.compile(optimizer, \"binary_crossentropy\", metrics=[\"accuracy\"])\n",
    "    #model = get_model()\n",
    "    model.fit(x_train_f, y_train_f, epochs=10, batch_size=10, validation_data=(x_val_f, y_val_f))\n",
    "   # model.fit(x_train_f, y_train_f,\n",
    "    #          batch_size=256,\n",
    "     #         epochs=10,\n",
    "      #        verbose = 1,\n",
    "       #       validation_data=(x_val_f, y_val_f))\n",
    "    # evaluate the keras model\n",
    "    _, accuracy = model.evaluate(X, y)\n",
    "    print('Accuracy: %.2f' % (accuracy*100))\n",
    "    \n",
    "    # predict probabilities for test set\n",
    "    yhat_probs = model.predict(x_val_f, verbose=0)\n",
    "    yhat_classes=np.argmax(yhat_probs,axis=1)\n",
    "    # predict crisp classes for test set\n",
    "    #yhat_classes = model.predict_classes(x_val, verbose=0)\n",
    "    # reduce to 1d array\n",
    "    yhat_probs = yhat_probs[:, 0]\n",
    "    #yhat_classes = yhat_classes[:, 0]\n",
    "\n",
    "    # make probability predictions with the model\n",
    "    predictions = model.predict(x_val_f)\n",
    "    # round predictions \n",
    "    rounded = [round(x[0]) for x in predictions]\n",
    "    \n",
    "    # make class predictions with the model\n",
    "    predictions = model.predict_classes(x_val_f)\n",
    "    \n",
    "    from sklearn.metrics import confusion_matrix\n",
    "    print(confusion_matrix(y_val_f,predictions,labels=[1,0]))\n",
    "    \n",
    "    # define thresholds\n",
    "    thresholds = arange(0, 1, 0.001)\n",
    "    # evaluate each threshold\n",
    "    scores = [f1_score(y_val_f, to_labels(yhat_probs, t)) for t in thresholds]\n",
    "    # get best threshold\n",
    "    ix = argmax(scores)\n",
    "    print('Threshold=%.3f, F-Score=%.5f' % (thresholds[ix], scores[ix]))\n",
    "\n",
    "    # evaluate each threshold\n",
    "    scores = [accuracy_score(y_val_f, to_labels(yhat_probs, t)) for t in thresholds]\n",
    "    # get best threshold\n",
    "    ix = argmax(scores)\n",
    "    print('Threshold=%.3f, Accuracy-Score=%.5f' % (thresholds[ix], scores[ix]))\n",
    "    \n",
    "    # evaluate each threshold\n",
    "    scores = [precision_score(y_val_f, to_labels(yhat_probs, t)) for t in thresholds]\n",
    "    # get best threshold\n",
    "    ix = argmax(scores)\n",
    "    print('Threshold=%.3f, Precision-Score=%.5f' % (thresholds[ix], scores[ix]))\n",
    "    \n",
    "    # evaluate each threshold\n",
    "    scores = [recall_score(y_val_f, to_labels(yhat_probs, t)) for t in thresholds]\n",
    "    # get best threshold\n",
    "    ix = argmax(scores)\n",
    "    print('Threshold=%.3f, recall-Score=%.5f' % (thresholds[ix], scores[ix]))\n",
    "    \n",
    "    from sklearn.metrics import roc_auc_score\n",
    "    # ROC AUC\n",
    "    auc = roc_auc_score(y_val_f, yhat_probs)\n",
    "    print('ROC AUC: %f' % auc)\n",
    "    \n",
    "print(\"Cross Validation AUC = {}\".format(aucs/10))\n",
    "#print(sk.confusion_matrix(y_val_f,preds_val))\n"
   ]
  },
  {
   "cell_type": "code",
   "execution_count": null,
   "metadata": {},
   "outputs": [],
   "source": [
    "#https://machinelearningmastery.com/threshold-moving-for-imbalanced-classification/#:~:text=Optimal%20Threshold%20for%20Precision%2DRecall%20Curve,-Unlike%20the%20ROC&text=Recall%20is%20calculated%20as%20the,positives%20and%20the%20false%20negatives.\n",
    "#Optimal Threshold Tuning\n",
    "# search thresholds for imbalanced classification\n",
    "from numpy import arange\n",
    "from numpy import argmax\n",
    "from sklearn.datasets import make_classification\n",
    "from sklearn.linear_model import LogisticRegression\n",
    "from sklearn.model_selection import train_test_split\n",
    "from sklearn.metrics import f1_score\n",
    "from sklearn.metrics import accuracy_score\n",
    "from sklearn.metrics import precision_score\n",
    "from sklearn.metrics import recall_score\n",
    "from sklearn.metrics import f1_score\n",
    "from sklearn.metrics import cohen_kappa_score\n",
    "from sklearn.metrics import roc_auc_score\n",
    "from sklearn.metrics import confusion_matrix \n",
    "# apply threshold to positive probabilities to create labels\n",
    "def to_labels(pos_probs, threshold):\n",
    "    return (pos_probs >= threshold).astype('int')\n",
    " \n",
    "# predict probabilities\n",
    "#yhat = model.predict_proba(x_val)\n",
    "# keep probabilities for the positive outcome only\n",
    "#probs = yhat[:, 1]\n",
    "# define thresholds\n",
    "thresholds = arange(0, 1, 0.001)\n",
    "# evaluate each threshold\n",
    "scores = [f1_score(y_val, to_labels(yhat_probs, t)) for t in thresholds]\n",
    "# get best threshold\n",
    "ix = argmax(scores)\n",
    "print('Threshold=%.3f, F-Score=%.5f' % (thresholds[ix], scores[ix]))"
   ]
  },
  {
   "cell_type": "code",
   "execution_count": null,
   "metadata": {},
   "outputs": [],
   "source": [
    "# evaluate each threshold\n",
    "scores = [accuracy_score(y_val, to_labels(yhat_probs, t)) for t in thresholds]\n",
    "# get best threshold\n",
    "ix = argmax(scores)\n",
    "print('Threshold=%.3f, Accuracy-Score=%.5f' % (thresholds[ix], scores[ix]))"
   ]
  },
  {
   "cell_type": "code",
   "execution_count": null,
   "metadata": {},
   "outputs": [],
   "source": [
    "# evaluate each threshold\n",
    "scores = [precision_score(y_val, to_labels(yhat_probs, t)) for t in thresholds]\n",
    "# get best threshold\n",
    "ix = argmax(scores)\n",
    "print('Threshold=%.3f, Precision-Score=%.5f' % (thresholds[ix], scores[ix]))"
   ]
  },
  {
   "cell_type": "code",
   "execution_count": null,
   "metadata": {},
   "outputs": [],
   "source": [
    "# evaluate each threshold\n",
    "scores = [recall_score(y_val, to_labels(yhat_probs, t)) for t in thresholds]\n",
    "# get best threshold\n",
    "ix = argmax(scores)\n",
    "print('Threshold=%.3f, recall-Score=%.5f' % (thresholds[ix], scores[ix]))"
   ]
  },
  {
   "cell_type": "code",
   "execution_count": null,
   "metadata": {},
   "outputs": [],
   "source": [
    "from sklearn.metrics import roc_auc_score\n",
    "# ROC AUC\n",
    "auc = roc_auc_score(y_val, yhat_probs)\n",
    "print('ROC AUC: %f' % auc)"
   ]
  },
  {
   "cell_type": "code",
   "execution_count": null,
   "metadata": {},
   "outputs": [],
   "source": []
  }
 ],
 "metadata": {
  "kernelspec": {
   "display_name": "Python 3",
   "language": "python",
   "name": "python3"
  },
  "language_info": {
   "codemirror_mode": {
    "name": "ipython",
    "version": 3
   },
   "file_extension": ".py",
   "mimetype": "text/x-python",
   "name": "python",
   "nbconvert_exporter": "python",
   "pygments_lexer": "ipython3",
   "version": "3.8.8"
  }
 },
 "nbformat": 4,
 "nbformat_minor": 4
}
