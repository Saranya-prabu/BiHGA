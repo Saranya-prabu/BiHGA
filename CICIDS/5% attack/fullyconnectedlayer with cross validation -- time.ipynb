{
 "cells": [
  {
   "cell_type": "code",
   "execution_count": 1,
   "metadata": {},
   "outputs": [],
   "source": [
    "#https://machinelearningmastery.com/tutorial-first-neural-network-python-keras/\n",
    "# first neural network with keras tutorial\n",
    "from numpy import loadtxt\n",
    "from keras.models import Sequential\n",
    "from keras.layers import Dense\n",
    "\n",
    "import numpy as np\n",
    "import pandas as pd\n",
    "\n",
    "from sklearn import preprocessing\n",
    "from sklearn.model_selection import train_test_split\n"
   ]
  },
  {
   "cell_type": "code",
   "execution_count": 2,
   "metadata": {},
   "outputs": [],
   "source": [
    "csv_1 = pd.read_csv(r\"C:\\Users\\Admin\\CICIDS - 30 neurons\\with attention and dimensionality reduction\\attentionnormalresult.csv\") \n",
    "  \n",
    "# changing cols with rename() \n",
    "new_data = csv_1.rename(columns = {0: \"Feature1\",\n",
    "                                  1: \"Feature2\", \n",
    "                                  2: \"Feature3\", \n",
    "                                  3: \"Feature4\",\n",
    "                                  4: \"Feature5\",\n",
    "                                  5: \"Feature6\",\n",
    "                                  6: \"Feature7\",\n",
    "                                  7: \"Feature8\",\n",
    "                                  8: \"Feature9\",\n",
    "                                  9: \"Feature10\",\n",
    "                                  10: \"Feature11\",\n",
    "                                  11: \"Feature12\",\n",
    "                                  12: \"Feature13\",\n",
    "                                  13: \"Feature14\",\n",
    "                                  14: \"Feature15\",\n",
    "                                  15: \"Feature16\",\n",
    "                                  16: \"Feature17\",\n",
    "                                  17: \"Feature18\",\n",
    "                                  18: \"Feature19\", \n",
    "                                  19: \"Feature20\",\n",
    "                                  20: \"Feature21\",                                   \n",
    "                                  21: \"Feature22\",\n",
    "                                  22: \"Feature23\",\n",
    "                                  23: \"Feature24\",                                   \n",
    "                                  24: \"Feature25\",\n",
    "                                  25: \"Feature26\",  \n",
    "                                  26: \"Feature27\",\n",
    "                                  27: \"Feature28\",\n",
    "                                  28: \"Feature29\",\n",
    "                                  29: \"Feature30\",                                       \n",
    "                                  30: \"Label\"}) \n",
    "  \n",
    "# changing columns using .columns() \n",
    "csv_1.columns = ['Feature1', 'Feature2', 'Feature3', 'Feature4', \n",
    "                'Feature5', 'Feature6', 'Feature7', 'Feature8',\n",
    "                 'Feature9', 'Feature10', 'Feature11', 'Feature12',\n",
    "                 'Feature13', 'Feature14', 'Feature15', 'Feature16',\n",
    "                 'Feature17', 'Feature18', 'Feature19', 'Feature20','Feature21','Feature22','Feature23','Feature24','Feature25','Feature26','Feature27','Feature28','Feature29','Feature30',\"Label\"] \n",
    "\n",
    "\n",
    "csv_1.to_csv(\"attentionnormalresult.csv\", index=None)"
   ]
  },
  {
   "cell_type": "code",
   "execution_count": 3,
   "metadata": {},
   "outputs": [],
   "source": [
    "csv_2 = pd.read_csv(r\"C:\\Users\\Admin\\CICIDS - 30 neurons\\25% attack\\attentionabnormalresult.csv\") \n",
    "  \n",
    "# changing cols with rename() \n",
    "new_data = csv_2.rename(columns = {0: \"Feature1\",\n",
    "                                  1: \"Feature2\", \n",
    "                                  2: \"Feature3\", \n",
    "                                  3: \"Feature4\",\n",
    "                                  4: \"Feature5\",\n",
    "                                  5: \"Feature6\",\n",
    "                                  6: \"Feature7\",\n",
    "                                  7: \"Feature8\",\n",
    "                                  8: \"Feature9\",\n",
    "                                  9: \"Feature10\",\n",
    "                                  10: \"Feature11\",\n",
    "                                  11: \"Feature12\",\n",
    "                                  12: \"Feature13\",\n",
    "                                  13: \"Feature14\",\n",
    "                                  14: \"Feature15\",\n",
    "                                  15: \"Feature16\",\n",
    "                                  16: \"Feature17\",\n",
    "                                  17: \"Feature18\",\n",
    "                                  18: \"Feature19\", \n",
    "                                  19: \"Feature20\",\n",
    "                                  20: \"Feature21\",                                   \n",
    "                                  21: \"Feature22\",\n",
    "                                  22: \"Feature23\",\n",
    "                                  23: \"Feature24\",                                   \n",
    "                                  24: \"Feature25\",\n",
    "                                  25: \"Feature26\",  \n",
    "                                  26: \"Feature27\",\n",
    "                                  27: \"Feature28\",\n",
    "                                  28: \"Feature29\",\n",
    "                                  29: \"Feature30\",                                         \n",
    "                                  30: \"Label\"}) \n",
    "  \n",
    "# changing columns using .columns() \n",
    "csv_2.columns = ['Feature1', 'Feature2', 'Feature3', 'Feature4', \n",
    "                'Feature5', 'Feature6', 'Feature7', 'Feature8',\n",
    "                 'Feature9', 'Feature10', 'Feature11', 'Feature12',\n",
    "                 'Feature13', 'Feature14', 'Feature15', 'Feature16',\n",
    "                 'Feature17', 'Feature18', 'Feature19', 'Feature20','Feature21','Feature22','Feature23','Feature24','Feature25','Feature26','Feature27','Feature28','Feature29','Feature30',\"Label\"] \n",
    "\n",
    "  \n",
    "\n",
    "csv_2.to_csv(\"attentionabnormalresult.csv\", index=None)"
   ]
  },
  {
   "cell_type": "code",
   "execution_count": 4,
   "metadata": {
    "scrolled": true
   },
   "outputs": [
    {
     "name": "stdout",
     "output_type": "stream",
     "text": [
      "        Feature1  Feature2  Feature3  Feature4  Feature5  Feature6  Feature7  \\\n",
      "0       0.031837  0.031837  0.031837  0.031837  0.036238  0.039322  0.031837   \n",
      "1       0.035108  0.032130  0.032130  0.032130  0.032130  0.032130  0.038547   \n",
      "2       0.031934  0.041154  0.031934  0.031934  0.039751  0.031934  0.036542   \n",
      "3       0.031406  0.032686  0.031092  0.033183  0.037234  0.036711  0.030824   \n",
      "4       0.031504  0.031599  0.031504  0.032908  0.037345  0.037925  0.031504   \n",
      "...          ...       ...       ...       ...       ...       ...       ...   \n",
      "139133  0.031579  0.033514  0.031579  0.031579  0.031579  0.031579  0.035344   \n",
      "139134  0.033201  0.035775  0.031339  0.033699  0.031339  0.031339  0.031339   \n",
      "139135  0.036865  0.040068  0.031291  0.031291  0.040199  0.031291  0.037711   \n",
      "139136  0.031144  0.031144  0.031144  0.031144  0.047346  0.032476  0.035666   \n",
      "139137  0.033141  0.035668  0.031266  0.033638  0.031266  0.031266  0.031266   \n",
      "\n",
      "        Feature8  Feature9  Feature10  ...  Feature22  Feature23  Feature24  \\\n",
      "0       0.031837  0.031837   0.031837  ...   0.031837   0.031837   0.031837   \n",
      "1       0.032130  0.034461   0.041035  ...   0.035751   0.032130   0.032130   \n",
      "2       0.031934  0.031934   0.031934  ...   0.034044   0.031934   0.031934   \n",
      "3       0.036762  0.030824   0.035404  ...   0.030824   0.030824   0.034596   \n",
      "4       0.033256  0.031504   0.033955  ...   0.031504   0.031626   0.031504   \n",
      "...          ...       ...        ...  ...        ...        ...        ...   \n",
      "139133  0.031579  0.031579   0.031579  ...   0.031579   0.037670   0.031579   \n",
      "139134  0.031339  0.031339   0.037364  ...   0.031339   0.035011   0.031339   \n",
      "139135  0.033470  0.031291   0.035074  ...   0.031291   0.031291   0.031291   \n",
      "139136  0.034725  0.040042   0.031144  ...   0.031144   0.031144   0.031144   \n",
      "139137  0.031266  0.031266   0.037219  ...   0.031266   0.034846   0.031266   \n",
      "\n",
      "        Feature25  Feature26  Feature27  Feature28  Feature29  Feature30  \\\n",
      "0        0.033745   0.031837   0.034767   0.031837   0.031837   0.031837   \n",
      "1        0.032625   0.032130   0.041235   0.032130   0.032130   0.032130   \n",
      "2        0.031934   0.031934   0.031934   0.038301   0.031934   0.031934   \n",
      "3        0.033337   0.030824   0.034041   0.035015   0.031132   0.030824   \n",
      "4        0.033828   0.031504   0.034638   0.031504   0.031504   0.031504   \n",
      "...           ...        ...        ...        ...        ...        ...   \n",
      "139133   0.031579   0.036277   0.031579   0.041811   0.031579   0.031579   \n",
      "139134   0.031339   0.031339   0.034091   0.037983   0.031339   0.033324   \n",
      "139135   0.034116   0.031291   0.035885   0.031642   0.031291   0.031291   \n",
      "139136   0.031144   0.042425   0.031144   0.033508   0.031144   0.031144   \n",
      "139137   0.031266   0.031266   0.034751   0.037876   0.031266   0.033953   \n",
      "\n",
      "        Label  \n",
      "0           0  \n",
      "1           0  \n",
      "2           0  \n",
      "3           0  \n",
      "4           0  \n",
      "...       ...  \n",
      "139133      1  \n",
      "139134      1  \n",
      "139135      1  \n",
      "139136      1  \n",
      "139137      1  \n",
      "\n",
      "[2410456 rows x 31 columns]\n"
     ]
    }
   ],
   "source": [
    "merged = csv_1.merge(csv_2,on=\"Label\")\n",
    "\n",
    "merged.to_csv(\"attention1.csv\", index=False)\n",
    "#result = pd.concat([csv_1, csv_2], axis=1)\n",
    "out = csv_1.append(csv_2)\n",
    "print(out)\n",
    "out.to_csv(\"attention1.csv\", index=False)"
   ]
  },
  {
   "cell_type": "code",
   "execution_count": 5,
   "metadata": {},
   "outputs": [],
   "source": [
    "df = pd.read_csv(\"attention1.csv\",sep=\",\", index_col=None)"
   ]
  },
  {
   "cell_type": "code",
   "execution_count": 6,
   "metadata": {},
   "outputs": [],
   "source": [
    "X=df.drop(['Label'], axis=1).values \n",
    "y=df['Label'].values"
   ]
  },
  {
   "cell_type": "code",
   "execution_count": 7,
   "metadata": {},
   "outputs": [
    {
     "name": "stdout",
     "output_type": "stream",
     "text": [
      "1687319 Training sequences (1687319, 30)\n",
      "723137 Validation sequences (723137, 30)\n",
      "1687319 Training sequences (1687319,)\n"
     ]
    }
   ],
   "source": [
    "from sklearn.model_selection import train_test_split\n",
    "\n",
    "x_train,x_val,y_train,y_val = train_test_split(X,y,train_size=0.70, random_state=2)\n",
    "print(len(x_train), \"Training sequences\",x_train.shape)\n",
    "print(len(x_val), \"Validation sequences\",x_val.shape)\n",
    "print(len(y_train), \"Training sequences\",y_train.shape)"
   ]
  },
  {
   "cell_type": "code",
   "execution_count": 8,
   "metadata": {},
   "outputs": [],
   "source": [
    "\n",
    "# define the keras model\n",
    "model = Sequential()\n",
    "model.add(Dense(12, input_dim=30, activation='relu'))\n",
    "model.add(Dense(8, activation='relu'))\n",
    "model.add(Dense(1, activation='sigmoid'))"
   ]
  },
  {
   "cell_type": "code",
   "execution_count": 9,
   "metadata": {},
   "outputs": [],
   "source": [
    "# compile the keras model\n",
    "model.compile(loss='binary_crossentropy', optimizer='adam', metrics=['accuracy'])"
   ]
  },
  {
   "cell_type": "code",
   "execution_count": 10,
   "metadata": {},
   "outputs": [
    {
     "name": "stdout",
     "output_type": "stream",
     "text": [
      "Model: \"sequential\"\n",
      "_________________________________________________________________\n",
      "Layer (type)                 Output Shape              Param #   \n",
      "=================================================================\n",
      "dense (Dense)                (None, 12)                372       \n",
      "_________________________________________________________________\n",
      "dense_1 (Dense)              (None, 8)                 104       \n",
      "_________________________________________________________________\n",
      "dense_2 (Dense)              (None, 1)                 9         \n",
      "=================================================================\n",
      "Total params: 485\n",
      "Trainable params: 485\n",
      "Non-trainable params: 0\n",
      "_________________________________________________________________\n"
     ]
    }
   ],
   "source": [
    "model.summary()"
   ]
  },
  {
   "cell_type": "raw",
   "metadata": {},
   "source": [
    "import time, datetime\n",
    "\n",
    "start = datetime.datetime.now()\n",
    "time.sleep(10)"
   ]
  },
  {
   "cell_type": "raw",
   "metadata": {},
   "source": [
    "# fit the keras model on the dataset\n",
    "history =model.fit(x_train, y_train, epochs=20, batch_size=10, validation_data=(x_val, y_val))"
   ]
  },
  {
   "cell_type": "raw",
   "metadata": {},
   "source": [
    "end = datetime.datetime.now()\n",
    "\n",
    "diff = (end - start)\n",
    "\n",
    "datetime.timedelta(seconds=10, microseconds=885206)\n",
    "\n",
    "diff_seconds = int(diff.total_seconds())\n",
    "\n",
    "minute_seconds, seconds = divmod(diff_seconds, 60)\n",
    "hours, minutes = divmod(minute_seconds, 60)\n",
    "hms = f\"{hours}h {minutes}m {seconds}s\"\n",
    "\n",
    "'0h 0m 10s'\n",
    "print(hms) "
   ]
  },
  {
   "cell_type": "raw",
   "metadata": {},
   "source": [
    "# evaluate the keras model\n",
    "_, accuracy = model.evaluate(X, y)\n",
    "print('Accuracy: %.2f' % (accuracy*100))"
   ]
  },
  {
   "cell_type": "raw",
   "metadata": {},
   "source": [
    "#https://machinelearningmastery.com/how-to-calculate-precision-recall-f1-and-more-for-deep-learning-models/\n",
    "import tensorflow as tf\n",
    "\n",
    "from matplotlib import pyplot\n",
    "# plot loss during training\n",
    "pyplot.subplot(211)\n",
    "pyplot.title('Loss')\n",
    "pyplot.plot(history.history['loss'], label='train')\n",
    "pyplot.plot(history.history['val_loss'], label='test')\n",
    "pyplot.legend()\n",
    "# plot accuracy during training\n",
    "pyplot.subplot(212)\n",
    "pyplot.title('Accuracy')\n",
    "pyplot.plot(history.history['accuracy'], label='train')\n",
    "pyplot.plot(history.history['val_accuracy'], label='test')\n",
    "pyplot.legend()\n",
    "pyplot.show()"
   ]
  },
  {
   "cell_type": "raw",
   "metadata": {},
   "source": [
    "# make probability predictions with the model\n",
    "predictions = model.predict(x_val)\n",
    "# round predictions \n",
    "rounded = [round(x[0]) for x in predictions]"
   ]
  },
  {
   "cell_type": "raw",
   "metadata": {},
   "source": [
    "# make class predictions with the model\n",
    "predictions = model.predict_classes(x_val)"
   ]
  },
  {
   "cell_type": "raw",
   "metadata": {},
   "source": [
    "#https://towardsdatascience.com/common-classification-model-evaluation-metrics-2ba0a7a7436e\n",
    "from sklearn.metrics import confusion_matrix\n",
    "print(confusion_matrix(y_val,predictions,labels=[1,0]))\n",
    "import seaborn as sns\n",
    "import matplotlib.pyplot as plt\n",
    "sns.heatmap(confusion_matrix(y_val,predictions),annot=True,lw =2,cbar=False)\n",
    "plt.ylabel(\"True Values\")\n",
    "plt.xlabel(\"Predicted Values\")\n",
    "plt.title(\"CONFUSSION MATRIX VISUALIZATION\")\n",
    "plt.show()"
   ]
  },
  {
   "cell_type": "raw",
   "metadata": {},
   "source": [
    "from sklearn.metrics import f1_score\n",
    "f1_score(y_val,predictions)"
   ]
  },
  {
   "cell_type": "raw",
   "metadata": {},
   "source": [
    "from sklearn.metrics import precision_score\n",
    "precision_score(y_val,predictions)"
   ]
  },
  {
   "cell_type": "raw",
   "metadata": {},
   "source": [
    "from sklearn.metrics import recall_score\n",
    "recall_score(y_val,predictions)"
   ]
  },
  {
   "cell_type": "raw",
   "metadata": {},
   "source": [
    "from sklearn.metrics import roc_auc_score\n",
    "roc_auc_score(y_val,predictions)"
   ]
  },
  {
   "cell_type": "raw",
   "metadata": {},
   "source": [
    "# summarize the first 5 cases\n",
    "for i in range(5):\n",
    "   print('%s => %d (expected %d)' % (X[i].tolist(), predictions[i], y[i]))"
   ]
  },
  {
   "cell_type": "raw",
   "metadata": {},
   "source": [
    "# predict probabilities for test set\n",
    "yhat_probs = model.predict(x_val, verbose=0)\n",
    "yhat_classes=np.argmax(yhat_probs,axis=1)\n",
    "# predict crisp classes for test set\n",
    "#yhat_classes = model.predict_classes(x_val, verbose=0)\n",
    "# reduce to 1d array\n",
    "yhat_probs = yhat_probs[:, 0]\n",
    "#yhat_classes = yhat_classes[:, 0]"
   ]
  },
  {
   "cell_type": "code",
   "execution_count": 11,
   "metadata": {},
   "outputs": [],
   "source": [
    "import time, datetime\n",
    "\n",
    "start = datetime.datetime.now()\n",
    "time.sleep(10)"
   ]
  },
  {
   "cell_type": "code",
   "execution_count": 12,
   "metadata": {
    "scrolled": true
   },
   "outputs": [
    {
     "name": "stdout",
     "output_type": "stream",
     "text": [
      "Epoch 1/20\n",
      "180785/180785 [==============================] - 136s 752us/step - loss: 0.1244 - accuracy: 0.9579 - val_loss: 0.0833 - val_accuracy: 0.9640\n",
      "Epoch 2/20\n",
      "180785/180785 [==============================] - 140s 774us/step - loss: 0.0779 - accuracy: 0.9693 - val_loss: 0.0707 - val_accuracy: 0.9733\n",
      "Epoch 3/20\n",
      "180785/180785 [==============================] - 144s 797us/step - loss: 0.0722 - accuracy: 0.9725 - val_loss: 0.0658 - val_accuracy: 0.9746\n",
      "Epoch 4/20\n",
      "180785/180785 [==============================] - 136s 753us/step - loss: 0.0698 - accuracy: 0.9736 - val_loss: 0.0641 - val_accuracy: 0.9782\n",
      "Epoch 5/20\n",
      "180785/180785 [==============================] - 130s 719us/step - loss: 0.0684 - accuracy: 0.9742 - val_loss: 0.0654 - val_accuracy: 0.9753\n",
      "Epoch 6/20\n",
      "180785/180785 [==============================] - 140s 774us/step - loss: 0.0671 - accuracy: 0.9746 - val_loss: 0.0643 - val_accuracy: 0.9756\n",
      "Epoch 7/20\n",
      "180785/180785 [==============================] - 130s 719us/step - loss: 0.0663 - accuracy: 0.9749 - val_loss: 0.0755 - val_accuracy: 0.9644\n",
      "Epoch 8/20\n",
      "180785/180785 [==============================] - 128s 707us/step - loss: 0.0650 - accuracy: 0.9754 - val_loss: 0.0591 - val_accuracy: 0.9767\n",
      "Epoch 9/20\n",
      "180785/180785 [==============================] - 141s 782us/step - loss: 0.0631 - accuracy: 0.9756 - val_loss: 0.0588 - val_accuracy: 0.9766\n",
      "Epoch 10/20\n",
      "180785/180785 [==============================] - 139s 771us/step - loss: 0.0621 - accuracy: 0.9760 - val_loss: 0.0604 - val_accuracy: 0.9767\n",
      "Epoch 11/20\n",
      "180785/180785 [==============================] - 135s 745us/step - loss: 0.0611 - accuracy: 0.9764 - val_loss: 0.0654 - val_accuracy: 0.9753\n",
      "Epoch 12/20\n",
      "180785/180785 [==============================] - 119s 659us/step - loss: 0.0601 - accuracy: 0.9771 - val_loss: 0.0553 - val_accuracy: 0.9773\n",
      "Epoch 13/20\n",
      "180785/180785 [==============================] - 117s 647us/step - loss: 0.0592 - accuracy: 0.9774 - val_loss: 0.0551 - val_accuracy: 0.9787\n",
      "Epoch 14/20\n",
      "180785/180785 [==============================] - 116s 642us/step - loss: 0.0585 - accuracy: 0.9777 - val_loss: 0.0569 - val_accuracy: 0.9774\n",
      "Epoch 15/20\n",
      "180785/180785 [==============================] - 117s 648us/step - loss: 0.0573 - accuracy: 0.9779 - val_loss: 0.0603 - val_accuracy: 0.9768\n",
      "Epoch 16/20\n",
      "180785/180785 [==============================] - 115s 637us/step - loss: 0.0556 - accuracy: 0.9783 - val_loss: 0.0530 - val_accuracy: 0.9802\n",
      "Epoch 17/20\n",
      "180785/180785 [==============================] - 118s 651us/step - loss: 0.0542 - accuracy: 0.9784 - val_loss: 0.0554 - val_accuracy: 0.9784\n",
      "Epoch 18/20\n",
      "180785/180785 [==============================] - 116s 641us/step - loss: 0.0530 - accuracy: 0.9786 - val_loss: 0.0493 - val_accuracy: 0.9811\n",
      "Epoch 19/20\n",
      "180785/180785 [==============================] - 116s 644us/step - loss: 0.0521 - accuracy: 0.9788 - val_loss: 0.0494 - val_accuracy: 0.9793\n",
      "Epoch 20/20\n",
      "180785/180785 [==============================] - 115s 635us/step - loss: 0.0513 - accuracy: 0.9791 - val_loss: 0.0692 - val_accuracy: 0.9759\n",
      "WARNING:tensorflow:From <ipython-input-12-a3d1b3da0c74>:35: Sequential.predict_classes (from tensorflow.python.keras.engine.sequential) is deprecated and will be removed after 2021-01-01.\n",
      "Instructions for updating:\n",
      "Please use instead:* `np.argmax(model.predict(x), axis=-1)`,   if your model does multi-class classification   (e.g. if it uses a `softmax` last-layer activation).* `(model.predict(x) > 0.5).astype(\"int32\")`,   if your model does binary classification   (e.g. if it uses a `sigmoid` last-layer activation).\n",
      "75327/75327 [==============================] - 34s 450us/step - loss: 0.0684 - accuracy: 0.9762ETA: 20s - loss: 0.0057 - accuracy: 0.99 - ETA: 20s - loss: 0.0057 - - ETA: 19s - - ETA: 17s - loss: 0.0057 - - ETA: 16s - loss: 0.0057 - accur  - E - ETA: 0s - loss: 0.0645 - accuracy: \n",
      "overall Accuracy: 97.62\n",
      "[[ 20643  14040]\n",
      " [   454 567477]]\n",
      "accuracy: 0.975948\n",
      "f1 score: 0.740158\n",
      "precision score: 0.978480\n",
      "recall score: 0.595191\n",
      "ROC AUC: 0.797196\n",
      "ROC AUC: 0.797196\n",
      "No Skill: ROC AUC=0.797\n"
     ]
    },
    {
     "data": {
      "image/png": "[encoded data removed]",
      "text/plain": [
       "<Figure size 432x288 with 1 Axes>"
      ]
     },
     "metadata": {
      "needs_background": "light"
     },
     "output_type": "display_data"
    },
    {
     "name": "stdout",
     "output_type": "stream",
     "text": [
      "[0 0 0 ... 1 1 1]\n",
      "Epoch 1/20\n",
      "180785/180785 [==============================] - 124s 686us/step - loss: 0.0510 - accuracy: 0.9790 - val_loss: 0.0529 - val_accuracy: 0.9724\n",
      "Epoch 2/20\n",
      "180785/180785 [==============================] - 121s 669us/step - loss: 0.0503 - accuracy: 0.9793 - val_loss: 0.0504 - val_accuracy: 0.9788\n",
      "Epoch 3/20\n",
      "180785/180785 [==============================] - 119s 656us/step - loss: 0.0499 - accuracy: 0.9793 - val_loss: 0.0477 - val_accuracy: 0.9786\n",
      "Epoch 4/20\n",
      "180785/180785 [==============================] - 122s 674us/step - loss: 0.0495 - accuracy: 0.9795 - val_loss: 0.0465 - val_accuracy: 0.9813\n",
      "Epoch 5/20\n",
      "180785/180785 [==============================] - 123s 680us/step - loss: 0.0492 - accuracy: 0.9797 - val_loss: 0.0494 - val_accuracy: 0.9816\n",
      "Epoch 6/20\n",
      "180785/180785 [==============================] - 122s 673us/step - loss: 0.0487 - accuracy: 0.9797 - val_loss: 0.0493 - val_accuracy: 0.9789\n",
      "Epoch 7/20\n",
      "180785/180785 [==============================] - 119s 659us/step - loss: 0.0486 - accuracy: 0.9799 - val_loss: 0.0467 - val_accuracy: 0.9799\n",
      "Epoch 8/20\n",
      "180785/180785 [==============================] - 120s 664us/step - loss: 0.0484 - accuracy: 0.9801 - val_loss: 0.0460 - val_accuracy: 0.9825\n",
      "Epoch 9/20\n",
      "180785/180785 [==============================] - 118s 655us/step - loss: 0.0480 - accuracy: 0.9801 - val_loss: 0.0449 - val_accuracy: 0.9795\n",
      "Epoch 10/20\n",
      "180785/180785 [==============================] - 121s 669us/step - loss: 0.0480 - accuracy: 0.9800 - val_loss: 0.0485 - val_accuracy: 0.9816\n",
      "Epoch 11/20\n",
      "180785/180785 [==============================] - 122s 673us/step - loss: 0.0477 - accuracy: 0.9802 - val_loss: 0.1163 - val_accuracy: 0.9672\n",
      "Epoch 12/20\n",
      "180785/180785 [==============================] - 120s 663us/step - loss: 0.0476 - accuracy: 0.9801 - val_loss: 0.0432 - val_accuracy: 0.9798\n",
      "Epoch 13/20\n",
      "180785/180785 [==============================] - 120s 666us/step - loss: 0.0474 - accuracy: 0.9803 - val_loss: 0.0460 - val_accuracy: 0.9797\n",
      "Epoch 14/20\n",
      "180785/180785 [==============================] - 121s 672us/step - loss: 0.0472 - accuracy: 0.9804 - val_loss: 0.0501 - val_accuracy: 0.9806\n",
      "Epoch 15/20\n",
      "180785/180785 [==============================] - 119s 658us/step - loss: 0.0471 - accuracy: 0.9804 - val_loss: 0.0538 - val_accuracy: 0.9769\n",
      "Epoch 16/20\n",
      "180785/180785 [==============================] - 120s 664us/step - loss: 0.0472 - accuracy: 0.9804 - val_loss: 0.0434 - val_accuracy: 0.9823\n",
      "Epoch 17/20\n",
      "180785/180785 [==============================] - 120s 661us/step - loss: 0.0469 - accuracy: 0.9806 - val_loss: 0.0459 - val_accuracy: 0.9799\n",
      "Epoch 18/20\n",
      "180785/180785 [==============================] - 121s 672us/step - loss: 0.0467 - accuracy: 0.9806 - val_loss: 0.0489 - val_accuracy: 0.9816\n",
      "Epoch 19/20\n",
      "180785/180785 [==============================] - 121s 668us/step - loss: 0.0466 - accuracy: 0.9806 - val_loss: 0.0425 - val_accuracy: 0.9804\n",
      "Epoch 20/20\n",
      "180785/180785 [==============================] - 118s 653us/step - loss: 0.0465 - accuracy: 0.9807 - val_loss: 0.0651 - val_accuracy: 0.9730\n",
      "75327/75327 [==============================] - 33s 442us/step - loss: 0.0651 - accuracy: 0.9730\n",
      "overall Accuracy: 97.30\n",
      "[[ 19534  15528]\n",
      " [   769 566783]]\n",
      "accuracy: 0.972956\n",
      "f1 score: 0.705644\n",
      "precision score: 0.962124\n",
      "recall score: 0.557127\n",
      "ROC AUC: 0.777886\n",
      "ROC AUC: 0.777886\n",
      "No Skill: ROC AUC=0.778\n"
     ]
    },
    {
     "data": {
      "image/png": "[encoded data removed]",
      "text/plain": [
       "<Figure size 432x288 with 1 Axes>"
      ]
     },
     "metadata": {
      "needs_background": "light"
     },
     "output_type": "display_data"
    },
    {
     "name": "stdout",
     "output_type": "stream",
     "text": [
      "[0 0 0 ... 1 1 1]\n",
      "Epoch 1/20\n",
      "180785/180785 [==============================] - 120s 664us/step - loss: 0.0505 - accuracy: 0.9803 - val_loss: 0.0577 - val_accuracy: 0.9820\n",
      "Epoch 2/20\n",
      "180785/180785 [==============================] - 118s 652us/step - loss: 0.0601 - accuracy: 0.9790 - val_loss: 0.0537 - val_accuracy: 0.9829\n",
      "Epoch 3/20\n",
      "180785/180785 [==============================] - 119s 656us/step - loss: 0.0575 - accuracy: 0.9794 - val_loss: 0.0564 - val_accuracy: 0.9787\n",
      "Epoch 4/20\n",
      "180785/180785 [==============================] - 117s 650us/step - loss: 0.0560 - accuracy: 0.9791 - val_loss: 0.0514 - val_accuracy: 0.9796\n",
      "Epoch 5/20\n",
      "180785/180785 [==============================] - 118s 650us/step - loss: 0.0550 - accuracy: 0.9793 - val_loss: 0.0525 - val_accuracy: 0.9804\n",
      "Epoch 6/20\n",
      "180785/180785 [==============================] - 118s 653us/step - loss: 0.0544 - accuracy: 0.9792 - val_loss: 0.0498 - val_accuracy: 0.9787\n",
      "Epoch 7/20\n",
      "180785/180785 [==============================] - 118s 651us/step - loss: 0.0538 - accuracy: 0.9791 - val_loss: 0.0591 - val_accuracy: 0.9779\n",
      "Epoch 8/20\n",
      "180785/180785 [==============================] - 118s 651us/step - loss: 0.0528 - accuracy: 0.9790 - val_loss: 0.0477 - val_accuracy: 0.9818\n",
      "Epoch 9/20\n",
      "180785/180785 [==============================] - 118s 650us/step - loss: 0.0517 - accuracy: 0.9791 - val_loss: 0.0469 - val_accuracy: 0.9789\n",
      "Epoch 10/20\n",
      "180785/180785 [==============================] - 117s 649us/step - loss: 0.0510 - accuracy: 0.9791 - val_loss: 0.0481 - val_accuracy: 0.9807\n",
      "Epoch 11/20\n",
      "180785/180785 [==============================] - 119s 657us/step - loss: 0.0502 - accuracy: 0.9794 - val_loss: 0.0452 - val_accuracy: 0.9793\n",
      "Epoch 12/20\n",
      "180785/180785 [==============================] - 117s 646us/step - loss: 0.0497 - accuracy: 0.9793 - val_loss: 0.0459 - val_accuracy: 0.9808\n",
      "Epoch 13/20\n",
      "180785/180785 [==============================] - 120s 661us/step - loss: 0.0495 - accuracy: 0.9795 - val_loss: 0.0526 - val_accuracy: 0.9784\n",
      "Epoch 14/20\n",
      "180785/180785 [==============================] - 121s 669us/step - loss: 0.0492 - accuracy: 0.9796 - val_loss: 0.0468 - val_accuracy: 0.9799\n",
      "Epoch 15/20\n",
      "180785/180785 [==============================] - 120s 663us/step - loss: 0.0489 - accuracy: 0.9796 - val_loss: 0.0445 - val_accuracy: 0.9814\n",
      "Epoch 16/20\n",
      "180785/180785 [==============================] - 122s 675us/step - loss: 0.0485 - accuracy: 0.9797 - val_loss: 0.0445 - val_accuracy: 0.9804\n",
      "Epoch 17/20\n",
      "180785/180785 [==============================] - 121s 669us/step - loss: 0.0482 - accuracy: 0.9798 - val_loss: 0.0441 - val_accuracy: 0.9792\n",
      "Epoch 18/20\n",
      "180785/180785 [==============================] - 120s 664us/step - loss: 0.0481 - accuracy: 0.9799 - val_loss: 0.0455 - val_accuracy: 0.9793\n",
      "Epoch 19/20\n",
      "180785/180785 [==============================] - 121s 668us/step - loss: 0.0479 - accuracy: 0.9800 - val_loss: 0.0450 - val_accuracy: 0.9814\n",
      "Epoch 20/20\n",
      "180785/180785 [==============================] - 119s 658us/step - loss: 0.0477 - accuracy: 0.9801 - val_loss: 0.0449 - val_accuracy: 0.9801\n",
      "75327/75327 [==============================] - 33s 440us/step - loss: 0.0453 - accuracy: 0.9800s - loss: 0.0408 - accu\n",
      "overall Accuracy: 98.00\n",
      "[[ 24749  10065]\n",
      " [  1944 565856]]\n",
      "accuracy: 0.980072\n",
      "f1 score: 0.804754\n",
      "precision score: 0.927172\n",
      "recall score: 0.710892\n",
      "ROC AUC: 0.853734\n",
      "ROC AUC: 0.853734\n",
      "No Skill: ROC AUC=0.854\n"
     ]
    },
    {
     "data": {
      "image/png": "[encoded data removed]",
      "text/plain": [
       "<Figure size 432x288 with 1 Axes>"
      ]
     },
     "metadata": {
      "needs_background": "light"
     },
     "output_type": "display_data"
    },
    {
     "name": "stdout",
     "output_type": "stream",
     "text": [
      "[0 0 0 ... 1 1 1]\n",
      "Epoch 1/20\n",
      "180745/180785 [============================>.] - ETA: 0s - loss: 0.0476 - accuracy: 0.9801WARNING:tensorflow:Callbacks method `on_test_batch_end` is slow compared to the batch time (batch time: 0.0000s vs `on_test_batch_end` time: 0.0010s). Check your callbacks.\n",
      "180785/180785 [==============================] - 118s 651us/step - loss: 0.0476 - accuracy: 0.9801 - val_loss: 0.0435 - val_accuracy: 0.9819\n",
      "Epoch 2/20\n",
      "180785/180785 [==============================] - 119s 656us/step - loss: 0.0474 - accuracy: 0.9801 - val_loss: 0.0461 - val_accuracy: 0.9800\n",
      "Epoch 3/20\n",
      "180785/180785 [==============================] - 120s 666us/step - loss: 0.0472 - accuracy: 0.9802 - val_loss: 0.0511 - val_accuracy: 0.9787\n",
      "Epoch 4/20\n",
      "180785/180785 [==============================] - 117s 649us/step - loss: 0.0470 - accuracy: 0.9805 - val_loss: 0.0438 - val_accuracy: 0.9810\n",
      "Epoch 5/20\n",
      "180785/180785 [==============================] - 118s 653us/step - loss: 0.0468 - accuracy: 0.9804 - val_loss: 0.0462 - val_accuracy: 0.9827\n",
      "Epoch 6/20\n",
      "180785/180785 [==============================] - 121s 672us/step - loss: 0.0468 - accuracy: 0.9804 - val_loss: 0.0503 - val_accuracy: 0.9789\n",
      "Epoch 7/20\n",
      "180785/180785 [==============================] - 119s 660us/step - loss: 0.0466 - accuracy: 0.9805 - val_loss: 0.0444 - val_accuracy: 0.9814\n",
      "Epoch 8/20\n",
      "180785/180785 [==============================] - 119s 659us/step - loss: 0.0465 - accuracy: 0.9806 - val_loss: 0.0473 - val_accuracy: 0.9812\n",
      "Epoch 9/20\n",
      "180785/180785 [==============================] - 118s 652us/step - loss: 0.0462 - accuracy: 0.9807 - val_loss: 0.0438 - val_accuracy: 0.9806\n",
      "Epoch 10/20\n",
      "180785/180785 [==============================] - 118s 655us/step - loss: 0.0462 - accuracy: 0.9806 - val_loss: 0.0432 - val_accuracy: 0.9808\n",
      "Epoch 11/20\n",
      "180785/180785 [==============================] - 118s 655us/step - loss: 0.0461 - accuracy: 0.9807 - val_loss: 0.0433 - val_accuracy: 0.9821\n",
      "Epoch 12/20\n",
      "180785/180785 [==============================] - 119s 658us/step - loss: 0.0460 - accuracy: 0.9807 - val_loss: 0.0470 - val_accuracy: 0.9783\n",
      "Epoch 13/20\n",
      "180785/180785 [==============================] - 123s 682us/step - loss: 0.0459 - accuracy: 0.9807 - val_loss: 0.0426 - val_accuracy: 0.9824\n",
      "Epoch 14/20\n",
      "180785/180785 [==============================] - 119s 659us/step - loss: 0.0459 - accuracy: 0.9806 - val_loss: 0.0435 - val_accuracy: 0.9811\n",
      "Epoch 15/20\n",
      "180785/180785 [==============================] - 118s 654us/step - loss: 0.0458 - accuracy: 0.9807 - val_loss: 0.0453 - val_accuracy: 0.9801\n",
      "Epoch 16/20\n",
      "180785/180785 [==============================] - 118s 652us/step - loss: 0.0456 - accuracy: 0.9808 - val_loss: 0.0444 - val_accuracy: 0.9811\n",
      "Epoch 17/20\n",
      "180785/180785 [==============================] - 118s 652us/step - loss: 0.0456 - accuracy: 0.9807 - val_loss: 0.0483 - val_accuracy: 0.9817\n",
      "Epoch 18/20\n",
      "180785/180785 [==============================] - 118s 652us/step - loss: 0.0454 - accuracy: 0.9808 - val_loss: 0.0434 - val_accuracy: 0.9825\n",
      "Epoch 19/20\n",
      "180785/180785 [==============================] - 118s 652us/step - loss: 0.0453 - accuracy: 0.9809 - val_loss: 0.0414 - val_accuracy: 0.9814\n",
      "Epoch 20/20\n",
      "180785/180785 [==============================] - 118s 651us/step - loss: 0.0453 - accuracy: 0.9809 - val_loss: 0.0494 - val_accuracy: 0.9793\n",
      "75327/75327 [==============================] - 32s 424us/step - loss: 0.0497 - accuracy: 0.9792\n",
      "overall Accuracy: 97.92\n",
      "[[ 22727  11852]\n",
      " [   605 567430]]\n",
      "accuracy: 0.979328\n",
      "f1 score: 0.784894\n",
      "precision score: 0.974070\n",
      "recall score: 0.657249\n",
      "ROC AUC: 0.828092\n",
      "ROC AUC: 0.828092\n",
      "No Skill: ROC AUC=0.828\n"
     ]
    },
    {
     "data": {
      "image/png": "[encoded data removed]",
      "text/plain": [
       "<Figure size 432x288 with 1 Axes>"
      ]
     },
     "metadata": {
      "needs_background": "light"
     },
     "output_type": "display_data"
    },
    {
     "name": "stdout",
     "output_type": "stream",
     "text": [
      "[0 0 0 ... 1 1 1]\n",
      "Cross Validation AUC = 0.8142269674940887\n",
      "Cross Validation accuracy = 0.9770761216964757\n",
      "Cross Validation f1 = 0.758862528704615\n",
      "Cross Validation precision = 0.9604615103268828\n",
      "Cross Validation recall = 0.6301147226829884\n",
      "Cross Validation fpr = [0.         0.00053254 0.5       ]\n",
      "Cross Validation tpr = [0.         0.32862431 0.5       ]\n"
     ]
    },
    {
     "data": {
      "text/plain": [
       "[<matplotlib.lines.Line2D at 0x2cc1ab16908>]"
      ]
     },
     "execution_count": 12,
     "metadata": {},
     "output_type": "execute_result"
    },
    {
     "data": {
      "image/png": "[encoded data removed]",
      "text/plain": [
       "<Figure size 432x288 with 1 Axes>"
      ]
     },
     "metadata": {
      "needs_background": "light"
     },
     "output_type": "display_data"
    }
   ],
   "source": [
    "from sklearn.model_selection import KFold\n",
    "from sklearn.metrics import confusion_matrix\n",
    "from sklearn.metrics import f1_score\n",
    "from sklearn.metrics import precision_score\n",
    "from sklearn.metrics import recall_score\n",
    "from sklearn.metrics import roc_auc_score\n",
    "from sklearn.metrics import accuracy_score\n",
    "from numpy import arange\n",
    "from sklearn.metrics import roc_curve\n",
    "from matplotlib import pyplot\n",
    "from sklearn.metrics import precision_recall_curve\n",
    "from sklearn.metrics import auc\n",
    "\n",
    "kf = KFold(n_splits=4,shuffle=True,random_state=None)\n",
    "\n",
    "scores = []\n",
    "aucs=0\n",
    "f1s=0\n",
    "recalls=0\n",
    "precisions=0\n",
    "accuracys=0\n",
    "\n",
    "for train_index, test_index in kf.split(X):\n",
    "    x_train, x_val = X[train_index], X[test_index]\n",
    "    y_train, y_val = y[train_index], y[test_index]\n",
    "    \n",
    "    model.fit(x_train, y_train, epochs=20, batch_size=10, validation_data=(x_val, y_val))\n",
    "    \n",
    "    # make probability predictions with the model\n",
    "    predictions = model.predict(x_val)\n",
    "    # round predictions \n",
    "    rounded = [round(x[0]) for x in predictions]\n",
    "    \n",
    "    # make class predictions with the model\n",
    "    predictions = model.predict_classes(x_val)\n",
    "    \n",
    "    # evaluate the keras model\n",
    "    _, accuracy = model.evaluate(X, y)\n",
    "    print('overall Accuracy: %.2f' % (accuracy*100))\n",
    "    \n",
    "    print(confusion_matrix(y_val,predictions,labels=[1,0]))\n",
    "    \n",
    "    #No need for threshold setting since getting same value   \n",
    "    accuracy=accuracy_score(y_val,predictions)\n",
    "    print('accuracy: %f' % accuracy)\n",
    "    \n",
    "    f1=f1_score(y_val,predictions)\n",
    "    print('f1 score: %f' % f1)    \n",
    "    \n",
    "    precision=precision_score(y_val,predictions)\n",
    "    print('precision score: %f' % precision)\n",
    "    \n",
    "    recall=recall_score(y_val,predictions)\n",
    "    print('recall score: %f' % recall)\n",
    "    \n",
    "    auc = roc_auc_score(y_val, predictions)\n",
    "    print('ROC AUC: %f' % auc)    \n",
    "    \n",
    "    ns_auc = roc_auc_score(y_val, predictions)\n",
    "    print('ROC AUC: %f' % auc)  \n",
    "    \n",
    "    # summarize scores\n",
    "    print('No Skill: ROC AUC=%.3f' % (ns_auc))\n",
    "    \n",
    "    #https://machinelearningmastery.com/roc-curves-and-precision-recall-curves-for-classification-in-python/#:~:text=with%20sample%20code).-,ROC%20Curves%20and%20AUC%20in%20Python,probabilities%20for%20the%201%20class.\n",
    "    # calculate roc curves\n",
    "    ns_fpr, ns_tpr, _ = roc_curve(y_val, predictions)\n",
    "    fpr, tpr, _ = roc_curve(y_val, predictions)\n",
    "    pyplot.plot(ns_fpr, ns_tpr, linestyle='--', label='No Skill')\n",
    "    pyplot.plot(fpr, tpr, marker='.', label='Bi-HGA')\n",
    "\n",
    "    # axis labels\n",
    "    pyplot.xlabel('False Positive Rate')\n",
    "    pyplot.ylabel('True Positive Rate')\n",
    "    # show the legend\n",
    "    pyplot.legend()\n",
    "    # show the plot\n",
    "    pyplot.show()\n",
    "\n",
    "    print(y_val)\n",
    "    \n",
    "    aucs += auc\n",
    "    accuracys += accuracy\n",
    "    f1s += f1\n",
    "    precisions += precision\n",
    "    recalls += recall\n",
    "    ns_fpr+=ns_fpr\n",
    "    ns_tpr+=ns_tpr\n",
    "    fpr+=fpr\n",
    "    tpr+=tpr\n",
    "print(\"Cross Validation AUC = {}\".format(aucs/4))\n",
    "print(\"Cross Validation accuracy = {}\".format(accuracys/4))\n",
    "print(\"Cross Validation f1 = {}\".format(f1s/4))\n",
    "print(\"Cross Validation precision = {}\".format(precisions/4))\n",
    "print(\"Cross Validation recall = {}\".format(recalls/4))\n",
    "print(\"Cross Validation fpr = {}\".format(fpr/4))\n",
    "print(\"Cross Validation tpr = {}\".format(tpr/4))\n",
    "ns_fpr, ns_tpr, _ = roc_curve(y_val, predictions)\n",
    "fpr, tpr, _ = roc_curve(y_val, predictions)\n",
    "pyplot.plot(ns_fpr, ns_tpr, linestyle='--', label='No Skill')\n",
    "pyplot.plot(fpr, tpr, marker='.', label='Bi-HGA')\n"
   ]
  },
  {
   "cell_type": "code",
   "execution_count": 13,
   "metadata": {},
   "outputs": [
    {
     "name": "stdout",
     "output_type": "stream",
     "text": [
      "2h 45m 18s\n"
     ]
    }
   ],
   "source": [
    "end = datetime.datetime.now()\n",
    "\n",
    "diff = (end - start)\n",
    "\n",
    "datetime.timedelta(seconds=10, microseconds=885206)\n",
    "\n",
    "diff_seconds = int(diff.total_seconds())\n",
    "\n",
    "minute_seconds, seconds = divmod(diff_seconds, 60)\n",
    "hours, minutes = divmod(minute_seconds, 60)\n",
    "hms = f\"{hours}h {minutes}m {seconds}s\"\n",
    "\n",
    "'0h 0m 10s'\n",
    "print(hms) "
   ]
  },
  {
   "cell_type": "raw",
   "metadata": {},
   "source": [
    "#Threshold setting for imbalanced classification with cross validation\n",
    "import numpy as np\n",
    "import tensorflow as tf\n",
    "from tensorflow import keras\n",
    "maxlen=8\n",
    "#x_train = keras.preprocessing.sequence.pad_sequences(x_train, maxlen=maxlen)\n",
    "#x_val = keras.preprocessing.sequence.pad_sequences(x_val, maxlen=maxlen)\n",
    "#x_test = keras.preprocessing.sequence.pad_sequences(x_test , maxlen=maxlen)\n",
    "x_train = keras.preprocessing.sequence.pad_sequences(X, maxlen=maxlen)\n",
    "#optimizer = keras.optimizers.Adam(lr=1e-3)\n",
    "optimizer = keras.optimizers.Adam()\n",
    "#https://www.kaggle.com/suicaokhoailang/10-fold-lstm-with-attention-0-991-lb\n",
    "from pylab import *\n",
    "from sklearn.model_selection import KFold\n",
    "from sklearn import metrics\n",
    "import sklearn.metrics as sk\n",
    "from sklearn.metrics import roc_curve,f1_score\n",
    "from sklearn.metrics import auc\n",
    "from sklearn.metrics import accuracy_score\n",
    "from sklearn.metrics import precision_score\n",
    "from sklearn.metrics import recall_score\n",
    "from sklearn.metrics import confusion_matrix \n",
    "kf = KFold(n_splits=20, shuffle=True, random_state=42069)\n",
    "preds = []\n",
    "fold = 0\n",
    "aucs = 0\n",
    "# apply threshold to positive probabilities to create labels\n",
    "def to_labels(pos_probs, threshold):\n",
    "    return (pos_probs >= threshold).astype('int')\n",
    " \n",
    "# predict probabilities\n",
    "#yhat = model.predict_proba(x_val)\n",
    "# keep probabilities for the positive outcome only\n",
    "#probs = yhat[:, 1]\n",
    "\n",
    "for train_idx, val_idx in kf.split(x_train):\n",
    "    x_train_f = x_train[train_idx]\n",
    "    #y_train_f = y_train[train_idx]\n",
    "    y_train_f = y[train_idx]\n",
    "    x_val_f = x_train[val_idx]\n",
    "    y_val_f = y[val_idx]\n",
    "    model.compile(optimizer, \"binary_crossentropy\", metrics=[\"accuracy\"])\n",
    "    #model = get_model()\n",
    "    model.fit(x_train_f, y_train_f, epochs=10, batch_size=10, validation_data=(x_val_f, y_val_f))\n",
    "   # model.fit(x_train_f, y_train_f,\n",
    "    #          batch_size=256,\n",
    "     #         epochs=10,\n",
    "      #        verbose = 1,\n",
    "       #       validation_data=(x_val_f, y_val_f))\n",
    "    # evaluate the keras model\n",
    "    _, accuracy = model.evaluate(X, y)\n",
    "    print('Accuracy: %.2f' % (accuracy*100))\n",
    "    \n",
    "    # predict probabilities for test set\n",
    "    yhat_probs = model.predict(x_val_f, verbose=0)\n",
    "    yhat_classes=np.argmax(yhat_probs,axis=1)\n",
    "    # predict crisp classes for test set\n",
    "    #yhat_classes = model.predict_classes(x_val, verbose=0)\n",
    "    # reduce to 1d array\n",
    "    yhat_probs = yhat_probs[:, 0]\n",
    "    #yhat_classes = yhat_classes[:, 0]\n",
    "\n",
    "    # make probability predictions with the model\n",
    "    predictions = model.predict(x_val_f)\n",
    "    # round predictions \n",
    "    rounded = [round(x[0]) for x in predictions]\n",
    "    \n",
    "    # make class predictions with the model\n",
    "    predictions = model.predict_classes(x_val_f)\n",
    "    \n",
    "    from sklearn.metrics import confusion_matrix\n",
    "    print(confusion_matrix(y_val_f,predictions,labels=[1,0]))\n",
    "    \n",
    "    # define thresholds\n",
    "    thresholds = arange(0, 1, 0.001)\n",
    "    # evaluate each threshold\n",
    "    scores = [f1_score(y_val_f, to_labels(yhat_probs, t)) for t in thresholds]\n",
    "    # get best threshold\n",
    "    ix = argmax(scores)\n",
    "    print('Threshold=%.3f, F-Score=%.5f' % (thresholds[ix], scores[ix]))\n",
    "\n",
    "    # evaluate each threshold\n",
    "    scores = [accuracy_score(y_val_f, to_labels(yhat_probs, t)) for t in thresholds]\n",
    "    # get best threshold\n",
    "    ix = argmax(scores)\n",
    "    print('Threshold=%.3f, Accuracy-Score=%.5f' % (thresholds[ix], scores[ix]))\n",
    "    \n",
    "    # evaluate each threshold\n",
    "    scores = [precision_score(y_val_f, to_labels(yhat_probs, t)) for t in thresholds]\n",
    "    # get best threshold\n",
    "    ix = argmax(scores)\n",
    "    print('Threshold=%.3f, Precision-Score=%.5f' % (thresholds[ix], scores[ix]))\n",
    "    \n",
    "    # evaluate each threshold\n",
    "    scores = [recall_score(y_val_f, to_labels(yhat_probs, t)) for t in thresholds]\n",
    "    # get best threshold\n",
    "    ix = argmax(scores)\n",
    "    print('Threshold=%.3f, recall-Score=%.5f' % (thresholds[ix], scores[ix]))\n",
    "    \n",
    "    from sklearn.metrics import roc_auc_score\n",
    "    # ROC AUC\n",
    "    auc = roc_auc_score(y_val_f, yhat_probs)\n",
    "    print('ROC AUC: %f' % auc)\n",
    "    \n",
    "print(\"Cross Validation AUC = {}\".format(aucs/10))\n",
    "#print(sk.confusion_matrix(y_val_f,preds_val))\n"
   ]
  },
  {
   "cell_type": "code",
   "execution_count": 14,
   "metadata": {},
   "outputs": [
    {
     "ename": "NameError",
     "evalue": "name 'yhat_probs' is not defined",
     "output_type": "error",
     "traceback": [
      "\u001b[1;31m---------------------------------------------------------------------------\u001b[0m",
      "\u001b[1;31mNameError\u001b[0m                                 Traceback (most recent call last)",
      "\u001b[1;32m<ipython-input-14-f1e500160e2d>\u001b[0m in \u001b[0;36m<module>\u001b[1;34m\u001b[0m\n\u001b[0;32m     26\u001b[0m \u001b[0mthresholds\u001b[0m \u001b[1;33m=\u001b[0m \u001b[0marange\u001b[0m\u001b[1;33m(\u001b[0m\u001b[1;36m0\u001b[0m\u001b[1;33m,\u001b[0m \u001b[1;36m1\u001b[0m\u001b[1;33m,\u001b[0m \u001b[1;36m0.001\u001b[0m\u001b[1;33m)\u001b[0m\u001b[1;33m\u001b[0m\u001b[1;33m\u001b[0m\u001b[0m\n\u001b[0;32m     27\u001b[0m \u001b[1;31m# evaluate each threshold\u001b[0m\u001b[1;33m\u001b[0m\u001b[1;33m\u001b[0m\u001b[1;33m\u001b[0m\u001b[0m\n\u001b[1;32m---> 28\u001b[1;33m \u001b[0mscores\u001b[0m \u001b[1;33m=\u001b[0m \u001b[1;33m[\u001b[0m\u001b[0mf1_score\u001b[0m\u001b[1;33m(\u001b[0m\u001b[0my_val\u001b[0m\u001b[1;33m,\u001b[0m \u001b[0mto_labels\u001b[0m\u001b[1;33m(\u001b[0m\u001b[0myhat_probs\u001b[0m\u001b[1;33m,\u001b[0m \u001b[0mt\u001b[0m\u001b[1;33m)\u001b[0m\u001b[1;33m)\u001b[0m \u001b[1;32mfor\u001b[0m \u001b[0mt\u001b[0m \u001b[1;32min\u001b[0m \u001b[0mthresholds\u001b[0m\u001b[1;33m]\u001b[0m\u001b[1;33m\u001b[0m\u001b[1;33m\u001b[0m\u001b[0m\n\u001b[0m\u001b[0;32m     29\u001b[0m \u001b[1;31m# get best threshold\u001b[0m\u001b[1;33m\u001b[0m\u001b[1;33m\u001b[0m\u001b[1;33m\u001b[0m\u001b[0m\n\u001b[0;32m     30\u001b[0m \u001b[0mix\u001b[0m \u001b[1;33m=\u001b[0m \u001b[0margmax\u001b[0m\u001b[1;33m(\u001b[0m\u001b[0mscores\u001b[0m\u001b[1;33m)\u001b[0m\u001b[1;33m\u001b[0m\u001b[1;33m\u001b[0m\u001b[0m\n",
      "\u001b[1;32m<ipython-input-14-f1e500160e2d>\u001b[0m in \u001b[0;36m<listcomp>\u001b[1;34m(.0)\u001b[0m\n\u001b[0;32m     26\u001b[0m \u001b[0mthresholds\u001b[0m \u001b[1;33m=\u001b[0m \u001b[0marange\u001b[0m\u001b[1;33m(\u001b[0m\u001b[1;36m0\u001b[0m\u001b[1;33m,\u001b[0m \u001b[1;36m1\u001b[0m\u001b[1;33m,\u001b[0m \u001b[1;36m0.001\u001b[0m\u001b[1;33m)\u001b[0m\u001b[1;33m\u001b[0m\u001b[1;33m\u001b[0m\u001b[0m\n\u001b[0;32m     27\u001b[0m \u001b[1;31m# evaluate each threshold\u001b[0m\u001b[1;33m\u001b[0m\u001b[1;33m\u001b[0m\u001b[1;33m\u001b[0m\u001b[0m\n\u001b[1;32m---> 28\u001b[1;33m \u001b[0mscores\u001b[0m \u001b[1;33m=\u001b[0m \u001b[1;33m[\u001b[0m\u001b[0mf1_score\u001b[0m\u001b[1;33m(\u001b[0m\u001b[0my_val\u001b[0m\u001b[1;33m,\u001b[0m \u001b[0mto_labels\u001b[0m\u001b[1;33m(\u001b[0m\u001b[0myhat_probs\u001b[0m\u001b[1;33m,\u001b[0m \u001b[0mt\u001b[0m\u001b[1;33m)\u001b[0m\u001b[1;33m)\u001b[0m \u001b[1;32mfor\u001b[0m \u001b[0mt\u001b[0m \u001b[1;32min\u001b[0m \u001b[0mthresholds\u001b[0m\u001b[1;33m]\u001b[0m\u001b[1;33m\u001b[0m\u001b[1;33m\u001b[0m\u001b[0m\n\u001b[0m\u001b[0;32m     29\u001b[0m \u001b[1;31m# get best threshold\u001b[0m\u001b[1;33m\u001b[0m\u001b[1;33m\u001b[0m\u001b[1;33m\u001b[0m\u001b[0m\n\u001b[0;32m     30\u001b[0m \u001b[0mix\u001b[0m \u001b[1;33m=\u001b[0m \u001b[0margmax\u001b[0m\u001b[1;33m(\u001b[0m\u001b[0mscores\u001b[0m\u001b[1;33m)\u001b[0m\u001b[1;33m\u001b[0m\u001b[1;33m\u001b[0m\u001b[0m\n",
      "\u001b[1;31mNameError\u001b[0m: name 'yhat_probs' is not defined"
     ]
    }
   ],
   "source": [
    "#https://machinelearningmastery.com/threshold-moving-for-imbalanced-classification/#:~:text=Optimal%20Threshold%20for%20Precision%2DRecall%20Curve,-Unlike%20the%20ROC&text=Recall%20is%20calculated%20as%20the,positives%20and%20the%20false%20negatives.\n",
    "#Optimal Threshold Tuning\n",
    "# search thresholds for imbalanced classification\n",
    "from numpy import arange\n",
    "from numpy import argmax\n",
    "from sklearn.datasets import make_classification\n",
    "from sklearn.linear_model import LogisticRegression\n",
    "from sklearn.model_selection import train_test_split\n",
    "from sklearn.metrics import f1_score\n",
    "from sklearn.metrics import accuracy_score\n",
    "from sklearn.metrics import precision_score\n",
    "from sklearn.metrics import recall_score\n",
    "from sklearn.metrics import f1_score\n",
    "from sklearn.metrics import cohen_kappa_score\n",
    "from sklearn.metrics import roc_auc_score\n",
    "from sklearn.metrics import confusion_matrix \n",
    "# apply threshold to positive probabilities to create labels\n",
    "def to_labels(pos_probs, threshold):\n",
    "    return (pos_probs >= threshold).astype('int')\n",
    " \n",
    "# predict probabilities\n",
    "#yhat = model.predict_proba(x_val)\n",
    "# keep probabilities for the positive outcome only\n",
    "#probs = yhat[:, 1]\n",
    "# define thresholds\n",
    "thresholds = arange(0, 1, 0.001)\n",
    "# evaluate each threshold\n",
    "scores = [f1_score(y_val, to_labels(yhat_probs, t)) for t in thresholds]\n",
    "# get best threshold\n",
    "ix = argmax(scores)\n",
    "print('Threshold=%.3f, F-Score=%.5f' % (thresholds[ix], scores[ix]))"
   ]
  },
  {
   "cell_type": "code",
   "execution_count": null,
   "metadata": {},
   "outputs": [],
   "source": [
    "# evaluate each threshold\n",
    "scores = [accuracy_score(y_val, to_labels(yhat_probs, t)) for t in thresholds]\n",
    "# get best threshold\n",
    "ix = argmax(scores)\n",
    "print('Threshold=%.3f, Accuracy-Score=%.5f' % (thresholds[ix], scores[ix]))"
   ]
  },
  {
   "cell_type": "code",
   "execution_count": null,
   "metadata": {},
   "outputs": [],
   "source": [
    "# evaluate each threshold\n",
    "scores = [precision_score(y_val, to_labels(yhat_probs, t)) for t in thresholds]\n",
    "# get best threshold\n",
    "ix = argmax(scores)\n",
    "print('Threshold=%.3f, Precision-Score=%.5f' % (thresholds[ix], scores[ix]))"
   ]
  },
  {
   "cell_type": "code",
   "execution_count": null,
   "metadata": {},
   "outputs": [],
   "source": [
    "# evaluate each threshold\n",
    "scores = [recall_score(y_val, to_labels(yhat_probs, t)) for t in thresholds]\n",
    "# get best threshold\n",
    "ix = argmax(scores)\n",
    "print('Threshold=%.3f, recall-Score=%.5f' % (thresholds[ix], scores[ix]))"
   ]
  },
  {
   "cell_type": "code",
   "execution_count": null,
   "metadata": {},
   "outputs": [],
   "source": [
    "from sklearn.metrics import roc_auc_score\n",
    "# ROC AUC\n",
    "auc = roc_auc_score(y_val, yhat_probs)\n",
    "print('ROC AUC: %f' % auc)"
   ]
  },
  {
   "cell_type": "code",
   "execution_count": null,
   "metadata": {},
   "outputs": [],
   "source": []
  }
 ],
 "metadata": {
  "kernelspec": {
   "display_name": "Python 3",
   "language": "python",
   "name": "python3"
  },
  "language_info": {
   "codemirror_mode": {
    "name": "ipython",
    "version": 3
   },
   "file_extension": ".py",
   "mimetype": "text/x-python",
   "name": "python",
   "nbconvert_exporter": "python",
   "pygments_lexer": "ipython3",
   "version": "3.8.8"
  }
 },
 "nbformat": 4,
 "nbformat_minor": 4
}
