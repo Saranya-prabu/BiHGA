{
 "cells": [
  {
   "cell_type": "code",
   "execution_count": 1,
   "metadata": {},
   "outputs": [],
   "source": [
    "#https://machinelearningmastery.com/tutorial-first-neural-network-python-keras/\n",
    "# first neural network with keras tutorial\n",
    "from numpy import loadtxt\n",
    "from keras.models import Sequential\n",
    "from keras.layers import Dense\n",
    "\n",
    "import numpy as np\n",
    "import pandas as pd\n",
    "\n",
    "from sklearn import preprocessing\n",
    "from sklearn.model_selection import train_test_split\n"
   ]
  },
  {
   "cell_type": "code",
   "execution_count": 2,
   "metadata": {},
   "outputs": [],
   "source": [
    "csv_1 = pd.read_csv(r\"C:\\Users\\data science\\CICIDS - 30 neurons\\with attention and dimensionality reduction\\attentionnormalresult.csv\") \n",
    "  \n",
    "# changing cols with rename() \n",
    "new_data = csv_1.rename(columns = {0: \"Feature1\",\n",
    "                                  1: \"Feature2\", \n",
    "                                  2: \"Feature3\", \n",
    "                                  3: \"Feature4\",\n",
    "                                  4: \"Feature5\",\n",
    "                                  5: \"Feature6\",\n",
    "                                  6: \"Feature7\",\n",
    "                                  7: \"Feature8\",\n",
    "                                  8: \"Feature9\",\n",
    "                                  9: \"Feature10\",\n",
    "                                  10: \"Feature11\",\n",
    "                                  11: \"Feature12\",\n",
    "                                  12: \"Feature13\",\n",
    "                                  13: \"Feature14\",\n",
    "                                  14: \"Feature15\",\n",
    "                                  15: \"Feature16\",\n",
    "                                  16: \"Feature17\",\n",
    "                                  17: \"Feature18\",\n",
    "                                  18: \"Feature19\", \n",
    "                                  19: \"Feature20\",\n",
    "                                  20: \"Feature21\",                                   \n",
    "                                  21: \"Feature22\",\n",
    "                                  22: \"Feature23\",\n",
    "                                  23: \"Feature24\",                                   \n",
    "                                  24: \"Feature25\",\n",
    "                                  25: \"Feature26\",  \n",
    "                                  26: \"Feature27\",\n",
    "                                  27: \"Feature28\",\n",
    "                                  28: \"Feature29\",\n",
    "                                  29: \"Feature30\",                                       \n",
    "                                  30: \"Label\"}) \n",
    "  \n",
    "# changing columns using .columns() \n",
    "csv_1.columns = ['Feature1', 'Feature2', 'Feature3', 'Feature4', \n",
    "                'Feature5', 'Feature6', 'Feature7', 'Feature8',\n",
    "                 'Feature9', 'Feature10', 'Feature11', 'Feature12',\n",
    "                 'Feature13', 'Feature14', 'Feature15', 'Feature16',\n",
    "                 'Feature17', 'Feature18', 'Feature19', 'Feature20','Feature21','Feature22','Feature23','Feature24','Feature25','Feature26','Feature27','Feature28','Feature29','Feature30',\"Label\"] \n",
    "\n",
    "\n",
    "csv_1.to_csv(\"attentionnormalresult.csv\", index=None)"
   ]
  },
  {
   "cell_type": "code",
   "execution_count": 3,
   "metadata": {},
   "outputs": [],
   "source": [
    "csv_2 = pd.read_csv(r\"C:\\Users\\data science\\CICIDS - 30 neurons\\75% attack\\attentionabnormalresult.csv\") \n",
    "  \n",
    "# changing cols with rename() \n",
    "new_data = csv_2.rename(columns = {0: \"Feature1\",\n",
    "                                  1: \"Feature2\", \n",
    "                                  2: \"Feature3\", \n",
    "                                  3: \"Feature4\",\n",
    "                                  4: \"Feature5\",\n",
    "                                  5: \"Feature6\",\n",
    "                                  6: \"Feature7\",\n",
    "                                  7: \"Feature8\",\n",
    "                                  8: \"Feature9\",\n",
    "                                  9: \"Feature10\",\n",
    "                                  10: \"Feature11\",\n",
    "                                  11: \"Feature12\",\n",
    "                                  12: \"Feature13\",\n",
    "                                  13: \"Feature14\",\n",
    "                                  14: \"Feature15\",\n",
    "                                  15: \"Feature16\",\n",
    "                                  16: \"Feature17\",\n",
    "                                  17: \"Feature18\",\n",
    "                                  18: \"Feature19\", \n",
    "                                  19: \"Feature20\",\n",
    "                                  20: \"Feature21\",                                   \n",
    "                                  21: \"Feature22\",\n",
    "                                  22: \"Feature23\",\n",
    "                                  23: \"Feature24\",                                   \n",
    "                                  24: \"Feature25\",\n",
    "                                  25: \"Feature26\",  \n",
    "                                  26: \"Feature27\",\n",
    "                                  27: \"Feature28\",\n",
    "                                  28: \"Feature29\",\n",
    "                                  29: \"Feature30\",                                         \n",
    "                                  30: \"Label\"}) \n",
    "  \n",
    "# changing columns using .columns() \n",
    "csv_2.columns = ['Feature1', 'Feature2', 'Feature3', 'Feature4', \n",
    "                'Feature5', 'Feature6', 'Feature7', 'Feature8',\n",
    "                 'Feature9', 'Feature10', 'Feature11', 'Feature12',\n",
    "                 'Feature13', 'Feature14', 'Feature15', 'Feature16',\n",
    "                 'Feature17', 'Feature18', 'Feature19', 'Feature20','Feature21','Feature22','Feature23','Feature24','Feature25','Feature26','Feature27','Feature28','Feature29','Feature30',\"Label\"] \n",
    "\n",
    "  \n",
    "\n",
    "csv_2.to_csv(\"attentionabnormalresult.csv\", index=None)"
   ]
  },
  {
   "cell_type": "code",
   "execution_count": 4,
   "metadata": {
    "scrolled": true
   },
   "outputs": [
    {
     "name": "stdout",
     "output_type": "stream",
     "text": [
      "        Feature1  Feature2  Feature3  Feature4  Feature5  Feature6  Feature7  \\\n",
      "0       0.031837  0.031837  0.031837  0.031837  0.036238  0.039322  0.031837   \n",
      "1       0.035108  0.032130  0.032130  0.032130  0.032130  0.032130  0.038547   \n",
      "2       0.031934  0.041154  0.031934  0.031934  0.039751  0.031934  0.036542   \n",
      "3       0.031406  0.032686  0.031092  0.033183  0.037234  0.036711  0.030824   \n",
      "4       0.031504  0.031599  0.031504  0.032908  0.037345  0.037925  0.031504   \n",
      "...          ...       ...       ...       ...       ...       ...       ...   \n",
      "417411  0.031783  0.033839  0.031783  0.031783  0.031783  0.031783  0.034809   \n",
      "417412  0.036590  0.041909  0.031593  0.032930  0.040715  0.031593  0.036540   \n",
      "417413  0.031657  0.032798  0.031657  0.031657  0.031657  0.031657  0.033000   \n",
      "417414  0.031375  0.031375  0.031375  0.031375  0.040299  0.034957  0.032991   \n",
      "417415  0.032792  0.035663  0.030542  0.033036  0.030542  0.030542  0.030542   \n",
      "\n",
      "        Feature8  Feature9  Feature10  ...  Feature22  Feature23  Feature24  \\\n",
      "0       0.031837  0.031837   0.031837  ...   0.031837   0.031837   0.031837   \n",
      "1       0.032130  0.034461   0.041035  ...   0.035751   0.032130   0.032130   \n",
      "2       0.031934  0.031934   0.031934  ...   0.034044   0.031934   0.031934   \n",
      "3       0.036762  0.030824   0.035404  ...   0.030824   0.030824   0.034596   \n",
      "4       0.033256  0.031504   0.033955  ...   0.031504   0.031626   0.031504   \n",
      "...          ...       ...        ...  ...        ...        ...        ...   \n",
      "417411  0.031783  0.032322   0.031783  ...   0.031783   0.036655   0.031783   \n",
      "417412  0.031593  0.031593   0.034761  ...   0.034103   0.031593   0.031593   \n",
      "417413  0.031657  0.031657   0.031657  ...   0.031657   0.036269   0.031657   \n",
      "417414  0.035314  0.031375   0.031375  ...   0.031375   0.033335   0.031375   \n",
      "417415  0.030542  0.030542   0.036332  ...   0.030542   0.034037   0.030542   \n",
      "\n",
      "        Feature25  Feature26  Feature27  Feature28  Feature29  Feature30  \\\n",
      "0        0.033745   0.031837   0.034767   0.031837   0.031837   0.031837   \n",
      "1        0.032625   0.032130   0.041235   0.032130   0.032130   0.032130   \n",
      "2        0.031934   0.031934   0.031934   0.038301   0.031934   0.031934   \n",
      "3        0.033337   0.030824   0.034041   0.035015   0.031132   0.030824   \n",
      "4        0.033828   0.031504   0.034638   0.031504   0.031504   0.031504   \n",
      "...           ...        ...        ...        ...        ...        ...   \n",
      "417411   0.031783   0.035519   0.031783   0.041732   0.031783   0.031783   \n",
      "417412   0.031593   0.031593   0.031931   0.037424   0.031593   0.031593   \n",
      "417413   0.031657   0.035047   0.031657   0.042941   0.031657   0.035308   \n",
      "417414   0.031375   0.036056   0.031375   0.034937   0.031375   0.031375   \n",
      "417415   0.032417   0.030542   0.034569   0.037871   0.034594   0.033832   \n",
      "\n",
      "        Label  \n",
      "0           0  \n",
      "1           0  \n",
      "2           0  \n",
      "3           0  \n",
      "4           0  \n",
      "...       ...  \n",
      "417411      1  \n",
      "417412      1  \n",
      "417413      1  \n",
      "417414      1  \n",
      "417415      1  \n",
      "\n",
      "[2688734 rows x 31 columns]\n"
     ]
    }
   ],
   "source": [
    "merged = csv_1.merge(csv_2,on=\"Label\")\n",
    "\n",
    "merged.to_csv(\"attention1.csv\", index=False)\n",
    "#result = pd.concat([csv_1, csv_2], axis=1)\n",
    "out = csv_1.append(csv_2)\n",
    "print(out)\n",
    "out.to_csv(\"attention1.csv\", index=False)"
   ]
  },
  {
   "cell_type": "code",
   "execution_count": 5,
   "metadata": {},
   "outputs": [],
   "source": [
    "df = pd.read_csv(\"attention1.csv\",sep=\",\", index_col=None)"
   ]
  },
  {
   "cell_type": "code",
   "execution_count": 6,
   "metadata": {},
   "outputs": [],
   "source": [
    "X=df.drop(['Label'], axis=1).values \n",
    "y=df['Label'].values"
   ]
  },
  {
   "cell_type": "code",
   "execution_count": 7,
   "metadata": {},
   "outputs": [
    {
     "name": "stdout",
     "output_type": "stream",
     "text": [
      "1882113 Training sequences (1882113, 30)\n",
      "806621 Validation sequences (806621, 30)\n",
      "1882113 Training sequences (1882113,)\n"
     ]
    }
   ],
   "source": [
    "from sklearn.model_selection import train_test_split\n",
    "\n",
    "x_train,x_val,y_train,y_val = train_test_split(X,y,train_size=0.70, random_state=2)\n",
    "print(len(x_train), \"Training sequences\",x_train.shape)\n",
    "print(len(x_val), \"Validation sequences\",x_val.shape)\n",
    "print(len(y_train), \"Training sequences\",y_train.shape)"
   ]
  },
  {
   "cell_type": "code",
   "execution_count": 8,
   "metadata": {},
   "outputs": [],
   "source": [
    "\n",
    "# define the keras model\n",
    "model = Sequential()\n",
    "model.add(Dense(12, input_dim=30, activation='relu'))\n",
    "model.add(Dense(8, activation='relu'))\n",
    "model.add(Dense(1, activation='sigmoid'))"
   ]
  },
  {
   "cell_type": "code",
   "execution_count": 9,
   "metadata": {},
   "outputs": [],
   "source": [
    "# compile the keras model\n",
    "model.compile(loss='binary_crossentropy', optimizer='adam', metrics=['accuracy'])"
   ]
  },
  {
   "cell_type": "code",
   "execution_count": 10,
   "metadata": {},
   "outputs": [
    {
     "name": "stdout",
     "output_type": "stream",
     "text": [
      "Model: \"sequential\"\n",
      "_________________________________________________________________\n",
      "Layer (type)                 Output Shape              Param #   \n",
      "=================================================================\n",
      "dense (Dense)                (None, 12)                372       \n",
      "_________________________________________________________________\n",
      "dense_1 (Dense)              (None, 8)                 104       \n",
      "_________________________________________________________________\n",
      "dense_2 (Dense)              (None, 1)                 9         \n",
      "=================================================================\n",
      "Total params: 485\n",
      "Trainable params: 485\n",
      "Non-trainable params: 0\n",
      "_________________________________________________________________\n"
     ]
    }
   ],
   "source": [
    "model.summary()"
   ]
  },
  {
   "cell_type": "code",
   "execution_count": 15,
   "metadata": {},
   "outputs": [],
   "source": [
    "import time, datetime\n",
    "\n",
    "start = datetime.datetime.now()\n",
    "time.sleep(10)"
   ]
  },
  {
   "cell_type": "code",
   "execution_count": 16,
   "metadata": {
    "scrolled": true
   },
   "outputs": [
    {
     "name": "stdout",
     "output_type": "stream",
     "text": [
      "Epoch 1/20\n",
      "201655/201655 [==============================] - 206s 1ms/step - loss: 0.1146 - accuracy: 0.9569 - val_loss: 0.1160 - val_accuracy: 0.9575\n",
      "Epoch 2/20\n",
      "201655/201655 [==============================] - 204s 1ms/step - loss: 0.1064 - accuracy: 0.9598 - val_loss: 0.0975 - val_accuracy: 0.9614\n",
      "Epoch 3/20\n",
      "201655/201655 [==============================] - 203s 1ms/step - loss: 0.1023 - accuracy: 0.9614 - val_loss: 0.0969 - val_accuracy: 0.9673\n",
      "Epoch 4/20\n",
      "201655/201655 [==============================] - 204s 1ms/step - loss: 0.0987 - accuracy: 0.9625 - val_loss: 0.1027 - val_accuracy: 0.9599\n",
      "Epoch 5/20\n",
      "201655/201655 [==============================] - 207s 1ms/step - loss: 0.0944 - accuracy: 0.9634 - val_loss: 0.0889 - val_accuracy: 0.9687\n",
      "Epoch 6/20\n",
      "201655/201655 [==============================] - 204s 1ms/step - loss: 0.0905 - accuracy: 0.9639 - val_loss: 0.0789 - val_accuracy: 0.9703\n",
      "Epoch 7/20\n",
      "201655/201655 [==============================] - 205s 1ms/step - loss: 0.0862 - accuracy: 0.9643 - val_loss: 0.1111 - val_accuracy: 0.9579\n",
      "Epoch 8/20\n",
      "201655/201655 [==============================] - 207s 1ms/step - loss: 0.0833 - accuracy: 0.9654 - val_loss: 0.0768 - val_accuracy: 0.9697\n",
      "Epoch 9/20\n",
      "201655/201655 [==============================] - 207s 1ms/step - loss: 0.0808 - accuracy: 0.9665 - val_loss: 0.0755 - val_accuracy: 0.9714\n",
      "Epoch 10/20\n",
      "201655/201655 [==============================] - 205s 1ms/step - loss: 0.0788 - accuracy: 0.9674 - val_loss: 0.0749 - val_accuracy: 0.9725\n",
      "Epoch 11/20\n",
      "201655/201655 [==============================] - 208s 1ms/step - loss: 0.0776 - accuracy: 0.9679 - val_loss: 0.0785 - val_accuracy: 0.9551\n",
      "Epoch 12/20\n",
      "201655/201655 [==============================] - 208s 1ms/step - loss: 0.0766 - accuracy: 0.9682 - val_loss: 0.0707 - val_accuracy: 0.9731\n",
      "Epoch 13/20\n",
      "201655/201655 [==============================] - 207s 1ms/step - loss: 0.0753 - accuracy: 0.9688 - val_loss: 0.0742 - val_accuracy: 0.9703\n",
      "Epoch 14/20\n",
      "201655/201655 [==============================] - 205s 1ms/step - loss: 0.0746 - accuracy: 0.9691 - val_loss: 0.0671 - val_accuracy: 0.9740\n",
      "Epoch 15/20\n",
      "201655/201655 [==============================] - 207s 1ms/step - loss: 0.0736 - accuracy: 0.9695 - val_loss: 0.0681 - val_accuracy: 0.9733\n",
      "Epoch 16/20\n",
      "201655/201655 [==============================] - 208s 1ms/step - loss: 0.0728 - accuracy: 0.9697 - val_loss: 0.0695 - val_accuracy: 0.9719\n",
      "Epoch 17/20\n",
      "201655/201655 [==============================] - 206s 1ms/step - loss: 0.0719 - accuracy: 0.9702 - val_loss: 0.0775 - val_accuracy: 0.9670\n",
      "Epoch 18/20\n",
      "201655/201655 [==============================] - 208s 1ms/step - loss: 0.0713 - accuracy: 0.9703 - val_loss: 0.0669 - val_accuracy: 0.9734\n",
      "Epoch 19/20\n",
      "201655/201655 [==============================] - 208s 1ms/step - loss: 0.0706 - accuracy: 0.9707 - val_loss: 0.0640 - val_accuracy: 0.9748\n",
      "Epoch 20/20\n",
      "201655/201655 [==============================] - 209s 1ms/step - loss: 0.0699 - accuracy: 0.9709 - val_loss: 0.0744 - val_accuracy: 0.9580\n",
      "84023/84023 [==============================] - 42s 496us/step - loss: 0.0741 - accuracy: 0.9579\n",
      "overall Accuracy: 95.79\n",
      "[[ 85108  19355]\n",
      " [  8888 558833]]\n",
      "accuracy: 0.957983\n",
      "f1 score: 0.857688\n",
      "precision score: 0.905443\n",
      "recall score: 0.814719\n",
      "ROC AUC: 0.899532\n",
      "ROC AUC: 0.899532\n",
      "No Skill: ROC AUC=0.900\n"
     ]
    },
    {
     "data": {
      "image/png": "[encoded data removed]",
      "text/plain": [
       "<Figure size 432x288 with 1 Axes>"
      ]
     },
     "metadata": {
      "needs_background": "light"
     },
     "output_type": "display_data"
    },
    {
     "name": "stdout",
     "output_type": "stream",
     "text": [
      "[0 0 0 ... 1 1 1]\n"
     ]
    },
    {
     "data": {
      "image/png": "[encoded data removed]",
      "text/plain": [
       "<Figure size 432x288 with 1 Axes>"
      ]
     },
     "metadata": {
      "needs_background": "light"
     },
     "output_type": "display_data"
    },
    {
     "name": "stdout",
     "output_type": "stream",
     "text": [
      "Epoch 1/20\n",
      "201655/201655 [==============================] - 207s 1ms/step - loss: 0.0695 - accuracy: 0.9711 - val_loss: 0.0745 - val_accuracy: 0.9634\n",
      "Epoch 2/20\n",
      "201655/201655 [==============================] - 206s 1ms/step - loss: 0.0687 - accuracy: 0.9715 - val_loss: 0.0639 - val_accuracy: 0.9736\n",
      "Epoch 3/20\n",
      "201655/201655 [==============================] - 209s 1ms/step - loss: 0.0681 - accuracy: 0.9716 - val_loss: 0.0637 - val_accuracy: 0.9729\n",
      "Epoch 4/20\n",
      "201655/201655 [==============================] - 206s 1ms/step - loss: 0.0675 - accuracy: 0.9719 - val_loss: 0.0686 - val_accuracy: 0.9668\n",
      "Epoch 5/20\n",
      "201655/201655 [==============================] - 208s 1ms/step - loss: 0.0671 - accuracy: 0.9721 - val_loss: 0.0668 - val_accuracy: 0.9747\n",
      "Epoch 6/20\n",
      "201655/201655 [==============================] - 207s 1ms/step - loss: 0.0665 - accuracy: 0.9723 - val_loss: 0.0628 - val_accuracy: 0.9745\n",
      "Epoch 7/20\n",
      "201655/201655 [==============================] - 207s 1ms/step - loss: 0.0658 - accuracy: 0.9726 - val_loss: 0.0625 - val_accuracy: 0.9766\n",
      "Epoch 8/20\n",
      "201655/201655 [==============================] - 208s 1ms/step - loss: 0.0653 - accuracy: 0.9728 - val_loss: 0.0662 - val_accuracy: 0.9723\n",
      "Epoch 9/20\n",
      "201655/201655 [==============================] - 206s 1ms/step - loss: 0.0649 - accuracy: 0.9729 - val_loss: 0.0607 - val_accuracy: 0.9752\n",
      "Epoch 10/20\n",
      "201655/201655 [==============================] - 207s 1ms/step - loss: 0.0645 - accuracy: 0.9732 - val_loss: 0.0610 - val_accuracy: 0.9752\n",
      "Epoch 11/20\n",
      "201655/201655 [==============================] - 207s 1ms/step - loss: 0.0643 - accuracy: 0.9732 - val_loss: 0.0653 - val_accuracy: 0.9731\n",
      "Epoch 12/20\n",
      "201655/201655 [==============================] - 206s 1ms/step - loss: 0.0639 - accuracy: 0.9733 - val_loss: 0.0600 - val_accuracy: 0.9769\n",
      "Epoch 13/20\n",
      "201655/201655 [==============================] - 208s 1ms/step - loss: 0.0636 - accuracy: 0.9735 - val_loss: 0.0695 - val_accuracy: 0.9703\n",
      "Epoch 14/20\n",
      "201655/201655 [==============================] - 208s 1ms/step - loss: 0.0633 - accuracy: 0.9736 - val_loss: 0.0583 - val_accuracy: 0.9765\n",
      "Epoch 15/20\n",
      "201655/201655 [==============================] - 208s 1ms/step - loss: 0.0630 - accuracy: 0.9738 - val_loss: 0.0714 - val_accuracy: 0.9590\n",
      "Epoch 16/20\n",
      "201655/201655 [==============================] - 206s 1ms/step - loss: 0.0629 - accuracy: 0.9738 - val_loss: 0.0582 - val_accuracy: 0.9766\n",
      "Epoch 17/20\n",
      "201655/201655 [==============================] - 205s 1ms/step - loss: 0.0627 - accuracy: 0.9738 - val_loss: 0.0640 - val_accuracy: 0.9752\n",
      "Epoch 18/20\n",
      "201655/201655 [==============================] - 208s 1ms/step - loss: 0.0623 - accuracy: 0.9740 - val_loss: 0.0594 - val_accuracy: 0.9741\n",
      "Epoch 19/20\n",
      "201655/201655 [==============================] - 208s 1ms/step - loss: 0.0622 - accuracy: 0.9740 - val_loss: 0.0587 - val_accuracy: 0.9764\n",
      "Epoch 20/20\n",
      "201655/201655 [==============================] - 207s 1ms/step - loss: 0.0619 - accuracy: 0.9741 - val_loss: 0.0633 - val_accuracy: 0.9740\n",
      "84023/84023 [==============================] - 42s 501us/step - loss: 0.0632 - accuracy: 0.9740\n",
      "overall Accuracy: 97.40\n",
      "[[ 99698   4529]\n",
      " [ 12962 554995]]\n",
      "accuracy: 0.973979\n",
      "f1 score: 0.919354\n",
      "precision score: 0.884946\n",
      "recall score: 0.956547\n",
      "ROC AUC: 0.966862\n",
      "ROC AUC: 0.966862\n",
      "No Skill: ROC AUC=0.967\n"
     ]
    },
    {
     "data": {
      "image/png": "[encoded data removed]",
      "text/plain": [
       "<Figure size 432x288 with 1 Axes>"
      ]
     },
     "metadata": {
      "needs_background": "light"
     },
     "output_type": "display_data"
    },
    {
     "name": "stdout",
     "output_type": "stream",
     "text": [
      "[0 0 0 ... 1 1 1]\n"
     ]
    },
    {
     "data": {
      "image/png": "[encoded data removed]",
      "text/plain": [
       "<Figure size 432x288 with 1 Axes>"
      ]
     },
     "metadata": {
      "needs_background": "light"
     },
     "output_type": "display_data"
    },
    {
     "name": "stdout",
     "output_type": "stream",
     "text": [
      "Epoch 1/20\n",
      "201656/201656 [==============================] - 168s 831us/step - loss: 0.0618 - accuracy: 0.9743 - val_loss: 0.0579 - val_accuracy: 0.9760\n",
      "Epoch 2/20\n",
      "201656/201656 [==============================] - 163s 808us/step - loss: 0.0615 - accuracy: 0.9743 - val_loss: 0.0972 - val_accuracy: 0.9580\n",
      "Epoch 3/20\n",
      "201656/201656 [==============================] - 165s 820us/step - loss: 0.0614 - accuracy: 0.9744 - val_loss: 0.0594 - val_accuracy: 0.9760\n",
      "Epoch 4/20\n",
      "201656/201656 [==============================] - 161s 800us/step - loss: 0.0612 - accuracy: 0.9744 - val_loss: 0.0581 - val_accuracy: 0.9760\n",
      "Epoch 5/20\n",
      "201656/201656 [==============================] - 163s 809us/step - loss: 0.0611 - accuracy: 0.9746 - val_loss: 0.0678 - val_accuracy: 0.9739\n",
      "Epoch 6/20\n",
      "201656/201656 [==============================] - 165s 820us/step - loss: 0.0609 - accuracy: 0.9746 - val_loss: 0.0570 - val_accuracy: 0.9769\n",
      "Epoch 7/20\n",
      "201656/201656 [==============================] - 162s 805us/step - loss: 0.0608 - accuracy: 0.9747 - val_loss: 0.0608 - val_accuracy: 0.9764\n",
      "Epoch 8/20\n",
      "201656/201656 [==============================] - 165s 821us/step - loss: 0.0606 - accuracy: 0.9748 - val_loss: 0.0578 - val_accuracy: 0.9754\n",
      "Epoch 9/20\n",
      "201656/201656 [==============================] - 163s 808us/step - loss: 0.0603 - accuracy: 0.9749 - val_loss: 0.0583 - val_accuracy: 0.9757\n",
      "Epoch 10/20\n",
      "201656/201656 [==============================] - 163s 808us/step - loss: 0.0604 - accuracy: 0.9748 - val_loss: 0.0588 - val_accuracy: 0.9752\n",
      "Epoch 11/20\n",
      "201656/201656 [==============================] - 164s 811us/step - loss: 0.0602 - accuracy: 0.9748 - val_loss: 0.0582 - val_accuracy: 0.9757\n",
      "Epoch 12/20\n",
      "201656/201656 [==============================] - 161s 799us/step - loss: 0.0600 - accuracy: 0.9749 - val_loss: 0.0562 - val_accuracy: 0.9775\n",
      "Epoch 13/20\n",
      "201656/201656 [==============================] - 165s 817us/step - loss: 0.0598 - accuracy: 0.9750 - val_loss: 0.0720 - val_accuracy: 0.9597\n",
      "Epoch 14/20\n",
      "201656/201656 [==============================] - 163s 807us/step - loss: 0.0598 - accuracy: 0.9750 - val_loss: 0.0602 - val_accuracy: 0.9762\n",
      "Epoch 15/20\n",
      "201656/201656 [==============================] - 166s 824us/step - loss: 0.0597 - accuracy: 0.9751 - val_loss: 0.0630 - val_accuracy: 0.9763\n",
      "Epoch 16/20\n",
      "201656/201656 [==============================] - 165s 816us/step - loss: 0.0594 - accuracy: 0.9751 - val_loss: 0.0572 - val_accuracy: 0.9754\n",
      "Epoch 17/20\n",
      "201656/201656 [==============================] - 165s 820us/step - loss: 0.0593 - accuracy: 0.9752 - val_loss: 0.0590 - val_accuracy: 0.9756\n",
      "Epoch 18/20\n",
      "201656/201656 [==============================] - 161s 801us/step - loss: 0.0592 - accuracy: 0.9752 - val_loss: 0.0603 - val_accuracy: 0.9748\n",
      "Epoch 19/20\n",
      "201656/201656 [==============================] - 161s 797us/step - loss: 0.0590 - accuracy: 0.9753 - val_loss: 0.0623 - val_accuracy: 0.9745\n",
      "Epoch 20/20\n",
      "201656/201656 [==============================] - 163s 806us/step - loss: 0.0588 - accuracy: 0.9753 - val_loss: 0.0575 - val_accuracy: 0.9772\n",
      "84023/84023 [==============================] - 43s 506us/step - loss: 0.0576 - accuracy: 0.9772\n",
      "overall Accuracy: 97.72\n",
      "[[101170   3249]\n",
      " [ 12063 555701]]\n",
      "accuracy: 0.977220\n",
      "f1 score: 0.929649\n",
      "precision score: 0.893467\n",
      "recall score: 0.968885\n",
      "ROC AUC: 0.973819\n",
      "ROC AUC: 0.973819\n",
      "No Skill: ROC AUC=0.974\n"
     ]
    },
    {
     "data": {
      "image/png": "[encoded data removed]",
      "text/plain": [
       "<Figure size 432x288 with 1 Axes>"
      ]
     },
     "metadata": {
      "needs_background": "light"
     },
     "output_type": "display_data"
    },
    {
     "name": "stdout",
     "output_type": "stream",
     "text": [
      "[0 0 0 ... 1 1 1]\n"
     ]
    },
    {
     "data": {
      "image/png": "[encoded data removed]",
      "text/plain": [
       "<Figure size 432x288 with 1 Axes>"
      ]
     },
     "metadata": {
      "needs_background": "light"
     },
     "output_type": "display_data"
    },
    {
     "name": "stdout",
     "output_type": "stream",
     "text": [
      "Epoch 1/20\n",
      "201656/201656 [==============================] - 154s 763us/step - loss: 0.0589 - accuracy: 0.9752 - val_loss: 0.0605 - val_accuracy: 0.9739\n",
      "Epoch 2/20\n",
      "201656/201656 [==============================] - 160s 791us/step - loss: 0.0588 - accuracy: 0.9754 - val_loss: 0.0584 - val_accuracy: 0.9752\n",
      "Epoch 3/20\n",
      "201656/201656 [==============================] - 168s 832us/step - loss: 0.0586 - accuracy: 0.9754 - val_loss: 0.0577 - val_accuracy: 0.9759\n",
      "Epoch 4/20\n",
      "201656/201656 [==============================] - 167s 828us/step - loss: 0.0585 - accuracy: 0.9754 - val_loss: 0.0655 - val_accuracy: 0.9742\n",
      "Epoch 5/20\n",
      "201656/201656 [==============================] - 165s 820us/step - loss: 0.0583 - accuracy: 0.9755 - val_loss: 0.0579 - val_accuracy: 0.9750\n",
      "Epoch 6/20\n",
      "201656/201656 [==============================] - 166s 821us/step - loss: 0.0582 - accuracy: 0.9756 - val_loss: 0.0565 - val_accuracy: 0.9758\n",
      "Epoch 7/20\n",
      "201656/201656 [==============================] - 164s 812us/step - loss: 0.0581 - accuracy: 0.9755 - val_loss: 0.0554 - val_accuracy: 0.9775\n",
      "Epoch 8/20\n",
      "201656/201656 [==============================] - 164s 811us/step - loss: 0.0580 - accuracy: 0.9756 - val_loss: 0.0766 - val_accuracy: 0.9734\n",
      "Epoch 9/20\n",
      "201656/201656 [==============================] - 166s 821us/step - loss: 0.0578 - accuracy: 0.9757 - val_loss: 0.0528 - val_accuracy: 0.9781\n",
      "Epoch 10/20\n",
      "201656/201656 [==============================] - 164s 812us/step - loss: 0.0577 - accuracy: 0.9757 - val_loss: 0.0565 - val_accuracy: 0.9775\n",
      "Epoch 11/20\n",
      "201656/201656 [==============================] - 165s 820us/step - loss: 0.0576 - accuracy: 0.9758 - val_loss: 0.0790 - val_accuracy: 0.9610\n",
      "Epoch 12/20\n",
      "201656/201656 [==============================] - 166s 823us/step - loss: 0.0574 - accuracy: 0.9758 - val_loss: 0.0538 - val_accuracy: 0.9778\n",
      "Epoch 13/20\n",
      "201656/201656 [==============================] - 167s 828us/step - loss: 0.0566 - accuracy: 0.9758 - val_loss: 0.0553 - val_accuracy: 0.9766\n",
      "Epoch 14/20\n",
      "201656/201656 [==============================] - 165s 817us/step - loss: 0.0562 - accuracy: 0.9760 - val_loss: 0.0547 - val_accuracy: 0.9775\n",
      "Epoch 15/20\n",
      "201656/201656 [==============================] - 162s 804us/step - loss: 0.0559 - accuracy: 0.9760 - val_loss: 0.0518 - val_accuracy: 0.9777\n",
      "Epoch 16/20\n",
      "201656/201656 [==============================] - 167s 829us/step - loss: 0.0555 - accuracy: 0.9762 - val_loss: 0.0508 - val_accuracy: 0.9772\n",
      "Epoch 17/20\n",
      "201656/201656 [==============================] - 161s 799us/step - loss: 0.0553 - accuracy: 0.9765 - val_loss: 0.0526 - val_accuracy: 0.9788\n",
      "Epoch 18/20\n",
      "201656/201656 [==============================] - 169s 838us/step - loss: 0.0552 - accuracy: 0.9768 - val_loss: 0.0550 - val_accuracy: 0.9784\n",
      "Epoch 19/20\n",
      "201656/201656 [==============================] - 161s 800us/step - loss: 0.0550 - accuracy: 0.9769 - val_loss: 0.0670 - val_accuracy: 0.9634\n",
      "Epoch 20/20\n",
      "201656/201656 [==============================] - 171s 847us/step - loss: 0.0549 - accuracy: 0.9771 - val_loss: 0.0507 - val_accuracy: 0.9781\n",
      "84023/84023 [==============================] - 42s 502us/step - loss: 0.0511 - accuracy: 0.9781\n",
      "overall Accuracy: 97.81\n",
      "[[ 99948   4359]\n",
      " [ 10391 557485]]\n",
      "accuracy: 0.978057\n",
      "f1 score: 0.931282\n",
      "precision score: 0.905827\n",
      "recall score: 0.958210\n",
      "ROC AUC: 0.969956\n",
      "ROC AUC: 0.969956\n",
      "No Skill: ROC AUC=0.970\n"
     ]
    },
    {
     "data": {
      "image/png": "[encoded data removed]",
      "text/plain": [
       "<Figure size 432x288 with 1 Axes>"
      ]
     },
     "metadata": {
      "needs_background": "light"
     },
     "output_type": "display_data"
    },
    {
     "name": "stdout",
     "output_type": "stream",
     "text": [
      "[0 0 0 ... 1 1 1]\n"
     ]
    },
    {
     "data": {
      "image/png": "[encoded data removed]",
      "text/plain": [
       "<Figure size 432x288 with 1 Axes>"
      ]
     },
     "metadata": {
      "needs_background": "light"
     },
     "output_type": "display_data"
    },
    {
     "name": "stdout",
     "output_type": "stream",
     "text": [
      "Cross Validation ROC - AUC = 0.9525423109750304\n",
      "Cross Validation Precision recall curve - AUC = 0.8411657733912076\n",
      "Cross Validation accuracy = 0.9718097854445583\n",
      "Cross Validation f1 = 0.9094935442175702\n",
      "Cross Validation precision = 0.8974206701545624\n",
      "Cross Validation recall = 0.9245901819793358\n",
      "Cross Validation fpr = [0.         0.01950556 1.        ]\n",
      "Cross Validation tpr = [0.         0.92459018 1.        ]\n",
      "Cross Validation lr_precision = [0.1552463  0.89742067 1.        ]\n",
      "Cross Validation lr_recall = [1.         0.92459018 0.        ]\n"
     ]
    },
    {
     "data": {
      "text/plain": [
       "[<matplotlib.lines.Line2D at 0xacab877760>]"
      ]
     },
     "execution_count": 16,
     "metadata": {},
     "output_type": "execute_result"
    },
    {
     "data": {
      "image/png": "[encoded data removed]",
      "text/plain": [
       "<Figure size 432x288 with 1 Axes>"
      ]
     },
     "metadata": {
      "needs_background": "light"
     },
     "output_type": "display_data"
    }
   ],
   "source": [
    "from sklearn.model_selection import KFold\n",
    "from sklearn.metrics import confusion_matrix\n",
    "from sklearn.metrics import f1_score\n",
    "from sklearn.metrics import precision_score\n",
    "from sklearn.metrics import average_precision_score\n",
    "from sklearn.metrics import recall_score\n",
    "from sklearn.metrics import roc_auc_score\n",
    "from sklearn.metrics import accuracy_score\n",
    "from numpy import arange\n",
    "from sklearn.metrics import roc_curve\n",
    "import matplotlib.pyplot as plt\n",
    "from matplotlib import pyplot \n",
    "from importlib import reload\n",
    "reload(plt)\n",
    "#from matplotlib import pyplot\n",
    "from sklearn.metrics import precision_recall_curve\n",
    "from sklearn.metrics import auc\n",
    "\n",
    "\n",
    "kf = KFold(n_splits=4,shuffle=True,random_state=None)\n",
    "\n",
    "scores = []\n",
    "aucs=0\n",
    "aucs1=0\n",
    "f1s=0\n",
    "recalls=0\n",
    "precisions=0\n",
    "accuracys=0\n",
    "lr_precisions=0\n",
    "lr_recalls=0\n",
    "fprs=0\n",
    "tprs=0\n",
    "\n",
    "for train_index, test_index in kf.split(X):\n",
    "    x_train, x_val = X[train_index], X[test_index]\n",
    "    y_train, y_val = y[train_index], y[test_index]\n",
    "    \n",
    "    model.fit(x_train, y_train, epochs=20, batch_size=10, validation_data=(x_val, y_val))\n",
    "    \n",
    "    # make probability predictions with the model\n",
    "    predictions = model.predict(x_val)\n",
    "    # round predictions \n",
    "    predictions = [round(x[0]) for x in predictions]\n",
    "    \n",
    "   \n",
    "    # make class predictions with the model\n",
    "   # predictions1 =  model.predict>0.5.astype('int32')\n",
    "    \n",
    "    # evaluate the keras model\n",
    "    _, accuracy = model.evaluate(X, y)\n",
    "    print('overall Accuracy: %.2f' % (accuracy*100))\n",
    "    \n",
    "    print(confusion_matrix(y_val,predictions,labels=[1,0]))\n",
    "    \n",
    "    #No need for threshold setting since getting same value   \n",
    "    accuracy=accuracy_score(y_val,predictions)\n",
    "    print('accuracy: %f' % accuracy)\n",
    "    \n",
    "    f1=f1_score(y_val,predictions)\n",
    "    print('f1 score: %f' % f1)    \n",
    "    \n",
    "    precision=precision_score(y_val,predictions)\n",
    "    print('precision score: %f' % precision)\n",
    "    \n",
    "    recall=recall_score(y_val,predictions)\n",
    "    print('recall score: %f' % recall)\n",
    "    \n",
    "    auc = roc_auc_score(y_val, predictions)\n",
    "    print('ROC AUC: %f' % auc)    \n",
    "    \n",
    "    ns_auc = roc_auc_score(y_val, predictions)\n",
    "    print('ROC AUC: %f' % auc)  \n",
    "    \n",
    "    # summarize scores\n",
    "    print('No Skill: ROC AUC=%.3f' % (ns_auc))\n",
    "    \n",
    "    #https://machinelearningmastery.com/roc-curves-and-precision-recall-curves-for-classification-in-python/#:~:text=with%20sample%20code).-,ROC%20Curves%20and%20AUC%20in%20Python,probabilities%20for%20the%201%20class.\n",
    "    # calculate roc curves\n",
    "    ns_fpr, ns_tpr, _ = roc_curve(y_val, predictions)\n",
    "    fpr, tpr, _ = roc_curve(y_val, predictions)\n",
    "    pyplot.plot(ns_fpr, ns_tpr, linestyle='--', label='No Skill')\n",
    "    pyplot.plot(fpr, tpr, marker='.', label='Bi-HGA')\n",
    "\n",
    "    # axis labels\n",
    "    pyplot.xlabel('False Positive Rate')\n",
    "    pyplot.ylabel('True Positive Rate')\n",
    "    # show the legend\n",
    "    pyplot.legend()\n",
    "    # show the plot\n",
    "    pyplot.show()\n",
    "\n",
    "    print(y_val)\n",
    "    #https://www.kaggle.com/vedbharti/classification-precision-recall-vs-roc-plot\n",
    "    auc1=average_precision_score(y_val, predictions)\n",
    "     \n",
    "    lr_precision, lr_recall, _ = precision_recall_curve(y_val, predictions)\n",
    "    #lr_f1, lr_auc = f1_score(y_val, predictions1), auc(lr_recall, lr_precision)\n",
    "    # summarize scores\n",
    "    #print('Logistic: f1=%.3f auc=%.3f' % (lr_f1, lr_auc))\n",
    "    # plot the precision-recall curves\n",
    "    #no_skill = len(testy[testy==1]) / len(testy)\n",
    "    #pyplot.plot([0, 1], [no_skill, no_skill], linestyle='--', label='No Skill')\n",
    "    pyplot.plot(lr_recall, lr_precision, marker='.', label='Bi-HGA')\n",
    "    # axis labels\n",
    "    pyplot.xlabel('Recall')\n",
    "    pyplot.ylabel('Precision')\n",
    "    # show the legend\n",
    "    pyplot.legend()\n",
    "    # show the plot\n",
    "    pyplot.show()\n",
    "    \n",
    "    aucs += auc\n",
    "    aucs1 += auc1\n",
    "    accuracys += accuracy\n",
    "    f1s += f1\n",
    "    precisions += precision\n",
    "    recalls += recall\n",
    "    ns_fpr+=ns_fpr\n",
    "    ns_tpr+=ns_tpr\n",
    "    fprs+=fpr\n",
    "    tprs+=tpr\n",
    "    lr_recalls+=lr_recall\n",
    "    lr_precisions+=lr_precision\n",
    "print(\"Cross Validation ROC - AUC = {}\".format(aucs/4))\n",
    "print(\"Cross Validation Precision recall curve - AUC = {}\".format(aucs1/4))\n",
    "print(\"Cross Validation accuracy = {}\".format(accuracys/4))\n",
    "print(\"Cross Validation f1 = {}\".format(f1s/4))\n",
    "print(\"Cross Validation precision = {}\".format(precisions/4))\n",
    "print(\"Cross Validation recall = {}\".format(recalls/4))\n",
    "print(\"Cross Validation fpr = {}\".format(fprs/4))\n",
    "print(\"Cross Validation tpr = {}\".format(tprs/4))\n",
    "print(\"Cross Validation lr_precision = {}\".format(lr_precisions/4))\n",
    "print(\"Cross Validation lr_recall = {}\".format(lr_recalls/4))\n",
    "\n",
    "ns_fpr, ns_tpr, _ = roc_curve(y_val, predictions)\n",
    "fpr, tpr, _ = roc_curve(y_val, predictions)\n",
    "pyplot.plot(ns_fpr, ns_tpr, linestyle='--', label='No Skill')\n",
    "pyplot.plot(fpr, tpr, marker='.', label='Bi-HGA')\n"
   ]
  },
  {
   "cell_type": "code",
   "execution_count": 17,
   "metadata": {},
   "outputs": [
    {
     "name": "stdout",
     "output_type": "stream",
     "text": [
      "4h 10m 55s\n"
     ]
    }
   ],
   "source": [
    "end = datetime.datetime.now()\n",
    "\n",
    "diff = (end - start)\n",
    "\n",
    "datetime.timedelta(seconds=10, microseconds=885206)\n",
    "\n",
    "diff_seconds = int(diff.total_seconds())\n",
    "\n",
    "minute_seconds, seconds = divmod(diff_seconds, 60)\n",
    "hours, minutes = divmod(minute_seconds, 60)\n",
    "hms = f\"{hours}h {minutes}m {seconds}s\"\n",
    "\n",
    "'0h 0m 10s'\n",
    "print(hms) "
   ]
  },
  {
   "cell_type": "raw",
   "metadata": {},
   "source": [
    "#Threshold setting for imbalanced classification with cross validation\n",
    "import numpy as np\n",
    "import tensorflow as tf\n",
    "from tensorflow import keras\n",
    "maxlen=8\n",
    "#x_train = keras.preprocessing.sequence.pad_sequences(x_train, maxlen=maxlen)\n",
    "#x_val = keras.preprocessing.sequence.pad_sequences(x_val, maxlen=maxlen)\n",
    "#x_test = keras.preprocessing.sequence.pad_sequences(x_test , maxlen=maxlen)\n",
    "x_train = keras.preprocessing.sequence.pad_sequences(X, maxlen=maxlen)\n",
    "#optimizer = keras.optimizers.Adam(lr=1e-3)\n",
    "optimizer = keras.optimizers.Adam()\n",
    "#https://www.kaggle.com/suicaokhoailang/10-fold-lstm-with-attention-0-991-lb\n",
    "from pylab import *\n",
    "from sklearn.model_selection import KFold\n",
    "from sklearn import metrics\n",
    "import sklearn.metrics as sk\n",
    "from sklearn.metrics import roc_curve,f1_score\n",
    "from sklearn.metrics import auc\n",
    "from sklearn.metrics import accuracy_score\n",
    "from sklearn.metrics import precision_score\n",
    "from sklearn.metrics import recall_score\n",
    "from sklearn.metrics import confusion_matrix \n",
    "kf = KFold(n_splits=20, shuffle=True, random_state=42069)\n",
    "preds = []\n",
    "fold = 0\n",
    "aucs = 0\n",
    "# apply threshold to positive probabilities to create labels\n",
    "def to_labels(pos_probs, threshold):\n",
    "    return (pos_probs >= threshold).astype('int')\n",
    " \n",
    "# predict probabilities\n",
    "#yhat = model.predict_proba(x_val)\n",
    "# keep probabilities for the positive outcome only\n",
    "#probs = yhat[:, 1]\n",
    "\n",
    "for train_idx, val_idx in kf.split(x_train):\n",
    "    x_train_f = x_train[train_idx]\n",
    "    #y_train_f = y_train[train_idx]\n",
    "    y_train_f = y[train_idx]\n",
    "    x_val_f = x_train[val_idx]\n",
    "    y_val_f = y[val_idx]\n",
    "    model.compile(optimizer, \"binary_crossentropy\", metrics=[\"accuracy\"])\n",
    "    #model = get_model()\n",
    "    model.fit(x_train_f, y_train_f, epochs=10, batch_size=10, validation_data=(x_val_f, y_val_f))\n",
    "   # model.fit(x_train_f, y_train_f,\n",
    "    #          batch_size=256,\n",
    "     #         epochs=10,\n",
    "      #        verbose = 1,\n",
    "       #       validation_data=(x_val_f, y_val_f))\n",
    "    # evaluate the keras model\n",
    "    _, accuracy = model.evaluate(X, y)\n",
    "    print('Accuracy: %.2f' % (accuracy*100))\n",
    "    \n",
    "    # predict probabilities for test set\n",
    "    yhat_probs = model.predict(x_val_f, verbose=0)\n",
    "    yhat_classes=np.argmax(yhat_probs,axis=1)\n",
    "    # predict crisp classes for test set\n",
    "    #yhat_classes = model.predict_classes(x_val, verbose=0)\n",
    "    # reduce to 1d array\n",
    "    yhat_probs = yhat_probs[:, 0]\n",
    "    #yhat_classes = yhat_classes[:, 0]\n",
    "\n",
    "    # make probability predictions with the model\n",
    "    predictions = model.predict(x_val_f)\n",
    "    # round predictions \n",
    "    rounded = [round(x[0]) for x in predictions]\n",
    "    \n",
    "    # make class predictions with the model\n",
    "    predictions = model.predict_classes(x_val_f)\n",
    "    \n",
    "    from sklearn.metrics import confusion_matrix\n",
    "    print(confusion_matrix(y_val_f,predictions,labels=[1,0]))\n",
    "    \n",
    "    # define thresholds\n",
    "    thresholds = arange(0, 1, 0.001)\n",
    "    # evaluate each threshold\n",
    "    scores = [f1_score(y_val_f, to_labels(yhat_probs, t)) for t in thresholds]\n",
    "    # get best threshold\n",
    "    ix = argmax(scores)\n",
    "    print('Threshold=%.3f, F-Score=%.5f' % (thresholds[ix], scores[ix]))\n",
    "\n",
    "    # evaluate each threshold\n",
    "    scores = [accuracy_score(y_val_f, to_labels(yhat_probs, t)) for t in thresholds]\n",
    "    # get best threshold\n",
    "    ix = argmax(scores)\n",
    "    print('Threshold=%.3f, Accuracy-Score=%.5f' % (thresholds[ix], scores[ix]))\n",
    "    \n",
    "    # evaluate each threshold\n",
    "    scores = [precision_score(y_val_f, to_labels(yhat_probs, t)) for t in thresholds]\n",
    "    # get best threshold\n",
    "    ix = argmax(scores)\n",
    "    print('Threshold=%.3f, Precision-Score=%.5f' % (thresholds[ix], scores[ix]))\n",
    "    \n",
    "    # evaluate each threshold\n",
    "    scores = [recall_score(y_val_f, to_labels(yhat_probs, t)) for t in thresholds]\n",
    "    # get best threshold\n",
    "    ix = argmax(scores)\n",
    "    print('Threshold=%.3f, recall-Score=%.5f' % (thresholds[ix], scores[ix]))\n",
    "    \n",
    "    from sklearn.metrics import roc_auc_score\n",
    "    # ROC AUC\n",
    "    auc = roc_auc_score(y_val_f, yhat_probs)\n",
    "    print('ROC AUC: %f' % auc)\n",
    "    \n",
    "print(\"Cross Validation AUC = {}\".format(aucs/10))\n",
    "#print(sk.confusion_matrix(y_val_f,preds_val))\n"
   ]
  },
  {
   "cell_type": "code",
   "execution_count": 14,
   "metadata": {},
   "outputs": [
    {
     "ename": "NameError",
     "evalue": "name 'yhat_probs' is not defined",
     "output_type": "error",
     "traceback": [
      "\u001b[1;31m---------------------------------------------------------------------------\u001b[0m",
      "\u001b[1;31mNameError\u001b[0m                                 Traceback (most recent call last)",
      "\u001b[1;32m<ipython-input-14-f1e500160e2d>\u001b[0m in \u001b[0;36m<module>\u001b[1;34m\u001b[0m\n\u001b[0;32m     26\u001b[0m \u001b[0mthresholds\u001b[0m \u001b[1;33m=\u001b[0m \u001b[0marange\u001b[0m\u001b[1;33m(\u001b[0m\u001b[1;36m0\u001b[0m\u001b[1;33m,\u001b[0m \u001b[1;36m1\u001b[0m\u001b[1;33m,\u001b[0m \u001b[1;36m0.001\u001b[0m\u001b[1;33m)\u001b[0m\u001b[1;33m\u001b[0m\u001b[1;33m\u001b[0m\u001b[0m\n\u001b[0;32m     27\u001b[0m \u001b[1;31m# evaluate each threshold\u001b[0m\u001b[1;33m\u001b[0m\u001b[1;33m\u001b[0m\u001b[1;33m\u001b[0m\u001b[0m\n\u001b[1;32m---> 28\u001b[1;33m \u001b[0mscores\u001b[0m \u001b[1;33m=\u001b[0m \u001b[1;33m[\u001b[0m\u001b[0mf1_score\u001b[0m\u001b[1;33m(\u001b[0m\u001b[0my_val\u001b[0m\u001b[1;33m,\u001b[0m \u001b[0mto_labels\u001b[0m\u001b[1;33m(\u001b[0m\u001b[0myhat_probs\u001b[0m\u001b[1;33m,\u001b[0m \u001b[0mt\u001b[0m\u001b[1;33m)\u001b[0m\u001b[1;33m)\u001b[0m \u001b[1;32mfor\u001b[0m \u001b[0mt\u001b[0m \u001b[1;32min\u001b[0m \u001b[0mthresholds\u001b[0m\u001b[1;33m]\u001b[0m\u001b[1;33m\u001b[0m\u001b[1;33m\u001b[0m\u001b[0m\n\u001b[0m\u001b[0;32m     29\u001b[0m \u001b[1;31m# get best threshold\u001b[0m\u001b[1;33m\u001b[0m\u001b[1;33m\u001b[0m\u001b[1;33m\u001b[0m\u001b[0m\n\u001b[0;32m     30\u001b[0m \u001b[0mix\u001b[0m \u001b[1;33m=\u001b[0m \u001b[0margmax\u001b[0m\u001b[1;33m(\u001b[0m\u001b[0mscores\u001b[0m\u001b[1;33m)\u001b[0m\u001b[1;33m\u001b[0m\u001b[1;33m\u001b[0m\u001b[0m\n",
      "\u001b[1;32m<ipython-input-14-f1e500160e2d>\u001b[0m in \u001b[0;36m<listcomp>\u001b[1;34m(.0)\u001b[0m\n\u001b[0;32m     26\u001b[0m \u001b[0mthresholds\u001b[0m \u001b[1;33m=\u001b[0m \u001b[0marange\u001b[0m\u001b[1;33m(\u001b[0m\u001b[1;36m0\u001b[0m\u001b[1;33m,\u001b[0m \u001b[1;36m1\u001b[0m\u001b[1;33m,\u001b[0m \u001b[1;36m0.001\u001b[0m\u001b[1;33m)\u001b[0m\u001b[1;33m\u001b[0m\u001b[1;33m\u001b[0m\u001b[0m\n\u001b[0;32m     27\u001b[0m \u001b[1;31m# evaluate each threshold\u001b[0m\u001b[1;33m\u001b[0m\u001b[1;33m\u001b[0m\u001b[1;33m\u001b[0m\u001b[0m\n\u001b[1;32m---> 28\u001b[1;33m \u001b[0mscores\u001b[0m \u001b[1;33m=\u001b[0m \u001b[1;33m[\u001b[0m\u001b[0mf1_score\u001b[0m\u001b[1;33m(\u001b[0m\u001b[0my_val\u001b[0m\u001b[1;33m,\u001b[0m \u001b[0mto_labels\u001b[0m\u001b[1;33m(\u001b[0m\u001b[0myhat_probs\u001b[0m\u001b[1;33m,\u001b[0m \u001b[0mt\u001b[0m\u001b[1;33m)\u001b[0m\u001b[1;33m)\u001b[0m \u001b[1;32mfor\u001b[0m \u001b[0mt\u001b[0m \u001b[1;32min\u001b[0m \u001b[0mthresholds\u001b[0m\u001b[1;33m]\u001b[0m\u001b[1;33m\u001b[0m\u001b[1;33m\u001b[0m\u001b[0m\n\u001b[0m\u001b[0;32m     29\u001b[0m \u001b[1;31m# get best threshold\u001b[0m\u001b[1;33m\u001b[0m\u001b[1;33m\u001b[0m\u001b[1;33m\u001b[0m\u001b[0m\n\u001b[0;32m     30\u001b[0m \u001b[0mix\u001b[0m \u001b[1;33m=\u001b[0m \u001b[0margmax\u001b[0m\u001b[1;33m(\u001b[0m\u001b[0mscores\u001b[0m\u001b[1;33m)\u001b[0m\u001b[1;33m\u001b[0m\u001b[1;33m\u001b[0m\u001b[0m\n",
      "\u001b[1;31mNameError\u001b[0m: name 'yhat_probs' is not defined"
     ]
    }
   ],
   "source": [
    "#https://machinelearningmastery.com/threshold-moving-for-imbalanced-classification/#:~:text=Optimal%20Threshold%20for%20Precision%2DRecall%20Curve,-Unlike%20the%20ROC&text=Recall%20is%20calculated%20as%20the,positives%20and%20the%20false%20negatives.\n",
    "#Optimal Threshold Tuning\n",
    "# search thresholds for imbalanced classification\n",
    "from numpy import arange\n",
    "from numpy import argmax\n",
    "from sklearn.datasets import make_classification\n",
    "from sklearn.linear_model import LogisticRegression\n",
    "from sklearn.model_selection import train_test_split\n",
    "from sklearn.metrics import f1_score\n",
    "from sklearn.metrics import accuracy_score\n",
    "from sklearn.metrics import precision_score\n",
    "from sklearn.metrics import recall_score\n",
    "from sklearn.metrics import f1_score\n",
    "from sklearn.metrics import cohen_kappa_score\n",
    "from sklearn.metrics import roc_auc_score\n",
    "from sklearn.metrics import confusion_matrix \n",
    "# apply threshold to positive probabilities to create labels\n",
    "def to_labels(pos_probs, threshold):\n",
    "    return (pos_probs >= threshold).astype('int')\n",
    " \n",
    "# predict probabilities\n",
    "#yhat = model.predict_proba(x_val)\n",
    "# keep probabilities for the positive outcome only\n",
    "#probs = yhat[:, 1]\n",
    "# define thresholds\n",
    "thresholds = arange(0, 1, 0.001)\n",
    "# evaluate each threshold\n",
    "scores = [f1_score(y_val, to_labels(yhat_probs, t)) for t in thresholds]\n",
    "# get best threshold\n",
    "ix = argmax(scores)\n",
    "print('Threshold=%.3f, F-Score=%.5f' % (thresholds[ix], scores[ix]))"
   ]
  },
  {
   "cell_type": "code",
   "execution_count": null,
   "metadata": {},
   "outputs": [],
   "source": [
    "# evaluate each threshold\n",
    "scores = [accuracy_score(y_val, to_labels(yhat_probs, t)) for t in thresholds]\n",
    "# get best threshold\n",
    "ix = argmax(scores)\n",
    "print('Threshold=%.3f, Accuracy-Score=%.5f' % (thresholds[ix], scores[ix]))"
   ]
  },
  {
   "cell_type": "code",
   "execution_count": null,
   "metadata": {},
   "outputs": [],
   "source": [
    "# evaluate each threshold\n",
    "scores = [precision_score(y_val, to_labels(yhat_probs, t)) for t in thresholds]\n",
    "# get best threshold\n",
    "ix = argmax(scores)\n",
    "print('Threshold=%.3f, Precision-Score=%.5f' % (thresholds[ix], scores[ix]))"
   ]
  },
  {
   "cell_type": "code",
   "execution_count": null,
   "metadata": {},
   "outputs": [],
   "source": [
    "# evaluate each threshold\n",
    "scores = [recall_score(y_val, to_labels(yhat_probs, t)) for t in thresholds]\n",
    "# get best threshold\n",
    "ix = argmax(scores)\n",
    "print('Threshold=%.3f, recall-Score=%.5f' % (thresholds[ix], scores[ix]))"
   ]
  },
  {
   "cell_type": "code",
   "execution_count": null,
   "metadata": {},
   "outputs": [],
   "source": [
    "from sklearn.metrics import roc_auc_score\n",
    "# ROC AUC\n",
    "auc = roc_auc_score(y_val, yhat_probs)\n",
    "print('ROC AUC: %f' % auc)"
   ]
  },
  {
   "cell_type": "code",
   "execution_count": null,
   "metadata": {},
   "outputs": [],
   "source": []
  }
 ],
 "metadata": {
  "kernelspec": {
   "display_name": "Python 3",
   "language": "python",
   "name": "python3"
  },
  "language_info": {
   "codemirror_mode": {
    "name": "ipython",
    "version": 3
   },
   "file_extension": ".py",
   "mimetype": "text/x-python",
   "name": "python",
   "nbconvert_exporter": "python",
   "pygments_lexer": "ipython3",
   "version": "3.8.8"
  }
 },
 "nbformat": 4,
 "nbformat_minor": 4
}
