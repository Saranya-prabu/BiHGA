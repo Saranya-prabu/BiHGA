{
 "cells": [
  {
   "cell_type": "code",
   "execution_count": 1,
   "metadata": {},
   "outputs": [],
   "source": [
    "#https://machinelearningmastery.com/tutorial-first-neural-network-python-keras/\n",
    "# first neural network with keras tutorial\n",
    "from numpy import loadtxt\n",
    "from keras.models import Sequential\n",
    "from keras.layers import Dense\n",
    "\n",
    "import numpy as np\n",
    "import pandas as pd\n",
    "\n",
    "from sklearn import preprocessing\n",
    "from sklearn.model_selection import train_test_split\n"
   ]
  },
  {
   "cell_type": "code",
   "execution_count": 2,
   "metadata": {},
   "outputs": [],
   "source": [
    "csv_1 = pd.read_csv(r\"C:\\Users\\data science\\CICIDS - 30 neurons\\with attention and dimensionality reduction\\attentionnormalresult.csv\") \n",
    "  \n",
    "# changing cols with rename() \n",
    "new_data = csv_1.rename(columns = {0: \"Feature1\",\n",
    "                                  1: \"Feature2\", \n",
    "                                  2: \"Feature3\", \n",
    "                                  3: \"Feature4\",\n",
    "                                  4: \"Feature5\",\n",
    "                                  5: \"Feature6\",\n",
    "                                  6: \"Feature7\",\n",
    "                                  7: \"Feature8\",\n",
    "                                  8: \"Feature9\",\n",
    "                                  9: \"Feature10\",\n",
    "                                  10: \"Feature11\",\n",
    "                                  11: \"Feature12\",\n",
    "                                  12: \"Feature13\",\n",
    "                                  13: \"Feature14\",\n",
    "                                  14: \"Feature15\",\n",
    "                                  15: \"Feature16\",\n",
    "                                  16: \"Feature17\",\n",
    "                                  17: \"Feature18\",\n",
    "                                  18: \"Feature19\", \n",
    "                                  19: \"Feature20\", \n",
    "                                  20: \"Feature21\",                                   \n",
    "                                  21: \"Feature22\",\n",
    "                                  22: \"Feature23\",\n",
    "                                  23: \"Feature24\",                                   \n",
    "                                  24: \"Feature25\",\n",
    "                                  25: \"Feature26\",  \n",
    "                                  26: \"Feature27\",\n",
    "                                  27: \"Feature28\",\n",
    "                                  28: \"Feature29\",\n",
    "                                  29: \"Feature30\",                                       \n",
    "                                  30: \"Label\"}) \n",
    "  \n",
    "# changing columns using .columns() \n",
    "csv_1.columns = ['Feature1', 'Feature2', 'Feature3', 'Feature4', \n",
    "                'Feature5', 'Feature6', 'Feature7', 'Feature8',\n",
    "                 'Feature9', 'Feature10', 'Feature11', 'Feature12',\n",
    "                 'Feature13', 'Feature14', 'Feature15', 'Feature16',\n",
    "                 'Feature17', 'Feature18', 'Feature19', 'Feature20','Feature21','Feature22','Feature23','Feature24','Feature25','Feature26','Feature27','Feature28','Feature29','Feature30',\"Label\"] \n",
    " \n",
    "\n",
    "csv_1.to_csv(\"attentionnormalresult.csv\", index=None)"
   ]
  },
  {
   "cell_type": "code",
   "execution_count": 3,
   "metadata": {},
   "outputs": [],
   "source": [
    "csv_2 = pd.read_csv(r\"C:\\Users\\data science\\CICIDS - 30 neurons\\with attention and dimensionality reduction\\attentionabnormalresult.csv\") \n",
    "  \n",
    "# changing cols with rename() \n",
    "new_data = csv_2.rename(columns = {0: \"Feature1\",\n",
    "                                  1: \"Feature2\", \n",
    "                                  2: \"Feature3\", \n",
    "                                  3: \"Feature4\",\n",
    "                                  4: \"Feature5\",\n",
    "                                  5: \"Feature6\",\n",
    "                                  6: \"Feature7\",\n",
    "                                  7: \"Feature8\",\n",
    "                                  8: \"Feature9\",\n",
    "                                  9: \"Feature10\",\n",
    "                                  10: \"Feature11\",\n",
    "                                  11: \"Feature12\",\n",
    "                                  12: \"Feature13\",\n",
    "                                  13: \"Feature14\",\n",
    "                                  14: \"Feature15\",\n",
    "                                  15: \"Feature16\",\n",
    "                                  16: \"Feature17\",\n",
    "                                  17: \"Feature18\",\n",
    "                                  18: \"Feature19\", \n",
    "                                  19: \"Feature20\", \n",
    "                                  20: \"Feature21\",                                   \n",
    "                                  21: \"Feature22\",\n",
    "                                  22: \"Feature23\",\n",
    "                                  23: \"Feature24\",                                   \n",
    "                                  24: \"Feature25\",\n",
    "                                  25: \"Feature26\",  \n",
    "                                  26: \"Feature27\",\n",
    "                                  27: \"Feature28\",\n",
    "                                  28: \"Feature29\",\n",
    "                                  29: \"Feature30\",                                       \n",
    "                                  30: \"Label\"}) \n",
    "  \n",
    "# changing columns using .columns() \n",
    "csv_2.columns = ['Feature1', 'Feature2', 'Feature3', 'Feature4', \n",
    "                'Feature5', 'Feature6', 'Feature7', 'Feature8',\n",
    "                 'Feature9', 'Feature10', 'Feature11', 'Feature12',\n",
    "                 'Feature13', 'Feature14', 'Feature15', 'Feature16',\n",
    "                 'Feature17', 'Feature18', 'Feature19', 'Feature20','Feature21','Feature22','Feature23','Feature24','Feature25','Feature26','Feature27','Feature28','Feature29','Feature30',\"Label\"] \n",
    " \n",
    "  \n",
    "\n",
    "csv_2.to_csv(\"attentionabnormalresult.csv\", index=None)"
   ]
  },
  {
   "cell_type": "code",
   "execution_count": 4,
   "metadata": {
    "scrolled": true
   },
   "outputs": [
    {
     "name": "stdout",
     "output_type": "stream",
     "text": [
      "        Feature1  Feature2  Feature3  Feature4  Feature5  Feature6  Feature7  \\\n",
      "0       0.031837  0.031837  0.031837  0.031837  0.036238  0.039322  0.031837   \n",
      "1       0.035108  0.032130  0.032130  0.032130  0.032130  0.032130  0.038547   \n",
      "2       0.031934  0.041154  0.031934  0.031934  0.039751  0.031934  0.036542   \n",
      "3       0.031406  0.032686  0.031092  0.033183  0.037234  0.036711  0.030824   \n",
      "4       0.031504  0.031599  0.031504  0.032908  0.037345  0.037925  0.031504   \n",
      "...          ...       ...       ...       ...       ...       ...       ...   \n",
      "556549  0.037262  0.041118  0.031196  0.031196  0.039565  0.031196  0.035949   \n",
      "556550  0.031925  0.034549  0.031925  0.031925  0.031925  0.031925  0.034275   \n",
      "556551  0.032788  0.035658  0.030538  0.033033  0.030538  0.030538  0.030538   \n",
      "556552  0.033152  0.035687  0.031279  0.033649  0.031279  0.031279  0.031279   \n",
      "556553  0.032788  0.035658  0.030538  0.033033  0.030538  0.030538  0.030538   \n",
      "\n",
      "        Feature8  Feature9  Feature10  ...  Feature22  Feature23  Feature24  \\\n",
      "0       0.031837  0.031837   0.031837  ...   0.031837   0.031837   0.031837   \n",
      "1       0.032130  0.034461   0.041035  ...   0.035751   0.032130   0.032130   \n",
      "2       0.031934  0.031934   0.031934  ...   0.034044   0.031934   0.031934   \n",
      "3       0.036762  0.030824   0.035404  ...   0.030824   0.030824   0.034596   \n",
      "4       0.033256  0.031504   0.033955  ...   0.031504   0.031626   0.031504   \n",
      "...          ...       ...        ...  ...        ...        ...        ...   \n",
      "556549  0.031196  0.031196   0.034384  ...   0.033984   0.031196   0.031196   \n",
      "556550  0.031925  0.031928   0.031925  ...   0.031925   0.036469   0.031925   \n",
      "556551  0.030538  0.030538   0.036328  ...   0.030538   0.034032   0.030538   \n",
      "556552  0.031279  0.031279   0.037244  ...   0.031279   0.034874   0.031279   \n",
      "556553  0.030538  0.030538   0.036328  ...   0.030538   0.034032   0.030538   \n",
      "\n",
      "        Feature25  Feature26  Feature27  Feature28  Feature29  Feature30  \\\n",
      "0        0.033745   0.031837   0.034767   0.031837   0.031837   0.031837   \n",
      "1        0.032625   0.032130   0.041235   0.032130   0.032130   0.032130   \n",
      "2        0.031934   0.031934   0.031934   0.038301   0.031934   0.031934   \n",
      "3        0.033337   0.030824   0.034041   0.035015   0.031132   0.030824   \n",
      "4        0.033828   0.031504   0.034638   0.031504   0.031504   0.031504   \n",
      "...           ...        ...        ...        ...        ...        ...   \n",
      "556549   0.034843   0.031196   0.034018   0.034705   0.031196   0.031196   \n",
      "556550   0.031925   0.034881   0.031925   0.041324   0.031925   0.031925   \n",
      "556551   0.032412   0.030538   0.034565   0.037865   0.034590   0.033828   \n",
      "556552   0.031279   0.031279   0.034643   0.037896   0.031279   0.033831   \n",
      "556553   0.032412   0.030538   0.034565   0.037865   0.034590   0.033828   \n",
      "\n",
      "        Label  \n",
      "0           0  \n",
      "1           0  \n",
      "2           0  \n",
      "3           0  \n",
      "4           0  \n",
      "...       ...  \n",
      "556549      1  \n",
      "556550      1  \n",
      "556551      1  \n",
      "556552      1  \n",
      "556553      1  \n",
      "\n",
      "[2827872 rows x 31 columns]\n"
     ]
    }
   ],
   "source": [
    "merged = csv_1.merge(csv_2,on=\"Label\")\n",
    "\n",
    "merged.to_csv(\"attention1.csv\", index=False)\n",
    "#result = pd.concat([csv_1, csv_2], axis=1)\n",
    "out = csv_1.append(csv_2)\n",
    "print(out)\n",
    "out.to_csv(\"attention1.csv\", index=False)"
   ]
  },
  {
   "cell_type": "code",
   "execution_count": 5,
   "metadata": {},
   "outputs": [],
   "source": [
    "df = pd.read_csv(\"attention1.csv\",sep=\",\", index_col=None)"
   ]
  },
  {
   "cell_type": "code",
   "execution_count": 6,
   "metadata": {},
   "outputs": [],
   "source": [
    "X=df.drop(['Label'], axis=1).values \n",
    "y=df['Label'].values"
   ]
  },
  {
   "cell_type": "code",
   "execution_count": 7,
   "metadata": {},
   "outputs": [
    {
     "name": "stdout",
     "output_type": "stream",
     "text": [
      "1979510 Training sequences (1979510, 30)\n",
      "848362 Validation sequences (848362, 30)\n",
      "1979510 Training sequences (1979510,)\n"
     ]
    }
   ],
   "source": [
    "from sklearn.model_selection import train_test_split\n",
    "\n",
    "x_train,x_val,y_train,y_val = train_test_split(X,y,train_size=0.70, random_state=2)\n",
    "print(len(x_train), \"Training sequences\",x_train.shape)\n",
    "print(len(x_val), \"Validation sequences\",x_val.shape)\n",
    "print(len(y_train), \"Training sequences\",y_train.shape)"
   ]
  },
  {
   "cell_type": "code",
   "execution_count": 8,
   "metadata": {},
   "outputs": [],
   "source": [
    "\n",
    "# define the keras model\n",
    "model = Sequential()\n",
    "model.add(Dense(12, input_dim=30, activation='relu'))\n",
    "model.add(Dense(8, activation='relu'))\n",
    "model.add(Dense(1, activation='sigmoid'))"
   ]
  },
  {
   "cell_type": "code",
   "execution_count": 9,
   "metadata": {},
   "outputs": [],
   "source": [
    "# compile the keras model\n",
    "model.compile(loss='binary_crossentropy', optimizer='adam', metrics=['accuracy'])"
   ]
  },
  {
   "cell_type": "code",
   "execution_count": 10,
   "metadata": {},
   "outputs": [
    {
     "name": "stdout",
     "output_type": "stream",
     "text": [
      "Model: \"sequential\"\n",
      "_________________________________________________________________\n",
      "Layer (type)                 Output Shape              Param #   \n",
      "=================================================================\n",
      "dense (Dense)                (None, 12)                372       \n",
      "_________________________________________________________________\n",
      "dense_1 (Dense)              (None, 8)                 104       \n",
      "_________________________________________________________________\n",
      "dense_2 (Dense)              (None, 1)                 9         \n",
      "=================================================================\n",
      "Total params: 485\n",
      "Trainable params: 485\n",
      "Non-trainable params: 0\n",
      "_________________________________________________________________\n"
     ]
    }
   ],
   "source": [
    "model.summary()"
   ]
  },
  {
   "cell_type": "code",
   "execution_count": 11,
   "metadata": {},
   "outputs": [],
   "source": [
    "import time, datetime\n",
    "\n",
    "start = datetime.datetime.now()\n",
    "time.sleep(10)"
   ]
  },
  {
   "cell_type": "code",
   "execution_count": 12,
   "metadata": {
    "scrolled": true
   },
   "outputs": [
    {
     "name": "stdout",
     "output_type": "stream",
     "text": [
      "Epoch 1/20\n",
      "212091/212091 [==============================] - 169s 795us/step - loss: 0.2023 - accuracy: 0.9190 - val_loss: 0.1372 - val_accuracy: 0.9551\n",
      "Epoch 2/20\n",
      "212091/212091 [==============================] - 170s 804us/step - loss: 0.1352 - accuracy: 0.9514 - val_loss: 0.1332 - val_accuracy: 0.9581\n",
      "Epoch 3/20\n",
      "212091/212091 [==============================] - 171s 806us/step - loss: 0.1243 - accuracy: 0.9542 - val_loss: 0.1141 - val_accuracy: 0.9552\n",
      "Epoch 4/20\n",
      "212091/212091 [==============================] - 173s 816us/step - loss: 0.1179 - accuracy: 0.9554 - val_loss: 0.1103 - val_accuracy: 0.9625\n",
      "Epoch 5/20\n",
      "212091/212091 [==============================] - 164s 773us/step - loss: 0.1139 - accuracy: 0.9562 - val_loss: 0.1046 - val_accuracy: 0.9589\n",
      "Epoch 6/20\n",
      "212091/212091 [==============================] - 169s 799us/step - loss: 0.1113 - accuracy: 0.9570 - val_loss: 0.1071 - val_accuracy: 0.9576\n",
      "Epoch 7/20\n",
      "212091/212091 [==============================] - 168s 794us/step - loss: 0.1093 - accuracy: 0.9579 - val_loss: 0.1446 - val_accuracy: 0.9432\n",
      "Epoch 8/20\n",
      "212091/212091 [==============================] - 168s 792us/step - loss: 0.1081 - accuracy: 0.9581 - val_loss: 0.1062 - val_accuracy: 0.9509\n",
      "Epoch 9/20\n",
      "212091/212091 [==============================] - 170s 799us/step - loss: 0.1068 - accuracy: 0.9586 - val_loss: 0.1000 - val_accuracy: 0.9593\n",
      "Epoch 10/20\n",
      "212091/212091 [==============================] - 166s 781us/step - loss: 0.1057 - accuracy: 0.9590 - val_loss: 0.0984 - val_accuracy: 0.9599\n",
      "Epoch 11/20\n",
      "212091/212091 [==============================] - 171s 804us/step - loss: 0.1047 - accuracy: 0.9594 - val_loss: 0.0982 - val_accuracy: 0.9658\n",
      "Epoch 12/20\n",
      "212091/212091 [==============================] - 165s 777us/step - loss: 0.1040 - accuracy: 0.9595 - val_loss: 0.0972 - val_accuracy: 0.9606\n",
      "Epoch 13/20\n",
      "212091/212091 [==============================] - 172s 812us/step - loss: 0.1030 - accuracy: 0.9597 - val_loss: 0.1158 - val_accuracy: 0.9570\n",
      "Epoch 14/20\n",
      "212091/212091 [==============================] - 168s 794us/step - loss: 0.1024 - accuracy: 0.9599 - val_loss: 0.0958 - val_accuracy: 0.9651\n",
      "Epoch 15/20\n",
      "212091/212091 [==============================] - 172s 812us/step - loss: 0.1016 - accuracy: 0.9601 - val_loss: 0.0975 - val_accuracy: 0.9599\n",
      "Epoch 16/20\n",
      "212091/212091 [==============================] - 173s 814us/step - loss: 0.1008 - accuracy: 0.9603 - val_loss: 0.0999 - val_accuracy: 0.9581\n",
      "Epoch 17/20\n",
      "212091/212091 [==============================] - 175s 823us/step - loss: 0.1002 - accuracy: 0.9606 - val_loss: 0.0930 - val_accuracy: 0.9604\n",
      "Epoch 18/20\n",
      "212091/212091 [==============================] - 176s 831us/step - loss: 0.0998 - accuracy: 0.9607 - val_loss: 0.1057 - val_accuracy: 0.9570\n",
      "Epoch 19/20\n",
      "212091/212091 [==============================] - 167s 789us/step - loss: 0.0993 - accuracy: 0.9608 - val_loss: 0.1032 - val_accuracy: 0.9589\n",
      "Epoch 20/20\n",
      "212091/212091 [==============================] - 172s 812us/step - loss: 0.0987 - accuracy: 0.9610 - val_loss: 0.0913 - val_accuracy: 0.9671\n",
      "88371/88371 [==============================] - 65s 733us/step - loss: 0.0910 - accuracy: 0.9673\n",
      "overall Accuracy: 96.73\n",
      "[[130264   8646]\n",
      " [ 14584 553474]]\n",
      "accuracy: 0.967141\n",
      "f1 score: 0.918134\n",
      "precision score: 0.899315\n",
      "recall score: 0.937758\n",
      "ROC AUC: 0.956042\n",
      "ROC AUC: 0.956042\n",
      "No Skill: ROC AUC=0.956\n"
     ]
    },
    {
     "data": {
      "image/png": "[encoded data removed]",
      "text/plain": [
       "<Figure size 432x288 with 1 Axes>"
      ]
     },
     "metadata": {
      "needs_background": "light"
     },
     "output_type": "display_data"
    },
    {
     "name": "stdout",
     "output_type": "stream",
     "text": [
      "[0 0 0 ... 1 1 1]\n"
     ]
    },
    {
     "data": {
      "image/png": "[encoded data removed]",
      "text/plain": [
       "<Figure size 432x288 with 1 Axes>"
      ]
     },
     "metadata": {
      "needs_background": "light"
     },
     "output_type": "display_data"
    },
    {
     "name": "stdout",
     "output_type": "stream",
     "text": [
      "Epoch 1/20\n",
      "212091/212091 [==============================] - 175s 824us/step - loss: 0.0979 - accuracy: 0.9613 - val_loss: 0.1015 - val_accuracy: 0.9668\n",
      "Epoch 2/20\n",
      "212091/212091 [==============================] - 175s 827us/step - loss: 0.0974 - accuracy: 0.9614 - val_loss: 0.0982 - val_accuracy: 0.9619\n",
      "Epoch 3/20\n",
      "212091/212091 [==============================] - 173s 816us/step - loss: 0.0969 - accuracy: 0.9615 - val_loss: 0.0927 - val_accuracy: 0.9598\n",
      "Epoch 4/20\n",
      "212091/212091 [==============================] - 176s 832us/step - loss: 0.0964 - accuracy: 0.9618 - val_loss: 0.0908 - val_accuracy: 0.9659\n",
      "Epoch 5/20\n",
      "212091/212091 [==============================] - 174s 819us/step - loss: 0.0956 - accuracy: 0.9619 - val_loss: 0.1049 - val_accuracy: 0.9643\n",
      "Epoch 6/20\n",
      "212091/212091 [==============================] - 172s 812us/step - loss: 0.0945 - accuracy: 0.9623 - val_loss: 0.0906 - val_accuracy: 0.9660\n",
      "Epoch 7/20\n",
      "212091/212091 [==============================] - 168s 792us/step - loss: 0.0937 - accuracy: 0.9627 - val_loss: 0.1211 - val_accuracy: 0.9304\n",
      "Epoch 8/20\n",
      "212091/212091 [==============================] - 173s 818us/step - loss: 0.0932 - accuracy: 0.9628 - val_loss: 0.0912 - val_accuracy: 0.9627\n",
      "Epoch 9/20\n",
      "212091/212091 [==============================] - 170s 799us/step - loss: 0.0928 - accuracy: 0.9631 - val_loss: 0.0981 - val_accuracy: 0.9669\n",
      "Epoch 10/20\n",
      "212091/212091 [==============================] - 174s 820us/step - loss: 0.0922 - accuracy: 0.9632 - val_loss: 0.0904 - val_accuracy: 0.9676\n",
      "Epoch 11/20\n",
      "212091/212091 [==============================] - 172s 809us/step - loss: 0.0918 - accuracy: 0.9634 - val_loss: 0.1093 - val_accuracy: 0.9532\n",
      "Epoch 12/20\n",
      "212091/212091 [==============================] - 173s 816us/step - loss: 0.0914 - accuracy: 0.9634 - val_loss: 0.0871 - val_accuracy: 0.9662\n",
      "Epoch 13/20\n",
      "212091/212091 [==============================] - 171s 805us/step - loss: 0.0910 - accuracy: 0.9638 - val_loss: 0.1014 - val_accuracy: 0.9651\n",
      "Epoch 14/20\n",
      "212091/212091 [==============================] - 174s 822us/step - loss: 0.0906 - accuracy: 0.9638 - val_loss: 0.0846 - val_accuracy: 0.9689\n",
      "Epoch 15/20\n",
      "212091/212091 [==============================] - 172s 809us/step - loss: 0.0901 - accuracy: 0.9640 - val_loss: 0.0874 - val_accuracy: 0.9606\n",
      "Epoch 16/20\n",
      "212091/212091 [==============================] - 177s 835us/step - loss: 0.0896 - accuracy: 0.9643 - val_loss: 0.1000 - val_accuracy: 0.9610\n",
      "Epoch 17/20\n",
      "212091/212091 [==============================] - 171s 805us/step - loss: 0.0893 - accuracy: 0.9645 - val_loss: 0.0851 - val_accuracy: 0.9677\n",
      "Epoch 18/20\n",
      "212091/212091 [==============================] - 174s 818us/step - loss: 0.0888 - accuracy: 0.9648 - val_loss: 0.0885 - val_accuracy: 0.9628\n",
      "Epoch 19/20\n",
      "212091/212091 [==============================] - 175s 823us/step - loss: 0.0884 - accuracy: 0.9649 - val_loss: 0.0826 - val_accuracy: 0.9693\n",
      "Epoch 20/20\n",
      "212091/212091 [==============================] - 171s 805us/step - loss: 0.0875 - accuracy: 0.9655 - val_loss: 0.0856 - val_accuracy: 0.9672\n",
      "88371/88371 [==============================] - 64s 723us/step - loss: 0.0846 - accuracy: 0.9675 59s - loss: 0.0400 - accuracy: 0 - ETA: 59s - loss: 0.0402 - accura - ETA: 59s - loss: 0.0402 - ac\n",
      "overall Accuracy: 96.75\n",
      "[[129196  10161]\n",
      " [ 13044 554567]]\n",
      "accuracy: 0.967177\n",
      "f1 score: 0.917595\n",
      "precision score: 0.908296\n",
      "recall score: 0.927087\n",
      "ROC AUC: 0.952053\n",
      "ROC AUC: 0.952053\n",
      "No Skill: ROC AUC=0.952\n"
     ]
    },
    {
     "data": {
      "image/png": "[encoded data removed]",
      "text/plain": [
       "<Figure size 432x288 with 1 Axes>"
      ]
     },
     "metadata": {
      "needs_background": "light"
     },
     "output_type": "display_data"
    },
    {
     "name": "stdout",
     "output_type": "stream",
     "text": [
      "[0 0 0 ... 1 1 1]\n"
     ]
    },
    {
     "data": {
      "image/png": "[encoded data removed]",
      "text/plain": [
       "<Figure size 432x288 with 1 Axes>"
      ]
     },
     "metadata": {
      "needs_background": "light"
     },
     "output_type": "display_data"
    },
    {
     "name": "stdout",
     "output_type": "stream",
     "text": [
      "Epoch 1/20\n",
      "212091/212091 [==============================] - 172s 809us/step - loss: 0.0867 - accuracy: 0.9658 - val_loss: 0.0787 - val_accuracy: 0.9709\n",
      "Epoch 2/20\n",
      "212091/212091 [==============================] - 172s 810us/step - loss: 0.0853 - accuracy: 0.9666 - val_loss: 0.0777 - val_accuracy: 0.9732\n",
      "Epoch 3/20\n",
      "212091/212091 [==============================] - 168s 794us/step - loss: 0.0842 - accuracy: 0.9673 - val_loss: 0.0813 - val_accuracy: 0.9717\n",
      "Epoch 4/20\n",
      "212091/212091 [==============================] - 169s 797us/step - loss: 0.0832 - accuracy: 0.9679 - val_loss: 0.0772 - val_accuracy: 0.9729\n",
      "Epoch 5/20\n",
      "212091/212091 [==============================] - 174s 821us/step - loss: 0.0822 - accuracy: 0.9683 - val_loss: 0.0783 - val_accuracy: 0.9719\n",
      "Epoch 6/20\n",
      "212091/212091 [==============================] - 169s 796us/step - loss: 0.0803 - accuracy: 0.9692 - val_loss: 0.0778 - val_accuracy: 0.9707\n",
      "Epoch 7/20\n",
      "212091/212091 [==============================] - 173s 817us/step - loss: 0.0788 - accuracy: 0.9699 - val_loss: 0.0723 - val_accuracy: 0.9724\n",
      "Epoch 8/20\n",
      "212091/212091 [==============================] - 169s 796us/step - loss: 0.0775 - accuracy: 0.9703 - val_loss: 0.0695 - val_accuracy: 0.9740\n",
      "Epoch 9/20\n",
      "212091/212091 [==============================] - 170s 803us/step - loss: 0.0765 - accuracy: 0.9707 - val_loss: 0.0724 - val_accuracy: 0.9745\n",
      "Epoch 10/20\n",
      "212091/212091 [==============================] - 172s 812us/step - loss: 0.0756 - accuracy: 0.9711 - val_loss: 0.0736 - val_accuracy: 0.9715\n",
      "Epoch 11/20\n",
      "212091/212091 [==============================] - 171s 804us/step - loss: 0.0747 - accuracy: 0.9713 - val_loss: 0.0768 - val_accuracy: 0.9727\n",
      "Epoch 12/20\n",
      "212091/212091 [==============================] - 171s 808us/step - loss: 0.0741 - accuracy: 0.9715 - val_loss: 0.0730 - val_accuracy: 0.9744\n",
      "Epoch 13/20\n",
      "212091/212091 [==============================] - 172s 809us/step - loss: 0.0734 - accuracy: 0.9718 - val_loss: 0.0747 - val_accuracy: 0.9682\n",
      "Epoch 14/20\n",
      "212091/212091 [==============================] - 172s 809us/step - loss: 0.0731 - accuracy: 0.9717 - val_loss: 0.0706 - val_accuracy: 0.9743\n",
      "Epoch 15/20\n",
      "212091/212091 [==============================] - 176s 828us/step - loss: 0.0726 - accuracy: 0.9720 - val_loss: 0.0885 - val_accuracy: 0.9561\n",
      "Epoch 16/20\n",
      "212091/212091 [==============================] - 174s 821us/step - loss: 0.0722 - accuracy: 0.9719 - val_loss: 0.0708 - val_accuracy: 0.9731\n",
      "Epoch 17/20\n",
      "212091/212091 [==============================] - 174s 822us/step - loss: 0.0719 - accuracy: 0.9720 - val_loss: 0.0654 - val_accuracy: 0.9748\n",
      "Epoch 18/20\n",
      "212091/212091 [==============================] - 174s 820us/step - loss: 0.0715 - accuracy: 0.9722 - val_loss: 0.0697 - val_accuracy: 0.9744\n",
      "Epoch 19/20\n",
      "212091/212091 [==============================] - 172s 813us/step - loss: 0.0711 - accuracy: 0.9723 - val_loss: 0.0686 - val_accuracy: 0.9753\n",
      "Epoch 20/20\n",
      "212091/212091 [==============================] - 172s 809us/step - loss: 0.0708 - accuracy: 0.9724 - val_loss: 0.0670 - val_accuracy: 0.9735\n",
      "88371/88371 [==============================] - 62s 705us/step - loss: 0.0677 - accuracy: 0.9734\n",
      "overall Accuracy: 97.34\n",
      "[[132847   6213]\n",
      " [ 12508 555400]]\n",
      "accuracy: 0.973519\n",
      "f1 score: 0.934177\n",
      "precision score: 0.913949\n",
      "recall score: 0.955321\n",
      "ROC AUC: 0.966648\n",
      "ROC AUC: 0.966648\n",
      "No Skill: ROC AUC=0.967\n"
     ]
    },
    {
     "data": {
      "image/png": "[encoded data removed]",
      "text/plain": [
       "<Figure size 432x288 with 1 Axes>"
      ]
     },
     "metadata": {
      "needs_background": "light"
     },
     "output_type": "display_data"
    },
    {
     "name": "stdout",
     "output_type": "stream",
     "text": [
      "[0 0 0 ... 1 1 1]\n"
     ]
    },
    {
     "data": {
      "image/png": "[encoded data removed]",
      "text/plain": [
       "<Figure size 432x288 with 1 Axes>"
      ]
     },
     "metadata": {
      "needs_background": "light"
     },
     "output_type": "display_data"
    },
    {
     "name": "stdout",
     "output_type": "stream",
     "text": [
      "Epoch 1/20\n",
      "212091/212091 [==============================] - 171s 808us/step - loss: 0.0705 - accuracy: 0.9724 - val_loss: 0.0712 - val_accuracy: 0.9735\n",
      "Epoch 2/20\n",
      "212091/212091 [==============================] - 168s 794us/step - loss: 0.0702 - accuracy: 0.9723 - val_loss: 0.0651 - val_accuracy: 0.9756\n",
      "Epoch 3/20\n",
      "212091/212091 [==============================] - 165s 779us/step - loss: 0.0701 - accuracy: 0.9724 - val_loss: 0.0642 - val_accuracy: 0.9759\n",
      "Epoch 4/20\n",
      "212091/212091 [==============================] - 172s 812us/step - loss: 0.0698 - accuracy: 0.9726 - val_loss: 0.0693 - val_accuracy: 0.9737\n",
      "Epoch 5/20\n",
      "212091/212091 [==============================] - 168s 794us/step - loss: 0.0695 - accuracy: 0.9725 - val_loss: 0.0675 - val_accuracy: 0.9766\n",
      "Epoch 6/20\n",
      "212091/212091 [==============================] - 169s 798us/step - loss: 0.0693 - accuracy: 0.9727 - val_loss: 0.1367 - val_accuracy: 0.9247\n",
      "Epoch 7/20\n",
      "212091/212091 [==============================] - 170s 803us/step - loss: 0.0692 - accuracy: 0.9726 - val_loss: 0.0645 - val_accuracy: 0.9755\n",
      "Epoch 8/20\n",
      "212091/212091 [==============================] - 168s 794us/step - loss: 0.0691 - accuracy: 0.9726 - val_loss: 0.0691 - val_accuracy: 0.9742\n",
      "Epoch 9/20\n",
      "212091/212091 [==============================] - 168s 791us/step - loss: 0.0690 - accuracy: 0.9727 - val_loss: 0.0720 - val_accuracy: 0.9722\n",
      "Epoch 10/20\n",
      "212091/212091 [==============================] - 168s 792us/step - loss: 0.0686 - accuracy: 0.9729 - val_loss: 0.0633 - val_accuracy: 0.9753\n",
      "Epoch 11/20\n",
      "212091/212091 [==============================] - 174s 822us/step - loss: 0.0687 - accuracy: 0.9728 - val_loss: 0.0635 - val_accuracy: 0.9756\n",
      "Epoch 12/20\n",
      "212091/212091 [==============================] - 172s 813us/step - loss: 0.0684 - accuracy: 0.9729 - val_loss: 0.0671 - val_accuracy: 0.9753\n",
      "Epoch 13/20\n",
      "212091/212091 [==============================] - 170s 803us/step - loss: 0.0682 - accuracy: 0.9729 - val_loss: 0.0618 - val_accuracy: 0.9758\n",
      "Epoch 14/20\n",
      "212091/212091 [==============================] - 166s 781us/step - loss: 0.0681 - accuracy: 0.9729 - val_loss: 0.0620 - val_accuracy: 0.9761\n",
      "Epoch 15/20\n",
      "212091/212091 [==============================] - 167s 788us/step - loss: 0.0680 - accuracy: 0.9730 - val_loss: 0.0649 - val_accuracy: 0.9756\n",
      "Epoch 16/20\n",
      "212091/212091 [==============================] - 173s 816us/step - loss: 0.0676 - accuracy: 0.9731 - val_loss: 0.0671 - val_accuracy: 0.9749\n",
      "Epoch 17/20\n",
      "212091/212091 [==============================] - 169s 797us/step - loss: 0.0675 - accuracy: 0.9732 - val_loss: 0.0656 - val_accuracy: 0.9768\n",
      "Epoch 18/20\n",
      "212091/212091 [==============================] - 176s 830us/step - loss: 0.0675 - accuracy: 0.9730 - val_loss: 0.0779 - val_accuracy: 0.9710loss - ETA: 20s -\n",
      "Epoch 19/20\n",
      "212091/212091 [==============================] - 172s 812us/step - loss: 0.0673 - accuracy: 0.9732 - val_loss: 0.0651 - val_accuracy: 0.9752\n",
      "Epoch 20/20\n",
      "212091/212091 [==============================] - 174s 821us/step - loss: 0.0671 - accuracy: 0.9733 - val_loss: 0.1001 - val_accuracy: 0.9543\n",
      "88371/88371 [==============================] - 65s 736us/step - loss: 0.0999 - accuracy: 0.9542\n",
      "overall Accuracy: 95.42\n",
      "[[112233  26994]\n",
      " [  5292 562449]]\n",
      "accuracy: 0.954332\n",
      "f1 score: 0.874252\n",
      "precision score: 0.954971\n",
      "recall score: 0.806115\n",
      "ROC AUC: 0.898397\n",
      "ROC AUC: 0.898397\n",
      "No Skill: ROC AUC=0.898\n"
     ]
    },
    {
     "data": {
      "image/png": "[encoded data removed]",
      "text/plain": [
       "<Figure size 432x288 with 1 Axes>"
      ]
     },
     "metadata": {
      "needs_background": "light"
     },
     "output_type": "display_data"
    },
    {
     "name": "stdout",
     "output_type": "stream",
     "text": [
      "[0 0 0 ... 1 1 1]\n"
     ]
    },
    {
     "data": {
      "image/png": "[encoded data removed]",
      "text/plain": [
       "<Figure size 432x288 with 1 Axes>"
      ]
     },
     "metadata": {
      "needs_background": "light"
     },
     "output_type": "display_data"
    },
    {
     "name": "stdout",
     "output_type": "stream",
     "text": [
      "Cross Validation ROC - AUC = 0.9432852047030961\n",
      "Cross Validation Precision recall curve - AUC = 0.8504784916804546\n",
      "Cross Validation accuracy = 0.9655422876282943\n",
      "Cross Validation f1 = 0.9110397092092704\n",
      "Cross Validation precision = 0.9191327183640402\n",
      "Cross Validation recall = 0.9065703613498561\n",
      "Cross Validation fpr = [0.         0.01999995 1.        ]\n",
      "Cross Validation tpr = [0.         0.90657036 1.        ]\n",
      "Cross Validation lr_precision = [0.19681018 0.91913272 1.        ]\n",
      "Cross Validation lr_recall = [1.         0.90657036 0.        ]\n"
     ]
    },
    {
     "data": {
      "text/plain": [
       "[<matplotlib.lines.Line2D at 0x6a1d002af0>]"
      ]
     },
     "execution_count": 12,
     "metadata": {},
     "output_type": "execute_result"
    },
    {
     "data": {
      "image/png": "[encoded data removed]",
      "text/plain": [
       "<Figure size 432x288 with 1 Axes>"
      ]
     },
     "metadata": {
      "needs_background": "light"
     },
     "output_type": "display_data"
    }
   ],
   "source": [
    "from sklearn.model_selection import KFold\n",
    "from sklearn.metrics import confusion_matrix\n",
    "from sklearn.metrics import f1_score\n",
    "from sklearn.metrics import precision_score\n",
    "from sklearn.metrics import average_precision_score\n",
    "from sklearn.metrics import recall_score\n",
    "from sklearn.metrics import roc_auc_score\n",
    "from sklearn.metrics import accuracy_score\n",
    "from numpy import arange\n",
    "from sklearn.metrics import roc_curve\n",
    "import matplotlib.pyplot as plt\n",
    "from matplotlib import pyplot \n",
    "from importlib import reload\n",
    "reload(plt)\n",
    "#from matplotlib import pyplot\n",
    "from sklearn.metrics import precision_recall_curve\n",
    "from sklearn.metrics import auc\n",
    "\n",
    "\n",
    "kf = KFold(n_splits=4,shuffle=True,random_state=None)\n",
    "\n",
    "scores = []\n",
    "aucs=0\n",
    "aucs1=0\n",
    "f1s=0\n",
    "recalls=0\n",
    "precisions=0\n",
    "accuracys=0\n",
    "lr_precisions=0\n",
    "lr_recalls=0\n",
    "fprs=0\n",
    "tprs=0\n",
    "\n",
    "for train_index, test_index in kf.split(X):\n",
    "    x_train, x_val = X[train_index], X[test_index]\n",
    "    y_train, y_val = y[train_index], y[test_index]\n",
    "    \n",
    "    model.fit(x_train, y_train, epochs=20, batch_size=10, validation_data=(x_val, y_val))\n",
    "    \n",
    "    # make probability predictions with the model\n",
    "    predictions = model.predict(x_val)\n",
    "    # round predictions \n",
    "    predictions = [round(x[0]) for x in predictions]\n",
    "    \n",
    "   \n",
    "    # make class predictions with the model\n",
    "   # predictions1 =  model.predict>0.5.astype('int32')\n",
    "    \n",
    "    # evaluate the keras model\n",
    "    _, accuracy = model.evaluate(X, y)\n",
    "    print('overall Accuracy: %.2f' % (accuracy*100))\n",
    "    \n",
    "    print(confusion_matrix(y_val,predictions,labels=[1,0]))\n",
    "    \n",
    "    #No need for threshold setting since getting same value   \n",
    "    accuracy=accuracy_score(y_val,predictions)\n",
    "    print('accuracy: %f' % accuracy)\n",
    "    \n",
    "    f1=f1_score(y_val,predictions)\n",
    "    print('f1 score: %f' % f1)    \n",
    "    \n",
    "    precision=precision_score(y_val,predictions)\n",
    "    print('precision score: %f' % precision)\n",
    "    \n",
    "    recall=recall_score(y_val,predictions)\n",
    "    print('recall score: %f' % recall)\n",
    "    \n",
    "    auc = roc_auc_score(y_val, predictions)\n",
    "    print('ROC AUC: %f' % auc)    \n",
    "    \n",
    "    ns_auc = roc_auc_score(y_val, predictions)\n",
    "    print('ROC AUC: %f' % auc)  \n",
    "    \n",
    "    # summarize scores\n",
    "    print('No Skill: ROC AUC=%.3f' % (ns_auc))\n",
    "    \n",
    "    #https://machinelearningmastery.com/roc-curves-and-precision-recall-curves-for-classification-in-python/#:~:text=with%20sample%20code).-,ROC%20Curves%20and%20AUC%20in%20Python,probabilities%20for%20the%201%20class.\n",
    "    # calculate roc curves\n",
    "    ns_fpr, ns_tpr, _ = roc_curve(y_val, predictions)\n",
    "    fpr, tpr, _ = roc_curve(y_val, predictions)\n",
    "    pyplot.plot(ns_fpr, ns_tpr, linestyle='--', label='No Skill')\n",
    "    pyplot.plot(fpr, tpr, marker='.', label='Bi-HGA')\n",
    "\n",
    "    # axis labels\n",
    "    pyplot.xlabel('False Positive Rate')\n",
    "    pyplot.ylabel('True Positive Rate')\n",
    "    # show the legend\n",
    "    pyplot.legend()\n",
    "    # show the plot\n",
    "    pyplot.show()\n",
    "\n",
    "    print(y_val)\n",
    "    #https://www.kaggle.com/vedbharti/classification-precision-recall-vs-roc-plot\n",
    "    auc1=average_precision_score(y_val, predictions)\n",
    "     \n",
    "    lr_precision, lr_recall, _ = precision_recall_curve(y_val, predictions)\n",
    "    #lr_f1, lr_auc = f1_score(y_val, predictions1), auc(lr_recall, lr_precision)\n",
    "    # summarize scores\n",
    "    #print('Logistic: f1=%.3f auc=%.3f' % (lr_f1, lr_auc))\n",
    "    # plot the precision-recall curves\n",
    "    #no_skill = len(testy[testy==1]) / len(testy)\n",
    "    #pyplot.plot([0, 1], [no_skill, no_skill], linestyle='--', label='No Skill')\n",
    "    pyplot.plot(lr_recall, lr_precision, marker='.', label='Bi-HGA')\n",
    "    # axis labels\n",
    "    pyplot.xlabel('Recall')\n",
    "    pyplot.ylabel('Precision')\n",
    "    # show the legend\n",
    "    pyplot.legend()\n",
    "    # show the plot\n",
    "    pyplot.show()\n",
    "    \n",
    "    aucs += auc\n",
    "    aucs1 += auc1\n",
    "    accuracys += accuracy\n",
    "    f1s += f1\n",
    "    precisions += precision\n",
    "    recalls += recall\n",
    "    ns_fpr+=ns_fpr\n",
    "    ns_tpr+=ns_tpr\n",
    "    fprs+=fpr\n",
    "    tprs+=tpr\n",
    "    lr_recalls+=lr_recall\n",
    "    lr_precisions+=lr_precision\n",
    "print(\"Cross Validation ROC - AUC = {}\".format(aucs/4))\n",
    "print(\"Cross Validation Precision recall curve - AUC = {}\".format(aucs1/4))\n",
    "print(\"Cross Validation accuracy = {}\".format(accuracys/4))\n",
    "print(\"Cross Validation f1 = {}\".format(f1s/4))\n",
    "print(\"Cross Validation precision = {}\".format(precisions/4))\n",
    "print(\"Cross Validation recall = {}\".format(recalls/4))\n",
    "print(\"Cross Validation fpr = {}\".format(fprs/4))\n",
    "print(\"Cross Validation tpr = {}\".format(tprs/4))\n",
    "print(\"Cross Validation lr_precision = {}\".format(lr_precisions/4))\n",
    "print(\"Cross Validation lr_recall = {}\".format(lr_recalls/4))\n",
    "\n",
    "ns_fpr, ns_tpr, _ = roc_curve(y_val, predictions)\n",
    "fpr, tpr, _ = roc_curve(y_val, predictions)\n",
    "pyplot.plot(ns_fpr, ns_tpr, linestyle='--', label='No Skill')\n",
    "pyplot.plot(fpr, tpr, marker='.', label='Bi-HGA')\n"
   ]
  },
  {
   "cell_type": "code",
   "execution_count": 13,
   "metadata": {},
   "outputs": [
    {
     "name": "stdout",
     "output_type": "stream",
     "text": [
      "3h 53m 36s\n"
     ]
    }
   ],
   "source": [
    "end = datetime.datetime.now()\n",
    "\n",
    "diff = (end - start)\n",
    "\n",
    "datetime.timedelta(seconds=10, microseconds=885206)\n",
    "\n",
    "diff_seconds = int(diff.total_seconds())\n",
    "\n",
    "minute_seconds, seconds = divmod(diff_seconds, 60)\n",
    "hours, minutes = divmod(minute_seconds, 60)\n",
    "hms = f\"{hours}h {minutes}m {seconds}s\"\n",
    "\n",
    "'0h 0m 10s'\n",
    "print(hms) "
   ]
  }
 ],
 "metadata": {
  "kernelspec": {
   "display_name": "Python 3 (ipykernel)",
   "language": "python",
   "name": "python3"
  },
  "language_info": {
   "codemirror_mode": {
    "name": "ipython",
    "version": 3
   },
   "file_extension": ".py",
   "mimetype": "text/x-python",
   "name": "python",
   "nbconvert_exporter": "python",
   "pygments_lexer": "ipython3",
   "version": "3.11.4"
  }
 },
 "nbformat": 4,
 "nbformat_minor": 4
}
