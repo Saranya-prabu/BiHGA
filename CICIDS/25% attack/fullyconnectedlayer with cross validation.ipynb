{
 "cells": [
  {
   "cell_type": "code",
   "execution_count": 1,
   "metadata": {},
   "outputs": [],
   "source": [
    "#https://machinelearningmastery.com/tutorial-first-neural-network-python-keras/\n",
    "# first neural network with keras tutorial\n",
    "from numpy import loadtxt\n",
    "from keras.models import Sequential\n",
    "from keras.layers import Dense\n",
    "\n",
    "import numpy as np\n",
    "import pandas as pd\n",
    "\n",
    "from sklearn import preprocessing\n",
    "from sklearn.model_selection import train_test_split\n"
   ]
  },
  {
   "cell_type": "code",
   "execution_count": 2,
   "metadata": {},
   "outputs": [],
   "source": [
    "csv_1 = pd.read_csv(r\"C:\\Users\\data science\\CICIDS - 30 neurons\\with attention and dimensionality reduction\\attentionnormalresult.csv\") \n",
    "  \n",
    "# changing cols with rename() \n",
    "new_data = csv_1.rename(columns = {0: \"Feature1\",\n",
    "                                  1: \"Feature2\", \n",
    "                                  2: \"Feature3\", \n",
    "                                  3: \"Feature4\",\n",
    "                                  4: \"Feature5\",\n",
    "                                  5: \"Feature6\",\n",
    "                                  6: \"Feature7\",\n",
    "                                  7: \"Feature8\",\n",
    "                                  8: \"Feature9\",\n",
    "                                  9: \"Feature10\",\n",
    "                                  10: \"Feature11\",\n",
    "                                  11: \"Feature12\",\n",
    "                                  12: \"Feature13\",\n",
    "                                  13: \"Feature14\",\n",
    "                                  14: \"Feature15\",\n",
    "                                  15: \"Feature16\",\n",
    "                                  16: \"Feature17\",\n",
    "                                  17: \"Feature18\",\n",
    "                                  18: \"Feature19\", \n",
    "                                  19: \"Feature20\",\n",
    "                                  20: \"Feature21\",                                   \n",
    "                                  21: \"Feature22\",\n",
    "                                  22: \"Feature23\",\n",
    "                                  23: \"Feature24\",                                   \n",
    "                                  24: \"Feature25\",\n",
    "                                  25: \"Feature26\",  \n",
    "                                  26: \"Feature27\",\n",
    "                                  27: \"Feature28\",\n",
    "                                  28: \"Feature29\",\n",
    "                                  29: \"Feature30\",                                       \n",
    "                                  30: \"Label\"}) \n",
    "  \n",
    "# changing columns using .columns() \n",
    "csv_1.columns = ['Feature1', 'Feature2', 'Feature3', 'Feature4', \n",
    "                'Feature5', 'Feature6', 'Feature7', 'Feature8',\n",
    "                 'Feature9', 'Feature10', 'Feature11', 'Feature12',\n",
    "                 'Feature13', 'Feature14', 'Feature15', 'Feature16',\n",
    "                 'Feature17', 'Feature18', 'Feature19', 'Feature20','Feature21','Feature22','Feature23','Feature24','Feature25','Feature26','Feature27','Feature28','Feature29','Feature30',\"Label\"] \n",
    "\n",
    "\n",
    "csv_1.to_csv(\"attentionnormalresult.csv\", index=None)"
   ]
  },
  {
   "cell_type": "code",
   "execution_count": 3,
   "metadata": {},
   "outputs": [],
   "source": [
    "csv_2 = pd.read_csv(r\"C:\\Users\\data science\\CICIDS - 30 neurons\\25% attack\\attentionabnormalresult.csv\") \n",
    "  \n",
    "# changing cols with rename() \n",
    "new_data = csv_2.rename(columns = {0: \"Feature1\",\n",
    "                                  1: \"Feature2\", \n",
    "                                  2: \"Feature3\", \n",
    "                                  3: \"Feature4\",\n",
    "                                  4: \"Feature5\",\n",
    "                                  5: \"Feature6\",\n",
    "                                  6: \"Feature7\",\n",
    "                                  7: \"Feature8\",\n",
    "                                  8: \"Feature9\",\n",
    "                                  9: \"Feature10\",\n",
    "                                  10: \"Feature11\",\n",
    "                                  11: \"Feature12\",\n",
    "                                  12: \"Feature13\",\n",
    "                                  13: \"Feature14\",\n",
    "                                  14: \"Feature15\",\n",
    "                                  15: \"Feature16\",\n",
    "                                  16: \"Feature17\",\n",
    "                                  17: \"Feature18\",\n",
    "                                  18: \"Feature19\", \n",
    "                                  19: \"Feature20\",\n",
    "                                  20: \"Feature21\",                                   \n",
    "                                  21: \"Feature22\",\n",
    "                                  22: \"Feature23\",\n",
    "                                  23: \"Feature24\",                                   \n",
    "                                  24: \"Feature25\",\n",
    "                                  25: \"Feature26\",  \n",
    "                                  26: \"Feature27\",\n",
    "                                  27: \"Feature28\",\n",
    "                                  28: \"Feature29\",\n",
    "                                  29: \"Feature30\",                                         \n",
    "                                  30: \"Label\"}) \n",
    "  \n",
    "# changing columns using .columns() \n",
    "csv_2.columns = ['Feature1', 'Feature2', 'Feature3', 'Feature4', \n",
    "                'Feature5', 'Feature6', 'Feature7', 'Feature8',\n",
    "                 'Feature9', 'Feature10', 'Feature11', 'Feature12',\n",
    "                 'Feature13', 'Feature14', 'Feature15', 'Feature16',\n",
    "                 'Feature17', 'Feature18', 'Feature19', 'Feature20','Feature21','Feature22','Feature23','Feature24','Feature25','Feature26','Feature27','Feature28','Feature29','Feature30',\"Label\"] \n",
    "\n",
    "  \n",
    "\n",
    "csv_2.to_csv(\"attentionabnormalresult.csv\", index=None)"
   ]
  },
  {
   "cell_type": "code",
   "execution_count": 4,
   "metadata": {
    "scrolled": true
   },
   "outputs": [
    {
     "name": "stdout",
     "output_type": "stream",
     "text": [
      "        Feature1  Feature2  Feature3  Feature4  Feature5  Feature6  Feature7  \\\n",
      "0       0.031837  0.031837  0.031837  0.031837  0.036238  0.039322  0.031837   \n",
      "1       0.035108  0.032130  0.032130  0.032130  0.032130  0.032130  0.038547   \n",
      "2       0.031934  0.041154  0.031934  0.031934  0.039751  0.031934  0.036542   \n",
      "3       0.031406  0.032686  0.031092  0.033183  0.037234  0.036711  0.030824   \n",
      "4       0.031504  0.031599  0.031504  0.032908  0.037345  0.037925  0.031504   \n",
      "...          ...       ...       ...       ...       ...       ...       ...   \n",
      "139133  0.031579  0.033514  0.031579  0.031579  0.031579  0.031579  0.035344   \n",
      "139134  0.033201  0.035775  0.031339  0.033699  0.031339  0.031339  0.031339   \n",
      "139135  0.036865  0.040068  0.031291  0.031291  0.040199  0.031291  0.037711   \n",
      "139136  0.031144  0.031144  0.031144  0.031144  0.047346  0.032476  0.035666   \n",
      "139137  0.033141  0.035668  0.031266  0.033638  0.031266  0.031266  0.031266   \n",
      "\n",
      "        Feature8  Feature9  Feature10  ...  Feature22  Feature23  Feature24  \\\n",
      "0       0.031837  0.031837   0.031837  ...   0.031837   0.031837   0.031837   \n",
      "1       0.032130  0.034461   0.041035  ...   0.035751   0.032130   0.032130   \n",
      "2       0.031934  0.031934   0.031934  ...   0.034044   0.031934   0.031934   \n",
      "3       0.036762  0.030824   0.035404  ...   0.030824   0.030824   0.034596   \n",
      "4       0.033256  0.031504   0.033955  ...   0.031504   0.031626   0.031504   \n",
      "...          ...       ...        ...  ...        ...        ...        ...   \n",
      "139133  0.031579  0.031579   0.031579  ...   0.031579   0.037670   0.031579   \n",
      "139134  0.031339  0.031339   0.037364  ...   0.031339   0.035011   0.031339   \n",
      "139135  0.033470  0.031291   0.035074  ...   0.031291   0.031291   0.031291   \n",
      "139136  0.034725  0.040042   0.031144  ...   0.031144   0.031144   0.031144   \n",
      "139137  0.031266  0.031266   0.037219  ...   0.031266   0.034846   0.031266   \n",
      "\n",
      "        Feature25  Feature26  Feature27  Feature28  Feature29  Feature30  \\\n",
      "0        0.033745   0.031837   0.034767   0.031837   0.031837   0.031837   \n",
      "1        0.032625   0.032130   0.041235   0.032130   0.032130   0.032130   \n",
      "2        0.031934   0.031934   0.031934   0.038301   0.031934   0.031934   \n",
      "3        0.033337   0.030824   0.034041   0.035015   0.031132   0.030824   \n",
      "4        0.033828   0.031504   0.034638   0.031504   0.031504   0.031504   \n",
      "...           ...        ...        ...        ...        ...        ...   \n",
      "139133   0.031579   0.036277   0.031579   0.041811   0.031579   0.031579   \n",
      "139134   0.031339   0.031339   0.034091   0.037983   0.031339   0.033324   \n",
      "139135   0.034116   0.031291   0.035885   0.031642   0.031291   0.031291   \n",
      "139136   0.031144   0.042425   0.031144   0.033508   0.031144   0.031144   \n",
      "139137   0.031266   0.031266   0.034751   0.037876   0.031266   0.033953   \n",
      "\n",
      "        Label  \n",
      "0           0  \n",
      "1           0  \n",
      "2           0  \n",
      "3           0  \n",
      "4           0  \n",
      "...       ...  \n",
      "139133      1  \n",
      "139134      1  \n",
      "139135      1  \n",
      "139136      1  \n",
      "139137      1  \n",
      "\n",
      "[2410456 rows x 31 columns]\n"
     ]
    }
   ],
   "source": [
    "merged = csv_1.merge(csv_2,on=\"Label\")\n",
    "\n",
    "merged.to_csv(\"attention1.csv\", index=False)\n",
    "#result = pd.concat([csv_1, csv_2], axis=1)\n",
    "out = csv_1.append(csv_2)\n",
    "print(out)\n",
    "out.to_csv(\"attention1.csv\", index=False)"
   ]
  },
  {
   "cell_type": "code",
   "execution_count": 5,
   "metadata": {},
   "outputs": [],
   "source": [
    "df = pd.read_csv(\"attention1.csv\",sep=\",\", index_col=None)"
   ]
  },
  {
   "cell_type": "code",
   "execution_count": 6,
   "metadata": {},
   "outputs": [],
   "source": [
    "X=df.drop(['Label'], axis=1).values \n",
    "y=df['Label'].values"
   ]
  },
  {
   "cell_type": "code",
   "execution_count": 7,
   "metadata": {},
   "outputs": [
    {
     "name": "stdout",
     "output_type": "stream",
     "text": [
      "1687319 Training sequences (1687319, 30)\n",
      "723137 Validation sequences (723137, 30)\n",
      "1687319 Training sequences (1687319,)\n"
     ]
    }
   ],
   "source": [
    "from sklearn.model_selection import train_test_split\n",
    "\n",
    "x_train,x_val,y_train,y_val = train_test_split(X,y,train_size=0.70, random_state=2)\n",
    "print(len(x_train), \"Training sequences\",x_train.shape)\n",
    "print(len(x_val), \"Validation sequences\",x_val.shape)\n",
    "print(len(y_train), \"Training sequences\",y_train.shape)"
   ]
  },
  {
   "cell_type": "code",
   "execution_count": 8,
   "metadata": {},
   "outputs": [],
   "source": [
    "\n",
    "# define the keras model\n",
    "model = Sequential()\n",
    "model.add(Dense(12, input_dim=30, activation='relu'))\n",
    "model.add(Dense(8, activation='relu'))\n",
    "model.add(Dense(1, activation='sigmoid'))"
   ]
  },
  {
   "cell_type": "code",
   "execution_count": 9,
   "metadata": {},
   "outputs": [],
   "source": [
    "# compile the keras model\n",
    "model.compile(loss='binary_crossentropy', optimizer='adam', metrics=['accuracy'])"
   ]
  },
  {
   "cell_type": "code",
   "execution_count": 10,
   "metadata": {},
   "outputs": [
    {
     "name": "stdout",
     "output_type": "stream",
     "text": [
      "Model: \"sequential\"\n",
      "_________________________________________________________________\n",
      "Layer (type)                 Output Shape              Param #   \n",
      "=================================================================\n",
      "dense (Dense)                (None, 12)                372       \n",
      "_________________________________________________________________\n",
      "dense_1 (Dense)              (None, 8)                 104       \n",
      "_________________________________________________________________\n",
      "dense_2 (Dense)              (None, 1)                 9         \n",
      "=================================================================\n",
      "Total params: 485\n",
      "Trainable params: 485\n",
      "Non-trainable params: 0\n",
      "_________________________________________________________________\n"
     ]
    }
   ],
   "source": [
    "model.summary()"
   ]
  },
  {
   "cell_type": "raw",
   "metadata": {},
   "source": [
    "import time, datetime\n",
    "\n",
    "start = datetime.datetime.now()\n",
    "time.sleep(10)"
   ]
  },
  {
   "cell_type": "raw",
   "metadata": {},
   "source": [
    "# fit the keras model on the dataset\n",
    "history =model.fit(x_train, y_train, epochs=20, batch_size=10, validation_data=(x_val, y_val))"
   ]
  },
  {
   "cell_type": "raw",
   "metadata": {},
   "source": [
    "end = datetime.datetime.now()\n",
    "\n",
    "diff = (end - start)\n",
    "\n",
    "datetime.timedelta(seconds=10, microseconds=885206)\n",
    "\n",
    "diff_seconds = int(diff.total_seconds())\n",
    "\n",
    "minute_seconds, seconds = divmod(diff_seconds, 60)\n",
    "hours, minutes = divmod(minute_seconds, 60)\n",
    "hms = f\"{hours}h {minutes}m {seconds}s\"\n",
    "\n",
    "'0h 0m 10s'\n",
    "print(hms) "
   ]
  },
  {
   "cell_type": "raw",
   "metadata": {},
   "source": [
    "# evaluate the keras model\n",
    "_, accuracy = model.evaluate(X, y)\n",
    "print('Accuracy: %.2f' % (accuracy*100))"
   ]
  },
  {
   "cell_type": "raw",
   "metadata": {},
   "source": [
    "#https://machinelearningmastery.com/how-to-calculate-precision-recall-f1-and-more-for-deep-learning-models/\n",
    "import tensorflow as tf\n",
    "\n",
    "from matplotlib import pyplot\n",
    "# plot loss during training\n",
    "pyplot.subplot(211)\n",
    "pyplot.title('Loss')\n",
    "pyplot.plot(history.history['loss'], label='train')\n",
    "pyplot.plot(history.history['val_loss'], label='test')\n",
    "pyplot.legend()\n",
    "# plot accuracy during training\n",
    "pyplot.subplot(212)\n",
    "pyplot.title('Accuracy')\n",
    "pyplot.plot(history.history['accuracy'], label='train')\n",
    "pyplot.plot(history.history['val_accuracy'], label='test')\n",
    "pyplot.legend()\n",
    "pyplot.show()"
   ]
  },
  {
   "cell_type": "raw",
   "metadata": {},
   "source": [
    "# make probability predictions with the model\n",
    "predictions = model.predict(x_val)\n",
    "# round predictions \n",
    "rounded = [round(x[0]) for x in predictions]"
   ]
  },
  {
   "cell_type": "raw",
   "metadata": {},
   "source": [
    "# make class predictions with the model\n",
    "predictions = model.predict_classes(x_val)"
   ]
  },
  {
   "cell_type": "raw",
   "metadata": {},
   "source": [
    "#https://towardsdatascience.com/common-classification-model-evaluation-metrics-2ba0a7a7436e\n",
    "from sklearn.metrics import confusion_matrix\n",
    "print(confusion_matrix(y_val,predictions,labels=[1,0]))\n",
    "import seaborn as sns\n",
    "import matplotlib.pyplot as plt\n",
    "sns.heatmap(confusion_matrix(y_val,predictions),annot=True,lw =2,cbar=False)\n",
    "plt.ylabel(\"True Values\")\n",
    "plt.xlabel(\"Predicted Values\")\n",
    "plt.title(\"CONFUSSION MATRIX VISUALIZATION\")\n",
    "plt.show()"
   ]
  },
  {
   "cell_type": "raw",
   "metadata": {},
   "source": [
    "from sklearn.metrics import f1_score\n",
    "f1_score(y_val,predictions)"
   ]
  },
  {
   "cell_type": "raw",
   "metadata": {},
   "source": [
    "from sklearn.metrics import precision_score\n",
    "precision_score(y_val,predictions)"
   ]
  },
  {
   "cell_type": "raw",
   "metadata": {},
   "source": [
    "from sklearn.metrics import recall_score\n",
    "recall_score(y_val,predictions)"
   ]
  },
  {
   "cell_type": "raw",
   "metadata": {},
   "source": [
    "from sklearn.metrics import roc_auc_score\n",
    "roc_auc_score(y_val,predictions)"
   ]
  },
  {
   "cell_type": "raw",
   "metadata": {},
   "source": [
    "# summarize the first 5 cases\n",
    "for i in range(5):\n",
    "   print('%s => %d (expected %d)' % (X[i].tolist(), predictions[i], y[i]))"
   ]
  },
  {
   "cell_type": "raw",
   "metadata": {},
   "source": [
    "# predict probabilities for test set\n",
    "yhat_probs = model.predict(x_val, verbose=0)\n",
    "yhat_classes=np.argmax(yhat_probs,axis=1)\n",
    "# predict crisp classes for test set\n",
    "#yhat_classes = model.predict_classes(x_val, verbose=0)\n",
    "# reduce to 1d array\n",
    "yhat_probs = yhat_probs[:, 0]\n",
    "#yhat_classes = yhat_classes[:, 0]"
   ]
  },
  {
   "cell_type": "code",
   "execution_count": 16,
   "metadata": {},
   "outputs": [],
   "source": [
    "import time, datetime\n",
    "\n",
    "start = datetime.datetime.now()\n",
    "time.sleep(10)"
   ]
  },
  {
   "cell_type": "code",
   "execution_count": 17,
   "metadata": {
    "scrolled": true
   },
   "outputs": [
    {
     "name": "stdout",
     "output_type": "stream",
     "text": [
      "Epoch 1/20\n",
      "180785/180785 [==============================] - 147s 811us/step - loss: 0.0657 - accuracy: 0.9755 - val_loss: 0.0588 - val_accuracy: 0.9774\n",
      "Epoch 2/20\n",
      "180785/180785 [==============================] - 148s 818us/step - loss: 0.0649 - accuracy: 0.9759 - val_loss: 0.0603 - val_accuracy: 0.9804\n",
      "Epoch 3/20\n",
      "180785/180785 [==============================] - 149s 824us/step - loss: 0.0642 - accuracy: 0.9760 - val_loss: 0.0672 - val_accuracy: 0.9768\n",
      "Epoch 4/20\n",
      "180785/180785 [==============================] - 150s 830us/step - loss: 0.0636 - accuracy: 0.9763 - val_loss: 0.0607 - val_accuracy: 0.9775\n",
      "Epoch 5/20\n",
      "180785/180785 [==============================] - 151s 835us/step - loss: 0.0630 - accuracy: 0.9764 - val_loss: 0.0616 - val_accuracy: 0.9778\n",
      "Epoch 6/20\n",
      "180785/180785 [==============================] - 146s 805us/step - loss: 0.0625 - accuracy: 0.9767 - val_loss: 0.0571 - val_accuracy: 0.9776\n",
      "Epoch 7/20\n",
      "180785/180785 [==============================] - 148s 820us/step - loss: 0.0622 - accuracy: 0.9769 - val_loss: 0.0639 - val_accuracy: 0.9779\n",
      "Epoch 8/20\n",
      "180785/180785 [==============================] - 144s 799us/step - loss: 0.0619 - accuracy: 0.9768 - val_loss: 0.0708 - val_accuracy: 0.9764\n",
      "Epoch 9/20\n",
      "180785/180785 [==============================] - 144s 798us/step - loss: 0.0616 - accuracy: 0.9770 - val_loss: 0.0593 - val_accuracy: 0.9807\n",
      "Epoch 10/20\n",
      "180785/180785 [==============================] - 149s 823us/step - loss: 0.0612 - accuracy: 0.9772 - val_loss: 0.0856 - val_accuracy: 0.9692\n",
      "Epoch 11/20\n",
      "180785/180785 [==============================] - 150s 828us/step - loss: 0.0610 - accuracy: 0.9772 - val_loss: 0.0559 - val_accuracy: 0.9778\n",
      "Epoch 12/20\n",
      "180785/180785 [==============================] - 147s 812us/step - loss: 0.0607 - accuracy: 0.9774 - val_loss: 0.0572 - val_accuracy: 0.9785\n",
      "Epoch 13/20\n",
      "180785/180785 [==============================] - 149s 824us/step - loss: 0.0605 - accuracy: 0.9774 - val_loss: 0.0643 - val_accuracy: 0.9750\n",
      "Epoch 14/20\n",
      "180785/180785 [==============================] - 150s 828us/step - loss: 0.0602 - accuracy: 0.9775 - val_loss: 0.0572 - val_accuracy: 0.9803\n",
      "Epoch 15/20\n",
      "180785/180785 [==============================] - 152s 840us/step - loss: 0.0601 - accuracy: 0.9776 - val_loss: 0.0561 - val_accuracy: 0.9781\n",
      "Epoch 16/20\n",
      "180785/180785 [==============================] - 148s 819us/step - loss: 0.0599 - accuracy: 0.9776 - val_loss: 0.0563 - val_accuracy: 0.9785\n",
      "Epoch 17/20\n",
      "180785/180785 [==============================] - 148s 820us/step - loss: 0.0599 - accuracy: 0.9776 - val_loss: 0.0566 - val_accuracy: 0.9804\n",
      "Epoch 18/20\n",
      "180785/180785 [==============================] - 146s 806us/step - loss: 0.0596 - accuracy: 0.9777 - val_loss: 0.0749 - val_accuracy: 0.9641\n",
      "Epoch 19/20\n",
      "180785/180785 [==============================] - 148s 821us/step - loss: 0.0595 - accuracy: 0.9778 - val_loss: 0.0580 - val_accuracy: 0.9780\n",
      "Epoch 20/20\n",
      "180785/180785 [==============================] - 148s 817us/step - loss: 0.0593 - accuracy: 0.9778 - val_loss: 0.0557 - val_accuracy: 0.9783\n",
      "75327/75327 [==============================] - 38s 501us/step - loss: 0.0558 - accuracy: 0.9782\n",
      "overall Accuracy: 97.82\n",
      "[[ 22593  12185]\n",
      " [   873 566963]]\n",
      "accuracy: 0.978331\n",
      "f1 score: 0.775805\n",
      "precision score: 0.962797\n",
      "recall score: 0.649635\n",
      "ROC AUC: 0.824049\n",
      "ROC AUC: 0.824049\n",
      "No Skill: ROC AUC=0.824\n"
     ]
    },
    {
     "data": {
      "image/png": "[encoded data removed]",
      "text/plain": [
       "<Figure size 432x288 with 1 Axes>"
      ]
     },
     "metadata": {
      "needs_background": "light"
     },
     "output_type": "display_data"
    },
    {
     "name": "stdout",
     "output_type": "stream",
     "text": [
      "[0 0 0 ... 1 1 1]\n"
     ]
    },
    {
     "data": {
      "image/png": "[encoded data removed]",
      "text/plain": [
       "<Figure size 432x288 with 1 Axes>"
      ]
     },
     "metadata": {
      "needs_background": "light"
     },
     "output_type": "display_data"
    },
    {
     "name": "stdout",
     "output_type": "stream",
     "text": [
      "Epoch 1/20\n",
      "180785/180785 [==============================] - 145s 804us/step - loss: 0.0592 - accuracy: 0.9777 - val_loss: 0.0563 - val_accuracy: 0.9814\n",
      "Epoch 2/20\n",
      "180785/180785 [==============================] - 148s 819us/step - loss: 0.0590 - accuracy: 0.9780 - val_loss: 0.0564 - val_accuracy: 0.9776\n",
      "Epoch 3/20\n",
      "180785/180785 [==============================] - 146s 809us/step - loss: 0.0590 - accuracy: 0.9780 - val_loss: 0.0553 - val_accuracy: 0.9784\n",
      "Epoch 4/20\n",
      "180785/180785 [==============================] - 152s 843us/step - loss: 0.0588 - accuracy: 0.9780 - val_loss: 0.0612 - val_accuracy: 0.9778\n",
      "Epoch 5/20\n",
      "180785/180785 [==============================] - 149s 824us/step - loss: 0.0586 - accuracy: 0.9780 - val_loss: 0.0556 - val_accuracy: 0.9784\n",
      "Epoch 6/20\n",
      "180785/180785 [==============================] - 153s 848us/step - loss: 0.0586 - accuracy: 0.9781 - val_loss: 0.0550 - val_accuracy: 0.9778\n",
      "Epoch 7/20\n",
      "180785/180785 [==============================] - 147s 812us/step - loss: 0.0584 - accuracy: 0.9781 - val_loss: 0.0599 - val_accuracy: 0.9753s: 0.0584 - accura - ETA: 0s - loss: 0.0584 \n",
      "Epoch 8/20\n",
      "180785/180785 [==============================] - 148s 817us/step - loss: 0.0579 - accuracy: 0.9782 - val_loss: 0.0558 - val_accuracy: 0.9780\n",
      "Epoch 9/20\n",
      "180785/180785 [==============================] - 145s 802us/step - loss: 0.0569 - accuracy: 0.9784 - val_loss: 0.0533 - val_accuracy: 0.9783\n",
      "Epoch 10/20\n",
      "180785/180785 [==============================] - 149s 825us/step - loss: 0.0564 - accuracy: 0.9783 - val_loss: 0.0563 - val_accuracy: 0.9800\n",
      "Epoch 11/20\n",
      "180785/180785 [==============================] - 147s 814us/step - loss: 0.0557 - accuracy: 0.9785 - val_loss: 0.0551 - val_accuracy: 0.9767\n",
      "Epoch 12/20\n",
      "180785/180785 [==============================] - 146s 806us/step - loss: 0.0550 - accuracy: 0.9786 - val_loss: 0.0509 - val_accuracy: 0.9786\n",
      "Epoch 13/20\n",
      "180785/180785 [==============================] - 311s 2ms/step - loss: 0.0541 - accuracy: 0.9788 - val_loss: 0.0554 - val_accuracy: 0.9780\n",
      "Epoch 14/20\n",
      "180785/180785 [==============================] - 149s 826us/step - loss: 0.0535 - accuracy: 0.9787 - val_loss: 0.0517 - val_accuracy: 0.9767\n",
      "Epoch 15/20\n",
      "180785/180785 [==============================] - 148s 821us/step - loss: 0.0527 - accuracy: 0.9790 - val_loss: 0.0528 - val_accuracy: 0.9796\n",
      "Epoch 16/20\n",
      "180785/180785 [==============================] - 147s 813us/step - loss: 0.0521 - accuracy: 0.9791 - val_loss: 0.0478 - val_accuracy: 0.9800\n",
      "Epoch 17/20\n",
      "180785/180785 [==============================] - 147s 810us/step - loss: 0.0515 - accuracy: 0.9793 - val_loss: 0.0529 - val_accuracy: 0.9747\n",
      "Epoch 18/20\n",
      "180785/180785 [==============================] - 147s 811us/step - loss: 0.0509 - accuracy: 0.9794 - val_loss: 0.0747 - val_accuracy: 0.9737\n",
      "Epoch 19/20\n",
      "180785/180785 [==============================] - 147s 814us/step - loss: 0.0505 - accuracy: 0.9794 - val_loss: 0.0486 - val_accuracy: 0.9825\n",
      "Epoch 20/20\n",
      "180785/180785 [==============================] - 143s 790us/step - loss: 0.0501 - accuracy: 0.9796 - val_loss: 0.0556 - val_accuracy: 0.9784\n",
      "75327/75327 [==============================] - 38s 500us/step - loss: 0.0555 - accuracy: 0.9784\n",
      "overall Accuracy: 97.84\n",
      "[[ 22112  12527]\n",
      " [   468 567507]]\n",
      "accuracy: 0.978436\n",
      "f1 score: 0.772890\n",
      "precision score: 0.979274\n",
      "recall score: 0.638356\n",
      "ROC AUC: 0.818766\n",
      "ROC AUC: 0.818766\n",
      "No Skill: ROC AUC=0.819\n"
     ]
    },
    {
     "data": {
      "image/png": "[encoded data removed]",
      "text/plain": [
       "<Figure size 432x288 with 1 Axes>"
      ]
     },
     "metadata": {
      "needs_background": "light"
     },
     "output_type": "display_data"
    },
    {
     "name": "stdout",
     "output_type": "stream",
     "text": [
      "[0 0 0 ... 1 1 1]\n"
     ]
    },
    {
     "data": {
      "image/png": "[encoded data removed]",
      "text/plain": [
       "<Figure size 432x288 with 1 Axes>"
      ]
     },
     "metadata": {
      "needs_background": "light"
     },
     "output_type": "display_data"
    },
    {
     "name": "stdout",
     "output_type": "stream",
     "text": [
      "Epoch 1/20\n",
      "180785/180785 [==============================] - 149s 822us/step - loss: 0.0500 - accuracy: 0.9796 - val_loss: 0.0458 - val_accuracy: 0.9795\n",
      "Epoch 2/20\n",
      "180785/180785 [==============================] - 148s 817us/step - loss: 0.0497 - accuracy: 0.9797 - val_loss: 0.0515 - val_accuracy: 0.9790\n",
      "Epoch 3/20\n",
      "180785/180785 [==============================] - 147s 811us/step - loss: 0.0494 - accuracy: 0.9798 - val_loss: 0.0449 - val_accuracy: 0.9797\n",
      "Epoch 4/20\n",
      "180785/180785 [==============================] - 148s 821us/step - loss: 0.0491 - accuracy: 0.9799 - val_loss: 0.0466 - val_accuracy: 0.9792\n",
      "Epoch 5/20\n",
      "180785/180785 [==============================] - 153s 845us/step - loss: 0.0489 - accuracy: 0.9800 - val_loss: 0.0445 - val_accuracy: 0.9803\n",
      "Epoch 6/20\n",
      "180785/180785 [==============================] - 149s 822us/step - loss: 0.0487 - accuracy: 0.9800 - val_loss: 0.0457 - val_accuracy: 0.9801\n",
      "Epoch 7/20\n",
      "180785/180785 [==============================] - 148s 819us/step - loss: 0.0485 - accuracy: 0.9801 - val_loss: 0.0476 - val_accuracy: 0.9797\n",
      "Epoch 8/20\n",
      "180785/180785 [==============================] - 149s 827us/step - loss: 0.0483 - accuracy: 0.9802 - val_loss: 0.0467 - val_accuracy: 0.9828\n",
      "Epoch 9/20\n",
      "180785/180785 [==============================] - 151s 835us/step - loss: 0.0480 - accuracy: 0.9802 - val_loss: 0.0474 - val_accuracy: 0.9820\n",
      "Epoch 10/20\n",
      "180785/180785 [==============================] - 150s 827us/step - loss: 0.0478 - accuracy: 0.9803 - val_loss: 0.0470 - val_accuracy: 0.9825\n",
      "Epoch 11/20\n",
      "180785/180785 [==============================] - 148s 820us/step - loss: 0.0479 - accuracy: 0.9803 - val_loss: 0.0470 - val_accuracy: 0.9792\n",
      "Epoch 12/20\n",
      "180785/180785 [==============================] - 148s 821us/step - loss: 0.0476 - accuracy: 0.9803 - val_loss: 0.0447 - val_accuracy: 0.9827\n",
      "Epoch 13/20\n",
      "180785/180785 [==============================] - 150s 828us/step - loss: 0.0473 - accuracy: 0.9804 - val_loss: 0.0457 - val_accuracy: 0.9834\n",
      "Epoch 14/20\n",
      "180785/180785 [==============================] - 147s 812us/step - loss: 0.0472 - accuracy: 0.9805 - val_loss: 0.0492 - val_accuracy: 0.9792\n",
      "Epoch 15/20\n",
      "180785/180785 [==============================] - 152s 843us/step - loss: 0.0471 - accuracy: 0.9805 - val_loss: 0.0457 - val_accuracy: 0.9826\n",
      "Epoch 16/20\n",
      "180785/180785 [==============================] - 153s 846us/step - loss: 0.0470 - accuracy: 0.9805 - val_loss: 0.0441 - val_accuracy: 0.9825\n",
      "Epoch 17/20\n",
      "180785/180785 [==============================] - 147s 814us/step - loss: 0.0469 - accuracy: 0.9805 - val_loss: 0.0544 - val_accuracy: 0.9819\n",
      "Epoch 18/20\n",
      "180785/180785 [==============================] - 146s 808us/step - loss: 0.0467 - accuracy: 0.9807 - val_loss: 0.0456 - val_accuracy: 0.9820\n",
      "Epoch 19/20\n",
      "180785/180785 [==============================] - 150s 831us/step - loss: 0.0466 - accuracy: 0.9806 - val_loss: 0.0439 - val_accuracy: 0.9814\n",
      "Epoch 20/20\n",
      "180785/180785 [==============================] - 149s 827us/step - loss: 0.0466 - accuracy: 0.9806 - val_loss: 0.0448 - val_accuracy: 0.9806\n",
      "75327/75327 [==============================] - 37s 496us/step - loss: 0.0450 - accuracy: 0.9805\n",
      "overall Accuracy: 98.05\n",
      "[[ 23740  11018]\n",
      " [   686 567170]]\n",
      "accuracy: 0.980578\n",
      "f1 score: 0.802244\n",
      "precision score: 0.971915\n",
      "recall score: 0.683008\n",
      "ROC AUC: 0.840900\n",
      "ROC AUC: 0.840900\n",
      "No Skill: ROC AUC=0.841\n"
     ]
    },
    {
     "data": {
      "image/png": "[encoded data removed]",
      "text/plain": [
       "<Figure size 432x288 with 1 Axes>"
      ]
     },
     "metadata": {
      "needs_background": "light"
     },
     "output_type": "display_data"
    },
    {
     "name": "stdout",
     "output_type": "stream",
     "text": [
      "[0 0 0 ... 1 1 1]\n"
     ]
    },
    {
     "data": {
      "image/png": "[encoded data removed]",
      "text/plain": [
       "<Figure size 432x288 with 1 Axes>"
      ]
     },
     "metadata": {
      "needs_background": "light"
     },
     "output_type": "display_data"
    },
    {
     "name": "stdout",
     "output_type": "stream",
     "text": [
      "Epoch 1/20\n",
      "180785/180785 [==============================] - 145s 800us/step - loss: 0.0464 - accuracy: 0.9806 - val_loss: 0.0423 - val_accuracy: 0.9808\n",
      "Epoch 2/20\n",
      "180785/180785 [==============================] - 146s 805us/step - loss: 0.0463 - accuracy: 0.9808 - val_loss: 0.0421 - val_accuracy: 0.9820\n",
      "Epoch 3/20\n",
      "180785/180785 [==============================] - 148s 818us/step - loss: 0.0462 - accuracy: 0.9808 - val_loss: 0.0488 - val_accuracy: 0.9795\n",
      "Epoch 4/20\n",
      "180785/180785 [==============================] - 149s 823us/step - loss: 0.0462 - accuracy: 0.9807 - val_loss: 0.0595 - val_accuracy: 0.9787\n",
      "Epoch 5/20\n",
      "180785/180785 [==============================] - 145s 803us/step - loss: 0.0461 - accuracy: 0.9808 - val_loss: 0.0452 - val_accuracy: 0.9795\n",
      "Epoch 6/20\n",
      "180785/180785 [==============================] - 149s 826us/step - loss: 0.0460 - accuracy: 0.9808 - val_loss: 0.0454 - val_accuracy: 0.9838\n",
      "Epoch 7/20\n",
      "180785/180785 [==============================] - 148s 820us/step - loss: 0.0460 - accuracy: 0.9807 - val_loss: 0.0441 - val_accuracy: 0.9799\n",
      "Epoch 8/20\n",
      "180785/180785 [==============================] - 151s 835us/step - loss: 0.0459 - accuracy: 0.9808 - val_loss: 0.0443 - val_accuracy: 0.9797\n",
      "Epoch 9/20\n",
      "180785/180785 [==============================] - 145s 800us/step - loss: 0.0459 - accuracy: 0.9808 - val_loss: 0.0537 - val_accuracy: 0.9790\n",
      "Epoch 10/20\n",
      "180785/180785 [==============================] - 142s 784us/step - loss: 0.0458 - accuracy: 0.9808 - val_loss: 0.0456 - val_accuracy: 0.9792\n",
      "Epoch 11/20\n",
      "180785/180785 [==============================] - 145s 802us/step - loss: 0.0457 - accuracy: 0.9809 - val_loss: 0.0431 - val_accuracy: 0.9807\n",
      "Epoch 12/20\n",
      "180785/180785 [==============================] - 148s 818us/step - loss: 0.0456 - accuracy: 0.9811 - val_loss: 0.0461 - val_accuracy: 0.9822\n",
      "Epoch 13/20\n",
      "180785/180785 [==============================] - 147s 811us/step - loss: 0.0455 - accuracy: 0.9811 - val_loss: 0.0497 - val_accuracy: 0.9815\n",
      "Epoch 14/20\n",
      "180785/180785 [==============================] - 147s 816us/step - loss: 0.0455 - accuracy: 0.9810 - val_loss: 0.0470 - val_accuracy: 0.9795\n",
      "Epoch 15/20\n",
      "180785/180785 [==============================] - 148s 820us/step - loss: 0.0454 - accuracy: 0.9810 - val_loss: 0.0425 - val_accuracy: 0.9831\n",
      "Epoch 16/20\n",
      "180785/180785 [==============================] - 146s 809us/step - loss: 0.0454 - accuracy: 0.9810 - val_loss: 0.0429 - val_accuracy: 0.9802\n",
      "Epoch 17/20\n",
      "180785/180785 [==============================] - 153s 844us/step - loss: 0.0452 - accuracy: 0.9810 - val_loss: 0.0518 - val_accuracy: 0.9784\n",
      "Epoch 18/20\n",
      "180785/180785 [==============================] - 147s 813us/step - loss: 0.0451 - accuracy: 0.9810 - val_loss: 0.0439 - val_accuracy: 0.9834\n",
      "Epoch 19/20\n",
      "180785/180785 [==============================] - 148s 817us/step - loss: 0.0450 - accuracy: 0.9811 - val_loss: 0.0477 - val_accuracy: 0.9822\n",
      "Epoch 20/20\n",
      "180785/180785 [==============================] - 147s 811us/step - loss: 0.0449 - accuracy: 0.9811 - val_loss: 0.0573 - val_accuracy: 0.9756\n",
      "75327/75327 [==============================] - 37s 497us/step - loss: 0.0574 - accuracy: 0.9756\n",
      "overall Accuracy: 97.56\n",
      "[[ 32996   1967]\n",
      " [ 12757 554894]]\n",
      "accuracy: 0.975566\n",
      "f1 score: 0.817583\n",
      "precision score: 0.721177\n",
      "recall score: 0.943741\n",
      "ROC AUC: 0.960634\n",
      "ROC AUC: 0.960634\n",
      "No Skill: ROC AUC=0.961\n"
     ]
    },
    {
     "data": {
      "image/png": "[encoded data removed]",
      "text/plain": [
       "<Figure size 432x288 with 1 Axes>"
      ]
     },
     "metadata": {
      "needs_background": "light"
     },
     "output_type": "display_data"
    },
    {
     "name": "stdout",
     "output_type": "stream",
     "text": [
      "[0 0 0 ... 1 1 1]\n"
     ]
    },
    {
     "data": {
      "image/png": "[encoded data removed]",
      "text/plain": [
       "<Figure size 432x288 with 1 Axes>"
      ]
     },
     "metadata": {
      "needs_background": "light"
     },
     "output_type": "display_data"
    },
    {
     "name": "stdout",
     "output_type": "stream",
     "text": [
      "Cross Validation ROC - AUC = 0.8610870534356294\n",
      "Cross Validation Precision recall curve - AUC = 0.6643942651932013\n",
      "Cross Validation accuracy = 0.9782277710109623\n",
      "Cross Validation f1 = 0.7921304605422779\n",
      "Cross Validation precision = 0.9087907144715679\n",
      "Cross Validation recall = 0.728684797840613\n",
      "Cross Validation fpr = [0.         0.00651069 1.        ]\n",
      "Cross Validation tpr = [0.        0.7286848 1.       ]\n",
      "Cross Validation lr_precision = [0.05772269 0.90879071 1.        ]\n",
      "Cross Validation lr_recall = [1.        0.7286848 0.       ]\n"
     ]
    },
    {
     "data": {
      "text/plain": [
       "[<matplotlib.lines.Line2D at 0x7a1fee6ac0>]"
      ]
     },
     "execution_count": 17,
     "metadata": {},
     "output_type": "execute_result"
    },
    {
     "data": {
      "image/png": "[encoded data removed]",
      "text/plain": [
       "<Figure size 432x288 with 1 Axes>"
      ]
     },
     "metadata": {
      "needs_background": "light"
     },
     "output_type": "display_data"
    }
   ],
   "source": [
    "from sklearn.model_selection import KFold\n",
    "from sklearn.metrics import confusion_matrix\n",
    "from sklearn.metrics import f1_score\n",
    "from sklearn.metrics import precision_score\n",
    "from sklearn.metrics import average_precision_score\n",
    "from sklearn.metrics import recall_score\n",
    "from sklearn.metrics import roc_auc_score\n",
    "from sklearn.metrics import accuracy_score\n",
    "from numpy import arange\n",
    "from sklearn.metrics import roc_curve\n",
    "import matplotlib.pyplot as plt\n",
    "from matplotlib import pyplot \n",
    "from importlib import reload\n",
    "reload(plt)\n",
    "#from matplotlib import pyplot\n",
    "from sklearn.metrics import precision_recall_curve\n",
    "from sklearn.metrics import auc\n",
    "\n",
    "\n",
    "kf = KFold(n_splits=4,shuffle=True,random_state=None)\n",
    "\n",
    "scores = []\n",
    "aucs=0\n",
    "aucs1=0\n",
    "f1s=0\n",
    "recalls=0\n",
    "precisions=0\n",
    "accuracys=0\n",
    "lr_precisions=0\n",
    "lr_recalls=0\n",
    "fprs=0\n",
    "tprs=0\n",
    "\n",
    "for train_index, test_index in kf.split(X):\n",
    "    x_train, x_val = X[train_index], X[test_index]\n",
    "    y_train, y_val = y[train_index], y[test_index]\n",
    "    \n",
    "    model.fit(x_train, y_train, epochs=20, batch_size=10, validation_data=(x_val, y_val))\n",
    "    \n",
    "    # make probability predictions with the model\n",
    "    predictions = model.predict(x_val)\n",
    "    # round predictions \n",
    "    predictions = [round(x[0]) for x in predictions]\n",
    "    \n",
    "   \n",
    "    # make class predictions with the model\n",
    "   # predictions1 =  model.predict>0.5.astype('int32')\n",
    "    \n",
    "    # evaluate the keras model\n",
    "    _, accuracy = model.evaluate(X, y)\n",
    "    print('overall Accuracy: %.2f' % (accuracy*100))\n",
    "    \n",
    "    print(confusion_matrix(y_val,predictions,labels=[1,0]))\n",
    "    \n",
    "    #No need for threshold setting since getting same value   \n",
    "    accuracy=accuracy_score(y_val,predictions)\n",
    "    print('accuracy: %f' % accuracy)\n",
    "    \n",
    "    f1=f1_score(y_val,predictions)\n",
    "    print('f1 score: %f' % f1)    \n",
    "    \n",
    "    precision=precision_score(y_val,predictions)\n",
    "    print('precision score: %f' % precision)\n",
    "    \n",
    "    recall=recall_score(y_val,predictions)\n",
    "    print('recall score: %f' % recall)\n",
    "    \n",
    "    auc = roc_auc_score(y_val, predictions)\n",
    "    print('ROC AUC: %f' % auc)    \n",
    "    \n",
    "    ns_auc = roc_auc_score(y_val, predictions)\n",
    "    print('ROC AUC: %f' % auc)  \n",
    "    \n",
    "    # summarize scores\n",
    "    print('No Skill: ROC AUC=%.3f' % (ns_auc))\n",
    "    \n",
    "    #https://machinelearningmastery.com/roc-curves-and-precision-recall-curves-for-classification-in-python/#:~:text=with%20sample%20code).-,ROC%20Curves%20and%20AUC%20in%20Python,probabilities%20for%20the%201%20class.\n",
    "    # calculate roc curves\n",
    "    ns_fpr, ns_tpr, _ = roc_curve(y_val, predictions)\n",
    "    fpr, tpr, _ = roc_curve(y_val, predictions)\n",
    "    pyplot.plot(ns_fpr, ns_tpr, linestyle='--', label='No Skill')\n",
    "    pyplot.plot(fpr, tpr, marker='.', label='Bi-HGA')\n",
    "\n",
    "    # axis labels\n",
    "    pyplot.xlabel('False Positive Rate')\n",
    "    pyplot.ylabel('True Positive Rate')\n",
    "    # show the legend\n",
    "    pyplot.legend()\n",
    "    # show the plot\n",
    "    pyplot.show()\n",
    "\n",
    "    print(y_val)\n",
    "    #https://www.kaggle.com/vedbharti/classification-precision-recall-vs-roc-plot\n",
    "    auc1=average_precision_score(y_val, predictions)\n",
    "     \n",
    "    lr_precision, lr_recall, _ = precision_recall_curve(y_val, predictions)\n",
    "    #lr_f1, lr_auc = f1_score(y_val, predictions1), auc(lr_recall, lr_precision)\n",
    "    # summarize scores\n",
    "    #print('Logistic: f1=%.3f auc=%.3f' % (lr_f1, lr_auc))\n",
    "    # plot the precision-recall curves\n",
    "    #no_skill = len(testy[testy==1]) / len(testy)\n",
    "    #pyplot.plot([0, 1], [no_skill, no_skill], linestyle='--', label='No Skill')\n",
    "    pyplot.plot(lr_recall, lr_precision, marker='.', label='Bi-HGA')\n",
    "    # axis labels\n",
    "    pyplot.xlabel('Recall')\n",
    "    pyplot.ylabel('Precision')\n",
    "    # show the legend\n",
    "    pyplot.legend()\n",
    "    # show the plot\n",
    "    pyplot.show()\n",
    "    \n",
    "    aucs += auc\n",
    "    aucs1 += auc1\n",
    "    accuracys += accuracy\n",
    "    f1s += f1\n",
    "    precisions += precision\n",
    "    recalls += recall\n",
    "    ns_fpr+=ns_fpr\n",
    "    ns_tpr+=ns_tpr\n",
    "    fprs+=fpr\n",
    "    tprs+=tpr\n",
    "    lr_recalls+=lr_recall\n",
    "    lr_precisions+=lr_precision\n",
    "print(\"Cross Validation ROC - AUC = {}\".format(aucs/4))\n",
    "print(\"Cross Validation Precision recall curve - AUC = {}\".format(aucs1/4))\n",
    "print(\"Cross Validation accuracy = {}\".format(accuracys/4))\n",
    "print(\"Cross Validation f1 = {}\".format(f1s/4))\n",
    "print(\"Cross Validation precision = {}\".format(precisions/4))\n",
    "print(\"Cross Validation recall = {}\".format(recalls/4))\n",
    "print(\"Cross Validation fpr = {}\".format(fprs/4))\n",
    "print(\"Cross Validation tpr = {}\".format(tprs/4))\n",
    "print(\"Cross Validation lr_precision = {}\".format(lr_precisions/4))\n",
    "print(\"Cross Validation lr_recall = {}\".format(lr_recalls/4))\n",
    "\n",
    "ns_fpr, ns_tpr, _ = roc_curve(y_val, predictions)\n",
    "fpr, tpr, _ = roc_curve(y_val, predictions)\n",
    "pyplot.plot(ns_fpr, ns_tpr, linestyle='--', label='No Skill')\n",
    "pyplot.plot(fpr, tpr, marker='.', label='Bi-HGA')\n"
   ]
  },
  {
   "cell_type": "code",
   "execution_count": 18,
   "metadata": {},
   "outputs": [
    {
     "name": "stdout",
     "output_type": "stream",
     "text": [
      "3h 23m 20s\n"
     ]
    }
   ],
   "source": [
    "end = datetime.datetime.now()\n",
    "\n",
    "diff = (end - start)\n",
    "\n",
    "datetime.timedelta(seconds=10, microseconds=885206)\n",
    "\n",
    "diff_seconds = int(diff.total_seconds())\n",
    "\n",
    "minute_seconds, seconds = divmod(diff_seconds, 60)\n",
    "hours, minutes = divmod(minute_seconds, 60)\n",
    "hms = f\"{hours}h {minutes}m {seconds}s\"\n",
    "\n",
    "'0h 0m 10s'\n",
    "print(hms) "
   ]
  },
  {
   "cell_type": "raw",
   "metadata": {},
   "source": [
    "#Threshold setting for imbalanced classification with cross validation\n",
    "import numpy as np\n",
    "import tensorflow as tf\n",
    "from tensorflow import keras\n",
    "maxlen=8\n",
    "#x_train = keras.preprocessing.sequence.pad_sequences(x_train, maxlen=maxlen)\n",
    "#x_val = keras.preprocessing.sequence.pad_sequences(x_val, maxlen=maxlen)\n",
    "#x_test = keras.preprocessing.sequence.pad_sequences(x_test , maxlen=maxlen)\n",
    "x_train = keras.preprocessing.sequence.pad_sequences(X, maxlen=maxlen)\n",
    "#optimizer = keras.optimizers.Adam(lr=1e-3)\n",
    "optimizer = keras.optimizers.Adam()\n",
    "#https://www.kaggle.com/suicaokhoailang/10-fold-lstm-with-attention-0-991-lb\n",
    "from pylab import *\n",
    "from sklearn.model_selection import KFold\n",
    "from sklearn import metrics\n",
    "import sklearn.metrics as sk\n",
    "from sklearn.metrics import roc_curve,f1_score\n",
    "from sklearn.metrics import auc\n",
    "from sklearn.metrics import accuracy_score\n",
    "from sklearn.metrics import precision_score\n",
    "from sklearn.metrics import recall_score\n",
    "from sklearn.metrics import confusion_matrix \n",
    "kf = KFold(n_splits=20, shuffle=True, random_state=42069)\n",
    "preds = []\n",
    "fold = 0\n",
    "aucs = 0\n",
    "# apply threshold to positive probabilities to create labels\n",
    "def to_labels(pos_probs, threshold):\n",
    "    return (pos_probs >= threshold).astype('int')\n",
    " \n",
    "# predict probabilities\n",
    "#yhat = model.predict_proba(x_val)\n",
    "# keep probabilities for the positive outcome only\n",
    "#probs = yhat[:, 1]\n",
    "\n",
    "for train_idx, val_idx in kf.split(x_train):\n",
    "    x_train_f = x_train[train_idx]\n",
    "    #y_train_f = y_train[train_idx]\n",
    "    y_train_f = y[train_idx]\n",
    "    x_val_f = x_train[val_idx]\n",
    "    y_val_f = y[val_idx]\n",
    "    model.compile(optimizer, \"binary_crossentropy\", metrics=[\"accuracy\"])\n",
    "    #model = get_model()\n",
    "    model.fit(x_train_f, y_train_f, epochs=10, batch_size=10, validation_data=(x_val_f, y_val_f))\n",
    "   # model.fit(x_train_f, y_train_f,\n",
    "    #          batch_size=256,\n",
    "     #         epochs=10,\n",
    "      #        verbose = 1,\n",
    "       #       validation_data=(x_val_f, y_val_f))\n",
    "    # evaluate the keras model\n",
    "    _, accuracy = model.evaluate(X, y)\n",
    "    print('Accuracy: %.2f' % (accuracy*100))\n",
    "    \n",
    "    # predict probabilities for test set\n",
    "    yhat_probs = model.predict(x_val_f, verbose=0)\n",
    "    yhat_classes=np.argmax(yhat_probs,axis=1)\n",
    "    # predict crisp classes for test set\n",
    "    #yhat_classes = model.predict_classes(x_val, verbose=0)\n",
    "    # reduce to 1d array\n",
    "    yhat_probs = yhat_probs[:, 0]\n",
    "    #yhat_classes = yhat_classes[:, 0]\n",
    "\n",
    "    # make probability predictions with the model\n",
    "    predictions = model.predict(x_val_f)\n",
    "    # round predictions \n",
    "    rounded = [round(x[0]) for x in predictions]\n",
    "    \n",
    "    # make class predictions with the model\n",
    "    predictions = model.predict_classes(x_val_f)\n",
    "    \n",
    "    from sklearn.metrics import confusion_matrix\n",
    "    print(confusion_matrix(y_val_f,predictions,labels=[1,0]))\n",
    "    \n",
    "    # define thresholds\n",
    "    thresholds = arange(0, 1, 0.001)\n",
    "    # evaluate each threshold\n",
    "    scores = [f1_score(y_val_f, to_labels(yhat_probs, t)) for t in thresholds]\n",
    "    # get best threshold\n",
    "    ix = argmax(scores)\n",
    "    print('Threshold=%.3f, F-Score=%.5f' % (thresholds[ix], scores[ix]))\n",
    "\n",
    "    # evaluate each threshold\n",
    "    scores = [accuracy_score(y_val_f, to_labels(yhat_probs, t)) for t in thresholds]\n",
    "    # get best threshold\n",
    "    ix = argmax(scores)\n",
    "    print('Threshold=%.3f, Accuracy-Score=%.5f' % (thresholds[ix], scores[ix]))\n",
    "    \n",
    "    # evaluate each threshold\n",
    "    scores = [precision_score(y_val_f, to_labels(yhat_probs, t)) for t in thresholds]\n",
    "    # get best threshold\n",
    "    ix = argmax(scores)\n",
    "    print('Threshold=%.3f, Precision-Score=%.5f' % (thresholds[ix], scores[ix]))\n",
    "    \n",
    "    # evaluate each threshold\n",
    "    scores = [recall_score(y_val_f, to_labels(yhat_probs, t)) for t in thresholds]\n",
    "    # get best threshold\n",
    "    ix = argmax(scores)\n",
    "    print('Threshold=%.3f, recall-Score=%.5f' % (thresholds[ix], scores[ix]))\n",
    "    \n",
    "    from sklearn.metrics import roc_auc_score\n",
    "    # ROC AUC\n",
    "    auc = roc_auc_score(y_val_f, yhat_probs)\n",
    "    print('ROC AUC: %f' % auc)\n",
    "    \n",
    "print(\"Cross Validation AUC = {}\".format(aucs/10))\n",
    "#print(sk.confusion_matrix(y_val_f,preds_val))\n"
   ]
  },
  {
   "cell_type": "code",
   "execution_count": null,
   "metadata": {},
   "outputs": [],
   "source": [
    "#https://machinelearningmastery.com/threshold-moving-for-imbalanced-classification/#:~:text=Optimal%20Threshold%20for%20Precision%2DRecall%20Curve,-Unlike%20the%20ROC&text=Recall%20is%20calculated%20as%20the,positives%20and%20the%20false%20negatives.\n",
    "#Optimal Threshold Tuning\n",
    "# search thresholds for imbalanced classification\n",
    "from numpy import arange\n",
    "from numpy import argmax\n",
    "from sklearn.datasets import make_classification\n",
    "from sklearn.linear_model import LogisticRegression\n",
    "from sklearn.model_selection import train_test_split\n",
    "from sklearn.metrics import f1_score\n",
    "from sklearn.metrics import accuracy_score\n",
    "from sklearn.metrics import precision_score\n",
    "from sklearn.metrics import recall_score\n",
    "from sklearn.metrics import f1_score\n",
    "from sklearn.metrics import cohen_kappa_score\n",
    "from sklearn.metrics import roc_auc_score\n",
    "from sklearn.metrics import confusion_matrix \n",
    "# apply threshold to positive probabilities to create labels\n",
    "def to_labels(pos_probs, threshold):\n",
    "    return (pos_probs >= threshold).astype('int')\n",
    " \n",
    "# predict probabilities\n",
    "#yhat = model.predict_proba(x_val)\n",
    "# keep probabilities for the positive outcome only\n",
    "#probs = yhat[:, 1]\n",
    "# define thresholds\n",
    "thresholds = arange(0, 1, 0.001)\n",
    "# evaluate each threshold\n",
    "scores = [f1_score(y_val, to_labels(yhat_probs, t)) for t in thresholds]\n",
    "# get best threshold\n",
    "ix = argmax(scores)\n",
    "print('Threshold=%.3f, F-Score=%.5f' % (thresholds[ix], scores[ix]))"
   ]
  },
  {
   "cell_type": "code",
   "execution_count": null,
   "metadata": {},
   "outputs": [],
   "source": [
    "# evaluate each threshold\n",
    "scores = [accuracy_score(y_val, to_labels(yhat_probs, t)) for t in thresholds]\n",
    "# get best threshold\n",
    "ix = argmax(scores)\n",
    "print('Threshold=%.3f, Accuracy-Score=%.5f' % (thresholds[ix], scores[ix]))"
   ]
  },
  {
   "cell_type": "code",
   "execution_count": null,
   "metadata": {},
   "outputs": [],
   "source": [
    "# evaluate each threshold\n",
    "scores = [precision_score(y_val, to_labels(yhat_probs, t)) for t in thresholds]\n",
    "# get best threshold\n",
    "ix = argmax(scores)\n",
    "print('Threshold=%.3f, Precision-Score=%.5f' % (thresholds[ix], scores[ix]))"
   ]
  },
  {
   "cell_type": "code",
   "execution_count": null,
   "metadata": {},
   "outputs": [],
   "source": [
    "# evaluate each threshold\n",
    "scores = [recall_score(y_val, to_labels(yhat_probs, t)) for t in thresholds]\n",
    "# get best threshold\n",
    "ix = argmax(scores)\n",
    "print('Threshold=%.3f, recall-Score=%.5f' % (thresholds[ix], scores[ix]))"
   ]
  },
  {
   "cell_type": "code",
   "execution_count": null,
   "metadata": {},
   "outputs": [],
   "source": [
    "from sklearn.metrics import roc_auc_score\n",
    "# ROC AUC\n",
    "auc = roc_auc_score(y_val, yhat_probs)\n",
    "print('ROC AUC: %f' % auc)"
   ]
  },
  {
   "cell_type": "code",
   "execution_count": null,
   "metadata": {},
   "outputs": [],
   "source": [
    "\n",
    " "
   ]
  }
 ],
 "metadata": {
  "kernelspec": {
   "display_name": "Python 3",
   "language": "python",
   "name": "python3"
  },
  "language_info": {
   "codemirror_mode": {
    "name": "ipython",
    "version": 3
   },
   "file_extension": ".py",
   "mimetype": "text/x-python",
   "name": "python",
   "nbconvert_exporter": "python",
   "pygments_lexer": "ipython3",
   "version": "3.8.8"
  }
 },
 "nbformat": 4,
 "nbformat_minor": 4
}
