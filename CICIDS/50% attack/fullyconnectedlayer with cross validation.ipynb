{
 "cells": [
  {
   "cell_type": "code",
   "execution_count": 1,
   "metadata": {},
   "outputs": [],
   "source": [
    "#https://machinelearningmastery.com/tutorial-first-neural-network-python-keras/\n",
    "# first neural network with keras tutorial\n",
    "from numpy import loadtxt\n",
    "from keras.models import Sequential\n",
    "from keras.layers import Dense\n",
    "\n",
    "import numpy as np\n",
    "import pandas as pd\n",
    "\n",
    "from sklearn import preprocessing\n",
    "from sklearn.model_selection import train_test_split\n"
   ]
  },
  {
   "cell_type": "code",
   "execution_count": 2,
   "metadata": {},
   "outputs": [],
   "source": [
    "csv_1 = pd.read_csv(r\"C:\\Users\\data science\\CICIDS - 30 neurons\\with attention and dimensionality reduction\\attentionnormalresult.csv\") \n",
    "  \n",
    "# changing cols with rename() \n",
    "new_data = csv_1.rename(columns = {0: \"Feature1\",\n",
    "                                  1: \"Feature2\", \n",
    "                                  2: \"Feature3\", \n",
    "                                  3: \"Feature4\",\n",
    "                                  4: \"Feature5\",\n",
    "                                  5: \"Feature6\",\n",
    "                                  6: \"Feature7\",\n",
    "                                  7: \"Feature8\",\n",
    "                                  8: \"Feature9\",\n",
    "                                  9: \"Feature10\",\n",
    "                                  10: \"Feature11\",\n",
    "                                  11: \"Feature12\",\n",
    "                                  12: \"Feature13\",\n",
    "                                  13: \"Feature14\",\n",
    "                                  14: \"Feature15\",\n",
    "                                  15: \"Feature16\",\n",
    "                                  16: \"Feature17\",\n",
    "                                  17: \"Feature18\",\n",
    "                                  18: \"Feature19\", \n",
    "                                  19: \"Feature20\",\n",
    "                                  20: \"Feature21\",                                   \n",
    "                                  21: \"Feature22\",\n",
    "                                  22: \"Feature23\",\n",
    "                                  23: \"Feature24\",                                   \n",
    "                                  24: \"Feature25\",\n",
    "                                  25: \"Feature26\",  \n",
    "                                  26: \"Feature27\",\n",
    "                                  27: \"Feature28\",\n",
    "                                  28: \"Feature29\",\n",
    "                                  29: \"Feature30\",                                       \n",
    "                                  30: \"Label\"}) \n",
    "  \n",
    "# changing columns using .columns() \n",
    "csv_1.columns = ['Feature1', 'Feature2', 'Feature3', 'Feature4', \n",
    "                'Feature5', 'Feature6', 'Feature7', 'Feature8',\n",
    "                 'Feature9', 'Feature10', 'Feature11', 'Feature12',\n",
    "                 'Feature13', 'Feature14', 'Feature15', 'Feature16',\n",
    "                 'Feature17', 'Feature18', 'Feature19', 'Feature20','Feature21','Feature22','Feature23','Feature24','Feature25','Feature26','Feature27','Feature28','Feature29','Feature30',\"Label\"] \n",
    "\n",
    "\n",
    "csv_1.to_csv(\"attentionnormalresult.csv\", index=None)"
   ]
  },
  {
   "cell_type": "code",
   "execution_count": 3,
   "metadata": {},
   "outputs": [],
   "source": [
    "csv_2 = pd.read_csv(r\"C:\\Users\\data science\\CICIDS - 30 neurons\\50% attack\\attentionabnormalresult.csv\") \n",
    "  \n",
    "# changing cols with rename() \n",
    "new_data = csv_2.rename(columns = {0: \"Feature1\",\n",
    "                                  1: \"Feature2\", \n",
    "                                  2: \"Feature3\", \n",
    "                                  3: \"Feature4\",\n",
    "                                  4: \"Feature5\",\n",
    "                                  5: \"Feature6\",\n",
    "                                  6: \"Feature7\",\n",
    "                                  7: \"Feature8\",\n",
    "                                  8: \"Feature9\",\n",
    "                                  9: \"Feature10\",\n",
    "                                  10: \"Feature11\",\n",
    "                                  11: \"Feature12\",\n",
    "                                  12: \"Feature13\",\n",
    "                                  13: \"Feature14\",\n",
    "                                  14: \"Feature15\",\n",
    "                                  15: \"Feature16\",\n",
    "                                  16: \"Feature17\",\n",
    "                                  17: \"Feature18\",\n",
    "                                  18: \"Feature19\", \n",
    "                                  19: \"Feature20\",\n",
    "                                  20: \"Feature21\",                                   \n",
    "                                  21: \"Feature22\",\n",
    "                                  22: \"Feature23\",\n",
    "                                  23: \"Feature24\",                                   \n",
    "                                  24: \"Feature25\",\n",
    "                                  25: \"Feature26\",  \n",
    "                                  26: \"Feature27\",\n",
    "                                  27: \"Feature28\",\n",
    "                                  28: \"Feature29\",\n",
    "                                  29: \"Feature30\",                                         \n",
    "                                  30: \"Label\"}) \n",
    "  \n",
    "# changing columns using .columns() \n",
    "csv_2.columns = ['Feature1', 'Feature2', 'Feature3', 'Feature4', \n",
    "                'Feature5', 'Feature6', 'Feature7', 'Feature8',\n",
    "                 'Feature9', 'Feature10', 'Feature11', 'Feature12',\n",
    "                 'Feature13', 'Feature14', 'Feature15', 'Feature16',\n",
    "                 'Feature17', 'Feature18', 'Feature19', 'Feature20','Feature21','Feature22','Feature23','Feature24','Feature25','Feature26','Feature27','Feature28','Feature29','Feature30',\"Label\"] \n",
    "\n",
    "  \n",
    "\n",
    "csv_2.to_csv(\"attentionabnormalresult.csv\", index=None)"
   ]
  },
  {
   "cell_type": "code",
   "execution_count": 4,
   "metadata": {
    "scrolled": true
   },
   "outputs": [
    {
     "name": "stdout",
     "output_type": "stream",
     "text": [
      "        Feature1  Feature2  Feature3  Feature4  Feature5  Feature6  Feature7  \\\n",
      "0       0.031837  0.031837  0.031837  0.031837  0.036238  0.039322  0.031837   \n",
      "1       0.035108  0.032130  0.032130  0.032130  0.032130  0.032130  0.038547   \n",
      "2       0.031934  0.041154  0.031934  0.031934  0.039751  0.031934  0.036542   \n",
      "3       0.031406  0.032686  0.031092  0.033183  0.037234  0.036711  0.030824   \n",
      "4       0.031504  0.031599  0.031504  0.032908  0.037345  0.037925  0.031504   \n",
      "...          ...       ...       ...       ...       ...       ...       ...   \n",
      "278272  0.037091  0.038374  0.031634  0.031634  0.039445  0.031634  0.034333   \n",
      "278273  0.033168  0.035719  0.031302  0.033663  0.031302  0.031302  0.031302   \n",
      "278274  0.031824  0.034175  0.031824  0.031824  0.031824  0.031824  0.034199   \n",
      "278275  0.040111  0.036553  0.031417  0.031417  0.038181  0.031417  0.033243   \n",
      "278276  0.038973  0.036329  0.031564  0.031564  0.037975  0.031564  0.033261   \n",
      "\n",
      "        Feature8  Feature9  Feature10  ...  Feature22  Feature23  Feature24  \\\n",
      "0       0.031837  0.031837   0.031837  ...   0.031837   0.031837   0.031837   \n",
      "1       0.032130  0.034461   0.041035  ...   0.035751   0.032130   0.032130   \n",
      "2       0.031934  0.031934   0.031934  ...   0.034044   0.031934   0.031934   \n",
      "3       0.036762  0.030824   0.035404  ...   0.030824   0.030824   0.034596   \n",
      "4       0.033256  0.031504   0.033955  ...   0.031504   0.031626   0.031504   \n",
      "...          ...       ...        ...  ...        ...        ...        ...   \n",
      "278272  0.031634  0.031634   0.031634  ...   0.031634   0.032192   0.031634   \n",
      "278273  0.031302  0.031302   0.037287  ...   0.031302   0.034922   0.031302   \n",
      "278274  0.031824  0.031824   0.031824  ...   0.031824   0.035308   0.031824   \n",
      "278275  0.031417  0.031417   0.031417  ...   0.031417   0.032351   0.031417   \n",
      "278276  0.031564  0.031564   0.031564  ...   0.031564   0.031923   0.031564   \n",
      "\n",
      "        Feature25  Feature26  Feature27  Feature28  Feature29  Feature30  \\\n",
      "0        0.033745   0.031837   0.034767   0.031837   0.031837   0.031837   \n",
      "1        0.032625   0.032130   0.041235   0.032130   0.032130   0.032130   \n",
      "2        0.031934   0.031934   0.031934   0.038301   0.031934   0.031934   \n",
      "3        0.033337   0.030824   0.034041   0.035015   0.031132   0.030824   \n",
      "4        0.033828   0.031504   0.034638   0.031504   0.031504   0.031504   \n",
      "...           ...        ...        ...        ...        ...        ...   \n",
      "278272   0.031634   0.031634   0.031634   0.038920   0.031634   0.031634   \n",
      "278273   0.031302   0.031302   0.034463   0.037928   0.031302   0.033628   \n",
      "278274   0.031824   0.036116   0.031824   0.042136   0.031824   0.031824   \n",
      "278275   0.031417   0.031417   0.031417   0.040451   0.031417   0.031417   \n",
      "278276   0.031564   0.031564   0.031564   0.041027   0.031564   0.031564   \n",
      "\n",
      "        Label  \n",
      "0           0  \n",
      "1           0  \n",
      "2           0  \n",
      "3           0  \n",
      "4           0  \n",
      "...       ...  \n",
      "278272      1  \n",
      "278273      1  \n",
      "278274      1  \n",
      "278275      1  \n",
      "278276      1  \n",
      "\n",
      "[2549595 rows x 31 columns]\n"
     ]
    }
   ],
   "source": [
    "merged = csv_1.merge(csv_2,on=\"Label\")\n",
    "\n",
    "merged.to_csv(\"attention1.csv\", index=False)\n",
    "#result = pd.concat([csv_1, csv_2], axis=1)\n",
    "out = csv_1.append(csv_2)\n",
    "print(out)\n",
    "out.to_csv(\"attention1.csv\", index=False)"
   ]
  },
  {
   "cell_type": "code",
   "execution_count": 5,
   "metadata": {},
   "outputs": [],
   "source": [
    "df = pd.read_csv(\"attention1.csv\",sep=\",\", index_col=None)"
   ]
  },
  {
   "cell_type": "code",
   "execution_count": 6,
   "metadata": {},
   "outputs": [],
   "source": [
    "X=df.drop(['Label'], axis=1).values \n",
    "y=df['Label'].values"
   ]
  },
  {
   "cell_type": "code",
   "execution_count": 7,
   "metadata": {},
   "outputs": [
    {
     "name": "stdout",
     "output_type": "stream",
     "text": [
      "1784716 Training sequences (1784716, 30)\n",
      "764879 Validation sequences (764879, 30)\n",
      "1784716 Training sequences (1784716,)\n"
     ]
    }
   ],
   "source": [
    "from sklearn.model_selection import train_test_split\n",
    "\n",
    "x_train,x_val,y_train,y_val = train_test_split(X,y,train_size=0.70, random_state=2)\n",
    "print(len(x_train), \"Training sequences\",x_train.shape)\n",
    "print(len(x_val), \"Validation sequences\",x_val.shape)\n",
    "print(len(y_train), \"Training sequences\",y_train.shape)"
   ]
  },
  {
   "cell_type": "code",
   "execution_count": 8,
   "metadata": {},
   "outputs": [],
   "source": [
    "\n",
    "# define the keras model\n",
    "model = Sequential()\n",
    "model.add(Dense(12, input_dim=30, activation='relu'))\n",
    "model.add(Dense(8, activation='relu'))\n",
    "model.add(Dense(1, activation='sigmoid'))"
   ]
  },
  {
   "cell_type": "code",
   "execution_count": 9,
   "metadata": {},
   "outputs": [],
   "source": [
    "# compile the keras model\n",
    "model.compile(loss='binary_crossentropy', optimizer='adam', metrics=['accuracy'])"
   ]
  },
  {
   "cell_type": "code",
   "execution_count": 10,
   "metadata": {},
   "outputs": [
    {
     "name": "stdout",
     "output_type": "stream",
     "text": [
      "Model: \"sequential\"\n",
      "_________________________________________________________________\n",
      "Layer (type)                 Output Shape              Param #   \n",
      "=================================================================\n",
      "dense (Dense)                (None, 12)                372       \n",
      "_________________________________________________________________\n",
      "dense_1 (Dense)              (None, 8)                 104       \n",
      "_________________________________________________________________\n",
      "dense_2 (Dense)              (None, 1)                 9         \n",
      "=================================================================\n",
      "Total params: 485\n",
      "Trainable params: 485\n",
      "Non-trainable params: 0\n",
      "_________________________________________________________________\n"
     ]
    }
   ],
   "source": [
    "model.summary()"
   ]
  },
  {
   "cell_type": "code",
   "execution_count": 11,
   "metadata": {},
   "outputs": [],
   "source": [
    "import time, datetime\n",
    "\n",
    "start = datetime.datetime.now()\n",
    "time.sleep(10)"
   ]
  },
  {
   "cell_type": "code",
   "execution_count": 12,
   "metadata": {
    "scrolled": true
   },
   "outputs": [
    {
     "name": "stdout",
     "output_type": "stream",
     "text": [
      "Epoch 1/20\n",
      "191220/191220 [==============================] - 160s 834us/step - loss: 0.1510 - accuracy: 0.9403 - val_loss: 0.1177 - val_accuracy: 0.9536\n",
      "Epoch 2/20\n",
      "191220/191220 [==============================] - 162s 848us/step - loss: 0.1045 - accuracy: 0.9595 - val_loss: 0.0963 - val_accuracy: 0.9573\n",
      "Epoch 3/20\n",
      "191220/191220 [==============================] - 158s 825us/step - loss: 0.0983 - accuracy: 0.9621 - val_loss: 0.0892 - val_accuracy: 0.9702\n",
      "Epoch 4/20\n",
      "191220/191220 [==============================] - 158s 825us/step - loss: 0.0953 - accuracy: 0.9630 - val_loss: 0.0907 - val_accuracy: 0.9675\n",
      "Epoch 5/20\n",
      "191220/191220 [==============================] - 156s 814us/step - loss: 0.0917 - accuracy: 0.9640 - val_loss: 0.0849 - val_accuracy: 0.9681\n",
      "Epoch 6/20\n",
      "191220/191220 [==============================] - 155s 810us/step - loss: 0.0876 - accuracy: 0.9653 - val_loss: 0.0894 - val_accuracy: 0.9580\n",
      "Epoch 7/20\n",
      "191220/191220 [==============================] - 156s 817us/step - loss: 0.0823 - accuracy: 0.9671 - val_loss: 0.0743 - val_accuracy: 0.9754\n",
      "Epoch 8/20\n",
      "191220/191220 [==============================] - 152s 793us/step - loss: 0.0777 - accuracy: 0.9685 - val_loss: 0.0827 - val_accuracy: 0.9656\n",
      "Epoch 9/20\n",
      "191220/191220 [==============================] - 158s 826us/step - loss: 0.0748 - accuracy: 0.9694 - val_loss: 0.0710 - val_accuracy: 0.9746\n",
      "Epoch 10/20\n",
      "191220/191220 [==============================] - 161s 839us/step - loss: 0.0725 - accuracy: 0.9701 - val_loss: 0.0676 - val_accuracy: 0.9737\n",
      "Epoch 11/20\n",
      "191220/191220 [==============================] - 157s 819us/step - loss: 0.0707 - accuracy: 0.9708 - val_loss: 0.0636 - val_accuracy: 0.9754\n",
      "Epoch 12/20\n",
      "191220/191220 [==============================] - 155s 810us/step - loss: 0.0697 - accuracy: 0.9712 - val_loss: 0.0649 - val_accuracy: 0.9745\n",
      "Epoch 13/20\n",
      "191220/191220 [==============================] - 157s 819us/step - loss: 0.0686 - accuracy: 0.9716 - val_loss: 0.0631 - val_accuracy: 0.9756\n",
      "Epoch 14/20\n",
      "191220/191220 [==============================] - 154s 807us/step - loss: 0.0678 - accuracy: 0.9719 - val_loss: 0.0610 - val_accuracy: 0.9780\n",
      "Epoch 15/20\n",
      "191220/191220 [==============================] - 156s 818us/step - loss: 0.0670 - accuracy: 0.9720 - val_loss: 0.0613 - val_accuracy: 0.9763\n",
      "Epoch 16/20\n",
      "191220/191220 [==============================] - 160s 837us/step - loss: 0.0662 - accuracy: 0.9725 - val_loss: 0.0623 - val_accuracy: 0.9779\n",
      "Epoch 17/20\n",
      "191220/191220 [==============================] - 158s 826us/step - loss: 0.0656 - accuracy: 0.9726 - val_loss: 0.0632 - val_accuracy: 0.9753\n",
      "Epoch 18/20\n",
      "191220/191220 [==============================] - 155s 811us/step - loss: 0.0650 - accuracy: 0.9729 - val_loss: 0.0705 - val_accuracy: 0.9640\n",
      "Epoch 19/20\n",
      "191220/191220 [==============================] - 159s 834us/step - loss: 0.0644 - accuracy: 0.9731 - val_loss: 0.0577 - val_accuracy: 0.9778\n",
      "Epoch 20/20\n",
      "191220/191220 [==============================] - 155s 813us/step - loss: 0.0641 - accuracy: 0.9732 - val_loss: 0.0601 - val_accuracy: 0.9770\n",
      "79675/79675 [==============================] - 40s 505us/step - loss: 0.0595 - accuracy: 0.9770\n",
      "overall Accuracy: 97.70\n",
      "[[ 62937   6566]\n",
      " [  8115 559781]]\n",
      "accuracy: 0.976967\n",
      "f1 score: 0.895550\n",
      "precision score: 0.885788\n",
      "recall score: 0.905529\n",
      "ROC AUC: 0.945620\n",
      "ROC AUC: 0.945620\n",
      "No Skill: ROC AUC=0.946\n"
     ]
    },
    {
     "data": {
      "image/png": "[encoded data removed]",
      "text/plain": [
       "<Figure size 432x288 with 1 Axes>"
      ]
     },
     "metadata": {
      "needs_background": "light"
     },
     "output_type": "display_data"
    },
    {
     "name": "stdout",
     "output_type": "stream",
     "text": [
      "[0 0 0 ... 1 1 1]\n"
     ]
    },
    {
     "data": {
      "image/png": "[encoded data removed]",
      "text/plain": [
       "<Figure size 432x288 with 1 Axes>"
      ]
     },
     "metadata": {
      "needs_background": "light"
     },
     "output_type": "display_data"
    },
    {
     "name": "stdout",
     "output_type": "stream",
     "text": [
      "Epoch 1/20\n",
      "191220/191220 [==============================] - 156s 818us/step - loss: 0.0638 - accuracy: 0.9733 - val_loss: 0.0566 - val_accuracy: 0.9793\n",
      "Epoch 2/20\n",
      "191220/191220 [==============================] - 155s 810us/step - loss: 0.0632 - accuracy: 0.9735 - val_loss: 0.0603 - val_accuracy: 0.9755\n",
      "Epoch 3/20\n",
      "191220/191220 [==============================] - 161s 844us/step - loss: 0.0625 - accuracy: 0.9739 - val_loss: 0.0591 - val_accuracy: 0.9766\n",
      "Epoch 4/20\n",
      "191220/191220 [==============================] - 155s 811us/step - loss: 0.0618 - accuracy: 0.9742 - val_loss: 0.0771 - val_accuracy: 0.9611\n",
      "Epoch 5/20\n",
      "191220/191220 [==============================] - 152s 792us/step - loss: 0.0613 - accuracy: 0.9743 - val_loss: 0.0583 - val_accuracy: 0.9756\n",
      "Epoch 6/20\n",
      "191220/191220 [==============================] - 160s 835us/step - loss: 0.0609 - accuracy: 0.9743 - val_loss: 0.0645 - val_accuracy: 0.9651\n",
      "Epoch 7/20\n",
      "191220/191220 [==============================] - 153s 801us/step - loss: 0.0603 - accuracy: 0.9745 - val_loss: 0.0714 - val_accuracy: 0.9737\n",
      "Epoch 8/20\n",
      "191220/191220 [==============================] - 154s 806us/step - loss: 0.0596 - accuracy: 0.9748 - val_loss: 0.0702 - val_accuracy: 0.9741\n",
      "Epoch 9/20\n",
      "191220/191220 [==============================] - 154s 807us/step - loss: 0.0591 - accuracy: 0.9750 - val_loss: 0.0574 - val_accuracy: 0.9755\n",
      "Epoch 10/20\n",
      "191220/191220 [==============================] - 152s 796us/step - loss: 0.0588 - accuracy: 0.9750 - val_loss: 0.0581 - val_accuracy: 0.9757\n",
      "Epoch 11/20\n",
      "191220/191220 [==============================] - 150s 786us/step - loss: 0.0584 - accuracy: 0.9753 - val_loss: 0.0556 - val_accuracy: 0.9776\n",
      "Epoch 12/20\n",
      "191220/191220 [==============================] - 154s 803us/step - loss: 0.0579 - accuracy: 0.9755 - val_loss: 0.0637 - val_accuracy: 0.9664\n",
      "Epoch 13/20\n",
      "191220/191220 [==============================] - 162s 845us/step - loss: 0.0575 - accuracy: 0.9756 - val_loss: 0.0599 - val_accuracy: 0.9784\n",
      "Epoch 14/20\n",
      "191220/191220 [==============================] - 158s 824us/step - loss: 0.0571 - accuracy: 0.9757 - val_loss: 0.0565 - val_accuracy: 0.9759\n",
      "Epoch 15/20\n",
      "191220/191220 [==============================] - 158s 824us/step - loss: 0.0566 - accuracy: 0.9760 - val_loss: 0.0515 - val_accuracy: 0.9775\n",
      "Epoch 16/20\n",
      "191220/191220 [==============================] - 161s 844us/step - loss: 0.0563 - accuracy: 0.9760 - val_loss: 0.0566 - val_accuracy: 0.9760\n",
      "Epoch 17/20\n",
      "191220/191220 [==============================] - 158s 827us/step - loss: 0.0560 - accuracy: 0.9761 - val_loss: 0.0508 - val_accuracy: 0.9780\n",
      "Epoch 18/20\n",
      "191220/191220 [==============================] - 159s 831us/step - loss: 0.0556 - accuracy: 0.9763 - val_loss: 0.0547 - val_accuracy: 0.9794\n",
      "Epoch 19/20\n",
      "191220/191220 [==============================] - 161s 840us/step - loss: 0.0552 - accuracy: 0.9765 - val_loss: 0.0505 - val_accuracy: 0.9783\n",
      "Epoch 20/20\n",
      "191220/191220 [==============================] - 152s 792us/step - loss: 0.0550 - accuracy: 0.9765 - val_loss: 0.0659 - val_accuracy: 0.9649\n",
      "79675/79675 [==============================] - 40s 506us/step - loss: 0.0659 - accuracy: 0.9651\n",
      "overall Accuracy: 96.51\n",
      "[[ 56953  13149]\n",
      " [  9221 558076]]\n",
      "accuracy: 0.964904\n",
      "f1 score: 0.835848\n",
      "precision score: 0.860655\n",
      "recall score: 0.812430\n",
      "ROC AUC: 0.898088\n",
      "ROC AUC: 0.898088\n",
      "No Skill: ROC AUC=0.898\n"
     ]
    },
    {
     "data": {
      "image/png": "[encoded data removed]",
      "text/plain": [
       "<Figure size 432x288 with 1 Axes>"
      ]
     },
     "metadata": {
      "needs_background": "light"
     },
     "output_type": "display_data"
    },
    {
     "name": "stdout",
     "output_type": "stream",
     "text": [
      "[0 0 0 ... 1 1 1]\n"
     ]
    },
    {
     "data": {
      "image/png": "[encoded data removed]",
      "text/plain": [
       "<Figure size 432x288 with 1 Axes>"
      ]
     },
     "metadata": {
      "needs_background": "light"
     },
     "output_type": "display_data"
    },
    {
     "name": "stdout",
     "output_type": "stream",
     "text": [
      "Epoch 1/20\n",
      "191220/191220 [==============================] - 158s 823us/step - loss: 0.0547 - accuracy: 0.9767 - val_loss: 0.0681 - val_accuracy: 0.9644\n",
      "Epoch 2/20\n",
      "191220/191220 [==============================] - 158s 827us/step - loss: 0.0544 - accuracy: 0.9767 - val_loss: 0.0521 - val_accuracy: 0.9793\n",
      "Epoch 3/20\n",
      "191220/191220 [==============================] - 156s 818us/step - loss: 0.0542 - accuracy: 0.9768 - val_loss: 0.0503 - val_accuracy: 0.9766\n",
      "Epoch 4/20\n",
      "191220/191220 [==============================] - 156s 818us/step - loss: 0.0540 - accuracy: 0.9769 - val_loss: 0.0550 - val_accuracy: 0.9686\n",
      "Epoch 5/20\n",
      "191220/191220 [==============================] - 156s 814us/step - loss: 0.0537 - accuracy: 0.9770 - val_loss: 0.0522 - val_accuracy: 0.9788\n",
      "Epoch 6/20\n",
      "191220/191220 [==============================] - 160s 837us/step - loss: 0.0536 - accuracy: 0.9771 - val_loss: 0.0615 - val_accuracy: 0.9750\n",
      "Epoch 7/20\n",
      "191220/191220 [==============================] - 163s 854us/step - loss: 0.0534 - accuracy: 0.9772 - val_loss: 0.0543 - val_accuracy: 0.9793\n",
      "Epoch 8/20\n",
      "191220/191220 [==============================] - 153s 799us/step - loss: 0.0532 - accuracy: 0.9772 - val_loss: 0.0580 - val_accuracy: 0.9763\n",
      "Epoch 9/20\n",
      "191220/191220 [==============================] - 155s 812us/step - loss: 0.0530 - accuracy: 0.9773 - val_loss: 0.0602 - val_accuracy: 0.9742\n",
      "Epoch 10/20\n",
      "191220/191220 [==============================] - 160s 836us/step - loss: 0.0527 - accuracy: 0.9775 - val_loss: 0.0518 - val_accuracy: 0.9773\n",
      "Epoch 11/20\n",
      "191220/191220 [==============================] - 160s 836us/step - loss: 0.0527 - accuracy: 0.9774 - val_loss: 0.0485 - val_accuracy: 0.9802\n",
      "Epoch 12/20\n",
      "191220/191220 [==============================] - 157s 820us/step - loss: 0.0526 - accuracy: 0.9774 - val_loss: 0.0477 - val_accuracy: 0.9798\n",
      "Epoch 13/20\n",
      "191220/191220 [==============================] - 157s 822us/step - loss: 0.0524 - accuracy: 0.9774 - val_loss: 0.0630 - val_accuracy: 0.9680\n",
      "Epoch 14/20\n",
      "191220/191220 [==============================] - 153s 800us/step - loss: 0.0522 - accuracy: 0.9776 - val_loss: 0.0487 - val_accuracy: 0.9801\n",
      "Epoch 15/20\n",
      "191220/191220 [==============================] - 158s 829us/step - loss: 0.0522 - accuracy: 0.9776 - val_loss: 0.0496 - val_accuracy: 0.9779\n",
      "Epoch 16/20\n",
      "191220/191220 [==============================] - 164s 856us/step - loss: 0.0519 - accuracy: 0.9778 - val_loss: 0.0500 - val_accuracy: 0.9801\n",
      "Epoch 17/20\n",
      "191220/191220 [==============================] - 156s 814us/step - loss: 0.0518 - accuracy: 0.9778 - val_loss: 0.0498 - val_accuracy: 0.9798\n",
      "Epoch 18/20\n",
      "191220/191220 [==============================] - 154s 804us/step - loss: 0.0517 - accuracy: 0.9778 - val_loss: 0.0544 - val_accuracy: 0.9758\n",
      "Epoch 19/20\n",
      "191220/191220 [==============================] - 156s 815us/step - loss: 0.0515 - accuracy: 0.9778 - val_loss: 0.0475 - val_accuracy: 0.9805\n",
      "Epoch 20/20\n",
      "191220/191220 [==============================] - 160s 838us/step - loss: 0.0514 - accuracy: 0.9779 - val_loss: 0.0473 - val_accuracy: 0.9787\n",
      "79675/79675 [==============================] - 41s 509us/step - loss: 0.0474 - accuracy: 0.9789\n",
      "overall Accuracy: 97.89\n",
      "[[ 61190   8246]\n",
      " [  5303 562660]]\n",
      "accuracy: 0.978743\n",
      "f1 score: 0.900323\n",
      "precision score: 0.920247\n",
      "recall score: 0.881243\n",
      "ROC AUC: 0.935953\n",
      "ROC AUC: 0.935953\n",
      "No Skill: ROC AUC=0.936\n"
     ]
    },
    {
     "data": {
      "image/png": "[encoded data removed]",
      "text/plain": [
       "<Figure size 432x288 with 1 Axes>"
      ]
     },
     "metadata": {
      "needs_background": "light"
     },
     "output_type": "display_data"
    },
    {
     "name": "stdout",
     "output_type": "stream",
     "text": [
      "[0 0 0 ... 1 1 1]\n"
     ]
    },
    {
     "data": {
      "image/png": "[encoded data removed]",
      "text/plain": [
       "<Figure size 432x288 with 1 Axes>"
      ]
     },
     "metadata": {
      "needs_background": "light"
     },
     "output_type": "display_data"
    },
    {
     "name": "stdout",
     "output_type": "stream",
     "text": [
      "Epoch 1/20\n",
      "191220/191220 [==============================] - 156s 816us/step - loss: 0.0514 - accuracy: 0.9780 - val_loss: 0.0937 - val_accuracy: 0.9656\n",
      "Epoch 2/20\n",
      "191220/191220 [==============================] - 157s 823us/step - loss: 0.0513 - accuracy: 0.9779 - val_loss: 0.0469 - val_accuracy: 0.9807\n",
      "Epoch 3/20\n",
      "191220/191220 [==============================] - 158s 828us/step - loss: 0.0512 - accuracy: 0.9779 - val_loss: 0.0578 - val_accuracy: 0.9736\n",
      "Epoch 4/20\n",
      "191220/191220 [==============================] - 158s 826us/step - loss: 0.0511 - accuracy: 0.9779 - val_loss: 0.0534 - val_accuracy: 0.9794\n",
      "Epoch 5/20\n",
      "191220/191220 [==============================] - 156s 815us/step - loss: 0.0510 - accuracy: 0.9780 - val_loss: 0.0646 - val_accuracy: 0.9722\n",
      "Epoch 6/20\n",
      "191220/191220 [==============================] - 161s 843us/step - loss: 0.0508 - accuracy: 0.9781 - val_loss: 0.0575 - val_accuracy: 0.9772\n",
      "Epoch 7/20\n",
      "191220/191220 [==============================] - 157s 822us/step - loss: 0.0508 - accuracy: 0.9781 - val_loss: 0.0482 - val_accuracy: 0.9801\n",
      "Epoch 8/20\n",
      "191220/191220 [==============================] - 158s 824us/step - loss: 0.0507 - accuracy: 0.9782 - val_loss: 0.0459 - val_accuracy: 0.9816\n",
      "Epoch 9/20\n",
      "191220/191220 [==============================] - 154s 807us/step - loss: 0.0507 - accuracy: 0.9782 - val_loss: 0.0524 - val_accuracy: 0.9784\n",
      "Epoch 10/20\n",
      "191220/191220 [==============================] - 160s 836us/step - loss: 0.0504 - accuracy: 0.9783 - val_loss: 0.0565 - val_accuracy: 0.9758\n",
      "Epoch 11/20\n",
      "191220/191220 [==============================] - 162s 847us/step - loss: 0.0504 - accuracy: 0.9782 - val_loss: 0.0493 - val_accuracy: 0.9798\n",
      "Epoch 12/20\n",
      "191220/191220 [==============================] - 161s 840us/step - loss: 0.0504 - accuracy: 0.9783 - val_loss: 0.0469 - val_accuracy: 0.9816\n",
      "Epoch 13/20\n",
      "191220/191220 [==============================] - 158s 824us/step - loss: 0.0504 - accuracy: 0.9783 - val_loss: 0.0451 - val_accuracy: 0.9812\n",
      "Epoch 14/20\n",
      "191220/191220 [==============================] - 161s 842us/step - loss: 0.0502 - accuracy: 0.9782 - val_loss: 0.0470 - val_accuracy: 0.9811\n",
      "Epoch 15/20\n",
      "191220/191220 [==============================] - 161s 841us/step - loss: 0.0501 - accuracy: 0.9784 - val_loss: 0.0499 - val_accuracy: 0.9807\n",
      "Epoch 16/20\n",
      "191220/191220 [==============================] - 158s 825us/step - loss: 0.0500 - accuracy: 0.9784 - val_loss: 0.0538 - val_accuracy: 0.9708\n",
      "Epoch 17/20\n",
      "191220/191220 [==============================] - 161s 840us/step - loss: 0.0500 - accuracy: 0.9784 - val_loss: 0.0472 - val_accuracy: 0.9815\n",
      "Epoch 18/20\n",
      "191220/191220 [==============================] - 163s 854us/step - loss: 0.0499 - accuracy: 0.9785 - val_loss: 0.0480 - val_accuracy: 0.9788\n",
      "Epoch 19/20\n",
      "191220/191220 [==============================] - 156s 815us/step - loss: 0.0498 - accuracy: 0.9785 - val_loss: 0.0463 - val_accuracy: 0.9795\n",
      "Epoch 20/20\n",
      "191220/191220 [==============================] - 162s 850us/step - loss: 0.0497 - accuracy: 0.9786 - val_loss: 0.0476 - val_accuracy: 0.9808\n",
      "79675/79675 [==============================] - 42s 529us/step - loss: 0.0478 - accuracy: 0.9808\n",
      "overall Accuracy: 98.08\n",
      "[[ 66010   3226]\n",
      " [  9000 559162]]\n",
      "accuracy: 0.980819\n",
      "f1 score: 0.915242\n",
      "precision score: 0.880016\n",
      "recall score: 0.953406\n",
      "ROC AUC: 0.968783\n",
      "ROC AUC: 0.968783\n",
      "No Skill: ROC AUC=0.969\n"
     ]
    },
    {
     "data": {
      "image/png": "[encoded data removed]",
      "text/plain": [
       "<Figure size 432x288 with 1 Axes>"
      ]
     },
     "metadata": {
      "needs_background": "light"
     },
     "output_type": "display_data"
    },
    {
     "name": "stdout",
     "output_type": "stream",
     "text": [
      "[0 0 0 ... 1 1 1]\n"
     ]
    },
    {
     "data": {
      "image/png": "[encoded data removed]",
      "text/plain": [
       "<Figure size 432x288 with 1 Axes>"
      ]
     },
     "metadata": {
      "needs_background": "light"
     },
     "output_type": "display_data"
    },
    {
     "name": "stdout",
     "output_type": "stream",
     "text": [
      "Cross Validation ROC - AUC = 0.9371109161282616\n",
      "Cross Validation Precision recall curve - AUC = 0.8000579518641494\n",
      "Cross Validation accuracy = 0.9753584414232261\n",
      "Cross Validation f1 = 0.8867406507063237\n",
      "Cross Validation precision = 0.8866765894619746\n",
      "Cross Validation recall = 0.8881521545125127\n",
      "Cross Validation fpr = [0.         0.01393032 1.        ]\n",
      "Cross Validation tpr = [0.         0.88815215 1.        ]\n",
      "Cross Validation lr_precision = [0.10914557 0.88667659 1.        ]\n",
      "Cross Validation lr_recall = [1.         0.88815215 0.        ]\n"
     ]
    },
    {
     "data": {
      "text/plain": [
       "[<matplotlib.lines.Line2D at 0x3f11c6f460>]"
      ]
     },
     "execution_count": 12,
     "metadata": {},
     "output_type": "execute_result"
    },
    {
     "data": {
      "image/png": "[encoded data removed]",
      "text/plain": [
       "<Figure size 432x288 with 1 Axes>"
      ]
     },
     "metadata": {
      "needs_background": "light"
     },
     "output_type": "display_data"
    }
   ],
   "source": [
    "from sklearn.model_selection import KFold\n",
    "from sklearn.metrics import confusion_matrix\n",
    "from sklearn.metrics import f1_score\n",
    "from sklearn.metrics import precision_score\n",
    "from sklearn.metrics import average_precision_score\n",
    "from sklearn.metrics import recall_score\n",
    "from sklearn.metrics import roc_auc_score\n",
    "from sklearn.metrics import accuracy_score\n",
    "from numpy import arange\n",
    "from sklearn.metrics import roc_curve\n",
    "import matplotlib.pyplot as plt\n",
    "from matplotlib import pyplot \n",
    "from importlib import reload\n",
    "reload(plt)\n",
    "#from matplotlib import pyplot\n",
    "from sklearn.metrics import precision_recall_curve\n",
    "from sklearn.metrics import auc\n",
    "\n",
    "\n",
    "kf = KFold(n_splits=4,shuffle=True,random_state=None)\n",
    "\n",
    "scores = []\n",
    "aucs=0\n",
    "aucs1=0\n",
    "f1s=0\n",
    "recalls=0\n",
    "precisions=0\n",
    "accuracys=0\n",
    "lr_precisions=0\n",
    "lr_recalls=0\n",
    "fprs=0\n",
    "tprs=0\n",
    "\n",
    "for train_index, test_index in kf.split(X):\n",
    "    x_train, x_val = X[train_index], X[test_index]\n",
    "    y_train, y_val = y[train_index], y[test_index]\n",
    "    \n",
    "    model.fit(x_train, y_train, epochs=20, batch_size=10, validation_data=(x_val, y_val))\n",
    "    \n",
    "    # make probability predictions with the model\n",
    "    predictions = model.predict(x_val)\n",
    "    # round predictions \n",
    "    predictions = [round(x[0]) for x in predictions]\n",
    "    \n",
    "   \n",
    "    # make class predictions with the model\n",
    "   # predictions1 =  model.predict>0.5.astype('int32')\n",
    "    \n",
    "    # evaluate the keras model\n",
    "    _, accuracy = model.evaluate(X, y)\n",
    "    print('overall Accuracy: %.2f' % (accuracy*100))\n",
    "    \n",
    "    print(confusion_matrix(y_val,predictions,labels=[1,0]))\n",
    "    \n",
    "    #No need for threshold setting since getting same value   \n",
    "    accuracy=accuracy_score(y_val,predictions)\n",
    "    print('accuracy: %f' % accuracy)\n",
    "    \n",
    "    f1=f1_score(y_val,predictions)\n",
    "    print('f1 score: %f' % f1)    \n",
    "    \n",
    "    precision=precision_score(y_val,predictions)\n",
    "    print('precision score: %f' % precision)\n",
    "    \n",
    "    recall=recall_score(y_val,predictions)\n",
    "    print('recall score: %f' % recall)\n",
    "    \n",
    "    auc = roc_auc_score(y_val, predictions)\n",
    "    print('ROC AUC: %f' % auc)    \n",
    "    \n",
    "    ns_auc = roc_auc_score(y_val, predictions)\n",
    "    print('ROC AUC: %f' % auc)  \n",
    "    \n",
    "    # summarize scores\n",
    "    print('No Skill: ROC AUC=%.3f' % (ns_auc))\n",
    "    \n",
    "    #https://machinelearningmastery.com/roc-curves-and-precision-recall-curves-for-classification-in-python/#:~:text=with%20sample%20code).-,ROC%20Curves%20and%20AUC%20in%20Python,probabilities%20for%20the%201%20class.\n",
    "    # calculate roc curves\n",
    "    ns_fpr, ns_tpr, _ = roc_curve(y_val, predictions)\n",
    "    fpr, tpr, _ = roc_curve(y_val, predictions)\n",
    "    pyplot.plot(ns_fpr, ns_tpr, linestyle='--', label='No Skill')\n",
    "    pyplot.plot(fpr, tpr, marker='.', label='Bi-HGA')\n",
    "\n",
    "    # axis labels\n",
    "    pyplot.xlabel('False Positive Rate')\n",
    "    pyplot.ylabel('True Positive Rate')\n",
    "    # show the legend\n",
    "    pyplot.legend()\n",
    "    # show the plot\n",
    "    pyplot.show()\n",
    "\n",
    "    print(y_val)\n",
    "    #https://www.kaggle.com/vedbharti/classification-precision-recall-vs-roc-plot\n",
    "    auc1=average_precision_score(y_val, predictions)\n",
    "     \n",
    "    lr_precision, lr_recall, _ = precision_recall_curve(y_val, predictions)\n",
    "    #lr_f1, lr_auc = f1_score(y_val, predictions1), auc(lr_recall, lr_precision)\n",
    "    # summarize scores\n",
    "    #print('Logistic: f1=%.3f auc=%.3f' % (lr_f1, lr_auc))\n",
    "    # plot the precision-recall curves\n",
    "    #no_skill = len(testy[testy==1]) / len(testy)\n",
    "    #pyplot.plot([0, 1], [no_skill, no_skill], linestyle='--', label='No Skill')\n",
    "    pyplot.plot(lr_recall, lr_precision, marker='.', label='Bi-HGA')\n",
    "    # axis labels\n",
    "    pyplot.xlabel('Recall')\n",
    "    pyplot.ylabel('Precision')\n",
    "    # show the legend\n",
    "    pyplot.legend()\n",
    "    # show the plot\n",
    "    pyplot.show()\n",
    "    \n",
    "    aucs += auc\n",
    "    aucs1 += auc1\n",
    "    accuracys += accuracy\n",
    "    f1s += f1\n",
    "    precisions += precision\n",
    "    recalls += recall\n",
    "    ns_fpr+=ns_fpr\n",
    "    ns_tpr+=ns_tpr\n",
    "    fprs+=fpr\n",
    "    tprs+=tpr\n",
    "    lr_recalls+=lr_recall\n",
    "    lr_precisions+=lr_precision\n",
    "print(\"Cross Validation ROC - AUC = {}\".format(aucs/4))\n",
    "print(\"Cross Validation Precision recall curve - AUC = {}\".format(aucs1/4))\n",
    "print(\"Cross Validation accuracy = {}\".format(accuracys/4))\n",
    "print(\"Cross Validation f1 = {}\".format(f1s/4))\n",
    "print(\"Cross Validation precision = {}\".format(precisions/4))\n",
    "print(\"Cross Validation recall = {}\".format(recalls/4))\n",
    "print(\"Cross Validation fpr = {}\".format(fprs/4))\n",
    "print(\"Cross Validation tpr = {}\".format(tprs/4))\n",
    "print(\"Cross Validation lr_precision = {}\".format(lr_precisions/4))\n",
    "print(\"Cross Validation lr_recall = {}\".format(lr_recalls/4))\n",
    "\n",
    "ns_fpr, ns_tpr, _ = roc_curve(y_val, predictions)\n",
    "fpr, tpr, _ = roc_curve(y_val, predictions)\n",
    "pyplot.plot(ns_fpr, ns_tpr, linestyle='--', label='No Skill')\n",
    "pyplot.plot(fpr, tpr, marker='.', label='Bi-HGA')\n"
   ]
  },
  {
   "cell_type": "code",
   "execution_count": 13,
   "metadata": {},
   "outputs": [
    {
     "name": "stdout",
     "output_type": "stream",
     "text": [
      "3h 33m 30s\n"
     ]
    }
   ],
   "source": [
    "end = datetime.datetime.now()\n",
    "\n",
    "diff = (end - start)\n",
    "\n",
    "datetime.timedelta(seconds=10, microseconds=885206)\n",
    "\n",
    "diff_seconds = int(diff.total_seconds())\n",
    "\n",
    "minute_seconds, seconds = divmod(diff_seconds, 60)\n",
    "hours, minutes = divmod(minute_seconds, 60)\n",
    "hms = f\"{hours}h {minutes}m {seconds}s\"\n",
    "\n",
    "'0h 0m 10s'\n",
    "print(hms) "
   ]
  },
  {
   "cell_type": "raw",
   "metadata": {},
   "source": [
    "\n",
    "#Threshold setting for imbalanced classification with cross validation\n",
    "import numpy as np\n",
    "import tensorflow as tf\n",
    "from tensorflow import keras\n",
    "maxlen=8\n",
    "#x_train = keras.preprocessing.sequence.pad_sequences(x_train, maxlen=maxlen)\n",
    "#x_val = keras.preprocessing.sequence.pad_sequences(x_val, maxlen=maxlen)\n",
    "#x_test = keras.preprocessing.sequence.pad_sequences(x_test , maxlen=maxlen)\n",
    "x_train = keras.preprocessing.sequence.pad_sequences(X, maxlen=maxlen)\n",
    "#optimizer = keras.optimizers.Adam(lr=1e-3)\n",
    "optimizer = keras.optimizers.Adam()\n",
    "#https://www.kaggle.com/suicaokhoailang/10-fold-lstm-with-attention-0-991-lb\n",
    "from pylab import *\n",
    "from sklearn.model_selection import KFold\n",
    "from sklearn import metrics\n",
    "import sklearn.metrics as sk\n",
    "from sklearn.metrics import roc_curve,f1_score\n",
    "from sklearn.metrics import auc\n",
    "from sklearn.metrics import accuracy_score\n",
    "from sklearn.metrics import precision_score\n",
    "from sklearn.metrics import recall_score\n",
    "from sklearn.metrics import confusion_matrix \n",
    "kf = KFold(n_splits=20, shuffle=True, random_state=42069)\n",
    "preds = []\n",
    "fold = 0\n",
    "aucs = 0\n",
    "# apply threshold to positive probabilities to create labels\n",
    "def to_labels(pos_probs, threshold):\n",
    "    return (pos_probs >= threshold).astype('int')\n",
    " \n",
    "# predict probabilities\n",
    "#yhat = model.predict_proba(x_val)\n",
    "# keep probabilities for the positive outcome only\n",
    "#probs = yhat[:, 1]\n",
    "\n",
    "for train_idx, val_idx in kf.split(x_train):\n",
    "    x_train_f = x_train[train_idx]\n",
    "    #y_train_f = y_train[train_idx]\n",
    "    y_train_f = y[train_idx]\n",
    "    x_val_f = x_train[val_idx]\n",
    "    y_val_f = y[val_idx]\n",
    "    model.compile(optimizer, \"binary_crossentropy\", metrics=[\"accuracy\"])\n",
    "    #model = get_model()\n",
    "    model.fit(x_train_f, y_train_f, epochs=10, batch_size=10, validation_data=(x_val_f, y_val_f))\n",
    "   # model.fit(x_train_f, y_train_f,\n",
    "    #          batch_size=256,\n",
    "     #         epochs=10,\n",
    "      #        verbose = 1,\n",
    "       #       validation_data=(x_val_f, y_val_f))\n",
    "    # evaluate the keras model\n",
    "    _, accuracy = model.evaluate(X, y)\n",
    "    print('Accuracy: %.2f' % (accuracy*100))\n",
    "    \n",
    "    # predict probabilities for test set\n",
    "    yhat_probs = model.predict(x_val_f, verbose=0)\n",
    "    yhat_classes=np.argmax(yhat_probs,axis=1)\n",
    "    # predict crisp classes for test set\n",
    "    #yhat_classes = model.predict_classes(x_val, verbose=0)\n",
    "    # reduce to 1d array\n",
    "    yhat_probs = yhat_probs[:, 0]\n",
    "    #yhat_classes = yhat_classes[:, 0]\n",
    "\n",
    "    # make probability predictions with the model\n",
    "    predictions = model.predict(x_val_f)\n",
    "    # round predictions \n",
    "    rounded = [round(x[0]) for x in predictions]\n",
    "    \n",
    "    # make class predictions with the model\n",
    "    predictions = model.predict_classes(x_val_f)\n",
    "    \n",
    "    from sklearn.metrics import confusion_matrix\n",
    "    print(confusion_matrix(y_val_f,predictions,labels=[1,0]))\n",
    "    \n",
    "    # define thresholds\n",
    "    thresholds = arange(0, 1, 0.001)\n",
    "    # evaluate each threshold\n",
    "    scores = [f1_score(y_val_f, to_labels(yhat_probs, t)) for t in thresholds]\n",
    "    # get best threshold\n",
    "    ix = argmax(scores)\n",
    "    print('Threshold=%.3f, F-Score=%.5f' % (thresholds[ix], scores[ix]))\n",
    "\n",
    "    # evaluate each threshold\n",
    "    scores = [accuracy_score(y_val_f, to_labels(yhat_probs, t)) for t in thresholds]\n",
    "    # get best threshold\n",
    "    ix = argmax(scores)\n",
    "    print('Threshold=%.3f, Accuracy-Score=%.5f' % (thresholds[ix], scores[ix]))\n",
    "    \n",
    "    # evaluate each threshold\n",
    "    scores = [precision_score(y_val_f, to_labels(yhat_probs, t)) for t in thresholds]\n",
    "    # get best threshold\n",
    "    ix = argmax(scores)\n",
    "    print('Threshold=%.3f, Precision-Score=%.5f' % (thresholds[ix], scores[ix]))\n",
    "    \n",
    "    # evaluate each threshold\n",
    "    scores = [recall_score(y_val_f, to_labels(yhat_probs, t)) for t in thresholds]\n",
    "    # get best threshold\n",
    "    ix = argmax(scores)\n",
    "    print('Threshold=%.3f, recall-Score=%.5f' % (thresholds[ix], scores[ix]))\n",
    "    \n",
    "    from sklearn.metrics import roc_auc_score\n",
    "    # ROC AUC\n",
    "    auc = roc_auc_score(y_val_f, yhat_probs)\n",
    "    print('ROC AUC: %f' % auc)\n",
    "    \n",
    "print(\"Cross Validation AUC = {}\".format(aucs/10))\n",
    "#print(sk.confusion_matrix(y_val_f,preds_val))\n"
   ]
  },
  {
   "cell_type": "code",
   "execution_count": 14,
   "metadata": {},
   "outputs": [
    {
     "ename": "NameError",
     "evalue": "name 'yhat_probs' is not defined",
     "output_type": "error",
     "traceback": [
      "\u001b[1;31m---------------------------------------------------------------------------\u001b[0m",
      "\u001b[1;31mNameError\u001b[0m                                 Traceback (most recent call last)",
      "\u001b[1;32m<ipython-input-14-f1e500160e2d>\u001b[0m in \u001b[0;36m<module>\u001b[1;34m\u001b[0m\n\u001b[0;32m     26\u001b[0m \u001b[0mthresholds\u001b[0m \u001b[1;33m=\u001b[0m \u001b[0marange\u001b[0m\u001b[1;33m(\u001b[0m\u001b[1;36m0\u001b[0m\u001b[1;33m,\u001b[0m \u001b[1;36m1\u001b[0m\u001b[1;33m,\u001b[0m \u001b[1;36m0.001\u001b[0m\u001b[1;33m)\u001b[0m\u001b[1;33m\u001b[0m\u001b[1;33m\u001b[0m\u001b[0m\n\u001b[0;32m     27\u001b[0m \u001b[1;31m# evaluate each threshold\u001b[0m\u001b[1;33m\u001b[0m\u001b[1;33m\u001b[0m\u001b[1;33m\u001b[0m\u001b[0m\n\u001b[1;32m---> 28\u001b[1;33m \u001b[0mscores\u001b[0m \u001b[1;33m=\u001b[0m \u001b[1;33m[\u001b[0m\u001b[0mf1_score\u001b[0m\u001b[1;33m(\u001b[0m\u001b[0my_val\u001b[0m\u001b[1;33m,\u001b[0m \u001b[0mto_labels\u001b[0m\u001b[1;33m(\u001b[0m\u001b[0myhat_probs\u001b[0m\u001b[1;33m,\u001b[0m \u001b[0mt\u001b[0m\u001b[1;33m)\u001b[0m\u001b[1;33m)\u001b[0m \u001b[1;32mfor\u001b[0m \u001b[0mt\u001b[0m \u001b[1;32min\u001b[0m \u001b[0mthresholds\u001b[0m\u001b[1;33m]\u001b[0m\u001b[1;33m\u001b[0m\u001b[1;33m\u001b[0m\u001b[0m\n\u001b[0m\u001b[0;32m     29\u001b[0m \u001b[1;31m# get best threshold\u001b[0m\u001b[1;33m\u001b[0m\u001b[1;33m\u001b[0m\u001b[1;33m\u001b[0m\u001b[0m\n\u001b[0;32m     30\u001b[0m \u001b[0mix\u001b[0m \u001b[1;33m=\u001b[0m \u001b[0margmax\u001b[0m\u001b[1;33m(\u001b[0m\u001b[0mscores\u001b[0m\u001b[1;33m)\u001b[0m\u001b[1;33m\u001b[0m\u001b[1;33m\u001b[0m\u001b[0m\n",
      "\u001b[1;32m<ipython-input-14-f1e500160e2d>\u001b[0m in \u001b[0;36m<listcomp>\u001b[1;34m(.0)\u001b[0m\n\u001b[0;32m     26\u001b[0m \u001b[0mthresholds\u001b[0m \u001b[1;33m=\u001b[0m \u001b[0marange\u001b[0m\u001b[1;33m(\u001b[0m\u001b[1;36m0\u001b[0m\u001b[1;33m,\u001b[0m \u001b[1;36m1\u001b[0m\u001b[1;33m,\u001b[0m \u001b[1;36m0.001\u001b[0m\u001b[1;33m)\u001b[0m\u001b[1;33m\u001b[0m\u001b[1;33m\u001b[0m\u001b[0m\n\u001b[0;32m     27\u001b[0m \u001b[1;31m# evaluate each threshold\u001b[0m\u001b[1;33m\u001b[0m\u001b[1;33m\u001b[0m\u001b[1;33m\u001b[0m\u001b[0m\n\u001b[1;32m---> 28\u001b[1;33m \u001b[0mscores\u001b[0m \u001b[1;33m=\u001b[0m \u001b[1;33m[\u001b[0m\u001b[0mf1_score\u001b[0m\u001b[1;33m(\u001b[0m\u001b[0my_val\u001b[0m\u001b[1;33m,\u001b[0m \u001b[0mto_labels\u001b[0m\u001b[1;33m(\u001b[0m\u001b[0myhat_probs\u001b[0m\u001b[1;33m,\u001b[0m \u001b[0mt\u001b[0m\u001b[1;33m)\u001b[0m\u001b[1;33m)\u001b[0m \u001b[1;32mfor\u001b[0m \u001b[0mt\u001b[0m \u001b[1;32min\u001b[0m \u001b[0mthresholds\u001b[0m\u001b[1;33m]\u001b[0m\u001b[1;33m\u001b[0m\u001b[1;33m\u001b[0m\u001b[0m\n\u001b[0m\u001b[0;32m     29\u001b[0m \u001b[1;31m# get best threshold\u001b[0m\u001b[1;33m\u001b[0m\u001b[1;33m\u001b[0m\u001b[1;33m\u001b[0m\u001b[0m\n\u001b[0;32m     30\u001b[0m \u001b[0mix\u001b[0m \u001b[1;33m=\u001b[0m \u001b[0margmax\u001b[0m\u001b[1;33m(\u001b[0m\u001b[0mscores\u001b[0m\u001b[1;33m)\u001b[0m\u001b[1;33m\u001b[0m\u001b[1;33m\u001b[0m\u001b[0m\n",
      "\u001b[1;31mNameError\u001b[0m: name 'yhat_probs' is not defined"
     ]
    }
   ],
   "source": [
    "#https://machinelearningmastery.com/threshold-moving-for-imbalanced-classification/#:~:text=Optimal%20Threshold%20for%20Precision%2DRecall%20Curve,-Unlike%20the%20ROC&text=Recall%20is%20calculated%20as%20the,positives%20and%20the%20false%20negatives.\n",
    "#Optimal Threshold Tuning\n",
    "# search thresholds for imbalanced classification\n",
    "from numpy import arange\n",
    "from numpy import argmax\n",
    "from sklearn.datasets import make_classification\n",
    "from sklearn.linear_model import LogisticRegression\n",
    "from sklearn.model_selection import train_test_split\n",
    "from sklearn.metrics import f1_score\n",
    "from sklearn.metrics import accuracy_score\n",
    "from sklearn.metrics import precision_score\n",
    "from sklearn.metrics import recall_score\n",
    "from sklearn.metrics import f1_score\n",
    "from sklearn.metrics import cohen_kappa_score\n",
    "from sklearn.metrics import roc_auc_score\n",
    "from sklearn.metrics import confusion_matrix \n",
    "# apply threshold to positive probabilities to create labels\n",
    "def to_labels(pos_probs, threshold):\n",
    "    return (pos_probs >= threshold).astype('int')\n",
    " \n",
    "# predict probabilities\n",
    "#yhat = model.predict_proba(x_val)\n",
    "# keep probabilities for the positive outcome only\n",
    "#probs = yhat[:, 1]\n",
    "# define thresholds\n",
    "thresholds = arange(0, 1, 0.001)\n",
    "# evaluate each threshold\n",
    "scores = [f1_score(y_val, to_labels(yhat_probs, t)) for t in thresholds]\n",
    "# get best threshold\n",
    "ix = argmax(scores)\n",
    "print('Threshold=%.3f, F-Score=%.5f' % (thresholds[ix], scores[ix]))"
   ]
  },
  {
   "cell_type": "code",
   "execution_count": null,
   "metadata": {},
   "outputs": [],
   "source": [
    "# evaluate each threshold\n",
    "scores = [accuracy_score(y_val, to_labels(yhat_probs, t)) for t in thresholds]\n",
    "# get best threshold\n",
    "ix = argmax(scores)\n",
    "print('Threshold=%.3f, Accuracy-Score=%.5f' % (thresholds[ix], scores[ix]))"
   ]
  },
  {
   "cell_type": "code",
   "execution_count": null,
   "metadata": {},
   "outputs": [],
   "source": [
    "# evaluate each threshold\n",
    "scores = [precision_score(y_val, to_labels(yhat_probs, t)) for t in thresholds]\n",
    "# get best threshold\n",
    "ix = argmax(scores)\n",
    "print('Threshold=%.3f, Precision-Score=%.5f' % (thresholds[ix], scores[ix]))"
   ]
  },
  {
   "cell_type": "code",
   "execution_count": null,
   "metadata": {},
   "outputs": [],
   "source": [
    "# evaluate each threshold\n",
    "scores = [recall_score(y_val, to_labels(yhat_probs, t)) for t in thresholds]\n",
    "# get best threshold\n",
    "ix = argmax(scores)\n",
    "print('Threshold=%.3f, recall-Score=%.5f' % (thresholds[ix], scores[ix]))"
   ]
  },
  {
   "cell_type": "code",
   "execution_count": null,
   "metadata": {},
   "outputs": [],
   "source": [
    "from sklearn.metrics import roc_auc_score\n",
    "# ROC AUC\n",
    "auc = roc_auc_score(y_val, yhat_probs)\n",
    "print('ROC AUC: %f' % auc)"
   ]
  },
  {
   "cell_type": "code",
   "execution_count": null,
   "metadata": {},
   "outputs": [],
   "source": [
    "\n"
   ]
  }
 ],
 "metadata": {
  "kernelspec": {
   "display_name": "Python 3",
   "language": "python",
   "name": "python3"
  },
  "language_info": {
   "codemirror_mode": {
    "name": "ipython",
    "version": 3
   },
   "file_extension": ".py",
   "mimetype": "text/x-python",
   "name": "python",
   "nbconvert_exporter": "python",
   "pygments_lexer": "ipython3",
   "version": "3.8.8"
  }
 },
 "nbformat": 4,
 "nbformat_minor": 4
}
