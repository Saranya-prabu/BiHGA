{
 "cells": [
  {
   "cell_type": "code",
   "execution_count": 1,
   "id": "80aab5d8",
   "metadata": {},
   "outputs": [],
   "source": [
    "import numpy as np\n",
    "import pandas as pd"
   ]
  },
  {
   "cell_type": "code",
   "execution_count": 2,
   "id": "ca60c464",
   "metadata": {},
   "outputs": [],
   "source": [
    "#data = pd.read_csv(\"file3.csv\") \n",
    "csv_1 = pd.read_csv(r\"C:\\Users\\Admin\\CICIDS - 30 neurons\\with attention and dimensionality reduction\\lgcabnormalresult.csv\") \n",
    "  \n",
    "# changing cols with rename() \n",
    "new_data = csv_1.rename(columns = {0: \"Feature1\",\n",
    "                                  1: \"Feature2\", \n",
    "                                  2: \"Feature3\", \n",
    "                                  3: \"Feature4\",\n",
    "                                  4: \"Feature5\",\n",
    "                                  5: \"Feature6\",\n",
    "                                  6: \"Feature7\",\n",
    "                                  7: \"Feature8\",\n",
    "                                  8: \"Feature9\",\n",
    "                                  9: \"Feature10\",\n",
    "                                  10: \"Feature11\",\n",
    "                                  11: \"Feature12\",\n",
    "                                  12: \"Feature13\",\n",
    "                                  13: \"Feature14\",\n",
    "                                  14: \"Feature15\",\n",
    "                                  15: \"Feature16\",\n",
    "                                  16: \"Feature17\",\n",
    "                                  17: \"Feature18\",\n",
    "                                  18: \"Feature19\", \n",
    "                                  19: \"Feature20\",\n",
    "                                  20: \"Feature21\",\n",
    "                                  21: \"Feature22\",\n",
    "                                  22: \"Feature23\",\n",
    "                                  23: \"Feature24\",                                   \n",
    "                                  24: \"Feature25\",\n",
    "                                  25: \"Feature26\",  \n",
    "                                  26: \"Feature27\",\n",
    "                                  27: \"Feature28\",\n",
    "                                  28: \"Feature29\",\n",
    "                                  29: \"Feature30\",                                   \n",
    "                                  30: \"Label\"}) \n",
    "  \n",
    "# changing columns using .columns() \n",
    "csv_1.columns = ['Feature1', 'Feature2', 'Feature3', 'Feature4', \n",
    "                'Feature5', 'Feature6', 'Feature7', 'Feature8',\n",
    "                 'Feature9', 'Feature10', 'Feature11', 'Feature12',\n",
    "                 'Feature13', 'Feature14', 'Feature15', 'Feature16',\n",
    "                 'Feature17', 'Feature18', 'Feature19', 'Feature20','Feature21','Feature22','Feature23','Feature24','Feature25','Feature26','Feature27','Feature28','Feature29','Feature30',\"Label\"] \n",
    "  \n",
    "\n",
    "csv_1.to_csv(\"lgcabnormalresult.csv\", index=None)"
   ]
  },
  {
   "cell_type": "markdown",
   "id": "3388b7f1",
   "metadata": {},
   "source": [
    "#https://datacarpentry.org/python-ecology-lesson/03-index-slice-subset/index.html\n",
    "csv_1=csv_1[0:100]\n",
    "csv_2=csv_2[0:40000]\n",
    "merged = csv_1.merge(csv_2,on=\"Label\")\n",
    "\n",
    "merged.to_csv(\"attentiongan.csv\", index=False)\n",
    "#result = pd.concat([csv_1, csv_2], axis=1)\n",
    "out = csv_1.append(csv_2)\n",
    "print(out)\n",
    "out.to_csv(\"attentiongan.csv\", index=False)"
   ]
  },
  {
   "cell_type": "code",
   "execution_count": 3,
   "id": "7a903390",
   "metadata": {},
   "outputs": [],
   "source": [
    "import tensorflow as tf\n",
    "from tensorflow import keras\n",
    "from tensorflow.keras import layers\n",
    "from tensorflow.keras import activations\n",
    "\n",
    "\n",
    "import numpy as np\n",
    "import pandas as pd\n",
    "\n",
    "from sklearn import preprocessing\n",
    "from sklearn.model_selection import train_test_split"
   ]
  },
  {
   "cell_type": "code",
   "execution_count": 4,
   "id": "429f82e9",
   "metadata": {},
   "outputs": [],
   "source": [
    "df = pd.read_csv(\"lgcabnormalresult.csv\",sep=\",\", index_col=None)"
   ]
  },
  {
   "cell_type": "code",
   "execution_count": 5,
   "id": "26e88a64",
   "metadata": {},
   "outputs": [
    {
     "name": "stdout",
     "output_type": "stream",
     "text": [
      "Feature1     float64\n",
      "Feature2     float64\n",
      "Feature3     float64\n",
      "Feature4     float64\n",
      "Feature5     float64\n",
      "Feature6     float64\n",
      "Feature7     float64\n",
      "Feature8     float64\n",
      "Feature9     float64\n",
      "Feature10    float64\n",
      "Feature11    float64\n",
      "Feature12    float64\n",
      "Feature13    float64\n",
      "Feature14    float64\n",
      "Feature15    float64\n",
      "Feature16    float64\n",
      "Feature17    float64\n",
      "Feature18    float64\n",
      "Feature19    float64\n",
      "Feature20    float64\n",
      "Feature21    float64\n",
      "Feature22    float64\n",
      "Feature23    float64\n",
      "Feature24    float64\n",
      "Feature25    float64\n",
      "Feature26    float64\n",
      "Feature27    float64\n",
      "Feature28    float64\n",
      "Feature29    float64\n",
      "Feature30    float64\n",
      "Label          int64\n",
      "dtype: object\n"
     ]
    }
   ],
   "source": [
    "print (df.dtypes)"
   ]
  },
  {
   "cell_type": "code",
   "execution_count": 6,
   "id": "4c157996",
   "metadata": {},
   "outputs": [
    {
     "data": {
      "text/plain": [
       "<bound method NDFrame.head of         Feature1  Feature2  Feature3  Feature4  Feature5  Feature6  Feature7  \\\n",
       "0       0.162374  0.266411       0.0  0.000000  0.269083  0.000000  0.149491   \n",
       "1       0.181202  0.278652       0.0  0.000000  0.238064  0.000000  0.139341   \n",
       "2       0.179038  0.256140       0.0  0.000000  0.218407  0.000000  0.180448   \n",
       "3       0.000000  0.000000       0.0  0.000000  0.333200  0.047211  0.057498   \n",
       "4       0.000000  0.163501       0.0  0.000000  0.000000  0.000000  0.000000   \n",
       "...          ...       ...       ...       ...       ...       ...       ...   \n",
       "556550  0.177695  0.276158       0.0  0.000000  0.237661  0.000000  0.141832   \n",
       "556551  0.000000  0.078991       0.0  0.000000  0.000000  0.000000  0.071014   \n",
       "556552  0.071085  0.155015       0.0  0.078527  0.000000  0.000000  0.000000   \n",
       "556553  0.058132  0.131831       0.0  0.073028  0.000000  0.000000  0.000000   \n",
       "556554  0.071085  0.155015       0.0  0.078527  0.000000  0.000000  0.000000   \n",
       "\n",
       "        Feature8  Feature9  Feature10  ...  Feature22  Feature23  Feature24  \\\n",
       "0       0.079647  0.000000   0.115767  ...   0.000000   0.000000        0.0   \n",
       "1       0.000000  0.000000   0.094577  ...   0.086715   0.000000        0.0   \n",
       "2       0.000000  0.000000   0.095815  ...   0.105288   0.000000        0.0   \n",
       "3       0.079608  0.207704   0.000000  ...   0.000000   0.000000        0.0   \n",
       "4       0.000000  0.077643   0.169931  ...   0.000000   0.000000        0.0   \n",
       "...          ...       ...        ...  ...        ...        ...        ...   \n",
       "556550  0.000000  0.000000   0.097309  ...   0.085627   0.000000        0.0   \n",
       "556551  0.000000  0.000092   0.000000  ...   0.000000   0.133075        0.0   \n",
       "556552  0.000000  0.000000   0.173622  ...   0.000000   0.108337        0.0   \n",
       "556553  0.000000  0.000000   0.174541  ...   0.000000   0.108792        0.0   \n",
       "556554  0.000000  0.000000   0.173622  ...   0.000000   0.108337        0.0   \n",
       "\n",
       "        Feature25  Feature26  Feature27  Feature28  Feature29  Feature30  \\\n",
       "0        0.090651   0.000000   0.113022   0.061046   0.000000   0.000000   \n",
       "1        0.111254   0.000000   0.086987   0.074906   0.000000   0.000000   \n",
       "2        0.106155   0.000000   0.111396   0.057318   0.000000   0.000000   \n",
       "3        0.000000   0.278125   0.000000   0.140124   0.000000   0.000000   \n",
       "4        0.048168   0.006734   0.127435   0.000000   0.128147   0.143139   \n",
       "...           ...        ...        ...        ...        ...        ...   \n",
       "556550   0.110582   0.000000   0.086608   0.106597   0.000000   0.000000   \n",
       "556551   0.000000   0.088550   0.000000   0.258052   0.000000   0.000000   \n",
       "556552   0.059559   0.000000   0.123869   0.215068   0.124593   0.102316   \n",
       "556553   0.000000   0.000000   0.102138   0.191882   0.000000   0.078428   \n",
       "556554   0.059559   0.000000   0.123869   0.215068   0.124593   0.102316   \n",
       "\n",
       "        Label  \n",
       "0           1  \n",
       "1           1  \n",
       "2           1  \n",
       "3           1  \n",
       "4           1  \n",
       "...       ...  \n",
       "556550      1  \n",
       "556551      1  \n",
       "556552      1  \n",
       "556553      1  \n",
       "556554      1  \n",
       "\n",
       "[556555 rows x 31 columns]>"
      ]
     },
     "execution_count": 6,
     "metadata": {},
     "output_type": "execute_result"
    }
   ],
   "source": [
    "df.head"
   ]
  },
  {
   "cell_type": "code",
   "execution_count": 7,
   "id": "85678e8f",
   "metadata": {},
   "outputs": [],
   "source": [
    "#randomly sample 500 data point for training\n",
    "df_train=df.sample(278278)"
   ]
  },
  {
   "cell_type": "code",
   "execution_count": 8,
   "id": "c407384c",
   "metadata": {},
   "outputs": [],
   "source": [
    "#X = mydataframe.drop(['acol','bcol'], axis=1).values \n",
    "#y = mydataframe['targetvalue'].values\n",
    "df_label=df_train.Label\n",
    "X=df_train.drop(['Label'], axis=1).values \n",
    "y=df_train['Label'].values"
   ]
  },
  {
   "cell_type": "code",
   "execution_count": 9,
   "id": "3ca207b7",
   "metadata": {},
   "outputs": [],
   "source": [
    "df_label.to_csv('abnormallabel1.csv', index=False)"
   ]
  },
  {
   "cell_type": "code",
   "execution_count": 10,
   "id": "fc011ba9",
   "metadata": {},
   "outputs": [
    {
     "name": "stdout",
     "output_type": "stream",
     "text": [
      "194794 Training sequences (194794, 30)\n",
      "83484 Validation sequences (83484, 30)\n",
      "194794 Training sequences (194794,)\n"
     ]
    }
   ],
   "source": [
    "from sklearn.model_selection import train_test_split\n",
    "\n",
    "x_train,x_val,y_train,y_val = train_test_split(X,y,train_size=0.70, random_state=2)\n",
    "print(len(x_train), \"Training sequences\",x_train.shape)\n",
    "print(len(x_val), \"Validation sequences\",x_val.shape)\n",
    "print(len(y_train), \"Training sequences\",y_train.shape)"
   ]
  },
  {
   "cell_type": "markdown",
   "id": "eb204552",
   "metadata": {},
   "source": [
    "# Simple Attention\n",
    "#https://www.analyticsvidhya.com/blog/2019/11/comprehensive-guide-attention-mechanism-deep-learning/"
   ]
  },
  {
   "cell_type": "code",
   "execution_count": 11,
   "id": "86fb92aa",
   "metadata": {},
   "outputs": [],
   "source": [
    "def build(self,input_shape):\n",
    "        self.W=self.add_weight(name=\"att_weight\",shape=(input_shape[-1],1),initializer=\"normal\")\n",
    "        self.b=self.add_weight(name=\"att_bias\",shape=(input_shape[1],1),initializer=\"zeros\")        \n",
    "        super(attention, self).build(input_shape)"
   ]
  },
  {
   "cell_type": "code",
   "execution_count": 12,
   "id": "a42855db",
   "metadata": {},
   "outputs": [],
   "source": [
    "def call(self,x):\n",
    "        et=K.squeeze(K.tanh(K.dot(x,self.W)+self.b),axis=-1)\n",
    "        at=K.softmax(et)\n",
    "        at=K.expand_dims(at,axis=-1)\n",
    "        output=x*at\n",
    "        return K.sum(output,axis=1)"
   ]
  },
  {
   "cell_type": "code",
   "execution_count": 13,
   "id": "492349d6",
   "metadata": {},
   "outputs": [],
   "source": [
    "from tensorflow.keras.layers import Layer\n",
    "import tensorflow.keras.backend as K"
   ]
  },
  {
   "cell_type": "code",
   "execution_count": 14,
   "id": "8ba9804d",
   "metadata": {},
   "outputs": [],
   "source": [
    "class attention(Layer):\n",
    "    def __init__(self,**kwargs):\n",
    "        super(attention,self).__init__(**kwargs)\n",
    "\n",
    "    def build(self,input_shape):\n",
    "        self.W=self.add_weight(name=\"att_weight\",shape=(input_shape[-1],1),initializer=\"normal\")\n",
    "        self.b=self.add_weight(name=\"att_bias\",shape=(input_shape[1],1),initializer=\"zeros\")        \n",
    "        super(attention, self).build(input_shape)\n",
    "\n",
    "    def call(self,x):\n",
    "        et=K.squeeze(K.tanh(K.dot(x,self.W)+self.b),axis=-1)\n",
    "        at=K.softmax(et)\n",
    "        at=K.expand_dims(at,axis=-1)\n",
    "        output=x*at\n",
    "        return K.sum(output,axis=1)\n",
    "\n",
    "    def compute_output_shape(self,input_shape):\n",
    "        return (input_shape[0],input_shape[-1])\n",
    "\n",
    "    def get_config(self):\n",
    "        return super(attention,self).get_config()"
   ]
  },
  {
   "cell_type": "code",
   "execution_count": 15,
   "id": "057a7d51",
   "metadata": {},
   "outputs": [],
   "source": [
    "from tensorflow.keras.layers import Embedding\n",
    "from tensorflow.keras.layers import Dense, Flatten, Activation,RepeatVector,Permute \n",
    "from tensorflow.keras.layers import TimeDistributed\n",
    "maxlen=30\n",
    "vocab_size = x_train.shape[0]\n",
    "visible = layers.Input(shape=(maxlen,))\n",
    "\n",
    "embed=Embedding(vocab_size,30)(visible)\n",
    "\n",
    "activations= keras.layers.LSTM(30, return_sequences=True)(embed)\n",
    "\n",
    "attention = TimeDistributed(Dense(1, activation='tanh'))(activations) \n",
    "attention = Flatten()(attention)\n",
    "attention = Activation('softmax', name='attention_vec')(attention)\n",
    "#attention = RepeatVector(1)(attention)\n",
    "#attention = Permute([2, 1])(attention) \n",
    "\n",
    "#sent_representation = keras.layers.multiply([activations, attention])\n",
    "#sent_representation = Lambda(lambda xin: K.sum(xin, axis=1))(sent_representation)\n",
    "predictions=Dense(1, activation='sigmoid')(attention)\n",
    "\n",
    "model = keras.Model(inputs=visible, outputs=predictions)"
   ]
  },
  {
   "cell_type": "code",
   "execution_count": 16,
   "id": "5d6f718e",
   "metadata": {},
   "outputs": [
    {
     "name": "stdout",
     "output_type": "stream",
     "text": [
      "Model: \"model\"\n",
      "_________________________________________________________________\n",
      "Layer (type)                 Output Shape              Param #   \n",
      "=================================================================\n",
      "input_1 (InputLayer)         [(None, 30)]              0         \n",
      "_________________________________________________________________\n",
      "embedding (Embedding)        (None, 30, 30)            5843820   \n",
      "_________________________________________________________________\n",
      "lstm (LSTM)                  (None, 30, 30)            7320      \n",
      "_________________________________________________________________\n",
      "time_distributed (TimeDistri (None, 30, 1)             31        \n",
      "_________________________________________________________________\n",
      "flatten (Flatten)            (None, 30)                0         \n",
      "_________________________________________________________________\n",
      "attention_vec (Activation)   (None, 30)                0         \n",
      "_________________________________________________________________\n",
      "dense_1 (Dense)              (None, 1)                 31        \n",
      "=================================================================\n",
      "Total params: 5,851,202\n",
      "Trainable params: 5,851,202\n",
      "Non-trainable params: 0\n",
      "_________________________________________________________________\n"
     ]
    }
   ],
   "source": [
    "model.summary()"
   ]
  },
  {
   "cell_type": "code",
   "execution_count": 17,
   "id": "0251cce8",
   "metadata": {},
   "outputs": [],
   "source": [
    "import time, datetime\n",
    "\n",
    "start = datetime.datetime.now()\n",
    "time.sleep(10)"
   ]
  },
  {
   "cell_type": "code",
   "execution_count": 18,
   "id": "a8831e25",
   "metadata": {},
   "outputs": [
    {
     "name": "stdout",
     "output_type": "stream",
     "text": [
      "Train on 194794 samples, validate on 83484 samples\n",
      "Epoch 1/5\n",
      "194794/194794 [==============================] - 72s 369us/sample - loss: 0.5815 - accuracy: 0.9947 - val_loss: 0.4947 - val_accuracy: 1.0000\n",
      "Epoch 2/5\n",
      "194794/194794 [==============================] - 59s 303us/sample - loss: 0.4346 - accuracy: 1.0000 - val_loss: 0.3788 - val_accuracy: 1.0000\n",
      "Epoch 3/5\n",
      "194794/194794 [==============================] - 52s 267us/sample - loss: 0.3352 - accuracy: 1.0000 - val_loss: 0.2952 - val_accuracy: 1.0000\n",
      "Epoch 4/5\n",
      "194794/194794 [==============================] - 51s 262us/sample - loss: 0.2633 - accuracy: 1.0000 - val_loss: 0.2339 - val_accuracy: 1.0000\n",
      "Epoch 5/5\n",
      "194794/194794 [==============================] - 56s 287us/sample - loss: 0.2102 - accuracy: 1.0000 - val_loss: 0.1883 - val_accuracy: 1.0000\n"
     ]
    }
   ],
   "source": [
    "model.compile(\"adam\", \"binary_crossentropy\", metrics=[\"accuracy\"])\n",
    "history = model.fit(x_train, y_train, batch_size=1024, epochs=5, validation_data=(x_val, y_val))"
   ]
  },
  {
   "cell_type": "code",
   "execution_count": 19,
   "id": "96243b65",
   "metadata": {},
   "outputs": [
    {
     "name": "stdout",
     "output_type": "stream",
     "text": [
      "0h 5m 0s\n"
     ]
    }
   ],
   "source": [
    "end = datetime.datetime.now()\n",
    "\n",
    "diff = (end - start)\n",
    "\n",
    "datetime.timedelta(seconds=10, microseconds=885206)\n",
    "\n",
    "diff_seconds = int(diff.total_seconds())\n",
    "\n",
    "minute_seconds, seconds = divmod(diff_seconds, 60)\n",
    "hours, minutes = divmod(minute_seconds, 60)\n",
    "hms = f\"{hours}h {minutes}m {seconds}s\"\n",
    "\n",
    "'0h 0m 10s'\n",
    "print(hms) "
   ]
  },
  {
   "cell_type": "raw",
   "id": "931dae62",
   "metadata": {},
   "source": [
    "new_model = Model(inputs=model.input, outputs=model.layers[2].output)\n",
    "#output_before_att = new_model.predict(x_test_sample) #extract layer output"
   ]
  },
  {
   "cell_type": "code",
   "execution_count": 20,
   "id": "b1139021",
   "metadata": {},
   "outputs": [],
   "source": [
    "model = keras.Model(inputs=model.input,\n",
    "              outputs=[model.output, model.get_layer('attention_vec').output])"
   ]
  },
  {
   "cell_type": "code",
   "execution_count": 21,
   "id": "6a318063",
   "metadata": {},
   "outputs": [],
   "source": [
    "layer = model.get_layer('attention_vec')"
   ]
  },
  {
   "cell_type": "code",
   "execution_count": 22,
   "id": "91a1b2cb",
   "metadata": {},
   "outputs": [
    {
     "ename": "ResourceExhaustedError",
     "evalue": " [_Derived_]  OOM when allocating tensor with shape[30,194794,30] and type float on /job:localhost/replica:0/task:0/device:CPU:0 by allocator cpu\n\t [[{{node transpose}}]]\nHint: If you want to see a list of allocated tensors when OOM happens, add report_tensor_allocations_upon_oom to RunOptions for current allocation info.\n\n\t [[lstm/StatefulPartitionedCall]]\nHint: If you want to see a list of allocated tensors when OOM happens, add report_tensor_allocations_upon_oom to RunOptions for current allocation info.\n [Op:__inference_keras_scratch_graph_7992]\n\nFunction call stack:\nkeras_scratch_graph -> keras_scratch_graph -> keras_scratch_graph\n",
     "output_type": "error",
     "traceback": [
      "\u001b[1;31m---------------------------------------------------------------------------\u001b[0m",
      "\u001b[1;31mResourceExhaustedError\u001b[0m                    Traceback (most recent call last)",
      "\u001b[1;32m<ipython-input-22-52a475b1dc85>\u001b[0m in \u001b[0;36m<module>\u001b[1;34m\u001b[0m\n\u001b[0;32m      1\u001b[0m \u001b[0moutputs\u001b[0m \u001b[1;33m=\u001b[0m \u001b[1;33m[\u001b[0m\u001b[1;33m]\u001b[0m\u001b[1;33m\u001b[0m\u001b[1;33m\u001b[0m\u001b[0m\n\u001b[0;32m      2\u001b[0m \u001b[0mkeras_function\u001b[0m \u001b[1;33m=\u001b[0m \u001b[0mK\u001b[0m\u001b[1;33m.\u001b[0m\u001b[0mfunction\u001b[0m\u001b[1;33m(\u001b[0m\u001b[1;33m[\u001b[0m\u001b[0mmodel\u001b[0m\u001b[1;33m.\u001b[0m\u001b[0minput\u001b[0m\u001b[1;33m]\u001b[0m\u001b[1;33m,\u001b[0m \u001b[1;33m[\u001b[0m\u001b[0mlayer\u001b[0m\u001b[1;33m.\u001b[0m\u001b[0moutput\u001b[0m\u001b[1;33m]\u001b[0m\u001b[1;33m)\u001b[0m\u001b[1;33m\u001b[0m\u001b[1;33m\u001b[0m\u001b[0m\n\u001b[1;32m----> 3\u001b[1;33m \u001b[0moutputs\u001b[0m\u001b[1;33m.\u001b[0m\u001b[0mappend\u001b[0m\u001b[1;33m(\u001b[0m\u001b[0mkeras_function\u001b[0m\u001b[1;33m(\u001b[0m\u001b[1;33m[\u001b[0m\u001b[0mx_train\u001b[0m\u001b[1;33m,\u001b[0m \u001b[1;36m0\u001b[0m\u001b[1;33m]\u001b[0m\u001b[1;33m)\u001b[0m\u001b[1;33m)\u001b[0m\u001b[1;33m\u001b[0m\u001b[1;33m\u001b[0m\u001b[0m\n\u001b[0m\u001b[0;32m      4\u001b[0m \u001b[0mprint\u001b[0m\u001b[1;33m(\u001b[0m\u001b[0moutputs\u001b[0m\u001b[1;33m)\u001b[0m\u001b[1;33m\u001b[0m\u001b[1;33m\u001b[0m\u001b[0m\n",
      "\u001b[1;32m~\\anaconda3\\envs\\tensorflow\\lib\\site-packages\\tensorflow_core\\python\\keras\\backend.py\u001b[0m in \u001b[0;36m__call__\u001b[1;34m(self, inputs)\u001b[0m\n\u001b[0;32m   3725\u001b[0m         \u001b[0mvalue\u001b[0m \u001b[1;33m=\u001b[0m \u001b[0mmath_ops\u001b[0m\u001b[1;33m.\u001b[0m\u001b[0mcast\u001b[0m\u001b[1;33m(\u001b[0m\u001b[0mvalue\u001b[0m\u001b[1;33m,\u001b[0m \u001b[0mtensor\u001b[0m\u001b[1;33m.\u001b[0m\u001b[0mdtype\u001b[0m\u001b[1;33m)\u001b[0m\u001b[1;33m\u001b[0m\u001b[1;33m\u001b[0m\u001b[0m\n\u001b[0;32m   3726\u001b[0m       \u001b[0mconverted_inputs\u001b[0m\u001b[1;33m.\u001b[0m\u001b[0mappend\u001b[0m\u001b[1;33m(\u001b[0m\u001b[0mvalue\u001b[0m\u001b[1;33m)\u001b[0m\u001b[1;33m\u001b[0m\u001b[1;33m\u001b[0m\u001b[0m\n\u001b[1;32m-> 3727\u001b[1;33m     \u001b[0moutputs\u001b[0m \u001b[1;33m=\u001b[0m \u001b[0mself\u001b[0m\u001b[1;33m.\u001b[0m\u001b[0m_graph_fn\u001b[0m\u001b[1;33m(\u001b[0m\u001b[1;33m*\u001b[0m\u001b[0mconverted_inputs\u001b[0m\u001b[1;33m)\u001b[0m\u001b[1;33m\u001b[0m\u001b[1;33m\u001b[0m\u001b[0m\n\u001b[0m\u001b[0;32m   3728\u001b[0m \u001b[1;33m\u001b[0m\u001b[0m\n\u001b[0;32m   3729\u001b[0m     \u001b[1;31m# EagerTensor.numpy() will often make a copy to ensure memory safety.\u001b[0m\u001b[1;33m\u001b[0m\u001b[1;33m\u001b[0m\u001b[1;33m\u001b[0m\u001b[0m\n",
      "\u001b[1;32m~\\anaconda3\\envs\\tensorflow\\lib\\site-packages\\tensorflow_core\\python\\eager\\function.py\u001b[0m in \u001b[0;36m__call__\u001b[1;34m(self, *args, **kwargs)\u001b[0m\n\u001b[0;32m   1549\u001b[0m       \u001b[0mTypeError\u001b[0m\u001b[1;33m:\u001b[0m \u001b[0mFor\u001b[0m \u001b[0minvalid\u001b[0m \u001b[0mpositional\u001b[0m\u001b[1;33m/\u001b[0m\u001b[0mkeyword\u001b[0m \u001b[0margument\u001b[0m \u001b[0mcombinations\u001b[0m\u001b[1;33m.\u001b[0m\u001b[1;33m\u001b[0m\u001b[1;33m\u001b[0m\u001b[0m\n\u001b[0;32m   1550\u001b[0m     \"\"\"\n\u001b[1;32m-> 1551\u001b[1;33m     \u001b[1;32mreturn\u001b[0m \u001b[0mself\u001b[0m\u001b[1;33m.\u001b[0m\u001b[0m_call_impl\u001b[0m\u001b[1;33m(\u001b[0m\u001b[0margs\u001b[0m\u001b[1;33m,\u001b[0m \u001b[0mkwargs\u001b[0m\u001b[1;33m)\u001b[0m\u001b[1;33m\u001b[0m\u001b[1;33m\u001b[0m\u001b[0m\n\u001b[0m\u001b[0;32m   1552\u001b[0m \u001b[1;33m\u001b[0m\u001b[0m\n\u001b[0;32m   1553\u001b[0m   \u001b[1;32mdef\u001b[0m \u001b[0m_call_impl\u001b[0m\u001b[1;33m(\u001b[0m\u001b[0mself\u001b[0m\u001b[1;33m,\u001b[0m \u001b[0margs\u001b[0m\u001b[1;33m,\u001b[0m \u001b[0mkwargs\u001b[0m\u001b[1;33m,\u001b[0m \u001b[0mcancellation_manager\u001b[0m\u001b[1;33m=\u001b[0m\u001b[1;32mNone\u001b[0m\u001b[1;33m)\u001b[0m\u001b[1;33m:\u001b[0m\u001b[1;33m\u001b[0m\u001b[1;33m\u001b[0m\u001b[0m\n",
      "\u001b[1;32m~\\anaconda3\\envs\\tensorflow\\lib\\site-packages\\tensorflow_core\\python\\eager\\function.py\u001b[0m in \u001b[0;36m_call_impl\u001b[1;34m(self, args, kwargs, cancellation_manager)\u001b[0m\n\u001b[0;32m   1589\u001b[0m       raise TypeError(\"Keyword arguments {} unknown. Expected {}.\".format(\n\u001b[0;32m   1590\u001b[0m           list(kwargs.keys()), list(self._arg_keywords)))\n\u001b[1;32m-> 1591\u001b[1;33m     \u001b[1;32mreturn\u001b[0m \u001b[0mself\u001b[0m\u001b[1;33m.\u001b[0m\u001b[0m_call_flat\u001b[0m\u001b[1;33m(\u001b[0m\u001b[0margs\u001b[0m\u001b[1;33m,\u001b[0m \u001b[0mself\u001b[0m\u001b[1;33m.\u001b[0m\u001b[0mcaptured_inputs\u001b[0m\u001b[1;33m,\u001b[0m \u001b[0mcancellation_manager\u001b[0m\u001b[1;33m)\u001b[0m\u001b[1;33m\u001b[0m\u001b[1;33m\u001b[0m\u001b[0m\n\u001b[0m\u001b[0;32m   1592\u001b[0m \u001b[1;33m\u001b[0m\u001b[0m\n\u001b[0;32m   1593\u001b[0m   \u001b[1;32mdef\u001b[0m \u001b[0m_filtered_call\u001b[0m\u001b[1;33m(\u001b[0m\u001b[0mself\u001b[0m\u001b[1;33m,\u001b[0m \u001b[0margs\u001b[0m\u001b[1;33m,\u001b[0m \u001b[0mkwargs\u001b[0m\u001b[1;33m)\u001b[0m\u001b[1;33m:\u001b[0m\u001b[1;33m\u001b[0m\u001b[1;33m\u001b[0m\u001b[0m\n",
      "\u001b[1;32m~\\anaconda3\\envs\\tensorflow\\lib\\site-packages\\tensorflow_core\\python\\eager\\function.py\u001b[0m in \u001b[0;36m_call_flat\u001b[1;34m(self, args, captured_inputs, cancellation_manager)\u001b[0m\n\u001b[0;32m   1690\u001b[0m       \u001b[1;31m# No tape is watching; skip to running the function.\u001b[0m\u001b[1;33m\u001b[0m\u001b[1;33m\u001b[0m\u001b[1;33m\u001b[0m\u001b[0m\n\u001b[0;32m   1691\u001b[0m       return self._build_call_outputs(self._inference_function.call(\n\u001b[1;32m-> 1692\u001b[1;33m           ctx, args, cancellation_manager=cancellation_manager))\n\u001b[0m\u001b[0;32m   1693\u001b[0m     forward_backward = self._select_forward_and_backward_functions(\n\u001b[0;32m   1694\u001b[0m         \u001b[0margs\u001b[0m\u001b[1;33m,\u001b[0m\u001b[1;33m\u001b[0m\u001b[1;33m\u001b[0m\u001b[0m\n",
      "\u001b[1;32m~\\anaconda3\\envs\\tensorflow\\lib\\site-packages\\tensorflow_core\\python\\eager\\function.py\u001b[0m in \u001b[0;36mcall\u001b[1;34m(self, ctx, args, cancellation_manager)\u001b[0m\n\u001b[0;32m    543\u001b[0m               \u001b[0minputs\u001b[0m\u001b[1;33m=\u001b[0m\u001b[0margs\u001b[0m\u001b[1;33m,\u001b[0m\u001b[1;33m\u001b[0m\u001b[1;33m\u001b[0m\u001b[0m\n\u001b[0;32m    544\u001b[0m               \u001b[0mattrs\u001b[0m\u001b[1;33m=\u001b[0m\u001b[1;33m(\u001b[0m\u001b[1;34m\"executor_type\"\u001b[0m\u001b[1;33m,\u001b[0m \u001b[0mexecutor_type\u001b[0m\u001b[1;33m,\u001b[0m \u001b[1;34m\"config_proto\"\u001b[0m\u001b[1;33m,\u001b[0m \u001b[0mconfig\u001b[0m\u001b[1;33m)\u001b[0m\u001b[1;33m,\u001b[0m\u001b[1;33m\u001b[0m\u001b[1;33m\u001b[0m\u001b[0m\n\u001b[1;32m--> 545\u001b[1;33m               ctx=ctx)\n\u001b[0m\u001b[0;32m    546\u001b[0m         \u001b[1;32melse\u001b[0m\u001b[1;33m:\u001b[0m\u001b[1;33m\u001b[0m\u001b[1;33m\u001b[0m\u001b[0m\n\u001b[0;32m    547\u001b[0m           outputs = execute.execute_with_cancellation(\n",
      "\u001b[1;32m~\\anaconda3\\envs\\tensorflow\\lib\\site-packages\\tensorflow_core\\python\\eager\\execute.py\u001b[0m in \u001b[0;36mquick_execute\u001b[1;34m(op_name, num_outputs, inputs, attrs, ctx, name)\u001b[0m\n\u001b[0;32m     65\u001b[0m     \u001b[1;32melse\u001b[0m\u001b[1;33m:\u001b[0m\u001b[1;33m\u001b[0m\u001b[1;33m\u001b[0m\u001b[0m\n\u001b[0;32m     66\u001b[0m       \u001b[0mmessage\u001b[0m \u001b[1;33m=\u001b[0m \u001b[0me\u001b[0m\u001b[1;33m.\u001b[0m\u001b[0mmessage\u001b[0m\u001b[1;33m\u001b[0m\u001b[1;33m\u001b[0m\u001b[0m\n\u001b[1;32m---> 67\u001b[1;33m     \u001b[0msix\u001b[0m\u001b[1;33m.\u001b[0m\u001b[0mraise_from\u001b[0m\u001b[1;33m(\u001b[0m\u001b[0mcore\u001b[0m\u001b[1;33m.\u001b[0m\u001b[0m_status_to_exception\u001b[0m\u001b[1;33m(\u001b[0m\u001b[0me\u001b[0m\u001b[1;33m.\u001b[0m\u001b[0mcode\u001b[0m\u001b[1;33m,\u001b[0m \u001b[0mmessage\u001b[0m\u001b[1;33m)\u001b[0m\u001b[1;33m,\u001b[0m \u001b[1;32mNone\u001b[0m\u001b[1;33m)\u001b[0m\u001b[1;33m\u001b[0m\u001b[1;33m\u001b[0m\u001b[0m\n\u001b[0m\u001b[0;32m     68\u001b[0m   \u001b[1;32mexcept\u001b[0m \u001b[0mTypeError\u001b[0m \u001b[1;32mas\u001b[0m \u001b[0me\u001b[0m\u001b[1;33m:\u001b[0m\u001b[1;33m\u001b[0m\u001b[1;33m\u001b[0m\u001b[0m\n\u001b[0;32m     69\u001b[0m     keras_symbolic_tensors = [\n",
      "\u001b[1;32m~\\anaconda3\\envs\\tensorflow\\lib\\site-packages\\six.py\u001b[0m in \u001b[0;36mraise_from\u001b[1;34m(value, from_value)\u001b[0m\n",
      "\u001b[1;31mResourceExhaustedError\u001b[0m:  [_Derived_]  OOM when allocating tensor with shape[30,194794,30] and type float on /job:localhost/replica:0/task:0/device:CPU:0 by allocator cpu\n\t [[{{node transpose}}]]\nHint: If you want to see a list of allocated tensors when OOM happens, add report_tensor_allocations_upon_oom to RunOptions for current allocation info.\n\n\t [[lstm/StatefulPartitionedCall]]\nHint: If you want to see a list of allocated tensors when OOM happens, add report_tensor_allocations_upon_oom to RunOptions for current allocation info.\n [Op:__inference_keras_scratch_graph_7992]\n\nFunction call stack:\nkeras_scratch_graph -> keras_scratch_graph -> keras_scratch_graph\n"
     ]
    }
   ],
   "source": [
    "outputs = []\n",
    "keras_function = K.function([model.input], [layer.output])\n",
    "outputs.append(keras_function([x_train, 0]))\n",
    "print(outputs)"
   ]
  },
  {
   "cell_type": "code",
   "execution_count": 23,
   "id": "5d290eec",
   "metadata": {},
   "outputs": [
    {
     "name": "stderr",
     "output_type": "stream",
     "text": [
      "Using TensorFlow backend.\n"
     ]
    },
    {
     "name": "stdout",
     "output_type": "stream",
     "text": [
      "[array([[0.03753418, 0.04043724, 0.03133107, ..., 0.03257832, 0.03133107,\n",
      "        0.03133107],\n",
      "       [0.03671124, 0.04145624, 0.03119721, ..., 0.03409523, 0.03119721,\n",
      "        0.03119721],\n",
      "       [0.03130922, 0.03130922, 0.03130922, ..., 0.03382518, 0.03130922,\n",
      "        0.03130922],\n",
      "       ...,\n",
      "       [0.03182353, 0.03417485, 0.03182353, ..., 0.04213565, 0.03182353,\n",
      "        0.03182353],\n",
      "       [0.04011115, 0.03655308, 0.03141654, ..., 0.04045146, 0.03141654,\n",
      "        0.03141654],\n",
      "       [0.0389727 , 0.03632856, 0.03156402, ..., 0.04102651, 0.03156402,\n",
      "        0.03156402]], dtype=float32)]\n",
      "(1, 278278, 30)\n"
     ]
    }
   ],
   "source": [
    "import numpy as np\n",
    "import keras\n",
    "hidden_layers = keras.backend.function(\n",
    "[layer.input],  # we will feed the function with the input of the first layer  \n",
    "[layer.output,] # we want to get the output of the first layer\n",
    ")\n",
    "h=hidden_layers([X])\n",
    "print(h)\n",
    "print(np.shape(h))"
   ]
  },
  {
   "cell_type": "code",
   "execution_count": 24,
   "id": "114d6be0",
   "metadata": {},
   "outputs": [],
   "source": [
    "df = pd.DataFrame(np.concatenate(h))"
   ]
  },
  {
   "cell_type": "code",
   "execution_count": 25,
   "id": "21c12ecb",
   "metadata": {},
   "outputs": [],
   "source": [
    "df.to_csv('abnormalattentionvector.csv', index=False)"
   ]
  },
  {
   "cell_type": "code",
   "execution_count": 26,
   "id": "dea399cf",
   "metadata": {},
   "outputs": [],
   "source": [
    "csv_1 = pd.read_csv('abnormalattentionvector.csv')\n",
    "csv_2 = pd.read_csv('abnormallabel1.csv')\n",
    "\n",
    "result = pd.concat([csv_1, csv_2], axis=1)"
   ]
  },
  {
   "cell_type": "code",
   "execution_count": 27,
   "id": "2f970df2",
   "metadata": {},
   "outputs": [
    {
     "name": "stdout",
     "output_type": "stream",
     "text": [
      "env: JOBLIB_TEMP_FOLDER=/tmp\n"
     ]
    }
   ],
   "source": [
    "%env JOBLIB_TEMP_FOLDER=/tmp"
   ]
  },
  {
   "cell_type": "code",
   "execution_count": 28,
   "id": "ea0c5434",
   "metadata": {},
   "outputs": [],
   "source": [
    "result.to_csv(\"attentionabnormalresult.csv\", index=None, header=None)"
   ]
  }
 ],
 "metadata": {
  "kernelspec": {
   "display_name": "Python 3",
   "language": "python",
   "name": "python3"
  },
  "language_info": {
   "codemirror_mode": {
    "name": "ipython",
    "version": 3
   },
   "file_extension": ".py",
   "mimetype": "text/x-python",
   "name": "python",
   "nbconvert_exporter": "python",
   "pygments_lexer": "ipython3",
   "version": "3.8.8"
  }
 },
 "nbformat": 4,
 "nbformat_minor": 5
}
